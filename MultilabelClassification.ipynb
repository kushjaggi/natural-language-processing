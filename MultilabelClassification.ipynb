{
  "nbformat": 4,
  "nbformat_minor": 0,
  "metadata": {
    "colab": {
      "name": "MultilabelClassification.ipynb",
      "provenance": [],
      "authorship_tag": "ABX9TyPvi2fZukytgtWSKKzRC7NV",
      "include_colab_link": true
    },
    "kernelspec": {
      "name": "python3",
      "display_name": "Python 3"
    },
    "widgets": {
      "application/vnd.jupyter.widget-state+json": {
        "9dcc01333f39453db540cea8655e663f": {
          "model_module": "@jupyter-widgets/controls",
          "model_name": "HBoxModel",
          "state": {
            "_view_name": "HBoxView",
            "_dom_classes": [],
            "_model_name": "HBoxModel",
            "_view_module": "@jupyter-widgets/controls",
            "_model_module_version": "1.5.0",
            "_view_count": null,
            "_view_module_version": "1.5.0",
            "box_style": "",
            "layout": "IPY_MODEL_6a2df6e9c86446118f82e51add737fb2",
            "_model_module": "@jupyter-widgets/controls",
            "children": [
              "IPY_MODEL_01c5a0ffa83d49d484a7216f57dc7c04",
              "IPY_MODEL_90ef57df503f4a8e9e1aeead69c621e9",
              "IPY_MODEL_b35224b0d6d54dbbac558581e1311077"
            ]
          }
        },
        "6a2df6e9c86446118f82e51add737fb2": {
          "model_module": "@jupyter-widgets/base",
          "model_name": "LayoutModel",
          "state": {
            "_view_name": "LayoutView",
            "grid_template_rows": null,
            "right": null,
            "justify_content": null,
            "_view_module": "@jupyter-widgets/base",
            "overflow": null,
            "_model_module_version": "1.2.0",
            "_view_count": null,
            "flex_flow": null,
            "width": null,
            "min_width": null,
            "border": null,
            "align_items": null,
            "bottom": null,
            "_model_module": "@jupyter-widgets/base",
            "top": null,
            "grid_column": null,
            "overflow_y": null,
            "overflow_x": null,
            "grid_auto_flow": null,
            "grid_area": null,
            "grid_template_columns": null,
            "flex": null,
            "_model_name": "LayoutModel",
            "justify_items": null,
            "grid_row": null,
            "max_height": null,
            "align_content": null,
            "visibility": null,
            "align_self": null,
            "height": null,
            "min_height": null,
            "padding": null,
            "grid_auto_rows": null,
            "grid_gap": null,
            "max_width": null,
            "order": null,
            "_view_module_version": "1.2.0",
            "grid_template_areas": null,
            "object_position": null,
            "object_fit": null,
            "grid_auto_columns": null,
            "margin": null,
            "display": null,
            "left": null
          }
        },
        "01c5a0ffa83d49d484a7216f57dc7c04": {
          "model_module": "@jupyter-widgets/controls",
          "model_name": "HTMLModel",
          "state": {
            "_view_name": "HTMLView",
            "style": "IPY_MODEL_76ff0dae25b04bdd8f6fa3932234ca41",
            "_dom_classes": [],
            "description": "",
            "_model_name": "HTMLModel",
            "placeholder": "​",
            "_view_module": "@jupyter-widgets/controls",
            "_model_module_version": "1.5.0",
            "value": "train.tsv: 100%",
            "_view_count": null,
            "_view_module_version": "1.5.0",
            "description_tooltip": null,
            "_model_module": "@jupyter-widgets/controls",
            "layout": "IPY_MODEL_92730fe176844197a3574cff2d579d80"
          }
        },
        "90ef57df503f4a8e9e1aeead69c621e9": {
          "model_module": "@jupyter-widgets/controls",
          "model_name": "FloatProgressModel",
          "state": {
            "_view_name": "ProgressView",
            "style": "IPY_MODEL_ec20beca4fd3456b8e1ddb687de8135a",
            "_dom_classes": [],
            "description": "",
            "_model_name": "FloatProgressModel",
            "bar_style": "success",
            "max": 7196138,
            "_view_module": "@jupyter-widgets/controls",
            "_model_module_version": "1.5.0",
            "value": 7196138,
            "_view_count": null,
            "_view_module_version": "1.5.0",
            "orientation": "horizontal",
            "min": 0,
            "description_tooltip": null,
            "_model_module": "@jupyter-widgets/controls",
            "layout": "IPY_MODEL_5d864f3b43e649b694332c2690f85d3f"
          }
        },
        "b35224b0d6d54dbbac558581e1311077": {
          "model_module": "@jupyter-widgets/controls",
          "model_name": "HTMLModel",
          "state": {
            "_view_name": "HTMLView",
            "style": "IPY_MODEL_57f576a8194a45a29593fc749045d9c7",
            "_dom_classes": [],
            "description": "",
            "_model_name": "HTMLModel",
            "placeholder": "​",
            "_view_module": "@jupyter-widgets/controls",
            "_model_module_version": "1.5.0",
            "value": " 7.20M/7.20M [00:01&lt;00:00, 4.14MB/s]",
            "_view_count": null,
            "_view_module_version": "1.5.0",
            "description_tooltip": null,
            "_model_module": "@jupyter-widgets/controls",
            "layout": "IPY_MODEL_ae18c267e92248b599d89355d4b1281d"
          }
        },
        "76ff0dae25b04bdd8f6fa3932234ca41": {
          "model_module": "@jupyter-widgets/controls",
          "model_name": "DescriptionStyleModel",
          "state": {
            "_view_name": "StyleView",
            "_model_name": "DescriptionStyleModel",
            "description_width": "",
            "_view_module": "@jupyter-widgets/base",
            "_model_module_version": "1.5.0",
            "_view_count": null,
            "_view_module_version": "1.2.0",
            "_model_module": "@jupyter-widgets/controls"
          }
        },
        "92730fe176844197a3574cff2d579d80": {
          "model_module": "@jupyter-widgets/base",
          "model_name": "LayoutModel",
          "state": {
            "_view_name": "LayoutView",
            "grid_template_rows": null,
            "right": null,
            "justify_content": null,
            "_view_module": "@jupyter-widgets/base",
            "overflow": null,
            "_model_module_version": "1.2.0",
            "_view_count": null,
            "flex_flow": null,
            "width": null,
            "min_width": null,
            "border": null,
            "align_items": null,
            "bottom": null,
            "_model_module": "@jupyter-widgets/base",
            "top": null,
            "grid_column": null,
            "overflow_y": null,
            "overflow_x": null,
            "grid_auto_flow": null,
            "grid_area": null,
            "grid_template_columns": null,
            "flex": null,
            "_model_name": "LayoutModel",
            "justify_items": null,
            "grid_row": null,
            "max_height": null,
            "align_content": null,
            "visibility": null,
            "align_self": null,
            "height": null,
            "min_height": null,
            "padding": null,
            "grid_auto_rows": null,
            "grid_gap": null,
            "max_width": null,
            "order": null,
            "_view_module_version": "1.2.0",
            "grid_template_areas": null,
            "object_position": null,
            "object_fit": null,
            "grid_auto_columns": null,
            "margin": null,
            "display": null,
            "left": null
          }
        },
        "ec20beca4fd3456b8e1ddb687de8135a": {
          "model_module": "@jupyter-widgets/controls",
          "model_name": "ProgressStyleModel",
          "state": {
            "_view_name": "StyleView",
            "_model_name": "ProgressStyleModel",
            "description_width": "",
            "_view_module": "@jupyter-widgets/base",
            "_model_module_version": "1.5.0",
            "_view_count": null,
            "_view_module_version": "1.2.0",
            "bar_color": null,
            "_model_module": "@jupyter-widgets/controls"
          }
        },
        "5d864f3b43e649b694332c2690f85d3f": {
          "model_module": "@jupyter-widgets/base",
          "model_name": "LayoutModel",
          "state": {
            "_view_name": "LayoutView",
            "grid_template_rows": null,
            "right": null,
            "justify_content": null,
            "_view_module": "@jupyter-widgets/base",
            "overflow": null,
            "_model_module_version": "1.2.0",
            "_view_count": null,
            "flex_flow": null,
            "width": null,
            "min_width": null,
            "border": null,
            "align_items": null,
            "bottom": null,
            "_model_module": "@jupyter-widgets/base",
            "top": null,
            "grid_column": null,
            "overflow_y": null,
            "overflow_x": null,
            "grid_auto_flow": null,
            "grid_area": null,
            "grid_template_columns": null,
            "flex": null,
            "_model_name": "LayoutModel",
            "justify_items": null,
            "grid_row": null,
            "max_height": null,
            "align_content": null,
            "visibility": null,
            "align_self": null,
            "height": null,
            "min_height": null,
            "padding": null,
            "grid_auto_rows": null,
            "grid_gap": null,
            "max_width": null,
            "order": null,
            "_view_module_version": "1.2.0",
            "grid_template_areas": null,
            "object_position": null,
            "object_fit": null,
            "grid_auto_columns": null,
            "margin": null,
            "display": null,
            "left": null
          }
        },
        "57f576a8194a45a29593fc749045d9c7": {
          "model_module": "@jupyter-widgets/controls",
          "model_name": "DescriptionStyleModel",
          "state": {
            "_view_name": "StyleView",
            "_model_name": "DescriptionStyleModel",
            "description_width": "",
            "_view_module": "@jupyter-widgets/base",
            "_model_module_version": "1.5.0",
            "_view_count": null,
            "_view_module_version": "1.2.0",
            "_model_module": "@jupyter-widgets/controls"
          }
        },
        "ae18c267e92248b599d89355d4b1281d": {
          "model_module": "@jupyter-widgets/base",
          "model_name": "LayoutModel",
          "state": {
            "_view_name": "LayoutView",
            "grid_template_rows": null,
            "right": null,
            "justify_content": null,
            "_view_module": "@jupyter-widgets/base",
            "overflow": null,
            "_model_module_version": "1.2.0",
            "_view_count": null,
            "flex_flow": null,
            "width": null,
            "min_width": null,
            "border": null,
            "align_items": null,
            "bottom": null,
            "_model_module": "@jupyter-widgets/base",
            "top": null,
            "grid_column": null,
            "overflow_y": null,
            "overflow_x": null,
            "grid_auto_flow": null,
            "grid_area": null,
            "grid_template_columns": null,
            "flex": null,
            "_model_name": "LayoutModel",
            "justify_items": null,
            "grid_row": null,
            "max_height": null,
            "align_content": null,
            "visibility": null,
            "align_self": null,
            "height": null,
            "min_height": null,
            "padding": null,
            "grid_auto_rows": null,
            "grid_gap": null,
            "max_width": null,
            "order": null,
            "_view_module_version": "1.2.0",
            "grid_template_areas": null,
            "object_position": null,
            "object_fit": null,
            "grid_auto_columns": null,
            "margin": null,
            "display": null,
            "left": null
          }
        },
        "044a08d618f94a92851caeab4543ae52": {
          "model_module": "@jupyter-widgets/controls",
          "model_name": "HBoxModel",
          "state": {
            "_view_name": "HBoxView",
            "_dom_classes": [],
            "_model_name": "HBoxModel",
            "_view_module": "@jupyter-widgets/controls",
            "_model_module_version": "1.5.0",
            "_view_count": null,
            "_view_module_version": "1.5.0",
            "box_style": "",
            "layout": "IPY_MODEL_c8f691b0f58746f68e58aaf7a39d41e0",
            "_model_module": "@jupyter-widgets/controls",
            "children": [
              "IPY_MODEL_b13645aad37c49fb823ab9cd3485faaa",
              "IPY_MODEL_427cb6a2cf2b4b0f853742c6ae3edb99",
              "IPY_MODEL_75b3485c379d4036b3c945816dbeee82"
            ]
          }
        },
        "c8f691b0f58746f68e58aaf7a39d41e0": {
          "model_module": "@jupyter-widgets/base",
          "model_name": "LayoutModel",
          "state": {
            "_view_name": "LayoutView",
            "grid_template_rows": null,
            "right": null,
            "justify_content": null,
            "_view_module": "@jupyter-widgets/base",
            "overflow": null,
            "_model_module_version": "1.2.0",
            "_view_count": null,
            "flex_flow": null,
            "width": null,
            "min_width": null,
            "border": null,
            "align_items": null,
            "bottom": null,
            "_model_module": "@jupyter-widgets/base",
            "top": null,
            "grid_column": null,
            "overflow_y": null,
            "overflow_x": null,
            "grid_auto_flow": null,
            "grid_area": null,
            "grid_template_columns": null,
            "flex": null,
            "_model_name": "LayoutModel",
            "justify_items": null,
            "grid_row": null,
            "max_height": null,
            "align_content": null,
            "visibility": null,
            "align_self": null,
            "height": null,
            "min_height": null,
            "padding": null,
            "grid_auto_rows": null,
            "grid_gap": null,
            "max_width": null,
            "order": null,
            "_view_module_version": "1.2.0",
            "grid_template_areas": null,
            "object_position": null,
            "object_fit": null,
            "grid_auto_columns": null,
            "margin": null,
            "display": null,
            "left": null
          }
        },
        "b13645aad37c49fb823ab9cd3485faaa": {
          "model_module": "@jupyter-widgets/controls",
          "model_name": "HTMLModel",
          "state": {
            "_view_name": "HTMLView",
            "style": "IPY_MODEL_e3945ce3acb040fbb812b486738afdff",
            "_dom_classes": [],
            "description": "",
            "_model_name": "HTMLModel",
            "placeholder": "​",
            "_view_module": "@jupyter-widgets/controls",
            "_model_module_version": "1.5.0",
            "value": "validation.tsv: 100%",
            "_view_count": null,
            "_view_module_version": "1.5.0",
            "description_tooltip": null,
            "_model_module": "@jupyter-widgets/controls",
            "layout": "IPY_MODEL_862ec4413d7b4bfda4789677785eb606"
          }
        },
        "427cb6a2cf2b4b0f853742c6ae3edb99": {
          "model_module": "@jupyter-widgets/controls",
          "model_name": "FloatProgressModel",
          "state": {
            "_view_name": "ProgressView",
            "style": "IPY_MODEL_9a410cc6decd4ca08466100d524db1af",
            "_dom_classes": [],
            "description": "",
            "_model_name": "FloatProgressModel",
            "bar_style": "success",
            "max": 2166270,
            "_view_module": "@jupyter-widgets/controls",
            "_model_module_version": "1.5.0",
            "value": 2166270,
            "_view_count": null,
            "_view_module_version": "1.5.0",
            "orientation": "horizontal",
            "min": 0,
            "description_tooltip": null,
            "_model_module": "@jupyter-widgets/controls",
            "layout": "IPY_MODEL_ad3aea4de6044eb8a797018a04b6fc55"
          }
        },
        "75b3485c379d4036b3c945816dbeee82": {
          "model_module": "@jupyter-widgets/controls",
          "model_name": "HTMLModel",
          "state": {
            "_view_name": "HTMLView",
            "style": "IPY_MODEL_bdf040edb29e4377b8c3a05fb272f119",
            "_dom_classes": [],
            "description": "",
            "_model_name": "HTMLModel",
            "placeholder": "​",
            "_view_module": "@jupyter-widgets/controls",
            "_model_module_version": "1.5.0",
            "value": " 2.17M/2.17M [00:00&lt;00:00, 4.89MB/s]",
            "_view_count": null,
            "_view_module_version": "1.5.0",
            "description_tooltip": null,
            "_model_module": "@jupyter-widgets/controls",
            "layout": "IPY_MODEL_b3b9d64af09844f1b4afa9a01809cb2e"
          }
        },
        "e3945ce3acb040fbb812b486738afdff": {
          "model_module": "@jupyter-widgets/controls",
          "model_name": "DescriptionStyleModel",
          "state": {
            "_view_name": "StyleView",
            "_model_name": "DescriptionStyleModel",
            "description_width": "",
            "_view_module": "@jupyter-widgets/base",
            "_model_module_version": "1.5.0",
            "_view_count": null,
            "_view_module_version": "1.2.0",
            "_model_module": "@jupyter-widgets/controls"
          }
        },
        "862ec4413d7b4bfda4789677785eb606": {
          "model_module": "@jupyter-widgets/base",
          "model_name": "LayoutModel",
          "state": {
            "_view_name": "LayoutView",
            "grid_template_rows": null,
            "right": null,
            "justify_content": null,
            "_view_module": "@jupyter-widgets/base",
            "overflow": null,
            "_model_module_version": "1.2.0",
            "_view_count": null,
            "flex_flow": null,
            "width": null,
            "min_width": null,
            "border": null,
            "align_items": null,
            "bottom": null,
            "_model_module": "@jupyter-widgets/base",
            "top": null,
            "grid_column": null,
            "overflow_y": null,
            "overflow_x": null,
            "grid_auto_flow": null,
            "grid_area": null,
            "grid_template_columns": null,
            "flex": null,
            "_model_name": "LayoutModel",
            "justify_items": null,
            "grid_row": null,
            "max_height": null,
            "align_content": null,
            "visibility": null,
            "align_self": null,
            "height": null,
            "min_height": null,
            "padding": null,
            "grid_auto_rows": null,
            "grid_gap": null,
            "max_width": null,
            "order": null,
            "_view_module_version": "1.2.0",
            "grid_template_areas": null,
            "object_position": null,
            "object_fit": null,
            "grid_auto_columns": null,
            "margin": null,
            "display": null,
            "left": null
          }
        },
        "9a410cc6decd4ca08466100d524db1af": {
          "model_module": "@jupyter-widgets/controls",
          "model_name": "ProgressStyleModel",
          "state": {
            "_view_name": "StyleView",
            "_model_name": "ProgressStyleModel",
            "description_width": "",
            "_view_module": "@jupyter-widgets/base",
            "_model_module_version": "1.5.0",
            "_view_count": null,
            "_view_module_version": "1.2.0",
            "bar_color": null,
            "_model_module": "@jupyter-widgets/controls"
          }
        },
        "ad3aea4de6044eb8a797018a04b6fc55": {
          "model_module": "@jupyter-widgets/base",
          "model_name": "LayoutModel",
          "state": {
            "_view_name": "LayoutView",
            "grid_template_rows": null,
            "right": null,
            "justify_content": null,
            "_view_module": "@jupyter-widgets/base",
            "overflow": null,
            "_model_module_version": "1.2.0",
            "_view_count": null,
            "flex_flow": null,
            "width": null,
            "min_width": null,
            "border": null,
            "align_items": null,
            "bottom": null,
            "_model_module": "@jupyter-widgets/base",
            "top": null,
            "grid_column": null,
            "overflow_y": null,
            "overflow_x": null,
            "grid_auto_flow": null,
            "grid_area": null,
            "grid_template_columns": null,
            "flex": null,
            "_model_name": "LayoutModel",
            "justify_items": null,
            "grid_row": null,
            "max_height": null,
            "align_content": null,
            "visibility": null,
            "align_self": null,
            "height": null,
            "min_height": null,
            "padding": null,
            "grid_auto_rows": null,
            "grid_gap": null,
            "max_width": null,
            "order": null,
            "_view_module_version": "1.2.0",
            "grid_template_areas": null,
            "object_position": null,
            "object_fit": null,
            "grid_auto_columns": null,
            "margin": null,
            "display": null,
            "left": null
          }
        },
        "bdf040edb29e4377b8c3a05fb272f119": {
          "model_module": "@jupyter-widgets/controls",
          "model_name": "DescriptionStyleModel",
          "state": {
            "_view_name": "StyleView",
            "_model_name": "DescriptionStyleModel",
            "description_width": "",
            "_view_module": "@jupyter-widgets/base",
            "_model_module_version": "1.5.0",
            "_view_count": null,
            "_view_module_version": "1.2.0",
            "_model_module": "@jupyter-widgets/controls"
          }
        },
        "b3b9d64af09844f1b4afa9a01809cb2e": {
          "model_module": "@jupyter-widgets/base",
          "model_name": "LayoutModel",
          "state": {
            "_view_name": "LayoutView",
            "grid_template_rows": null,
            "right": null,
            "justify_content": null,
            "_view_module": "@jupyter-widgets/base",
            "overflow": null,
            "_model_module_version": "1.2.0",
            "_view_count": null,
            "flex_flow": null,
            "width": null,
            "min_width": null,
            "border": null,
            "align_items": null,
            "bottom": null,
            "_model_module": "@jupyter-widgets/base",
            "top": null,
            "grid_column": null,
            "overflow_y": null,
            "overflow_x": null,
            "grid_auto_flow": null,
            "grid_area": null,
            "grid_template_columns": null,
            "flex": null,
            "_model_name": "LayoutModel",
            "justify_items": null,
            "grid_row": null,
            "max_height": null,
            "align_content": null,
            "visibility": null,
            "align_self": null,
            "height": null,
            "min_height": null,
            "padding": null,
            "grid_auto_rows": null,
            "grid_gap": null,
            "max_width": null,
            "order": null,
            "_view_module_version": "1.2.0",
            "grid_template_areas": null,
            "object_position": null,
            "object_fit": null,
            "grid_auto_columns": null,
            "margin": null,
            "display": null,
            "left": null
          }
        },
        "010123b47e854d10b099e65538699ebe": {
          "model_module": "@jupyter-widgets/controls",
          "model_name": "HBoxModel",
          "state": {
            "_view_name": "HBoxView",
            "_dom_classes": [],
            "_model_name": "HBoxModel",
            "_view_module": "@jupyter-widgets/controls",
            "_model_module_version": "1.5.0",
            "_view_count": null,
            "_view_module_version": "1.5.0",
            "box_style": "",
            "layout": "IPY_MODEL_718178ecaf654b91a4c002339690e526",
            "_model_module": "@jupyter-widgets/controls",
            "children": [
              "IPY_MODEL_945d058a49374130b6bfa29d1f9f5e3e",
              "IPY_MODEL_d7282ede7498448ab594c8bb419aa903",
              "IPY_MODEL_fee1002194ad4152884c976e107aab5c"
            ]
          }
        },
        "718178ecaf654b91a4c002339690e526": {
          "model_module": "@jupyter-widgets/base",
          "model_name": "LayoutModel",
          "state": {
            "_view_name": "LayoutView",
            "grid_template_rows": null,
            "right": null,
            "justify_content": null,
            "_view_module": "@jupyter-widgets/base",
            "overflow": null,
            "_model_module_version": "1.2.0",
            "_view_count": null,
            "flex_flow": null,
            "width": null,
            "min_width": null,
            "border": null,
            "align_items": null,
            "bottom": null,
            "_model_module": "@jupyter-widgets/base",
            "top": null,
            "grid_column": null,
            "overflow_y": null,
            "overflow_x": null,
            "grid_auto_flow": null,
            "grid_area": null,
            "grid_template_columns": null,
            "flex": null,
            "_model_name": "LayoutModel",
            "justify_items": null,
            "grid_row": null,
            "max_height": null,
            "align_content": null,
            "visibility": null,
            "align_self": null,
            "height": null,
            "min_height": null,
            "padding": null,
            "grid_auto_rows": null,
            "grid_gap": null,
            "max_width": null,
            "order": null,
            "_view_module_version": "1.2.0",
            "grid_template_areas": null,
            "object_position": null,
            "object_fit": null,
            "grid_auto_columns": null,
            "margin": null,
            "display": null,
            "left": null
          }
        },
        "945d058a49374130b6bfa29d1f9f5e3e": {
          "model_module": "@jupyter-widgets/controls",
          "model_name": "HTMLModel",
          "state": {
            "_view_name": "HTMLView",
            "style": "IPY_MODEL_9cef525c3e6b49b29c9118e171f80523",
            "_dom_classes": [],
            "description": "",
            "_model_name": "HTMLModel",
            "placeholder": "​",
            "_view_module": "@jupyter-widgets/controls",
            "_model_module_version": "1.5.0",
            "value": "test.tsv: 100%",
            "_view_count": null,
            "_view_module_version": "1.5.0",
            "description_tooltip": null,
            "_model_module": "@jupyter-widgets/controls",
            "layout": "IPY_MODEL_c888a9d742c64766b6950a6becb25e4c"
          }
        },
        "d7282ede7498448ab594c8bb419aa903": {
          "model_module": "@jupyter-widgets/controls",
          "model_name": "FloatProgressModel",
          "state": {
            "_view_name": "ProgressView",
            "style": "IPY_MODEL_e1a81824c6de4a38af7161ad7ee3c7de",
            "_dom_classes": [],
            "description": "",
            "_model_name": "FloatProgressModel",
            "bar_style": "success",
            "max": 1041379,
            "_view_module": "@jupyter-widgets/controls",
            "_model_module_version": "1.5.0",
            "value": 1041379,
            "_view_count": null,
            "_view_module_version": "1.5.0",
            "orientation": "horizontal",
            "min": 0,
            "description_tooltip": null,
            "_model_module": "@jupyter-widgets/controls",
            "layout": "IPY_MODEL_ab1e417249324f3f8c08f6ae72461b8a"
          }
        },
        "fee1002194ad4152884c976e107aab5c": {
          "model_module": "@jupyter-widgets/controls",
          "model_name": "HTMLModel",
          "state": {
            "_view_name": "HTMLView",
            "style": "IPY_MODEL_add9f5aefa4e49f7a5874c5a50a6676b",
            "_dom_classes": [],
            "description": "",
            "_model_name": "HTMLModel",
            "placeholder": "​",
            "_view_module": "@jupyter-widgets/controls",
            "_model_module_version": "1.5.0",
            "value": " 1.04M/1.04M [00:00&lt;00:00, 2.01MB/s]",
            "_view_count": null,
            "_view_module_version": "1.5.0",
            "description_tooltip": null,
            "_model_module": "@jupyter-widgets/controls",
            "layout": "IPY_MODEL_aa660f7f476943a6ae5b8509b1622d47"
          }
        },
        "9cef525c3e6b49b29c9118e171f80523": {
          "model_module": "@jupyter-widgets/controls",
          "model_name": "DescriptionStyleModel",
          "state": {
            "_view_name": "StyleView",
            "_model_name": "DescriptionStyleModel",
            "description_width": "",
            "_view_module": "@jupyter-widgets/base",
            "_model_module_version": "1.5.0",
            "_view_count": null,
            "_view_module_version": "1.2.0",
            "_model_module": "@jupyter-widgets/controls"
          }
        },
        "c888a9d742c64766b6950a6becb25e4c": {
          "model_module": "@jupyter-widgets/base",
          "model_name": "LayoutModel",
          "state": {
            "_view_name": "LayoutView",
            "grid_template_rows": null,
            "right": null,
            "justify_content": null,
            "_view_module": "@jupyter-widgets/base",
            "overflow": null,
            "_model_module_version": "1.2.0",
            "_view_count": null,
            "flex_flow": null,
            "width": null,
            "min_width": null,
            "border": null,
            "align_items": null,
            "bottom": null,
            "_model_module": "@jupyter-widgets/base",
            "top": null,
            "grid_column": null,
            "overflow_y": null,
            "overflow_x": null,
            "grid_auto_flow": null,
            "grid_area": null,
            "grid_template_columns": null,
            "flex": null,
            "_model_name": "LayoutModel",
            "justify_items": null,
            "grid_row": null,
            "max_height": null,
            "align_content": null,
            "visibility": null,
            "align_self": null,
            "height": null,
            "min_height": null,
            "padding": null,
            "grid_auto_rows": null,
            "grid_gap": null,
            "max_width": null,
            "order": null,
            "_view_module_version": "1.2.0",
            "grid_template_areas": null,
            "object_position": null,
            "object_fit": null,
            "grid_auto_columns": null,
            "margin": null,
            "display": null,
            "left": null
          }
        },
        "e1a81824c6de4a38af7161ad7ee3c7de": {
          "model_module": "@jupyter-widgets/controls",
          "model_name": "ProgressStyleModel",
          "state": {
            "_view_name": "StyleView",
            "_model_name": "ProgressStyleModel",
            "description_width": "",
            "_view_module": "@jupyter-widgets/base",
            "_model_module_version": "1.5.0",
            "_view_count": null,
            "_view_module_version": "1.2.0",
            "bar_color": null,
            "_model_module": "@jupyter-widgets/controls"
          }
        },
        "ab1e417249324f3f8c08f6ae72461b8a": {
          "model_module": "@jupyter-widgets/base",
          "model_name": "LayoutModel",
          "state": {
            "_view_name": "LayoutView",
            "grid_template_rows": null,
            "right": null,
            "justify_content": null,
            "_view_module": "@jupyter-widgets/base",
            "overflow": null,
            "_model_module_version": "1.2.0",
            "_view_count": null,
            "flex_flow": null,
            "width": null,
            "min_width": null,
            "border": null,
            "align_items": null,
            "bottom": null,
            "_model_module": "@jupyter-widgets/base",
            "top": null,
            "grid_column": null,
            "overflow_y": null,
            "overflow_x": null,
            "grid_auto_flow": null,
            "grid_area": null,
            "grid_template_columns": null,
            "flex": null,
            "_model_name": "LayoutModel",
            "justify_items": null,
            "grid_row": null,
            "max_height": null,
            "align_content": null,
            "visibility": null,
            "align_self": null,
            "height": null,
            "min_height": null,
            "padding": null,
            "grid_auto_rows": null,
            "grid_gap": null,
            "max_width": null,
            "order": null,
            "_view_module_version": "1.2.0",
            "grid_template_areas": null,
            "object_position": null,
            "object_fit": null,
            "grid_auto_columns": null,
            "margin": null,
            "display": null,
            "left": null
          }
        },
        "add9f5aefa4e49f7a5874c5a50a6676b": {
          "model_module": "@jupyter-widgets/controls",
          "model_name": "DescriptionStyleModel",
          "state": {
            "_view_name": "StyleView",
            "_model_name": "DescriptionStyleModel",
            "description_width": "",
            "_view_module": "@jupyter-widgets/base",
            "_model_module_version": "1.5.0",
            "_view_count": null,
            "_view_module_version": "1.2.0",
            "_model_module": "@jupyter-widgets/controls"
          }
        },
        "aa660f7f476943a6ae5b8509b1622d47": {
          "model_module": "@jupyter-widgets/base",
          "model_name": "LayoutModel",
          "state": {
            "_view_name": "LayoutView",
            "grid_template_rows": null,
            "right": null,
            "justify_content": null,
            "_view_module": "@jupyter-widgets/base",
            "overflow": null,
            "_model_module_version": "1.2.0",
            "_view_count": null,
            "flex_flow": null,
            "width": null,
            "min_width": null,
            "border": null,
            "align_items": null,
            "bottom": null,
            "_model_module": "@jupyter-widgets/base",
            "top": null,
            "grid_column": null,
            "overflow_y": null,
            "overflow_x": null,
            "grid_auto_flow": null,
            "grid_area": null,
            "grid_template_columns": null,
            "flex": null,
            "_model_name": "LayoutModel",
            "justify_items": null,
            "grid_row": null,
            "max_height": null,
            "align_content": null,
            "visibility": null,
            "align_self": null,
            "height": null,
            "min_height": null,
            "padding": null,
            "grid_auto_rows": null,
            "grid_gap": null,
            "max_width": null,
            "order": null,
            "_view_module_version": "1.2.0",
            "grid_template_areas": null,
            "object_position": null,
            "object_fit": null,
            "grid_auto_columns": null,
            "margin": null,
            "display": null,
            "left": null
          }
        },
        "1977dd07c6384abbbe467151510557ed": {
          "model_module": "@jupyter-widgets/controls",
          "model_name": "HBoxModel",
          "state": {
            "_view_name": "HBoxView",
            "_dom_classes": [],
            "_model_name": "HBoxModel",
            "_view_module": "@jupyter-widgets/controls",
            "_model_module_version": "1.5.0",
            "_view_count": null,
            "_view_module_version": "1.5.0",
            "box_style": "",
            "layout": "IPY_MODEL_037aa2117bc44d72889a398e23b188e0",
            "_model_module": "@jupyter-widgets/controls",
            "children": [
              "IPY_MODEL_67b84df23d354bf0a458b1de991e9301",
              "IPY_MODEL_2d4c2687cd3f40bd989f617e9a44415f",
              "IPY_MODEL_a3d00207ab0b4874a34b781903c0f5c5"
            ]
          }
        },
        "037aa2117bc44d72889a398e23b188e0": {
          "model_module": "@jupyter-widgets/base",
          "model_name": "LayoutModel",
          "state": {
            "_view_name": "LayoutView",
            "grid_template_rows": null,
            "right": null,
            "justify_content": null,
            "_view_module": "@jupyter-widgets/base",
            "overflow": null,
            "_model_module_version": "1.2.0",
            "_view_count": null,
            "flex_flow": null,
            "width": null,
            "min_width": null,
            "border": null,
            "align_items": null,
            "bottom": null,
            "_model_module": "@jupyter-widgets/base",
            "top": null,
            "grid_column": null,
            "overflow_y": null,
            "overflow_x": null,
            "grid_auto_flow": null,
            "grid_area": null,
            "grid_template_columns": null,
            "flex": null,
            "_model_name": "LayoutModel",
            "justify_items": null,
            "grid_row": null,
            "max_height": null,
            "align_content": null,
            "visibility": null,
            "align_self": null,
            "height": null,
            "min_height": null,
            "padding": null,
            "grid_auto_rows": null,
            "grid_gap": null,
            "max_width": null,
            "order": null,
            "_view_module_version": "1.2.0",
            "grid_template_areas": null,
            "object_position": null,
            "object_fit": null,
            "grid_auto_columns": null,
            "margin": null,
            "display": null,
            "left": null
          }
        },
        "67b84df23d354bf0a458b1de991e9301": {
          "model_module": "@jupyter-widgets/controls",
          "model_name": "HTMLModel",
          "state": {
            "_view_name": "HTMLView",
            "style": "IPY_MODEL_5dc0683faaf34943838776e4bc34cc01",
            "_dom_classes": [],
            "description": "",
            "_model_name": "HTMLModel",
            "placeholder": "​",
            "_view_module": "@jupyter-widgets/controls",
            "_model_module_version": "1.5.0",
            "value": "text_prepare_tests.tsv: 100%",
            "_view_count": null,
            "_view_module_version": "1.5.0",
            "description_tooltip": null,
            "_model_module": "@jupyter-widgets/controls",
            "layout": "IPY_MODEL_f387da1c0cbe47e9ac117cdbede28ca0"
          }
        },
        "2d4c2687cd3f40bd989f617e9a44415f": {
          "model_module": "@jupyter-widgets/controls",
          "model_name": "FloatProgressModel",
          "state": {
            "_view_name": "ProgressView",
            "style": "IPY_MODEL_7b6f91cfdfe9492083c83edb1021d8a6",
            "_dom_classes": [],
            "description": "",
            "_model_name": "FloatProgressModel",
            "bar_style": "success",
            "max": 5091,
            "_view_module": "@jupyter-widgets/controls",
            "_model_module_version": "1.5.0",
            "value": 5091,
            "_view_count": null,
            "_view_module_version": "1.5.0",
            "orientation": "horizontal",
            "min": 0,
            "description_tooltip": null,
            "_model_module": "@jupyter-widgets/controls",
            "layout": "IPY_MODEL_c4cf1c1b5ec047da94cbb94d10faf467"
          }
        },
        "a3d00207ab0b4874a34b781903c0f5c5": {
          "model_module": "@jupyter-widgets/controls",
          "model_name": "HTMLModel",
          "state": {
            "_view_name": "HTMLView",
            "style": "IPY_MODEL_f509eb23c55a4a7f872d2895819a0fd7",
            "_dom_classes": [],
            "description": "",
            "_model_name": "HTMLModel",
            "placeholder": "​",
            "_view_module": "@jupyter-widgets/controls",
            "_model_module_version": "1.5.0",
            "value": " 5.09k/5.09k [00:00&lt;00:00, 113kB/s]",
            "_view_count": null,
            "_view_module_version": "1.5.0",
            "description_tooltip": null,
            "_model_module": "@jupyter-widgets/controls",
            "layout": "IPY_MODEL_0f375816b78f448cb27889ee1bedfc27"
          }
        },
        "5dc0683faaf34943838776e4bc34cc01": {
          "model_module": "@jupyter-widgets/controls",
          "model_name": "DescriptionStyleModel",
          "state": {
            "_view_name": "StyleView",
            "_model_name": "DescriptionStyleModel",
            "description_width": "",
            "_view_module": "@jupyter-widgets/base",
            "_model_module_version": "1.5.0",
            "_view_count": null,
            "_view_module_version": "1.2.0",
            "_model_module": "@jupyter-widgets/controls"
          }
        },
        "f387da1c0cbe47e9ac117cdbede28ca0": {
          "model_module": "@jupyter-widgets/base",
          "model_name": "LayoutModel",
          "state": {
            "_view_name": "LayoutView",
            "grid_template_rows": null,
            "right": null,
            "justify_content": null,
            "_view_module": "@jupyter-widgets/base",
            "overflow": null,
            "_model_module_version": "1.2.0",
            "_view_count": null,
            "flex_flow": null,
            "width": null,
            "min_width": null,
            "border": null,
            "align_items": null,
            "bottom": null,
            "_model_module": "@jupyter-widgets/base",
            "top": null,
            "grid_column": null,
            "overflow_y": null,
            "overflow_x": null,
            "grid_auto_flow": null,
            "grid_area": null,
            "grid_template_columns": null,
            "flex": null,
            "_model_name": "LayoutModel",
            "justify_items": null,
            "grid_row": null,
            "max_height": null,
            "align_content": null,
            "visibility": null,
            "align_self": null,
            "height": null,
            "min_height": null,
            "padding": null,
            "grid_auto_rows": null,
            "grid_gap": null,
            "max_width": null,
            "order": null,
            "_view_module_version": "1.2.0",
            "grid_template_areas": null,
            "object_position": null,
            "object_fit": null,
            "grid_auto_columns": null,
            "margin": null,
            "display": null,
            "left": null
          }
        },
        "7b6f91cfdfe9492083c83edb1021d8a6": {
          "model_module": "@jupyter-widgets/controls",
          "model_name": "ProgressStyleModel",
          "state": {
            "_view_name": "StyleView",
            "_model_name": "ProgressStyleModel",
            "description_width": "",
            "_view_module": "@jupyter-widgets/base",
            "_model_module_version": "1.5.0",
            "_view_count": null,
            "_view_module_version": "1.2.0",
            "bar_color": null,
            "_model_module": "@jupyter-widgets/controls"
          }
        },
        "c4cf1c1b5ec047da94cbb94d10faf467": {
          "model_module": "@jupyter-widgets/base",
          "model_name": "LayoutModel",
          "state": {
            "_view_name": "LayoutView",
            "grid_template_rows": null,
            "right": null,
            "justify_content": null,
            "_view_module": "@jupyter-widgets/base",
            "overflow": null,
            "_model_module_version": "1.2.0",
            "_view_count": null,
            "flex_flow": null,
            "width": null,
            "min_width": null,
            "border": null,
            "align_items": null,
            "bottom": null,
            "_model_module": "@jupyter-widgets/base",
            "top": null,
            "grid_column": null,
            "overflow_y": null,
            "overflow_x": null,
            "grid_auto_flow": null,
            "grid_area": null,
            "grid_template_columns": null,
            "flex": null,
            "_model_name": "LayoutModel",
            "justify_items": null,
            "grid_row": null,
            "max_height": null,
            "align_content": null,
            "visibility": null,
            "align_self": null,
            "height": null,
            "min_height": null,
            "padding": null,
            "grid_auto_rows": null,
            "grid_gap": null,
            "max_width": null,
            "order": null,
            "_view_module_version": "1.2.0",
            "grid_template_areas": null,
            "object_position": null,
            "object_fit": null,
            "grid_auto_columns": null,
            "margin": null,
            "display": null,
            "left": null
          }
        },
        "f509eb23c55a4a7f872d2895819a0fd7": {
          "model_module": "@jupyter-widgets/controls",
          "model_name": "DescriptionStyleModel",
          "state": {
            "_view_name": "StyleView",
            "_model_name": "DescriptionStyleModel",
            "description_width": "",
            "_view_module": "@jupyter-widgets/base",
            "_model_module_version": "1.5.0",
            "_view_count": null,
            "_view_module_version": "1.2.0",
            "_model_module": "@jupyter-widgets/controls"
          }
        },
        "0f375816b78f448cb27889ee1bedfc27": {
          "model_module": "@jupyter-widgets/base",
          "model_name": "LayoutModel",
          "state": {
            "_view_name": "LayoutView",
            "grid_template_rows": null,
            "right": null,
            "justify_content": null,
            "_view_module": "@jupyter-widgets/base",
            "overflow": null,
            "_model_module_version": "1.2.0",
            "_view_count": null,
            "flex_flow": null,
            "width": null,
            "min_width": null,
            "border": null,
            "align_items": null,
            "bottom": null,
            "_model_module": "@jupyter-widgets/base",
            "top": null,
            "grid_column": null,
            "overflow_y": null,
            "overflow_x": null,
            "grid_auto_flow": null,
            "grid_area": null,
            "grid_template_columns": null,
            "flex": null,
            "_model_name": "LayoutModel",
            "justify_items": null,
            "grid_row": null,
            "max_height": null,
            "align_content": null,
            "visibility": null,
            "align_self": null,
            "height": null,
            "min_height": null,
            "padding": null,
            "grid_auto_rows": null,
            "grid_gap": null,
            "max_width": null,
            "order": null,
            "_view_module_version": "1.2.0",
            "grid_template_areas": null,
            "object_position": null,
            "object_fit": null,
            "grid_auto_columns": null,
            "margin": null,
            "display": null,
            "left": null
          }
        }
      }
    }
  },
  "cells": [
    {
      "cell_type": "markdown",
      "metadata": {
        "id": "view-in-github",
        "colab_type": "text"
      },
      "source": [
        "<a href=\"https://colab.research.google.com/github/kushjaggi/natural-language-processing/blob/master/MultilabelClassification.ipynb\" target=\"_parent\"><img src=\"https://colab.research.google.com/assets/colab-badge.svg\" alt=\"Open In Colab\"/></a>"
      ]
    },
    {
      "cell_type": "code",
      "metadata": {
        "id": "HxHf3iuCvM8g",
        "colab": {
          "base_uri": "https://localhost:8080/",
          "height": 400,
          "referenced_widgets": [
            "9dcc01333f39453db540cea8655e663f",
            "6a2df6e9c86446118f82e51add737fb2",
            "01c5a0ffa83d49d484a7216f57dc7c04",
            "90ef57df503f4a8e9e1aeead69c621e9",
            "b35224b0d6d54dbbac558581e1311077",
            "76ff0dae25b04bdd8f6fa3932234ca41",
            "92730fe176844197a3574cff2d579d80",
            "ec20beca4fd3456b8e1ddb687de8135a",
            "5d864f3b43e649b694332c2690f85d3f",
            "57f576a8194a45a29593fc749045d9c7",
            "ae18c267e92248b599d89355d4b1281d",
            "044a08d618f94a92851caeab4543ae52",
            "c8f691b0f58746f68e58aaf7a39d41e0",
            "b13645aad37c49fb823ab9cd3485faaa",
            "427cb6a2cf2b4b0f853742c6ae3edb99",
            "75b3485c379d4036b3c945816dbeee82",
            "e3945ce3acb040fbb812b486738afdff",
            "862ec4413d7b4bfda4789677785eb606",
            "9a410cc6decd4ca08466100d524db1af",
            "ad3aea4de6044eb8a797018a04b6fc55",
            "bdf040edb29e4377b8c3a05fb272f119",
            "b3b9d64af09844f1b4afa9a01809cb2e",
            "010123b47e854d10b099e65538699ebe",
            "718178ecaf654b91a4c002339690e526",
            "945d058a49374130b6bfa29d1f9f5e3e",
            "d7282ede7498448ab594c8bb419aa903",
            "fee1002194ad4152884c976e107aab5c",
            "9cef525c3e6b49b29c9118e171f80523",
            "c888a9d742c64766b6950a6becb25e4c",
            "e1a81824c6de4a38af7161ad7ee3c7de",
            "ab1e417249324f3f8c08f6ae72461b8a",
            "add9f5aefa4e49f7a5874c5a50a6676b",
            "aa660f7f476943a6ae5b8509b1622d47",
            "1977dd07c6384abbbe467151510557ed",
            "037aa2117bc44d72889a398e23b188e0",
            "67b84df23d354bf0a458b1de991e9301",
            "2d4c2687cd3f40bd989f617e9a44415f",
            "a3d00207ab0b4874a34b781903c0f5c5",
            "5dc0683faaf34943838776e4bc34cc01",
            "f387da1c0cbe47e9ac117cdbede28ca0",
            "7b6f91cfdfe9492083c83edb1021d8a6",
            "c4cf1c1b5ec047da94cbb94d10faf467",
            "f509eb23c55a4a7f872d2895819a0fd7",
            "0f375816b78f448cb27889ee1bedfc27"
          ]
        },
        "outputId": "1c8a787d-74f5-4017-c8f2-0c8187b22fbf"
      },
      "source": [
        "try:\n",
        "    import google.colab\n",
        "    IN_COLAB = True\n",
        "except:\n",
        "    IN_COLAB = False\n",
        "\n",
        "if IN_COLAB:\n",
        "    ! wget https://raw.githubusercontent.com/hse-aml/natural-language-processing/master/setup_google_colab.py -O setup_google_colab.py\n",
        "    import setup_google_colab\n",
        "    setup_google_colab.setup_week1() \n",
        "    \n",
        "import sys\n",
        "sys.path.append(\"..\")\n",
        "from common.download_utils import download_week1_resources\n",
        "\n",
        "download_week1_resources()"
      ],
      "execution_count": 1,
      "outputs": [
        {
          "output_type": "stream",
          "text": [
            "--2020-11-19 06:45:11--  https://raw.githubusercontent.com/hse-aml/natural-language-processing/master/setup_google_colab.py\n",
            "Resolving raw.githubusercontent.com (raw.githubusercontent.com)... 151.101.0.133, 151.101.64.133, 151.101.128.133, ...\n",
            "Connecting to raw.githubusercontent.com (raw.githubusercontent.com)|151.101.0.133|:443... connected.\n",
            "HTTP request sent, awaiting response... 200 OK\n",
            "Length: 1939 (1.9K) [text/plain]\n",
            "Saving to: ‘setup_google_colab.py’\n",
            "\n",
            "setup_google_colab. 100%[===================>]   1.89K  --.-KB/s    in 0s      \n",
            "\n",
            "2020-11-19 06:45:11 (21.1 MB/s) - ‘setup_google_colab.py’ saved [1939/1939]\n",
            "\n"
          ],
          "name": "stdout"
        },
        {
          "output_type": "display_data",
          "data": {
            "application/vnd.jupyter.widget-view+json": {
              "model_id": "9dcc01333f39453db540cea8655e663f",
              "version_minor": 0,
              "version_major": 2
            },
            "text/plain": [
              "HBox(children=(HTML(value=''), FloatProgress(value=0.0, max=7196138.0), HTML(value='')))"
            ]
          },
          "metadata": {
            "tags": []
          }
        },
        {
          "output_type": "stream",
          "text": [
            "\n"
          ],
          "name": "stdout"
        },
        {
          "output_type": "display_data",
          "data": {
            "application/vnd.jupyter.widget-view+json": {
              "model_id": "044a08d618f94a92851caeab4543ae52",
              "version_minor": 0,
              "version_major": 2
            },
            "text/plain": [
              "HBox(children=(HTML(value=''), FloatProgress(value=0.0, max=2166270.0), HTML(value='')))"
            ]
          },
          "metadata": {
            "tags": []
          }
        },
        {
          "output_type": "stream",
          "text": [
            "\n"
          ],
          "name": "stdout"
        },
        {
          "output_type": "display_data",
          "data": {
            "application/vnd.jupyter.widget-view+json": {
              "model_id": "010123b47e854d10b099e65538699ebe",
              "version_minor": 0,
              "version_major": 2
            },
            "text/plain": [
              "HBox(children=(HTML(value=''), FloatProgress(value=0.0, max=1041379.0), HTML(value='')))"
            ]
          },
          "metadata": {
            "tags": []
          }
        },
        {
          "output_type": "stream",
          "text": [
            "\n"
          ],
          "name": "stdout"
        },
        {
          "output_type": "display_data",
          "data": {
            "application/vnd.jupyter.widget-view+json": {
              "model_id": "1977dd07c6384abbbe467151510557ed",
              "version_minor": 0,
              "version_major": 2
            },
            "text/plain": [
              "HBox(children=(HTML(value=''), FloatProgress(value=0.0, max=5091.0), HTML(value='')))"
            ]
          },
          "metadata": {
            "tags": []
          }
        },
        {
          "output_type": "stream",
          "text": [
            "\n"
          ],
          "name": "stdout"
        }
      ]
    },
    {
      "cell_type": "code",
      "metadata": {
        "id": "c8bTh5FkuyoW"
      },
      "source": [
        "from grader import Grader\n",
        "grader = Grader()"
      ],
      "execution_count": 2,
      "outputs": []
    },
    {
      "cell_type": "code",
      "metadata": {
        "id": "W1RvChfcwXnK",
        "colab": {
          "base_uri": "https://localhost:8080/"
        },
        "outputId": "76eddf10-d1e9-44f9-d3e5-2825d9a56059"
      },
      "source": [
        "import nltk\n",
        "nltk.download('stopwords')\n",
        "from nltk.corpus import stopwords"
      ],
      "execution_count": 4,
      "outputs": [
        {
          "output_type": "stream",
          "text": [
            "[nltk_data] Downloading package stopwords to /root/nltk_data...\n",
            "[nltk_data]   Package stopwords is already up-to-date!\n"
          ],
          "name": "stderr"
        }
      ]
    },
    {
      "cell_type": "code",
      "metadata": {
        "id": "nCM0NG1gyrYF",
        "colab": {
          "base_uri": "https://localhost:8080/"
        },
        "outputId": "22389aa3-d517-4623-d588-ce6b6e769b61"
      },
      "source": [
        "from ast import literal_eval\n",
        "import pandas as pd\n",
        "import numpy as np\n",
        "print(\"done\")"
      ],
      "execution_count": 5,
      "outputs": [
        {
          "output_type": "stream",
          "text": [
            "done\n"
          ],
          "name": "stdout"
        }
      ]
    },
    {
      "cell_type": "code",
      "metadata": {
        "id": "s3x0BXtwyxHA"
      },
      "source": [
        "def read_data(filename):\n",
        "    data = pd.read_csv(filename, sep='\\t')\n",
        "    data['tags'] = data['tags'].apply(literal_eval)\n",
        "    return data\n",
        "    print(\"done\")\n",
        "    "
      ],
      "execution_count": 6,
      "outputs": []
    },
    {
      "cell_type": "code",
      "metadata": {
        "id": "SllRGEtxy4yc",
        "colab": {
          "base_uri": "https://localhost:8080/"
        },
        "outputId": "81950534-451a-4bb1-c513-3849315d5e11"
      },
      "source": [
        "train = read_data('data/train.tsv')\n",
        "validation = read_data('data/validation.tsv')\n",
        "test = pd.read_csv('data/test.tsv', sep='\\t')\n",
        "print(\"done\")"
      ],
      "execution_count": 7,
      "outputs": [
        {
          "output_type": "stream",
          "text": [
            "done\n"
          ],
          "name": "stdout"
        }
      ]
    },
    {
      "cell_type": "code",
      "metadata": {
        "id": "uxux-7dcy8vO",
        "colab": {
          "base_uri": "https://localhost:8080/",
          "height": 204
        },
        "outputId": "e7e42bb3-593d-4f4e-9fe0-ffc209e26627"
      },
      "source": [
        "train.head()"
      ],
      "execution_count": 9,
      "outputs": [
        {
          "output_type": "execute_result",
          "data": {
            "text/html": [
              "<div>\n",
              "<style scoped>\n",
              "    .dataframe tbody tr th:only-of-type {\n",
              "        vertical-align: middle;\n",
              "    }\n",
              "\n",
              "    .dataframe tbody tr th {\n",
              "        vertical-align: top;\n",
              "    }\n",
              "\n",
              "    .dataframe thead th {\n",
              "        text-align: right;\n",
              "    }\n",
              "</style>\n",
              "<table border=\"1\" class=\"dataframe\">\n",
              "  <thead>\n",
              "    <tr style=\"text-align: right;\">\n",
              "      <th></th>\n",
              "      <th>title</th>\n",
              "      <th>tags</th>\n",
              "    </tr>\n",
              "  </thead>\n",
              "  <tbody>\n",
              "    <tr>\n",
              "      <th>0</th>\n",
              "      <td>How to draw a stacked dotplot in R?</td>\n",
              "      <td>[r]</td>\n",
              "    </tr>\n",
              "    <tr>\n",
              "      <th>1</th>\n",
              "      <td>mysql select all records where a datetime fiel...</td>\n",
              "      <td>[php, mysql]</td>\n",
              "    </tr>\n",
              "    <tr>\n",
              "      <th>2</th>\n",
              "      <td>How to terminate windows phone 8.1 app</td>\n",
              "      <td>[c#]</td>\n",
              "    </tr>\n",
              "    <tr>\n",
              "      <th>3</th>\n",
              "      <td>get current time in a specific country via jquery</td>\n",
              "      <td>[javascript, jquery]</td>\n",
              "    </tr>\n",
              "    <tr>\n",
              "      <th>4</th>\n",
              "      <td>Configuring Tomcat to Use SSL</td>\n",
              "      <td>[java]</td>\n",
              "    </tr>\n",
              "  </tbody>\n",
              "</table>\n",
              "</div>"
            ],
            "text/plain": [
              "                                               title                  tags\n",
              "0                How to draw a stacked dotplot in R?                   [r]\n",
              "1  mysql select all records where a datetime fiel...          [php, mysql]\n",
              "2             How to terminate windows phone 8.1 app                  [c#]\n",
              "3  get current time in a specific country via jquery  [javascript, jquery]\n",
              "4                      Configuring Tomcat to Use SSL                [java]"
            ]
          },
          "metadata": {
            "tags": []
          },
          "execution_count": 9
        }
      ]
    },
    {
      "cell_type": "code",
      "metadata": {
        "colab": {
          "base_uri": "https://localhost:8080/",
          "height": 35
        },
        "id": "d-HAzbgySR3K",
        "outputId": "a2913f4f-d13f-4abd-8f57-550ad79d134a"
      },
      "source": [
        "validation.iloc[4]['title']\n"
      ],
      "execution_count": 10,
      "outputs": [
        {
          "output_type": "execute_result",
          "data": {
            "application/vnd.google.colaboratory.intrinsic+json": {
              "type": "string"
            },
            "text/plain": [
              "'Getting error - type \"json\" does not exist - in Postgresql during rake db migrate'"
            ]
          },
          "metadata": {
            "tags": []
          },
          "execution_count": 10
        }
      ]
    },
    {
      "cell_type": "code",
      "metadata": {
        "colab": {
          "base_uri": "https://localhost:8080/"
        },
        "id": "SIGiRj9JSSYl",
        "outputId": "be4b8e20-a0d8-4b8f-9393-41c0913187ff"
      },
      "source": [
        "X_train, y_train = train['title'].values, train['tags'].values\n",
        "X_val, y_val = validation['title'].values, validation['tags'].values\n",
        "X_test = test['title'].values\n",
        "print(\"done\")\n"
      ],
      "execution_count": 11,
      "outputs": [
        {
          "output_type": "stream",
          "text": [
            "done\n"
          ],
          "name": "stdout"
        }
      ]
    },
    {
      "cell_type": "code",
      "metadata": {
        "colab": {
          "base_uri": "https://localhost:8080/"
        },
        "id": "fTq0Vqz4SSdJ",
        "outputId": "4c1669f0-2e30-4cee-a28d-d753baa30c61"
      },
      "source": [
        "import re\n",
        "from nltk.tokenize import word_tokenize\n",
        "nltk.download('punkt')\n",
        "\n",
        "print(\"done\")"
      ],
      "execution_count": 12,
      "outputs": [
        {
          "output_type": "stream",
          "text": [
            "[nltk_data] Downloading package punkt to /root/nltk_data...\n",
            "[nltk_data]   Unzipping tokenizers/punkt.zip.\n"
          ],
          "name": "stderr"
        },
        {
          "output_type": "stream",
          "text": [
            "done\n"
          ],
          "name": "stdout"
        }
      ]
    },
    {
      "cell_type": "code",
      "metadata": {
        "colab": {
          "base_uri": "https://localhost:8080/"
        },
        "id": "fnjI1zQCSShw",
        "outputId": "657f5955-e2fe-4c02-a54f-d439ca8ae64f"
      },
      "source": [
        "REPLACE_BY_SPACE_RE = re.compile('[/(){}\\[\\]\\|@,;]') \n",
        "BAD_SYMBOLS_RE = re.compile('[^0-9a-z #+_]') # take all words that contain characters other than 0-9,a-z,#,+\n",
        "STOPWORDS = set(stopwords.words('english'))\n",
        "\n",
        "def text_prepare(text):\n",
        "    \"\"\"\n",
        "        text: a string\n",
        "        \n",
        "        return: modified initial string\n",
        "    \"\"\"\n",
        "    #text = # lowercase text\n",
        "    text =text.lower()\n",
        "    #text = # replace REPLACE_BY_SPACE_RE symbols by space in text\n",
        "    text = re.sub(REPLACE_BY_SPACE_RE, ' ', text)\n",
        "    #text = # delete symbols which are in BAD_SYMBOLS_RE from text\n",
        "    text =  re.sub(BAD_SYMBOLS_RE, '', text)\n",
        "    #text = # delete stopwords from text\n",
        "    token_word=word_tokenize(text)\n",
        "    filtered_sentence = [w for w in token_word if not w in STOPWORDS] # filtered_sentence contain all words that are not in stopwords dictionary\n",
        "    lenght_of_string=len(filtered_sentence)\n",
        "    text_new=\"\"\n",
        "    for w in filtered_sentence:\n",
        "        if w!=filtered_sentence[lenght_of_string-1]:\n",
        "             text_new=text_new+w+\" \" # when w is not the last word so separate by whitespace\n",
        "        else:\n",
        "            text_new=text_new+w\n",
        "            \n",
        "    text = text_new\n",
        "    return text\n",
        "print(\"done\")"
      ],
      "execution_count": 13,
      "outputs": [
        {
          "output_type": "stream",
          "text": [
            "done\n"
          ],
          "name": "stdout"
        }
      ]
    },
    {
      "cell_type": "code",
      "metadata": {
        "colab": {
          "base_uri": "https://localhost:8080/"
        },
        "id": "SY5hrCrGSSli",
        "outputId": "696b4c3f-c144-4384-9849-5058853ab012"
      },
      "source": [
        "def test_text_prepare():\n",
        "    examples = [\"SQL Server - any equivalent of Excel's CHOOSE function?\",\n",
        "                \"How to free c++ memory vector<int> * arr?\"]\n",
        "    answers = [\"sql server equivalent excels choose function\", \n",
        "               \"free c++ memory vectorint arr\"]\n",
        "    for ex, ans in zip(examples, answers):\n",
        "        if text_prepare(ex) != ans:\n",
        "            return \"Wrong answer for the case: '%s'\" % ex\n",
        "    return 'Basic tests are passed.'\n",
        "\n",
        "print(\"done\")"
      ],
      "execution_count": 14,
      "outputs": [
        {
          "output_type": "stream",
          "text": [
            "done\n"
          ],
          "name": "stdout"
        }
      ]
    },
    {
      "cell_type": "code",
      "metadata": {
        "colab": {
          "base_uri": "https://localhost:8080/"
        },
        "id": "v-yv8sxRSSpn",
        "outputId": "83bc2874-7443-4dcd-b30e-eb5118d24e66"
      },
      "source": [
        "print(test_text_prepare())"
      ],
      "execution_count": 15,
      "outputs": [
        {
          "output_type": "stream",
          "text": [
            "Basic tests are passed.\n"
          ],
          "name": "stdout"
        }
      ]
    },
    {
      "cell_type": "code",
      "metadata": {
        "colab": {
          "base_uri": "https://localhost:8080/"
        },
        "id": "gy9RDWqUSStb",
        "outputId": "decc783d-d28d-4aed-f5c4-6cdc2e58346b"
      },
      "source": [
        "prepared_questions = []\n",
        "for line in open('data/text_prepare_tests.tsv', encoding='utf-8'):\n",
        "    line = text_prepare(line.strip())\n",
        "    prepared_questions.append(line)\n",
        "text_prepare_results = '\\n'.join(prepared_questions)\n",
        "\n",
        "grader.submit_tag('TextPrepare', text_prepare_results)\n",
        "print(\"done\")\n"
      ],
      "execution_count": 16,
      "outputs": [
        {
          "output_type": "stream",
          "text": [
            "Current answer for task TextPrepare is:\n",
            " sqlite php readonly\n",
            "creating multiple textboxes dynamically\n",
            "self one prefer javascript\n",
            "save php date...\n",
            "done\n"
          ],
          "name": "stdout"
        }
      ]
    },
    {
      "cell_type": "code",
      "metadata": {
        "colab": {
          "base_uri": "https://localhost:8080/"
        },
        "id": "FcsAPyBbSSxu",
        "outputId": "cd478ad8-8cf5-40b0-e9b8-9e5b248de496"
      },
      "source": [
        "X_train = [text_prepare(x) for x in X_train]\n",
        "X_val = [text_prepare(x) for x in X_val]\n",
        "X_test = [text_prepare(x) for x in X_test]\n",
        "\n",
        "print(\"done\")"
      ],
      "execution_count": 17,
      "outputs": [
        {
          "output_type": "stream",
          "text": [
            "done\n"
          ],
          "name": "stdout"
        }
      ]
    },
    {
      "cell_type": "code",
      "metadata": {
        "colab": {
          "base_uri": "https://localhost:8080/"
        },
        "id": "300Tj_TgSS1Y",
        "outputId": "944d7d57-1e36-47da-9598-c9af8272d550"
      },
      "source": [
        "print(len(X_train))\n",
        "\n",
        "import collections \n",
        "from collections import Counter\n",
        "import re\n",
        "\n",
        "words=[]\n",
        "tag_w=[]\n",
        "for i in range(0,100000):\n",
        "    #print(i)\n",
        "    words = words+(re.findall(r'\\w+', X_train[i])) # words cantain all the words in the dataset\n",
        "    tag_w=tag_w+y_train[i] # tage_w contain all tags that aree present in train dataset\n",
        "\n",
        "print(\"done\") \n",
        "words_counts = Counter(words) # counter create the dictinary of unique words with their frequncy\n",
        "tag_counts=Counter(tag_w)\n",
        "#print(words_counts)\n",
        "#print(tag_counts)\n"
      ],
      "execution_count": 19,
      "outputs": [
        {
          "output_type": "stream",
          "text": [
            "100000\n",
            "done\n"
          ],
          "name": "stdout"
        }
      ]
    },
    {
      "cell_type": "code",
      "metadata": {
        "id": "nMubI-oJSS5J"
      },
      "source": [
        "# Dictionary of all tags from train corpus with their counts.\n",
        "tags_counts = tag_counts\n",
        "# Dictionary of all words from train corpus with their counts.\n",
        "words_counts = Counter(words)\n",
        "#print(tags_counts)\n",
        "#print(tags_counts.keys())\n",
        "\n",
        "\n",
        "#v={}\n",
        "#for i in range(0,10):\n",
        "#    v[most_common_words[i][0]]=i\n",
        "    \n",
        "#print(v)\n",
        "#print(v['javascript'])\n",
        "\n",
        "######################################\n",
        "######### YOUR CODE HERE #############\n",
        "######################################"
      ],
      "execution_count": 20,
      "outputs": []
    },
    {
      "cell_type": "code",
      "metadata": {
        "colab": {
          "base_uri": "https://localhost:8080/"
        },
        "id": "bX-8QtaDSS8u",
        "outputId": "c724326c-dc54-4c9a-c47d-70d945fb97ec"
      },
      "source": [
        "most_common_tags = sorted(tags_counts.items(), key=lambda x: x[1], reverse=True)[:3]\n",
        "most_common_words = sorted(words_counts.items(), key=lambda x: x[1], reverse=True)[:3]\n",
        "\n",
        "\n",
        "print(most_common_words)\n",
        "grader.submit_tag('WordsTagsCount', '%s\\n%s' % (','.join(tag for tag, _ in most_common_tags), \n",
        "                                                ','.join(word for word, _ in most_common_words)))\n",
        "\n",
        "print(\"done\")"
      ],
      "execution_count": 21,
      "outputs": [
        {
          "output_type": "stream",
          "text": [
            "[('using', 8241), ('c', 8145), ('php', 5587)]\n",
            "Current answer for task WordsTagsCount is:\n",
            " javascript,c#,java\n",
            "using,c,php...\n",
            "done\n"
          ],
          "name": "stdout"
        }
      ]
    },
    {
      "cell_type": "code",
      "metadata": {
        "colab": {
          "base_uri": "https://localhost:8080/"
        },
        "id": "1VkBXBSCVU43",
        "outputId": "9e3f717b-25c1-4284-8dcb-87bb1ec81536"
      },
      "source": [
        "DICT_SIZE = 5000\n",
        "most_common_words = sorted(words_counts.items(), key=lambda x: x[1], reverse=True)[:5000] #most_common_words contain 5000 words in sorted order of frequncy\n",
        "WORDS_TO_INDEX={}\n",
        "INDEX_TO_WORDS={}\n",
        "for i in range(0,5000):\n",
        "    WORDS_TO_INDEX[most_common_words[i][0]]=i   # most_common_words[i][0] means extracting ith word from the dictioaanry, words to index conatain the index value of the word\n",
        "    INDEX_TO_WORDS[i]=most_common_words[i][0] # index to word conatain the word conrrespond to the index\n",
        "\n",
        "#rt={'hi': 0, 'you': 1, 'me': 2, 'are': 3}\n",
        "#for key, value in rt.items():\n",
        " #   if key=='hi':\n",
        "  #      print(key)\n",
        "   # else:\n",
        "    #    print(\"not e\")\n",
        "\n",
        "\n",
        "#examples = ['hi how are you']\n",
        "#answers = [[1, 1, 0, 1]]\n",
        "#for ex, ans in zip(examples, answers):\n",
        "#        print(\"string is :\")\n",
        "        \n",
        "\n",
        "#y=ex.split(\" \")\n",
        "#print(y)\n",
        "#print(len(y))\n",
        "#print(y[len(y)-1])\n",
        "\n",
        "#result_vector = np.zeros(4)\n",
        "#ex='hi how are you'\n",
        "#y=ex.split(\" \")\n",
        "#for i in range(0,len(y)):\n",
        " #     for key,value in rt.items():\n",
        "  #        #  print(y[i])\n",
        "   #        # print(key)\n",
        "    #        if y[i]==key:\n",
        "     #           result_vector[rt[key]]=result_vector[rt[key]]+1\n",
        "#print(result_vector)\n",
        "#INDEX_TO_WORDS = ####### YOUR CODE HERE #######\n",
        "ALL_WORDS = WORDS_TO_INDEX.keys()\n",
        "\n",
        "def my_bag_of_words(text, words_to_index, dict_size):\n",
        "    \"\"\"\n",
        "        text: a string\n",
        "        dict_size: size of the dictionary\n",
        "        \n",
        "        return a vector which is a bag-of-words representation of 'text'\n",
        "    \"\"\"\n",
        "    result_vector = np.zeros(dict_size)\n",
        "    y=text.split(\" \")\n",
        "    for i in range(0,len(y)):\n",
        "        for key,value in words_to_index.items():\n",
        "            if y[i]==key:\n",
        "                result_vector[words_to_index[key]]=result_vector[words_to_index[key]]+1  #  result_vector[words_to_index[key]] conatin the count of the presence of  word in the text\n",
        "            \n",
        "    return result_vector # result vector is the vector of the size of the no of words taken as features having count of then in the text\n",
        "\n",
        "print(\"dsf\")"
      ],
      "execution_count": 22,
      "outputs": [
        {
          "output_type": "stream",
          "text": [
            "dsf\n"
          ],
          "name": "stdout"
        }
      ]
    },
    {
      "cell_type": "code",
      "metadata": {
        "id": "VjvNZmKTiFSm"
      },
      "source": [
        "classifier_mybag = train_classifier(X_train_mybag, y_train)\n",
        "classifier_tfidf = train_classifier(X_train_tfidf, y_train)"
      ],
      "execution_count": 71,
      "outputs": []
    },
    {
      "cell_type": "code",
      "metadata": {
        "id": "ByGkGuT_WeNT"
      },
      "source": [
        "def test_my_bag_of_words():\n",
        "    words_to_index = {'hi': 0, 'you': 1, 'me': 2, 'are': 3}\n",
        "    examples = ['hi how are you']\n",
        "    answers = [[1, 1, 0, 1]]\n",
        "    for ex, ans in zip(examples, answers):\n",
        "        if (my_bag_of_words(ex, words_to_index, 4) != ans).any():\n",
        "            return \"Wrong answer for the case: '%s'\" % ex\n",
        "    return 'Basic tests are passed.'"
      ],
      "execution_count": 23,
      "outputs": []
    },
    {
      "cell_type": "code",
      "metadata": {
        "colab": {
          "base_uri": "https://localhost:8080/"
        },
        "id": "fqoDDJhlWkbG",
        "outputId": "b5894b86-037f-4aad-f281-797b13e39ad0"
      },
      "source": [
        "print(test_my_bag_of_words())"
      ],
      "execution_count": 24,
      "outputs": [
        {
          "output_type": "stream",
          "text": [
            "Basic tests are passed.\n"
          ],
          "name": "stdout"
        }
      ]
    },
    {
      "cell_type": "code",
      "metadata": {
        "id": "qrZYI4GlWmtf"
      },
      "source": [
        "from scipy import sparse as sp_sparse"
      ],
      "execution_count": 25,
      "outputs": []
    },
    {
      "cell_type": "code",
      "metadata": {
        "colab": {
          "base_uri": "https://localhost:8080/"
        },
        "id": "aJiJoXq6Wp3f",
        "outputId": "c64c220a-a25d-40b0-e6c9-2f3b27abdc51"
      },
      "source": [
        "X_train_mybag = sp_sparse.vstack([sp_sparse.csr_matrix(my_bag_of_words(text, WORDS_TO_INDEX, DICT_SIZE)) for text in X_train])\n",
        "X_val_mybag = sp_sparse.vstack([sp_sparse.csr_matrix(my_bag_of_words(text, WORDS_TO_INDEX, DICT_SIZE)) for text in X_val])\n",
        "X_test_mybag = sp_sparse.vstack([sp_sparse.csr_matrix(my_bag_of_words(text, WORDS_TO_INDEX, DICT_SIZE)) for text in X_test])\n",
        "print('X_train shape ', X_train_mybag.shape)\n",
        "print('X_val shape ', X_val_mybag.shape)\n",
        "print('X_test shape ', X_test_mybag.shape)"
      ],
      "execution_count": 26,
      "outputs": [
        {
          "output_type": "stream",
          "text": [
            "X_train shape  (100000, 5000)\n",
            "X_val shape  (30000, 5000)\n",
            "X_test shape  (20000, 5000)\n"
          ],
          "name": "stdout"
        }
      ]
    },
    {
      "cell_type": "code",
      "metadata": {
        "colab": {
          "base_uri": "https://localhost:8080/"
        },
        "id": "NULAYp0QWuT0",
        "outputId": "6470d634-510b-45b9-acdd-b1953ab18c67"
      },
      "source": [
        "row = X_train_mybag[10].toarray()[0]\n",
        "non_zero_elements_count=0\n",
        "for i in range(0,5000):\n",
        "    if (row[i]==1):\n",
        "        non_zero_elements_count=non_zero_elements_count+1\n",
        "    \n",
        "\n",
        "print(non_zero_elements_count)\n",
        "#non_zero_elements_count = ####### YOUR CODE HERE #######\n",
        "\n",
        "grader.submit_tag('BagOfWords', str(non_zero_elements_count))"
      ],
      "execution_count": 27,
      "outputs": [
        {
          "output_type": "stream",
          "text": [
            "6\n",
            "Current answer for task BagOfWords is:\n",
            " 6...\n"
          ],
          "name": "stdout"
        }
      ]
    },
    {
      "cell_type": "code",
      "metadata": {
        "colab": {
          "base_uri": "https://localhost:8080/"
        },
        "id": "TnES4s0zYiDv",
        "outputId": "692f82bd-795d-4be6-90c4-aa70c83792fb"
      },
      "source": [
        "from sklearn.feature_extraction.text import TfidfVectorizer\n",
        "print(X_train[:3])"
      ],
      "execution_count": 28,
      "outputs": [
        {
          "output_type": "stream",
          "text": [
            "['draw stacked dotplot r', 'mysql select records datetime field less specified value', 'terminate windows phone 81 app']\n"
          ],
          "name": "stdout"
        }
      ]
    },
    {
      "cell_type": "code",
      "metadata": {
        "id": "PBq5VRBYYiH1"
      },
      "source": [
        "def tfidf_features(X_train, X_val, X_test):\n",
        "    \"\"\"\n",
        "        X_train, X_val, X_test — samples        \n",
        "        return TF-IDF vectorized representation of each sample and vocabulary\n",
        "    \"\"\"\n",
        "    # Create TF-IDF vectorizer with a proper parameters choice\n",
        "    # Fit the vectorizer on the train set\n",
        "    # Transform the train, test, and val sets and return the result\n",
        "    \n",
        "    tfidf_vectorizer =  TfidfVectorizer(min_df=5,max_df=0.9,ngram_range=(1,2),token_pattern= '(\\S+)')#  '(\\S+)'  means any no white space\n",
        "    X_train=tfidf_vectorizer.fit_transform(X_train)\n",
        "    X_val=tfidf_vectorizer.transform(X_val)\n",
        "    X_test=tfidf_vectorizer.transform(X_test)\n",
        "    ######################################\n",
        "    ######### YOUR CODE HERE #############\n",
        "    #######################################\n",
        "    \n",
        "    return X_train, X_val, X_test, tfidf_vectorizer.vocabulary_\n",
        "\n",
        "#tfidf_vectorizer.vocabulary_ returns just index of feature\n",
        "    "
      ],
      "execution_count": 30,
      "outputs": []
    },
    {
      "cell_type": "code",
      "metadata": {
        "id": "Lgpo3k9zYiLX"
      },
      "source": [
        "X_train_tfidf, X_val_tfidf, X_test_tfidf, tfidf_vocab = tfidf_features(X_train, X_val, X_test)\n",
        "tfidf_reversed_vocab = {i:word for word,i in tfidf_vocab.items()}"
      ],
      "execution_count": 31,
      "outputs": []
    },
    {
      "cell_type": "code",
      "metadata": {
        "colab": {
          "base_uri": "https://localhost:8080/"
        },
        "id": "zFCAp_APYiOo",
        "outputId": "9081da42-b781-4115-f7bd-b73b284b3691"
      },
      "source": [
        "######### YOUR CODE HERE #############\n",
        "#print(X_train_tfidf[2])\n",
        "print('X_test_tfidf ', X_test_tfidf.shape) \n",
        "print('X_val_tfidf ',X_val_tfidf.shape)"
      ],
      "execution_count": 32,
      "outputs": [
        {
          "output_type": "stream",
          "text": [
            "X_test_tfidf  (20000, 18026)\n",
            "X_val_tfidf  (30000, 18026)\n"
          ],
          "name": "stdout"
        }
      ]
    },
    {
      "cell_type": "code",
      "metadata": {
        "colab": {
          "base_uri": "https://localhost:8080/"
        },
        "id": "nMwLbICLYiSM",
        "outputId": "6643a87b-d209-4665-9a14-4abdecfa3bd3"
      },
      "source": [
        "######### YOUR CODE HERE #############\n",
        "print(tfidf_vocab)"
      ],
      "execution_count": 33,
      "outputs": [
        {
          "output_type": "stream",
          "text": [
            "{'draw': 4672, 'stacked': 14705, 'r': 12538, 'mysql': 10223, 'select': 13797, 'records': 12798, 'datetime': 3976, 'field': 5686, 'less': 8922, 'specified': 14567, 'value': 16867, 'mysql select': 10256, 'select records': 13831, 'datetime field': 3980, 'terminate': 15462, 'windows': 17578, 'phone': 11523, '81': 335, 'app': 971, 'windows phone': 17601, 'phone 81': 11526, '81 app': 336, 'get': 6532, 'current': 3623, 'time': 15643, 'specific': 14522, 'country': 3431, 'via': 17153, 'jquery': 8499, 'get current': 6563, 'current time': 3639, 'time specific': 15670, 'via jquery': 17167, 'configuring': 3050, 'tomcat': 15731, 'use': 16415, 'ssl': 14691, 'awesome': 1449, 'nested': 10378, 'set': 14098, 'plugin': 11801, 'add': 506, 'new': 10442, 'children': 2502, 'tree': 15809, 'various': 17104, 'levels': 8935, 'add new': 552, 'create': 3453, 'map': 9519, 'json': 8620, 'response': 13187, 'ruby': 13476, 'rails': 12567, '3': 238, 'json response': 8648, 'ruby rails': 13491, 'rails 3': 12569, 'rspec': 13464, 'test': 15469, 'method': 9731, 'called': 2085, 'rspec test': 13467, 'test method': 15479, 'method called': 9741, 'springboot': 14623, 'lifecycle': 8961, 'exception': 5377, 'import': 7517, 'data': 3730, 'excel': 5359, 'database': 3844, 'using': 16541, 'php': 11537, 'import data': 7520, 'data excel': 3759, 'mysql database': 10233, 'database using': 3872, 'using php': 16714, 'obtaining': 10828, 'object': 10706, 'parameterized': 11258, 'type': 15965, 'without': 17649, 'constructing': 3144, 'class': 2541, 'ipad': 8015, 'selecting': 13869, 'text': 15492, 'inside': 7766, 'input': 7681, 'tap': 15402, 'selecting text': 13874, 'text inside': 15516, 'text input': 15515, 'jquerys': 8591, 'function': 6343, 'function object': 6393, 'eclipse': 4835, 'c++': 1945, 'mingw': 9837, 'program': 12145, 'terminated': 15463, 'eclipse c++': 4837, 'javascript': 8310, 'call': 2046, 'one': 10878, 'prototype': 12253, 'javascript call': 8324, 'call one': 2063, 'prototype method': 12254, 'intersection': 7940, 'list': 9083, 'sets': 14158, 'longer': 9333, 'able': 362, 'hide': 7096, 'keyboard': 8745, 'ios7': 8009, 'fetch': 5676, 'key': 8725, 'swift': 15218, 'json swift': 8656, 'change': 2279, 'pivot': 11749, 'header': 7022, 'template': 15438, '8': 329, 'phone 8': 11525, 'connectionstring': 3103, 'encryption': 5032, 'let': 8926, 'ui': 16045, 'refresh': 12886, 'long': 9323, 'running': 13535, 'operation': 11019, 'long running': 9328, 'better': 1631, 'way': 17327, 'execute': 5413, 'file': 5719, 'console': 3112, 'output': 11098, 'run': 13505, 'python': 12326, 'better way': 1633, 'ruby file': 13486, 'file using': 5856, 'console output': 3117, 'file run': 5829, 'run python': 13527, 'make': 9443, '2': 179, 'thumbnails': 15633, 'codeigniter': 2769, 'java': 8117, 'character': 2358, 'vs': 17272, 'char': 2349, 'memory': 9674, 'usage': 16412, 'memory usage': 9688, 'bootstrap': 1742, 'modal': 9892, 'close': 2700, 'enter': 5064, 'press': 12011, 'bootstrap modal': 1750, 'enter key': 5065, 'key press': 8738, 'linq': 9051, 'query': 12485, 'group': 6922, 'retrieving': 13259, 'percentage': 11486, 'linq query': 9067, 'query group': 12493, 'label': 8789, 'issue': 8041, 'openerp': 10993, 'keep': 8712, 'objects': 10797, 'view': 17189, 'scaling': 13633, 'axis': 1457, 'attributeerror': 1370, 'nonetype': 10546, 'attribute': 1356, 'split': 14584, 'attributeerror nonetype': 1373, 'nonetype object': 10547, 'object attribute': 10712, 'append': 999, 'mat': 9570, 'replace': 13059, 'onclick': 10867, 'jquery replace': 8566, 'redirect': 12823, 'programme': 12168, 'redirect output': 12831, 'accesscontrolalloworigin': 431, 'present': 12006, 'requested': 13124, 'resource': 13169, 'error': 5125, 'accesscontrolalloworigin header': 432, 'requested resource': 13125, 'creating': 3512, 'c': 1919, '#': 0, 'implicitly': 7514, 'convert': 3262, 'string': 14890, 'creating json': 3525, 'windows 8': 17581, '8 c': 331, 'c #': 1920, '# using': 88, 'implicitly convert': 7515, 'convert type': 3314, 'type string': 16004, 'django': 4509, 'modelform': 9929, 'django modelform': 4526, 'show': 14222, 'div': 4479, 'slide': 14376, 'show hide': 14232, 'hide div': 7098, 'javascript without': 8426, 'without jquery': 17671, 'avoid': 1444, 'busy': 1859, 'laravel': 8807, '4': 267, 'returns': 13323, 'ajax': 658, 'post': 11924, 'laravel 4': 8808, 'data ajax': 3732, 'ajax post': 677, 'handle': 6968, 'jquery ajax': 8503, 'year': 17982, 'function r': 6405, 'retrofit': 13263, 'singleton': 14338, 'gson': 6934, 'using gson': 16627, 'cpp': 3439, 'mfc': 9813, 'copying': 3367, 'web': 17396, 'reference': 12854, 'project': 12180, 'web reference': 17413, 'new project': 10461, 'top': 15747, 'five': 6052, 'query select': 12507, 'insert': 7729, 'index': 7586, 'insert string': 7750, 'string specific': 14988, 'apache': 923, 'poi': 11817, 'page': 11158, 'format': 6215, 'worksheet': 17792, 'apache poi': 931, 'change page': 2314, 'excel worksheet': 5374, 'tkinter': 15706, 'progress': 12176, 'bar': 1510, 'python tkinter': 12434, 'progress bar': 12177, 'store': 14833, 'image': 7393, 'path': 11418, 'store image': 14839, 'image path': 7442, 'using c': 16566, 'jdbc': 8443, 'associated': 1319, 'managed': 9488, 'connection': 3084, 'multiple': 10069, 'tables': 15360, 'model': 9902, 'yii2': 17993, 'use multiple': 16454, 'multiple tables': 10144, 'tables one': 15363, 'one model': 10912, 'controller': 3232, 'names': 10317, 'aspnet': 1258, 'mvc4': 10215, 'aspnet mvc4': 1275, 'casting': 2204, 'integer': 7868, 'array': 1094, 'integer array': 7869, 'array object': 1162, 'object array': 10710, 'array java': 1147, 'getting': 6728, 'uploading': 16360, 'getting error': 6736, 'error uploading': 5253, 'uploading file': 16361, 'file php': 5816, 'clear': 2636, 'methods': 9801, 'methods java': 9804, 'printing': 12075, 'floats': 6093, 'number': 10637, 'zeros': 18010, 'specific number': 14547, 'simple': 14279, 'network': 10430, 'library': 8944, 'simple c': 14282, 'c c++': 1922, 'usr': 16806, 'local': 9240, 'bin': 1645, 'running ruby': 13550, 'usr local': 16808, 'bitmap': 1678, 'binary': 1647, 'operations': 11022, 'default': 4078, 'mail': 9416, 'working': 17757, 'entity': 5074, 'framework': 6281, 'distinct': 4471, 'entity framework': 5078, 'framework model': 6295, 'extjs': 5566, 'checked': 2463, 'nodes': 10533, 'submit': 15108, 'get checked': 6550, 'lists': 9154, 'linq select': 9068, 'nested lists': 10392, 'element': 4898, 'pass': 11340, 'values': 16975, 'html': 7178, 'hide element': 7100, 'pass values': 11368, 'values javascript': 17003, 'javascript html': 8363, 'html element': 7198, 'element using': 4923, 'using javascript': 16648, 'javascript jquery': 8370, 'information': 7629, 'dictionary': 4274, 'get information': 6601, 'slidetoggle': 14380, 'display': 4414, 'created': 3506, 'opencv': 10986, 'android': 791, 'display image': 4426, 'instantiating': 7843, 'namespace': 10318, 'wpf': 17803, 'screen': 13677, 'resolution': 13159, 'screen resolution': 13679, 'content': 3181, 'static': 14757, 'table': 15325, 'cell': 2236, 'displayed': 4455, 'ios': 7989, '9': 338, 'table view': 15358, 'view cell': 17195, 'ios 9': 7995, 'best': 1619, 'autocomplete': 1408, 'suggest': 15163, 'algorithm': 700, 'datastructure': 3919, 'c++ c': 1951, 'backbone': 1473, 'modelsave': 9933, 'sending': 13932, 'put': 12303, 'instead': 7846, 'redirects': 12842, 'given': 6778, 'session': 14074, 'chrome': 2512, 'session php': 14086, 'mvc': 10188, 'razor': 12671, 'missing': 9854, 'collections': 2803, 'form': 6157, 'mvc 4': 10191, '4 razor': 271, 'form post': 6189, 'date': 3931, 'ddmmyyyy': 4017, 'style': 15080, 'dynamically': 4786, 'linkbutton': 9037, 'affecting': 646, 'others': 11087, 'change style': 2322, 'dynamically created': 4796, 'check': 2400, 'point': 11821, 'line': 8980, 'client': 2674, 'request': 13095, 'fails': 5642, 'timeout': 15682, 'simultaneously': 14313, 'acquire': 457, 'update': 16299, 'graph': 6879, 'matplotlib': 9592, 'data update': 3831, 'graph using': 6882, 'using python': 16727, 'python matplotlib': 12390, 'store value': 14845, 'value string': 16956, 'string array': 14895, 'datatable': 3920, 'inner': 7674, 'join': 8473, 'dynamic': 4751, 'columns': 2859, '# datatable': 28, 'inner join': 7678, 'dynamic columns': 4757, 'correct': 3378, 'adapter': 504, 'pattern': 11437, 'objective': 10785, 'objective c': 10786, 'save': 13590, 'another': 864, 'folder': 6107, 'save image': 13599, 'image another': 7396, 'another folder': 880, 'folder using': 6117, 'using ajax': 16545, 'ajax jquery': 670, 'use function': 16438, 'ignore': 7371, 'rows': 13439, 'sorting': 14483, 'specific rows': 14556, 'dom': 4604, 'angular': 827, 'directive': 4360, 'dom element': 4605, 'angular directive': 831, 'rectangles': 12807, 'next': 10489, 'parameters': 11261, 'url': 16374, 'zend': 18006, 'parameters url': 11268, 'inheritance': 7633, 'access': 389, 'problem': 12097, 'inner class': 7675, 'valueerror': 16973, 'match': 9571, 'passing': 11380, 'sockets': 14440, 'passing array': 11384, 'array json': 1150, 'json objects': 8639, 'child': 2484, 'deserializing': 4196, 'xml': 17918, 'child nodes': 2491, 'deserializing xml': 4198, 'xml object': 17938, 'version': 17137, 'application': 1020, 'executable': 5410, 'contains': 3173, 'unsupported': 16289, 'architecture': 1061, 'i386': 7299, 'app version': 988, 'architecture i386': 1062, 'com': 2870, 'array using': 1189, 'using com': 16578, 'urlopen': 16405, '10061': 146, 'unique': 16216, 'combination': 2873, 'bind': 1658, 'drop': 4696, 'first': 6025, 'ddl': 4016, 'drop list': 4699, 'list using': 9133, 'using jquery': 16654, 'change first': 2296, '31': 248, 'encrypted': 5029, 'gem': 6478, 'clause': 2627, 'fields': 5707, 'rails 31': 12571, 'google': 6831, 'maps': 9538, 'api': 937, 'generate': 6487, 'city': 2536, 'state': 14743, 'name': 10286, 'php mysql': 11627, 'google maps': 6844, 'maps api': 9539, 'city state': 2537, 'unknown': 16241, 'target': 15405, 'property': 12213, 'applet': 1016, 'mac': 9394, 'os': 11080, 'run java': 13518, 'java applet': 8129, 'mac os': 9396, 'latitude': 8864, 'longitude': 9337, 'latitude longitude': 8865, 'mouseout': 10001, 'listener': 9147, 'wordpress': 17719, 'google map': 6843, 'find': 5936, 'row': 13407, 'quickly': 12531, 'find row': 5978, 'iphone': 8018, 'command': 2897, 'terminal': 15461, 'return': 13265, 'matrix': 9596, 'need': 10360, 'transpose': 15802, 'attach': 1341, 'dataframe': 3884, 'parent': 11272, 'programmatically': 12159, 'd3': 3718, 'js': 8595, 'tick': 15635, 'spacing': 14507, 'gets': 6723, 'messed': 9723, 'month': 9977, 'boundary': 1768, 'hash': 7001, 'object javascript': 10740, 'set timeout': 14147, 'user': 16490, 'fit': 6049, 'needs': 10369, 'change default': 2291, 'user model': 16514, 'serializing': 13996, 'automatically': 1426, 'install': 7809, 'firefox': 6016, 'navbar': 10342, 'auto': 1397, 'layout': 8872, 'constraints': 3141, 'interactive': 7902, 'interface': 7907, 'builder': 1841, 'auto layout': 1402, 'interface builder': 7909, 'kill': 8768, 'process': 12113, 'system': 15280, 'shell': 14202, 'child process': 2496, 'process running': 12119, 'shell command': 14203, 'setting': 14165, 'timezone': 15695, 'cant': 2122, 'recent': 12774, 'cant update': 2152, 'facebook': 5589, 'help': 7053, 'dialog': 4264, 'event': 5295, 'load': 9186, 'browsers': 1822, 'jquery event': 8532, 'event listener': 5313, 'image load': 7433, 'intellij': 7893, 'constant': 3129, 'expression': 5516, 'required': 13133, 'case': 2190, 'android java': 807, 'constant expression': 3132, 'dropdown': 4705, 'based': 1535, 'entries': 5084, 'dropdown select': 4711, 'based database': 1543, 'wont': 17701, 'work': 17733, 'machine': 9398, 'wont work': 17708, 'local machine': 9247, 'pyqt': 12321, 'display data': 4419, 'data mysql': 3790, 'database table': 3869, 'table using': 15355, 'addeventlistener': 575, 'send': 13901, 'thread': 15591, 'send data': 13905, 'data specific': 3818, 'focus': 6102, 'listviewitem': 9170, 'documentgetelementbyid': 4573, 'innerhtml': 7679, 'ie8': 7352, 'working ie8': 17771, 'efficient': 4879, 'int': 7851, 'inverse': 7972, 'convert string': 3308, 'string int': 14950, 'edit': 4856, 'txt': 15963, 'specific line': 14544, 'line txt': 9006, 'txt file': 15964, 'file c': 5737, 'conditionally': 3034, 'filter': 5923, 'iqueryable': 8031, 'generic': 6509, 'repository': 13088, 'type using': 16010, 'using generic': 16615, 'generic repository': 6520, 'repository pattern': 13089, 'get memory': 6625, 'rails app': 12580, 'invalid': 7950, 'indirect': 7613, 'trying': 15859, 'trying convert': 15865, 'c++ java': 1976, 'record': 12792, 'insert multiple': 7741, 'record table': 12795, 'table codeigniter': 15331, 'sql': 14634, 'convert sql': 3306, 'sql query': 14651, 'query linq': 12496, 'password': 11406, 'prompt': 12197, 'regex': 12901, 'needed': 10368, 'dynamic string': 4773, 'string value': 15001, 'play': 11773, 'videos': 17188, 'website': 17462, 'best way': 1629, 'reading': 12731, 'stdin': 14799, 'blocking': 1707, 'reading line': 12739, 'line line': 8999, 'without blocking': 17653, 'video': 17178, 'old': 10858, 'rest': 13203, 'rest api': 13204, 'comma': 2893, 'separated': 13961, 'collection': 2795, 'spring': 14597, 'comma separated': 2895, 'separated string': 13965, 'string java': 14953, 'java collection': 8146, 'spring form': 14612, 'checking': 2471, 'member': 9661, 'struct': 15038, 'element c': 4903, 'c struct': 1941, 'struct array': 15039, 'gridview': 6908, 'export': 5503, 'gridview data': 6912, 'export excel': 5506, 'tinymce': 15698, 'player': 11784, 'media': 9652, 'splash': 14581, 'accepts': 385, 'class use': 2604, 'use spring': 16474, 'csv': 3596, 'stringsplit': 15024, 'due': 4730, 'blank': 1691, 'import csv': 7519, 'csv file': 3598, 'li': 8937, 'ngmodel': 10504, 'start': 14727, 'blackberry': 1689, 'programming': 12170, 'searching': 13761, 'sdk': 13736, 'quick': 12527, 'iphone sdk': 8023, 'directory': 4366, '# get': 48, 'directory name': 4372, 'column': 2827, 'odd': 10848, 'even': 5290, 'numbers': 10673, 'threads': 15608, 'odd even': 10849, 'even numbers': 5291, 'numbers using': 10685, 'using 2': 16543, 'alternatives': 756, 'projects': 12194, 'similar': 14277, 'joomla': 8484, 'drupal': 4724, 'assign': 1307, 'variable': 17034, 'properties': 12207, '# dynamic': 36, 'dynamic variable': 4782, 'dynamic object': 4772, 'get parameters': 6640, 'field value': 5704, 'another object': 888, 'accessing': 436, 'global': 6795, 'onclicklistener': 10875, 'accessing global': 438, 'global variable': 6800, 'variable inside': 17053, 'argument': 1071, 'uml': 16107, 'argument list': 1075, 'preg_replace': 11991, 'curly': 3618, 'brackets': 1789, '323': 254, 'bundler': 1854, 'could': 3394, 'compatible': 2949, 'versions': 17146, 'rails 323': 12573, 'could find': 3402, 'exe': 5406, '# windows': 95, 'windows form': 17594, 'junit': 8696, 'report': 13080, 'task': 15409, 'facebooks': 5608, 'sms': 14399, 'broadcast': 1802, 'receiver': 12770, 'takes': 15394, 'highest': 7115, 'priority': 12082, 'reboot': 12763, 'length': 8914, '0': 120, 'bypass': 1909, 'clientside': 2690, 'validation': 16848, 'clientside validation': 2691, 'rvm': 13567, 'installation': 7818, 'ubuntu': 16036, 'installation error': 7819, 'error ubuntu': 5245, 'trigger': 15828, 'carousel': 2180, 'trigger event': 15831, 'bootstrap carousel': 1745, 'proxy': 12264, 'configuration': 3041, 'unable': 16108, 'redirecttoaction': 12843, 'cant get': 2136, 'iterators': 8089, 'incompatible': 7562, 'destruction': 4213, 'dependent': 4165, 'constructor': 3146, 'bad': 1500, 'input line': 7704, 'symfony2': 15253, 'forms': 6246, 'options': 11048, 'use dynamic': 16433, 'select options': 13828, 'notfoundhttpexception': 10575, 'submission': 15107, 'handling': 6982, 'validation multiple': 16858, 'multiple forms': 10095, 'triggers': 15837, 'oracle': 11051, 'mongoose': 9971, 'callback': 2079, 'access specific': 418, 'specific value': 14562, 'well': 17496, 'updating': 16331, 'models': 9930, '5': 294, 'canvas': 2155, 'issues': 8045, 'html 5': 7179, 'comparison': 2945, 'variables': 17080, 'pointing': 11841, 'parse': 11290, 'parse json': 11296, 'json data': 8624, 'data php': 3797, 'possible': 11907, 'jump': 8694, 'top page': 15752, 'page form': 11170, 'form submit': 6196, 'safely': 13579, 'destroy': 4211, 'window': 17549, 'wxpython': 17874, 'includes': 7558, 'systems': 15308, 'php includes': 11605, 'managepy': 9491, 'runserver': 13558, 'managepy runserver': 9492, 'saving': 13612, 'frames': 6280, 'saving multiple': 13620, 'multiple data': 10085, 'data frames': 3766, 'return function': 13277, 'compilation': 2950, 'found': 6263, 'compilation error': 2951, 'error type': 5243, 'type namespace': 15995, 'namespace name': 10320, 'could found': 3403, 'parsecom': 11300, 'libgdx': 8940, 'implementation': 7502, 'iframe': 7360, 'position': 11895, 'adding': 577, 'javascript adding': 8314, 'adding text': 598, 'save value': 13605, 'value drop': 16898, 'calculate': 2029, 'correlation': 3384, 'remove': 12983, 'ones': 10942, 'pandas': 11218, 'python pandas': 12404, 'optimizations': 11036, 'browser': 1807, 'perform': 11490, 'rendered': 13043, 'denied': 4154, 'service': 14044, 'delegate': 4114, 'mail client': 9418, 'client using': 2686, 'count': 3417, 'scipy': 13661, 'build': 1835, 'osx': 11085, 'mac osx': 9397, 'ip': 8012, 'address': 604, 'mask': 9562, 'textbox': 15549, 'ip address': 8013, 'vbnet': 17112, 'commands': 2912, 'java library': 8195, 'selected': 13846, 'codebehind': 2763, 'get selected': 6671, 'selected value': 13862, 'value text': 16958, 'text html': 15513, 'html select': 7221, 'restrict': 13223, 'jqgrid': 8498, 'textarea': 15544, 'height': 7043, 'grid': 6899, 'swift 3': 15221, 'editor': 4866, 'serialization': 13985, 'xml serialization': 17946, 'extend': 5534, 'java class': 8142, 'class one': 2589, 'exceptions': 5397, 'guidelines': 6952, 'understand': 16178, 'testng': 15488, 'suite': 15168, 'configure': 3048, 'webpage': 17451, 'excel data': 5364, 'parameter': 11239, 'owin': 11143, 'host': 7146, 'pass parameter': 11360, 'saved': 13609, 'rake': 12624, 'errors': 5264, 'loading': 9224, 'kind': 8772, 'mutex': 10185, 'calculation': 2041, 'entities': 5071, 'linq entities': 9055, 'entities query': 5072, 'difference': 4294, 'cocos2dx': 2731, 'lua': 9384, 'binding': 1663, 'reset': 13145, 'angularjs': 838, 'verify': 17134, 'box': 1774, 'clicked': 2665, 'check box': 2402, 'structure': 15047, 'pointer': 11825, 'dll': 4548, 'pointer c': 11827, 'c dll': 1925, 'dll c': 4549, 'pausing': 11445, 'milliseconds': 9831, 'method set': 9785, 'call javascript': 2058, 'params': 11271, 'requests': 13130, 'python requests': 12417, 'highlighting': 7121, 'visual': 17255, 'studio': 15065, 'visual studio': 17259, 'email': 4959, 'component': 2989, 'versus': 17147, 'phpmailer': 11707, 'cakephp': 2025, 'include': 7547, 'files': 5883, 'correctly': 3383, 'include header': 7549, 'header files': 7025, 'development': 4247, 'php api': 11549, 'uiimageview': 16067, 'size': 14351, 'programmatically swift': 12167, 'n': 10282, 'file html': 5779, 'seperate': 13972, 'gc': 6467, 'log': 9285, 'vm': 17263, 'server': 14004, 'log file': 9286, 'file java': 5788, 'application server': 1034, 'fix': 6053, 'opened': 10992, 'fix error': 6054, 'separate': 13958, 'commas': 2913, 'quotes': 12536, 'using ruby': 16743, 'serversocket': 14043, 'port': 11884, 'supposed': 15196, 'port number': 11886, 'edit data': 4858, 'data database': 3753, 'database codeigniter': 3849, 'codeigniter using': 2779, 'using bootstrap': 16565, 'matching': 9582, 'matching function': 9583, 'function call': 6356, 'call function': 2056, 'function template': 6415, 'reopen': 13047, 'files python': 5901, 'expressions': 5530, 'void': 17265, 'main': 9427, 'eclipse error': 4841, 'error could': 5162, 'find load': 5961, 'load main': 9208, 'main class': 9428, 'grouping': 6929, 'sort': 14468, 'preserving': 12010, 'matrix row': 9601, 'qt': 12464, 'mainwindow': 9439, 'resize': 13152, 'resized': 13157, 'automatically resize': 1431, 'dispatcher': 4413, '# delegate': 32, 'ie': 7338, 'web api': 17397, 'href': 7164, 'submit form': 15111, 'form using': 6201, 'using href': 16630, 'compile': 2952, 'single': 14317, 'gradle': 6872, 'single java': 14326, 'java file': 8172, 'code': 2732, 'thats': 15576, 'sensitive': 13951, 'object class': 10716, 'curl': 3610, 'rectangle': 12806, 'pygame': 12317, 'moves': 10016, 'mouse': 9987, 'location': 9272, 'naming': 10325, 'conventions': 3252, 'naming conventions': 10327, 'wpf window': 17822, 'populate': 11868, 'second': 13763, 'value first': 16909, 'wordpress using': 17728, 'using method': 16673, 'installing': 7823, 'gives': 6787, 'gives error': 6788, 'pass variables': 11370, 'reference javascript': 12863, 'render': 13039, 'view another': 17191, 'another controller': 873, 'openxml': 11011, 'spreadsheet': 14594, 'update value': 16325, 'objectivec': 10787, 'used': 16486, 'words': 17729, 'nsstring': 10604, 'generics': 6523, 'wildcard': 17538, 'define': 4094, 'vector': 17124, 'undefined': 16153, 'switch': 15237, 'eval': 5284, 'using switch': 16771, 'switch case': 15238, 'generator': 6507, 'services': 14062, 'php class': 11557, 'web services': 17418, 'implement': 7497, 'animation': 853, 'jpa': 8486, 'backend': 1479, 'changes': 2334, 'asynchronously': 1337, 'subdomain': 15098, 'creation': 3531, 'linux': 9074, 'php linux': 11615, 'preg_match': 11990, 'strings': 15015, 'long strings': 9330, 'open': 10958, 'source': 14493, 'computation': 3002, 'open source': 10979, 'null': 10616, 'float': 6082, 'return null': 13284, 'method error': 9752, 'error handling': 5182, 'jframe': 8455, 'basic': 1564, 'shapes': 14185, 'regular': 12932, 'regular expression': 12933, 'detect': 4220, 'volume': 17270, 'changed': 2332, 'horizontal': 7141, 'slider': 14377, '100': 144, 'width': 17531, 'images': 7476, 'serial': 13979, 'print': 12057, 'arduino': 1065, 'checkbox': 2450, 'create checkbox': 3457, 'checkbox list': 2455, 'execute php': 5422, 'php code': 11559, 'wordpress post': 17725, 'outofmemory': 11094, 'outofmemory exception': 11095, 'instance': 7828, 'object instance': 10734, 'deploy': 4170, 'clickonce': 2670, 'signing': 14270, 'clickonce application': 2671, 'application without': 1041, '2d': 226, 'clickable': 2664, '2d array': 227, 'tkinter canvas': 15707, 'created_at': 3509, 'shopping': 14213, 'cart': 2186, 'item': 8049, 'added': 574, 'shopping cart': 14214, 'compiler': 2962, 'declared': 4056, 'yet': 17988, 'visible': 17247, 'java compiler': 8149, 'declared class': 4057, 'replacement': 13073, 'net': 10401, 'apps': 1055, 'net windows': 10421, 'windows store': 17606, 'store apps': 14835, 'npm': 10587, '+': 104, 'mocha': 9881, 'watch': 17321, 'accurately': 454, 'watching': 17322, 'stl': 14815, 'stl vector': 14819, 'template function': 15444, 'prevents': 12032, 'strict': 14889, 'clock': 2696, 'cant set': 2150, 'overloading': 11131, 'optional': 11045, 'method overloading': 9769, 'optional parameter': 11046, 'tuples': 15883, 'statements': 14755, 'tuples python': 15884, 'tomcat7': 15738, 'shows': 14247, 'inactive': 7543, 'users': 16534, 'manager': 9493, 'backbonejs': 1477, 'elements': 4929, 'fired': 6015, 'views': 17227, 'accessing elements': 437, 'remote': 12971, 'notification': 10581, 'launch': 8866, 'background': 1480, 'app background': 973, 'proper': 12202, 'completion': 2980, 'vim': 17230, 'mobile': 9870, 'didnt': 4289, 'jquery mobile': 8552, 'append div': 1001, 'div content': 4487, 'runtime': 13559, 'weird': 17490, 'moq': 9985, 'object reference': 10762, 'reference set': 12866, 'set instance': 14128, 'instance object': 7832, 'object error': 10726, 'error using': 5255, 'using moq': 16678, 'nil': 10513, 'check string': 2436, 'nil swift': 10514, 'combine': 2875, 'plot': 11793, 'read': 12696, 'code java': 2751, 'retrieving data': 13260, 'data sql': 3819, 'sql database': 14640, 'database vbnet': 3874, 'nomethoderror': 10535, 'nilnilclass': 10515, 'nomethoderror undefined': 10536, 'undefined method': 16162, 'method name': 9764, 'jbutton': 8440, 'actionlistener': 469, 'producing': 12132, 'several': 14177, 'security': 13779, 'catching': 2216, 'fullscreen': 6338, 'seems': 13786, 'keyboard input': 8747, 'parallel': 11235, 'prime': 12049, 'duplicating': 4747, 'rows datatable': 13448, 'script': 13686, 'cli': 2645, 'run php': 13525, 'php script': 11657, 'tuple': 15881, 'create tuple': 3498, 'datagridview': 3898, '# datagridview': 27, 'tabs': 15370, 'handler': 6978, 'event handler': 5308, 'examples': 5354, 'custom': 3652, 'soft': 14441, 'panel': 11227, 'windowsce': 17611, '60': 318, 'creating custom': 3516, 'exec': 5408, 'status': 14788, 'realtime': 12759, 'lookup': 9347, 'twitter': 15898, 'followers': 6122, 'looking': 9343, 'day': 3992, 'calendar': 2044, 'javascript library': 8373, 'three': 15612, 'sprite': 14629, 'draw text': 4677, 'huge': 7288, 'leak': 8890, 'memory leak': 9683, 'regex replace': 12916, 'replace function': 13063, 'many': 9505, 'relationships': 12947, 'eloquent': 4951, 'many many': 9507, 'write': 17830, 'encoding': 5018, 'utf8': 16812, 'string encoding': 14928, 'encoding utf8': 5023, 'storing': 14857, '2dimensional': 233, 'sqlite': 14669, 'sqlite database': 14670, 'hibernate': 7073, 'gwt': 6955, 'hibernate +': 7074, 'grab': 6865, 'svg': 15204, 'convert image': 3284, 'routing': 13405, 'plain': 11765, 'typescript': 16031, 'angular 2': 828, 'plain javascript': 11766, 'standard': 14717, 'hangs': 6990, 'runs': 13557, 'standard input': 14719, 'input using': 7720, 'textfield': 15567, 'listening': 9149, 'socket': 14427, 'phpfpm': 11705, 'assign value': 1309, 'value using': 16966, 'using linq': 16665, 'rotating': 13389, 'get object': 6635, 'selected rows': 13859, 'rows datagridview': 13447, 'threaded': 15603, 'cpu': 3442, 'program using': 12155, 'using one': 16703, 'systemstring': 15310, 'complex': 2983, 'complex type': 2986, 'must': 10177, 'zero': 18008, 'testing': 15484, 'internationalization': 7925, 'rspec testing': 13468, '2nd': 236, 'httpwebrequest': 7286, 'obj': 10704, 'rendering': 13045, 'cause': 2224, 'di': 4258, 'angular controller': 830, 'nginx': 10502, 'flask': 6070, 'receiving': 12772, 'receiving data': 12773, 'data html': 3770, 'space': 14502, 'byte': 1911, 'add space': 563, 'byte array': 1912, 'boolean': 1726, 'detect element': 4222, 'element array': 4900, 'pip': 11741, 'proxy setting': 12267, '25': 221, 'module': 9944, 'suffix': 15162, 'joomla 25': 8485, 'module class': 9945, 'certain': 2257, 'substring': 15141, 'certain character': 2259, 'md5': 9635, 'convert javascript': 3288, 'javascript variable': 8423, 'md5 hash': 9636, 'nsurl': 10608, 'incompatible pointer': 7563, 'pointer type': 11836, 'get first': 6585, 'first item': 6034, 'decimals': 4046, 'php preg_match': 11642, 'ffmpeg': 5682, 'upto': 16372, '32': 251, 'unexpected': 16182, 'token': 15725, 'connecting': 3079, 'unexpected token': 16192, 'token error': 15726, 'error connecting': 5157, 'connecting mysql': 3081, 'database php': 3863, 'ant': 910, 'failed': 5624, 'failed build': 5625, 'construct': 3142, 'symfony': 15249, '14': 163, 'json object': 8638, 'symfony 14': 15250, 'html content': 7190, 'domain': 4613, 'currently': 3646, 'logged': 9293, 'get domain': 6573, 'currently logged': 3647, 'logged user': 9294, 'initialize': 7647, 'double': 4631, 'xpath': 17963, '10': 142, 'codec': 2765, 'decode': 4062, 'codec cant': 2766, 'cant decode': 2131, 'decode byte': 4063, 'uninitialized': 16210, 'static class': 14760, 'class type': 2603, 'equivalent': 5113, 'vb': 17107, 'left': 8903, 'net equivalent': 10415, 'string length': 14958, 'another class': 870, 'stdout': 14803, 'change content': 2286, 'content div': 3183, 'much': 10045, 'slower': 14385, 'much slower': 10047, 'manually': 9504, 'stage': 14711, 'e': 4814, 'aspnet page': 1277, 'dict': 4271, 'dict object': 4272, 'error django': 5165, 'django project': 4531, 'returning': 13303, 'oracle function': 11054, 'function returning': 6409, 'returning value': 13321, 'enumeration': 5095, 'powershell': 11963, 'get values': 6701, 'resolved': 13164, 'resolved field': 13165, 'datetime object': 3983, 'object string': 10769, 'compression': 3001, 'utf8 encoding': 16816, 'loop': 9348, 'use loop': 16452, 'function run': 6411, 'run script': 13528, 'multiple files': 10093, 'files using': 5906, 'using r': 16730, 'way dynamically': 17347, 'implement interface': 7500, 'interface c': 7910, 'winform': 17614, 'timers': 15689, 'notify': 10585, 'timer': 15686, 'raised': 12621, '# winform': 96, 'parent class': 11274, 'maximize': 9622, 'screen size': 13681, 'echo': 4831, 'echo php': 4832, 'php inside': 11608, 'inside javascript': 7787, 'statment': 14786, 'convert java': 3287, 'c code': 1923, 'pdf': 11455, 'read pdf': 12714, 'pdf file': 11458, 'file line': 5794, 'line c': 8989, 'major': 9440, 'search': 13740, 'combo': 2882, 'search function': 13750, 'function using': 6420, 'using textbox': 16775, 'combo box': 2883, 'classes': 2613, 'file system': 5841, 'sublime': 15103, 'sublime text': 15104, 'text 3': 15494, 'datagrid': 3893, 'button': 1860, 'datagrid view': 3896, 'button clicked': 1869, 'two': 15907, 'adding two': 599, 'two strings': 15947, 'paste': 11416, 'ie10': 7347, 'syntax': 15267, 'end': 5035, 'parse error': 11294, 'error syntax': 5238, 'syntax error': 15269, 'error unexpected': 5249, 'unexpected end': 16185, 'public': 12273, 'get public': 6651, 'public ip': 12276, 'address using': 609, 'step': 14809, 'histograms': 7125, 'ggplot2': 6766, 'ggplot2 r': 6768, 'spring security': 14620, 'admin': 616, 'menu': 9693, 'whats': 17500, 'right': 13361, 'connect': 3064, 'microsoft': 9815, '2007': 202, 'right way': 13365, 'java connect': 8151, 'microsoft access': 9816, 'access 2007': 390, 'boot': 1740, 'respond': 13183, 'spring boot': 14606, 'instanceof': 7836, 'method use': 9795, 'allow': 717, 'empty': 4982, 'body': 1716, 'statement': 14745, 'foo': 6134, 'difference class': 4296, 'object python': 10761, 'canonical': 2121, 'transmit': 15797, 'protocol': 12249, 'buffers': 1833, 'protocol buffers': 12251, 'uiwebview': 16101, 'identify': 7327, 'last': 8836, 'message': 9711, 'rcp': 12676, 'job': 8466, 'finished': 6007, 'eclipse rcp': 4849, 'patch': 11417, 'using net': 16690, 'windows application': 17585, 'extension': 5540, 'tostring': 15755, 'extension method': 5541, 'field name': 5697, 'name function': 10298, 'upload': 16338, 'back': 1469, 'contents': 3198, 'contents file': 3200, 'nice': 10512, 'kendo': 8718, 'widget': 17529, 'way make': 17362, 'custom widget': 3701, '2003': 200, 'create excel': 3466, 'excel file': 5365, 'email address': 4960, 'query string': 12510, 'string c': 14903, 'relationship': 12946, 'icon': 7304, 'sizes': 14362, 'icon file': 7305, 'images c': 7477, 'expected': 5472, 'got': 6860, 'true': 15846, 'expected string': 5481, 'default value': 4088, 'new rails': 10462, 'rails project': 12602, 'range': 12648, 'control': 3221, 'entity data': 5076, 'checking null': 2472, 'linker': 9044, 'compiling': 2969, 'simulator': 14311, 'symbols': 15247, 'linker error': 9045, 'error compiling': 5155, 'ios 5': 7991, 'undefined symbols': 16168, 'meta': 9726, 'indexphp': 7607, 'refreshing': 12894, 'prepared': 11997, 'constraint': 3138, 'within': 17627, 'session variable': 14093, 'variable within': 17079, '# need': 62, 'pass object': 11358, 'object another': 10709, 'class call': 2551, 'call methods': 2062, 'sqlalchemy': 14661, 'detected': 4229, 'thread java': 15596, 'recursive': 12812, 'linq xml': 9071, 'handlers': 6980, 'overriding': 11138, 'event handlers': 5309, 'xml using': 17950, 'onload': 10949, 'faster': 5659, 'possible make': 11915, 'onload event': 10950, 'determine': 4233, 'temp': 15436, 'please': 11788, 'specify': 14571, 'zend framework': 18007, 'disabling': 4394, 'click': 2646, 'prevent': 12021, 'enabling': 5007, 'button one': 1886, 'one click': 10886, 'prevent multiple': 12027, 'duplicate': 4736, 'java best': 8136, 'way find': 17350, 'find first': 5951, 'character string': 2366, 'fixed': 6055, 'table header': 15338, 'recommended': 12788, 'high': 7109, 'traffic': 15772, 'dojo': 4601, 'switching': 15242, 'logout': 9318, 'authentication': 1388, 'jquery javascript': 8544, 'javascript using': 8420, 'using form': 16610, 'groups': 6930, '1': 131, 'buffer': 1827, 'strategy': 14874, 'login': 9301, 'javascript date': 8340, 'validation function': 16854, 'react': 12685, 'es6': 5268, 'es6 class': 5269, 'lines': 9012, 'running two': 13554, 'two lines': 15936, 'python time': 12433, 'imshow': 7541, 'zoom': 18021, 'onsubmit': 10953, 'time using': 15674, 'ternary': 15467, 'operator': 11023, 'ternary operator': 15468, 'javalangnoclassdeffounderror': 8289, 'org': 11070, 'axis2': 1460, 'javalangnoclassdeffounderror org': 8291, 'org apache': 11071, 'class path': 2593, 'speech': 14573, 'recognition': 12778, '# without': 98, 'without using': 17695, 'using windows': 16797, 'speech recognition': 14574, 'ckeditor': 2538, 'dynamic menu': 4771, 'disadvantages': 4395, 'making': 9480, 'serializable': 13984, 'one step': 10926, 'check null': 2425, 'null value': 10630, 'exe file': 5407, 'catch': 2210, 'divide': 4503, '2012': 210, 'error message': 5200, 'studio 2012': 15069, 'derived': 4179, 'file path': 5813, 'derived class': 4180, 'arraylist': 1202, 'array list': 1154, 'list javascript': 9117, 'non': 10537, 'textbox using': 15559, 'windows api': 17583, 'api c': 941, 'windows forms': 17595, 'forms app': 6247, 'calling': 2089, 'scope': 13662, 'access javascript': 405, 'javascript variables': 8424, 'vs2008': 17287, 'device': 4253, 'windows mobile': 17599, 'cant connect': 2128, 'argv': 1089, 'python list': 12382, 'frame': 6275, 'dynamically adding': 4789, 'rstudio': 13473, 'shared': 14188, 'open shared': 10978, 'shared object': 14193, 'object file': 10728, 'file file': 5771, 'file directory': 5757, 'transaction': 15778, 'aborted': 366, 'persist': 11513, 'mean': 9639, 'decimal': 4034, 'decimal string': 4043, 'see': 13780, 'characters': 2369, 'page load': 11175, 'load function': 9200, 'mathrandom': 9589, 'random': 12634, 'ints': 7949, 'generate random': 6492, 'sessions': 14097, 'enum': 5088, 'add values': 572, 'values c': 16981, 'nslog': 10596, 'messages': 9720, 'leaks': 8892, 'exact': 5346, 'regexp': 12922, 'exact match': 5347, 'javascript array': 8318, 'using regexp': 16736, 'pagination': 11207, 'filtering': 5931, 'expected error': 5475, 'linq expression': 9057, 'list view': 9136, 'multiple variables': 10157, 'migrating': 9826, 'article': 1225, '3x': 266, 'initializing': 7658, 'java multiple': 8202, 'multiple line': 10111, 'nsarray': 10588, 'storing user': 14862, 'user input': 16508, 'input text': 7714, 'text field': 15509, 'keys': 8756, 'keys dictionary': 8758, 'based values': 1560, 'causes': 2226, '500': 302, '500 error': 303, 'tolist': 15729, 'take': 15390, 'generates': 6500, 'sinatra': 14314, 'computer': 3006, 'access local': 406, 'server another': 14010, 'another computer': 872, 'quartz': 12482, 'returned': 13299, '255': 222, 'blocks': 1708, 'code blocks': 2738, 'controller function': 3237, 'function codeigniter': 6364, 'yii': 17991, 'resizing': 13158, 'workspace': 17793, 'html file': 7202, 'rename': 13036, 'marshall': 9560, 'jaxws': 8437, 'jaxb': 8434, 'tag': 15372, 'link': 9017, '3d': 262, 'initialization': 7646, 'conversion': 3253, '3d array': 263, 'array c': 1105, 'thrown': 15625, 'violation': 17232, 'incorrect': 7570, '_post': 353, 'error access': 5133, 'access violation': 429, 'table name': 15345, '_post array': 354, 'array data': 1115, 'font': 6127, 'uilabel': 16068, 'change font': 2297, 'font size': 6130, 'concatenate': 3010, 'inputs': 7724, 'radio': 12561, 'hidden': 7090, 'hidden field': 7092, 'win32': 17543, 'c++ win32': 2009, 'change value': 2326, 'jquery json': 8546, 'side': 14254, 'empty string': 4997, 'server side': 14032, 'bit': 1677, 'rate': 12662, 'avplayer': 1446, 'http': 7246, 'live': 9177, 'audio': 1377, 'streaming': 14882, 'django creating': 4516, 'custom user': 3698, 'showing': 14242, 'data url': 3832, 'url without': 16400, 'without showing': 17690, 'merging': 9707, 'datasets': 3915, 'common': 2920, 'merging two': 9709, '1 column': 134, 'integration': 7886, 'website using': 17465, 'using facebook': 16605, 'facebook login': 5598, 'login button': 9303, 'centering': 2252, 'fitting': 6051, 'container': 3169, 'content inside': 3185, 'angular2': 837, 'whats difference': 17502, 'driver': 4691, 'java jdbc': 8194, 'jdbc driver': 8445, 'yaxis': 17981, 'intersect': 7939, 'xaxis': 17898, 'playframework': 11785, 'deadlock': 4020, 'postgresql': 11950, 'merge': 9701, 'factory': 5615, 'deserialize': 4192, 'compare': 2933, '# datetime': 30, 'html5': 7234, 'drag': 4668, 'fires': 6021, 'html5 drag': 7237, 'validate': 16837, 'input data': 7688, 'download': 4645, 'download file': 4648, 'file aspnet': 5731, 'aspnet web': 1285, 'method using': 9796, 'using angularjs': 16548, 'title': 15703, 'multiple html': 10097, 'html files': 7203, 'recording': 12797, 'stream': 14878, 'download csv': 4646, 'enable': 5003, 'area': 1066, 'radio button': 12562, 'text area': 15495, 'controls': 3249, 'user control': 16500, 'working firefox': 17768, 'firefox chrome': 6018, 'chrome ie': 2520, 'adjusting': 615, 'automatic': 1424, 'textboxes': 15562, 'javafx': 8279, '22': 215, 'referencing': 12877, '2010': 205, 'studio 2010': 15068, 'jsonnet': 8669, 'serialize': 13988, 'works': 17789, 'fine': 6004, 'works fine': 17790, 'parsing': 11305, 'parsing text': 11315, 'text content': 15504, 'java get': 8182, 'get json': 6611, 'sequence': 13975, 'gaps': 6459, 'use linq': 16450, 'linq group': 9060, 'posting': 11952, 'unchecked': 16150, 'checkboxes': 2460, 'checked unchecked': 2468, 'programatically': 12157, 'uiimage': 16064, 'uiview': 16096, 'winforms': 17617, 'add controls': 519, 'another thread': 900, 'free': 6301, 'c++ memory': 1984, '2013': 211, 'caching': 2020, 'older': 10861, 'studio 2013': 15070, 'js file': 8600, 'threejs': 15613, 'mesh': 9710, 'light': 8964, 'loads': 9239, 'extern': 5546, 'get image': 6598, 'image size': 7454, 'url javascript': 16384, 'uncheck': 16147, 'html checkbox': 7187, 'swing': 15232, 'popup': 11879, 'losing': 9367, 'java swing': 8251, 'popup window': 11881, 'losing focus': 9368, 'localstorage': 9266, 'change event': 2294, 'nodejs': 10525, 'nodejs error': 10527, 'error error': 5169, 'error find': 5178, 'find module': 5967, 'adding new': 591, 'div another': 4480, 'another one': 889, 'tell': 15434, 'rs': 13461, 'marks': 9557, 'still': 14813, 'vertical': 17149, 'tick marks': 15637, 'redirection': 12841, 'razor view': 12673, 'java script': 8232, 'script function': 13693, 'function without': 6425, 'extract': 5573, 'image dynamically': 7412, 'minus': 9846, 'sign': 14260, 'regex get': 12907, 'site': 14345, 'shows blank': 14248, 'blank screen': 1693, 'ie works': 7346, 'parsing json': 11312, 'json php': 8644, 'jar': 8106, 'jsp': 8678, 'call method': 2061, 'jar file': 8107, 'file jsp': 5792, 'mysql2': 10265, '187': 171, '106': 150, 'mysql2 gem': 10266, 'ruby 187': 13477, 'applied': 1047, 'operands': 11015, 'xcode': 17900, '7': 324, 'binary operator': 1653, 'operator applied': 11025, 'applied operands': 1048, 'operands type': 11016, 'string string': 14991, 'string swift': 14992, 'swift 2': 15219, 'xcode 7': 17904, 'randomly': 12646, 'variable names': 17061, 'apostrophe': 970, '# save': 76, 'changing': 2337, 'css': 3571, 'separately': 13967, 'changing css': 2340, 'dont': 4619, 'go': 6814, 'beyond': 1634, 'application spring': 1036, 'login page': 9307, 'gmail': 6807, 'contacts': 3164, 'oauth': 10700, 'using zend': 16805, 'framework using': 6298, 'using oauth': 16697, 'windowonload': 17574, 'ie7': 7350, 'minimum': 9843, 'maximum': 9624, 'minimum maximum': 9844, 'page dynamically': 11168, 'owner': 11144, 'get user': 6698, 'user name': 16515, 'hex': 7065, 'hex string': 7067, 'string byte': 14902, 'native': 10331, 'fixing': 6062, 'private': 12085, 'accessor': 443, 'trouble': 15840, 'patterns': 11441, 'matching multiple': 9584, 'ruby regex': 13492, 'wicket': 17527, 'bean': 1577, 'inmemory': 7673, 'info': 7628, 'could get': 3404, 'net object': 10418, 'object model': 10748, 'javalangoutofmemoryerror': 8296, 'heap': 7037, 'exception thread': 5391, 'thread main': 15597, 'javalangoutofmemoryerror java': 8297, 'java heap': 8188, 'heap space': 7041, 'complete': 2976, 'updated': 16328, 'run function': 13516, 'function load': 6388, 'tab': 15315, 'chat': 2396, 'simple php': 14292, 'java find': 8174, 'read file': 12702, 'file user': 5855, 'bring': 1800, 'human': 7289, 'readable': 12727, 'multi': 10050, 'simple way': 14295, 'human readable': 7290, 'multi line': 10052, 'jquery trigger': 8581, 'trigger click': 15830, 'vs function': 17279, 'nested views': 10399, 'declare': 4052, 'scripts': 13709, 'javalangclasscastexception': 8284, 'cast': 2198, 'combobox': 2884, 'dynamically change': 4793, 'auto complete': 1398, 'copy': 3353, 'allocated': 713, 'copy constructor': 3356, 'dynamically allocated': 4791, 'calling method': 2100, 'method object': 9767, 'moving': 10018, 'scroll': 13710, 'writing': 17854, 'masked': 9563, 'disk': 4407, 'png': 11811, 'core': 3371, 'net core': 10413, 'convert object': 3297, 'interest': 7906, 'postback': 11946, 'doesnt': 4579, 'javascript function': 8357, 'function doesnt': 6372, 'doesnt work': 4600, 'encrypt': 5026, 'html php': 7220, 'php javascript': 11610, 'iterate': 8078, 'lambda': 8796, 'iterate list': 8081, 'list object': 9122, 'lambda expressions': 8798, 'equation': 5111, 'mvc get': 10203, 'get latitude': 6616, 'batch': 1573, 'calls': 2110, 'multiple ajax': 10071, 'ajax calls': 661, 'x': 17876, 'seconds': 13770, 'x seconds': 17883, 'give': 6776, 'always': 758, 'false': 5649, 'always false': 759, 'join query': 8478, 'yii framework': 17992, 'html data': 7192, 'data website': 3840, 'wcf': 17388, 'enable button': 5004, 'input field': 7693, 'field empty': 5692, 'const': 3125, 'lpcwstr': 9381, 'const char': 3126, 'defined': 4099, 'ok': 10857, 'unicodeencodeerror': 16209, 'grant': 6878, 'malformed': 9483, 'azure': 1462, 'ad': 502, 'azure ad': 1463, 'pin': 11738, 'smtp': 14400, 'gmail smtp': 6809, 'pojos': 11846, 'request parameter': 13111, 'definition': 4107, 'call web': 2075, 'web service': 17417, 'cmd': 2722, 'jars': 8109, 'relative': 12948, 'mode': 9900, 'properly': 12205, 'safari': 13575, 'working properly': 17783, 'chrome safari': 2522, 'set current': 14106, 'time field': 15657, 'arrow': 1222, 'captcha': 2169, 'webbrowser': 17426, 'picturebox': 11726, 'webbrowser control': 17427, 'viewport': 17226, 'detect user': 4226, 'image inside': 7427, 'absolute': 368, 'addresses': 610, 'permitted': 11509, 'error creating': 5163, 'table mysql': 15344, 'limited': 8977, 'number records': 10663, 'nunit': 10697, 'private methods': 12091, 'javaioioexception': 8282, 'gui': 6946, 'good': 6824, 'java gui': 8186, 'anchor': 785, 'linking': 9047, 'page within': 11199, 'php windows': 11694, 'windows server': 17603, 'support': 15188, 'using java': 16646, 'adonet': 630, 'single value': 14336, 'value sql': 16953, 'swf': 15216, 'sandbox': 13587, 'error #': 5126, 'string conversion': 14917, 'subtract': 15144, 'time php': 15666, 'keeps': 8717, 'pointers': 11838, 'serialize object': 13993, 'objects c++': 10802, 'passing multiple': 11392, 'rails controller': 12583, 'arrays': 1208, 'using arrays': 16557, 'groupby': 6927, 'partial': 11326, 'pandas groupby': 11221, 'partial string': 11328, 'need create': 10362, 'create json': 3479, 'read write': 12724, 'write java': 17839, 'gray': 6889, 'overlay': 11126, 'uibutton': 16058, 'store array': 14836, 'array values': 1191, 'values single': 17018, 'single variable': 14337, 'knowing': 8783, 'reading csv': 12732, 'without knowing': 17672, 'sub': 15087, 'vectors': 17129, 'php server': 11663, 'uncaught': 16140, 'typeerror': 16016, 'uncaught typeerror': 16146, 'typeerror read': 16021, 'read property': 12716, 'fileusing': 5917, 'iis': 7375, 'cant find': 2135, 'types': 16028, 'incompatible types': 7565, 'probability': 12095, 'small': 14389, 'v': 16824, 'big': 1636, 'one big': 10882, 'big file': 1637, 'file http': 5780, 'http requests': 7263, 'color': 2809, 'change color': 2284, 'editable': 4862, 'associative': 1322, 'associative array': 1323, '# dictionary': 33, 'action': 463, 'route': 13396, 'attributes': 1374, 'api call': 942, 'controller action': 3233, 'action class': 464, 'smtp connect': 14401, 'connect failed': 3068, 'http post': 7259, 'keeping': 8715, 'creating new': 3528, 'new array': 10445, 'array contents': 1112, 'using user': 16784, 'user inputs': 16509, 'assembly': 1296, 'xaml': 17894, 'missing using': 9859, 'using directive': 16594, 'directive assembly': 4362, 'assembly reference': 1298, 'wpf xaml': 17823, 'events': 5325, 'powerpoint': 11962, 'designer': 4203, 'vsto': 17291, 'mouse events': 9994, 'pass value': 11367, 'value mysql': 16929, 'bound': 1765, 'sqldatasource': 14667, 'concat': 3009, 'result': 13231, 'query result': 12502, 'result string': 13234, 'executing': 5431, 'windowprint': 17577, 'function page': 6396, 'logger': 9296, 'variable java': 17054, 'clicking': 2667, 'hyperlink': 7293, 'open file': 10967, 'dates': 3972, 'comment': 2915, 'root': 13379, 'svg element': 15205, 'whole': 17522, 'python file': 12362, 'file doesnt': 5760, 'read whole': 12723, 'whole file': 17523, 'get variable': 6702, 'via php': 17170, 'php send': 11662, 'xcode 8': 17905, 'debugging': 4032, 'use google': 16441, 'google chrome': 6840, 'remote debugging': 12973, 'jquery ui': 8582, 'php parse': 11637, 'post data': 11928, 'scheduled': 13649, 'allow user': 721, 'insert html': 7737, 'html code': 7188, 'code without': 2761, 'special': 14518, 'replaced': 13072, 'special character': 14519, 'xls': 17914, 'webview': 17478, 'showing error': 14243, 'null calling': 10617, 'apply': 1049, 'realm': 12758, 'latest': 8860, 'inserted': 7756, 'get latest': 6615, 'categorical': 2219, 'features': 5670, 'uitableviewcontroller': 16092, 'nsdictionary': 10592, 'integer value': 7874, 'value nsdictionary': 16931, 'registration': 12927, 'error installing': 5188, 'zip': 18013, 'giving': 6789, 'output python': 11110, 'submit button': 15109, 'button action': 1861, 'mix': 9863, 'select jquery': 13821, 'working ios': 17776, 'break': 1792, 'line break': 8987, 'activity': 497, 'modules': 9953, 'requirejs': 13136, 'physical': 11718, 'overrides': 11137, 'configuration file': 3043, '40': 272, 'change windows': 2330, 'net 40': 10405, 'httpclient': 7269, 'work expected': 17739, 'alternative': 754, 'webapi': 17421, 'track': 15770, 'session using': 14091, 'keep track': 8714, 'xml file': 17929, 'pages': 11204, 'wordpress plugin': 17724, 'speed': 14575, 'automapper': 1420, 'mapping': 9533, 'automapper mapping': 1421, 'enum values': 5093, 'dbnull': 4010, 'invisible': 7973, 'ie9': 7353, 'bug': 1834, 'bootstrap 3': 1743, 'joda': 8469, 'joda datetime': 8470, 'json file': 8626, 'param': 11238, 'setting default': 14168, 'semantic': 13897, 'grammar': 6875, 'immediately': 7494, 'mailbox': 9423, 'pythonic': 12449, 'pythonic way': 12450, 'way handle': 17355, 'bool': 1725, 'elasticsearch': 4894, 'times': 15690, 'logging': 9297, 'custom file': 3670, 'magento': 9411, 'unit': 16225, 'unit testing': 16227, 'jackson': 8100, 'deserialization': 4191, 'jackson json': 8102, 'linked': 9038, 'remove elements': 12997, 'linked list': 9039, 'nsuserdefaults': 10611, 'starting': 14738, 'click link': 2657, 'open pdf': 10975, 'parent window': 11285, 'find element': 5948, 'parsing using': 11316, 'foreach': 6144, 'override': 11134, 'iterating': 8083, 'php foreach': 11589, 'array value': 1190, 'ifelse': 7357, 'change text': 2323, 'onclick change': 10869, 'thousand': 15588, 'separator': 13970, 'thousand separator': 15589, 'highcharts': 7113, 'sparse': 14514, 'empty values': 5000, 'preview': 12033, 'office': 10852, 'print preview': 12064, 'storyboard': 14863, 'button working': 1901, 'working inside': 17774, 'nonzero': 10562, 'check array': 2401, 'disappear': 4398, 'drag drop': 4669, 'one image': 10900, 'develop': 4241, 'groovy': 6920, 'pivot table': 11750, 'table java': 15340, 'java groovy': 8185, 'duplicates': 4745, 'else': 4953, 'remove duplicates': 12995, 'online': 10948, 'loading image': 9229, 'stored': 14848, 'procedure': 12108, 'firebird': 6013, 'pdo': 11467, 'call stored': 2071, 'stored procedure': 14853, 'php pdo': 11640, 'localhost': 9258, 'pictures': 11727, 'gif': 6769, 'jpeg': 8494, 'allow users': 722, 'datareader': 3911, 'locale': 9257, 'get substring': 6683, 'skip': 14363, 'calling class': 2092, 'class method': 2582, 'method class': 9746, 'class name': 2585, 'name variable': 10310, 'variable string': 17073, 'orderby': 11064, 'spark': 14512, 'direct': 4354, 'cygwin': 3715, 'possible run': 11917, 'php exec': 11582, 'performance': 11492, 'jsf': 8614, 'ids': 7337, 'mysql get': 10240, 'get data': 6565, 'data table': 3825, 'swapping': 15215, 'linkedlist': 9043, 'settimeout': 14163, 'fn': 6101, 'error parsing': 5216, 'http request': 7262, 'request header': 13104, 'tomcat 7': 15733, 'universal': 16235, 'serverside': 14042, 'accurate': 453, 'collision': 2806, 'detection': 4231, 'collision detection': 2807, 'load google': 9201, 'word': 17710, 'doc': 4556, 'word doc': 17712, 'plist': 11791, 'devise': 4255, 'rails devise': 12588, 'jfreechart': 8456, 'jpanel': 8492, 'generated': 6496, 'netbeans': 10423, '# aspnet': 11, 'way send': 17376, 'send xml': 13930, 'xml string': 17947, 'java sockets': 8242, 'level': 8933, 'app access': 972, 'instance method': 7831, 'method static': 9787, 'tkinter window': 15710, 'close button': 2702, 'letter': 8927, 'filter array': 5924, 'return value': 13296, 'yes': 17986, 'always return': 761, 'lazy': 8874, 'object creation': 10720, 'music': 10176, 'ipod': 8026, 'touch': 15761, 'pc': 11454, 'ipad iphone': 8016, 'styles': 15083, 'attached': 1343, 'hover': 7155, 'pseudo': 12268, 'firebug': 6014, 'debugger': 4031, 'chrome debugger': 2515, 'applicationproperties': 1045, 'production': 12137, 'google script': 6851, 'dealing': 4022, 'underlying': 16172, 'provider': 12260, 'failed open': 5636, 'internally': 7923, 'without refreshing': 17682, 'whole page': 17525, 'src': 14685, 'image src': 7459, 'change model': 2310, 'model changes': 9905, 'phpini': 11706, 'mockito': 9886, 'injecting': 7664, 'mock': 9882, 'null values': 10631, 'spring bean': 14604, 'textblock': 15548, 'margin': 9546, 'programmatically set': 12166, 'using nodejs': 16694, 'php application': 11551, 'linqtoentities': 9072, 'string datetime': 14924, 'way use': 17384, 'use custom': 16428, 'custom control': 3662, 'creator': 3532, 'qt creator': 12468, 'raphael': 12656, 'raphael js': 12657, 'unable create': 16114, 'alphabetic': 733, 'accent': 377, 'chart': 2389, 'every': 5330, 'iterations': 8086, 'every n': 5334, 'logic': 9299, 'unrecognized': 16269, 'error missing': 5203, 'plotting': 11800, 'monthly': 9982, 'ggplot': 6764, 'external': 5547, 'add external': 531, 'input value': 7722, 'value form': 16910, 'remaining': 12969, 'days': 3998, 'till': 15642, 'first day': 6032, 'date php': 3958, 'node': 10520, 'charts': 2395, 'graphs': 6887, 'something': 14457, 'something else': 14458, 'declares': 4059, 'multiple json': 10108, 'wrap': 17824, 'relation': 12943, 'exist': 5442, 'django custom': 4517, 'different': 4304, 'particular': 11333, 'load different': 9193, 'account': 449, 'alphabetical': 734, 'order': 11058, 'alphabetical order': 735, '30': 242, '30 seconds': 243, 'rdlc': 12679, 'rdlc report': 12680, 'web application': 17399, 'documents': 4575, 'whats best': 17501, 'way serialize': 17377, 'javascript objects': 8386, 'objects xml': 10818, 'python shell': 12426, 'shell script': 14205, 'stop': 14822, 'page loading': 11177, 'wrong': 17864, 'main javalangnoclassdeffounderror': 9431, 'command prompt': 2905, 'sql statement': 14655, 'uint32': 16072, 'unsigned': 16280, 'unsigned int': 16282, 'textview': 15573, 'im': 7389, 'double value': 4639, 'invoke': 7976, 'private method': 12090, 'method child': 9745, 'ionic': 7987, 'form validation': 6202, 'span': 14509, 'get next': 6631, 'error passing': 5217, 'passing 2d': 11381, 'char array': 2350, 'array function': 1128, 'threadsafe': 15610, 'aspnet mvc': 1273, 'controller view': 3245, 'view using': 17212, 'started': 14737, 'stack': 14700, 'get started': 6681, 'mean stack': 9643, 'python script': 12421, 'sum': 15169, 'passing argument': 11382, 'access nested': 408, 'nested elements': 10384, 'object using': 10775, 'happens': 6993, 'waiting': 17300, 'd3js': 3721, 'sibling': 14253, 'insert new': 7743, 'self': 13892, 'get php': 6644, 'get variables': 6703, 'triggered': 15835, 'event triggered': 5318, 'socket programming': 14433, 'aurelia': 1382, 'datatables': 3925, 'external js': 5555, 'import error': 7521, 'dependency': 4161, 'injection': 7665, 'inject': 7662, 'dependency injection': 4162, 'transactions': 15781, 'multiple threads': 10148, 'opengl': 10995, 'alpha': 730, 'function parameters': 6398, 'migrate': 9825, 'existing': 5447, 'cms': 2725, 'like': 8967, 'neither': 10375, 'encoding problem': 5020, 'queries': 12484, 'database connection': 3851, 'smooth': 14394, 'uitextview': 16094, 'bottom': 1762, 'auto scroll': 1406, 'scroll bottom': 13713, 'mongodb': 9964, 'get class': 6552, 'name without': 10311, 'instance class': 7830, 'class php': 2594, 'passportjs': 11405, 'username': 16530, 'username password': 16532, 'selection': 13875, 'drop menu': 4700, 'tests': 15489, 'idea': 7320, '13': 161, 'play framework': 11776, 'framework 2': 6282, 'unit tests': 16228, 'intellij idea': 7894, 'recursively': 12816, 'python split': 12429, 'exceptions java': 5398, 'modify': 9941, 'want': 17304, 'pdfs': 11466, 'create multiple': 3482, 'loop using': 9360, 'phpunit': 11713, 'coverage': 3436, 'corrupted': 3388, 'segmentation': 13793, 'fault': 5666, '11': 153, 'code coverage': 2741, 'segmentation fault': 13794, 'hashmap': 7012, 'using string': 16766, 'hashmap java': 7013, 'jstl': 8689, 'entry': 5085, 'index variable': 7598, 'foreach loop': 6145, 'mysql_query': 10271, 'mysql_fetch_array': 10269, 'get result': 6662, 'chart using': 2392, 'modal popup': 9896, 'click button': 2647, 'download image': 4650, 'image format': 7419, 'cluster': 2719, 'numpy': 10690, '2d numpy': 231, 'numpy array': 10691, 'ninject': 10516, 'identity': 7329, 'data another': 3735, 'datagridview vbnet': 3906, 'defer': 4092, 'reader': 12728, 'installed': 7820, 'easiest': 4824, 'consumer': 3159, 'webservice': 17458, 'whats easiest': 17503, 'easiest way': 4825, 'font color': 6128, 'excel java': 5368, 'selected text': 13860, 'text color': 15502, 'traversal': 15804, 'iterative': 8087, 'get enum': 6578, 'values list': 17008, 'list string': 9129, 'java 8': 8122, 'templates': 15452, 'polymorphism': 11856, 'c++ templates': 2004, 'immediate': 7493, 'mvc3': 10214, 'async': 1327, 'handled': 6976, 'async task': 1333, 'modal form': 9894, 'linq sql': 9069, 'java variable': 8264, 'python program': 12408, 'program run': 12152, 'python c': 12341, 'stop thread': 14825, 'fatal': 5663, 'nonobject': 10555, 'fatal error': 5664, 'error call': 5146, 'call member': 2060, 'member function': 9663, 'php file': 11586, 'jtextfield': 8692, 'something like': 14459, 'assertion': 1300, 'opencv python': 10990, 'python error': 12360, 'assertion failed': 1301, 'display one': 4438, 'one div': 10891, 'calculate time': 2037, 'time difference': 15652, 'strings javascript': 15020, 'set background': 14101, 'background color': 1481, 'share': 14186, 'file remote': 5825, 'network share': 10435, 'id': 7308, 'rails3': 12617, 'jquery autocomplete': 8507, 'passing values': 11402, 'values dynamically': 16994, 'created textboxes': 3507, 'jdk': 8448, 'android studio': 819, 'studio gradle': 15077, 'fragment': 6273, 'activemq': 487, 'stops': 14830, 'mysqlsock': 10280, 'recognize': 12779, 'mamp': 9485, 'mysql using': 10264, 'circular': 2533, 'references': 12876, 'warnings': 17319, 'caused': 2225, 'forward': 6259, 'declarations': 4051, 'object c': 10714, 'digits': 4345, 'places': 11762, 'sum digits': 15172, 'even odd': 5292, 'functioninside': 6432, 'another function': 882, 'infinite': 7621, 'getter': 6725, 'setter': 14160, 'infinite loop': 7622, 'getter setter': 6726, 'uitableview': 16085, 'past': 11415, 'uitableview scroll': 16087, 'relational': 12944, 'procedures': 12111, 'insert update': 7753, 'stored procedures': 14854, 'angular js': 832, 'practice': 11967, 'libraries': 8942, 'css files': 3578, 'initialise': 7644, 'class object': 2587, 'object name': 10750, 'servlet': 14067, 'href link': 7166, 'parse csv': 11292, 'row number': 13429, '__getitem__': 346, 'list list': 9119, 'selenium': 13883, 'solution': 14447, 'pop': 11863, 'dialogs': 4269, 'internet': 7926, 'explorer': 5500, 'internet explorer': 7928, 'cache': 2018, 'arrayadapter': 1198, 'pushing': 12301, 'mysql data': 10232, 'data javascript': 3777, 'javascript php': 8392, 'appengine': 1008, 'bot': 1760, 'crawler': 3450, 'web crawler': 17404, 'abstract': 372, 'interface abstract': 7908, 'abstract class': 374, 'freeze': 6305, 'feature': 5669, 'store data': 14837, 'shouldnt': 14221, 'functions': 6433, 'scikit': 13658, 'learn': 8893, 'dummy': 4732, 'scikit learn': 13659, 'grouped': 6928, 'data pandas': 3795, 'pandas dataframe': 11220, 'load image': 9203, 'static method': 14777, 'carray': 2181, 'header file': 7024, 'unicode': 16203, 'equivalents': 5118, 'convert character': 3270, 'openid': 10999, 'returns null': 13336, 'pure': 12288, 'virtual': 17235, 'inline': 7668, 'pure virtual': 12291, 'virtual function': 17238, 'bundle': 1852, 'strange': 14869, 'call undefined': 2072, 'use object': 16458, 'array php': 1166, 'supporting': 15194, 'crashes': 3447, 'splash screen': 14582, 'app crashes': 977, 'detect first': 4223, 'make python': 9465, 'python 3x': 12337, 'web browser': 17403, 'accordion': 448, 'activate': 476, 'links': 9049, 'jquery accordion': 8501, 'delete': 4120, 'delete multiple': 4129, 'multiple rows': 10131, 'rows table': 13456, 'affect': 644, '64': 320, 'python string': 12431, 'string comparison': 14911, 'running django': 13540, 'project without': 12192, 'upgrade': 16336, 'reload': 12961, 'backing': 1493, '20': 196, 'best practice': 1624, 'jsf 20': 8616, 'file load': 5797, 'load error': 9196, 'error running': 5227, 'xml validation': 17951, 'attr': 1354, 'triggering': 15836, 'mouseover': 10002, 'mouseover event': 10003, 'instruction': 7849, 'object type': 10773, 'values another': 16977, 'matrix r': 9600, 'allow access': 718, 'access php': 411, 'file another': 5726, 'another php': 891, 'direct url': 4356, 'global static': 6799, 'static variables': 14781, 'variables c++': 17083, 'get type': 6695, 'property name': 12224, 'reduce': 12846, 'lag': 8795, 'painting': 11211, 'filename': 5877, 'html link': 7214, 'occurrence': 10838, 'python regex': 12412, 'last occurrence': 8851, 'optimizing': 11039, 'garbage': 6460, 'garbage collection': 6461, 'uialertview': 16055, 'buttons': 1904, 'subviews': 15151, 'ios 7': 7993, 'executable jar': 5411, 'suggestions': 15165, 'library c': 8945, 'scale': 13630, 'real': 12751, 'datepicker': 3970, 'ui datepicker': 16048, 'date range': 3960, 'slicing': 14375, 'characters string': 2378, 'string without': 15006, 'scrolling': 13726, 'zooming': 18023, 'timeouts': 15684, 'arithmetic': 1090, 'eval function': 5285, 'function work': 6427, 'work php': 17745, 'reflection': 12884, 'java reflection': 8222, 'set value': 14149, 'modified': 9938, 'last modified': 8848, 'feed': 5672, 'javascript sdk': 8404, 'itemssource': 8075, 'wpf combobox': 17807, 'pass list': 11354, 'parameter using': 11254, 'using post': 16721, 'post method': 11936, 'done': 4617, 'ways': 17387, 'happen': 6991, 'servlets': 14073, 'possible ways': 11921, 'memory leaks': 9684, 'using jsp': 16659, 'jsp servlets': 8687, 'sometimes': 14462, 'javascript dom': 8344, 'end input': 5038, 'transactional': 15780, 'file writing': 5865, 'multithreading': 10174, 'would': 17796, 'threading': 15604, 'mutually': 10187, 'independent': 7584, 'tasks': 15414, 'multi threading': 10055, 'different threads': 4330, 'dropdown menu': 4708, 'get maximum': 6624, 'maximum size': 9629, 'part': 11318, 'select specific': 13834, 'specific part': 14551, 'part array': 11319, 'array two': 1184, 'two arrays': 15910, 'advantages': 637, 'send email': 13906, 'email php': 4969, 'specified time': 14569, 'distributed': 4476, 'random numbers': 12639, 'disable': 4381, 'math': 9587, 'object java': 10739, '35': 258, 'python socket': 12427, 'socket error': 14432, 'subprocesscall': 15125, 'crontab': 3544, 'aws': 1450, 'python use': 12439, 'performing': 11497, 'multiple database': 10086, 'databinding': 3881, 'variable c': 17040, 'wpf application': 17804, 'application working': 1042, 'drawing': 4681, 'room': 13378, 'c++ opengl': 1986, 'executing python': 5435, 'alphanumeric': 738, 'dot': 4627, 'regex allow': 12902, 'method parameters': 9772, 'nsdate': 10590, 'convert date': 3274, 'chars': 2386, 'u': 16035, 'opening': 11000, 'form multiple': 6184, 'multiple times': 10149, 'merge two': 9705, 'two images': 15932, 'show image': 14233, 'image control': 7407, 'downloading': 4660, 'rather': 12663, 'displaying': 4456, 'base': 1521, 'encoded': 5014, 'base 64': 1523, 'actually': 501, 'pk': 11755, 'column value': 2856, 'value dropdown': 16899, 'id value': 7318, 'value database': 16892, 'clean': 2630, 'value select': 16949, 'page refresh': 11188, 'hql': 7162, 'return object': 13286, 'stdmap': 14802, 'catch exception': 2214, 'integrating': 7885, 'extensions': 5545, 'temporary': 15457, 'file pdf': 5815, 'extension php': 5543, 'replace text': 13069, 'text using': 15536, 'distinguish': 4475, '200': 197, 'java date': 8159, 'ienumerablet': 7355, 'optimized': 11038, 'min': 9835, 'queue': 12524, 'consolelog': 3122, 'sync': 15257, 'scraping': 13671, 'onclick using': 10873, 'object must': 10749, 'spring mvc': 14618, 'umbraco': 16106, 'template error': 15442, 'nonexistent': 10548, 'error python': 5219, 'desktop': 4206, 'frameworks': 6299, 'web apps': 17401, 'fade': 5618, 'fade fade': 5619, 'specific class': 14528, 'class id': 2568, 'importing': 7534, 'update database': 16301, 'spec': 14517, 'war': 17312, 'uses': 16540, 'version java': 17140, 'war file': 17313, 'javascript files': 8353, 'run one': 13524, 'one another': 10879, 'pdf using': 11464, 'erlang': 5121, 'controllers': 3246, 'cant access': 2123, 'access parent': 410, 'view controllers': 17198, '1 2': 133, 'pdf files': 11459, 'w': 17295, 'always visible': 765, 'jscrollpane': 8612, 'stdthread': 14806, 'sleep': 14371, 'submit html': 15112, 'html form': 7204, 'custom validation': 3699, 'one record': 10921, 'finding': 5998, 'converting': 3328, 'text file': 15511, 'file json': 5791, 'json format': 8628, 'format using': 6233, 'open new': 10973, 'new window': 10475, 'child elements': 2488, 'file upload': 5847, 'jquery function': 8537, 'function multiple': 6390, 'multiple elements': 10089, 'command using': 2907, 'using c++': 16567, 'according': 446, 'culture': 3608, 'first value': 6046, 'cast double': 2199, 'double int': 4635, 'int value': 7863, 'suppressing': 15198, 'warning': 17316, 'data type': 3829, 'retrieve': 13249, 'retrieve data': 13250, 'database display': 3855, 'text fields': 15510, 'fields using': 5714, 'using jdbc': 16650, 'jdbc connection': 8444, 'html page': 7216, 'page button': 11162, 'php +': 11538, '+ sql': 119, 'photos': 11536, 'fan': 5651, 'ios sdk': 8002, 'reactjs': 12693, 'immutable': 7495, 'empty array': 4983, 'carrierwave': 2184, 'rails +': 12568, 'middle': 9821, 'surrounded': 15202, 'convert integer': 3286, 'c library': 1932, 'stay': 14794, 'php replace': 11653, 'would use': 17799, 'use javascript': 16448, 'retrieve text': 13254, 'env': 5097, '32bit': 255, '64bit': 322, 'python code': 12346, 'child class': 2485, 'class objects': 2588, 'arent': 1068, 'phonegap': 11529, 'inside iframe': 7785, 'javascript detect': 8341, 'ajax requests': 680, 'uicollectionview': 16060, 'selenium java': 13887, 'java code': 8145, 'unwanted': 16296, 'remove unwanted': 13023, '0s': 128, 'diagonally': 4261, 'becomes': 1593, 'really': 12756, 'slow': 14384, 'lot': 9371, 'really slow': 12757, '404': 279, 'return custom': 13271, 'custom 404': 3653, '404 error': 280, 'error resource': 5225, 'resource found': 13175, 'django rest': 4536, 'rest framework': 13207, 'usercontrol': 16526, 'masterpage': 9569, 'unused': 16294, 'json_decode': 8665, 'nothing': 10576, 'returns nothing': 13335, 'produce': 12128, 'plots': 11798, 'chunk': 2525, 'knitr': 8777, 'webdriver': 17432, 'selenium webdriver': 13890, 'pipe': 11743, 'proper way': 12204, 'cookie': 3344, 'unable read': 16127, 'first time': 6044, 'time javascript': 15661, 'life': 8960, 'variables rails': 17096, 'selected row': 13858, 'mvc 3': 10190, 'declaration': 4049, 'set multiple': 14133, 'local variables': 9255, 'variables value': 17099, 'malloc': 9484, 'alignment': 708, 'calling function': 2095, 'symbol': 15245, 'find symbol': 5986, 'occurrences': 10840, 'php count': 11565, 'object property': 10760, 'computed': 3004, 'multiple inheritance': 10100, 'jre': 8593, 'supported': 15192, 'unless': 16248, 'data source': 3817, 'acting': 462, 'crazy': 3452, 'gsub': 6936, 'dd': 4012, 'mysqldb': 10274, 'python mysql': 12396, 'yyyymmdd': 18004, 'convert int': 3285, 'actual': 500, 'td': 15425, 'get actual': 6537, 'appending': 1007, 'elements two': 4942, 'arrays c': 1209, 'tutorials': 15890, 'learning': 8895, 'resources': 13179, 'valid': 16832, 'opencl': 10985, 'builds': 1843, 'failing': 5641, 'os x': 11081, 'arguments': 1081, 'declare variable': 4055, 'variable number': 17062, 'call_user_func': 2077, 'typeerror call': 16017, 'emberjs': 4980, 'redirect working': 12836, 'declaring': 4061, 'global variables': 6801, 'interpreter': 7934, 'undefined variable': 16170, 'hard': 6994, 'drive': 4688, 'makes': 9478, 'turn': 15885, 'pitch': 11748, 'black': 1685, 'responsive': 13202, 'wpf image': 17815, 'image image': 7426, 'hard drive': 6995, 'use c': 16424, 'onmouseover': 10951, 'dump': 4733, 'jpeg image': 8495, 'node js': 10521, 'prepare': 11995, 'function prepare': 6402, 'documentcreateelement': 4572, 'struts2': 15059, 'struts2 action': 15060, 'mocking': 9885, 'nhibernate': 10509, 'profile': 12141, 'removing': 13030, 'list php': 9125, 'four': 6272, 'columns datatable': 2862, 'increase': 7573, 'tableview': 15366, 'tableview cell': 15367, 'together': 15720, 'printing string': 12078, 'array index': 1136, 'tabitem': 15324, 'logs': 9320, 'working correctly': 17764, 'worked': 17752, 'wamp': 17302, 'using command': 16579, 'command line': 2902, 'custom view': 3700, 'docx': 4578, 'folder file': 6109, 'doc docx': 4557, 'tree view': 15816, 'call php': 2065, 'file via': 5858, 'via ajax': 17154, 'ajax working': 687, 'sending email': 13934, 'email using': 4970, 'using phpmailer': 16716, 'social': 14426, 'ngrepeat': 10506, 'splice': 14583, 'returns error': 13331, 'might': 9824, 'fail': 5623, 'subtract two': 15145, 'two dates': 15921, 'results': 13238, 'get javascript': 6609, 'results using': 13241, 'using selenium': 16749, 'closest': 2709, 'value set': 16951, 'using class': 16572, 'series': 13999, 'get value': 6700, 'value c': 16879, 'broken': 1803, 'chrome browser': 2513, 'bubble': 1824, 'manipulate': 9498, 'cross': 3548, 'windowopen': 17575, 'cross domain': 3550, 'wheel': 17509, 'openlayers': 11005, 'stops working': 14831, 'endpoints': 5048, 'conflicting': 3057, 'previous': 12035, 'conflicting types': 3058, 'previous declaration': 12037, 'declaration function': 4050, 'remotely': 12981, 'start application': 14729, 'call external': 2055, 'external javascript': 5554, 'function inside': 6384, 'inside php': 7795, 'slice': 14373, 'php array': 11552, 'remove rows': 13015, 'rows dataframe': 13446, 'dataframe r': 3889, 'mysqli': 10275, 'radgrid': 12560, 'value row': 16948, 'double click': 4633, 'href links': 7167, 'links using': 9050, 'php page': 11636, 'table data': 15334, 'deleted': 4138, 'error object': 5208, 'document': 4566, 'javascript loop': 8376, 'displays': 4463, 'twitter bootstrap': 15901, 'word document': 17713, 'conversion using': 3260, 'ends': 5049, 'repeating': 13056, 'try': 15853, 'try catch': 15855, 'detached': 4216, 'posix': 11905, 'javamail': 8305, 'error must': 5206, 'phps': 11710, 'plugins': 11806, 'html javascript': 7211, 'add button': 514, 'news': 10485, 'using google': 16622, 'api 2': 938, 'asks': 1246, 'sudo': 15160, 'rvm install': 13568, 'cloud': 2715, 'datastore': 3918, 'google cloud': 6841, 'arrays objects': 1218, 'delete rows': 4134, 'appium': 1009, 'desired': 4205, 'launching': 8869, 'navigate': 10343, 'android application': 793, 'identifier': 7323, 'consume': 3157, 'json xml': 8664, 'rails ruby': 12608, 'per': 11479, 'jvm': 8704, 'one instance': 10901, 'working ie9': 17772, 'upon': 16368, 'reloading': 12965, 'refreshing page': 12895, 'page multiple': 11180, 'phantomjs': 11521, 'generate pdf': 6491, 'pdf image': 11462, 'using phantomjs': 16712, 'wall': 17301, 'change order': 2313, 'local variable': 9254, 'reservation': 13142, 'available': 1440, 'import json': 7524, 'json url': 8658, 'url java': 16383, 'using jackson': 16645, 'scroll top': 13719, 'c++ convert': 1961, 'string hex': 14943, 'tbody': 15415, 'region': 12923, 'marionette': 9548, 'html tables': 7225, 'time series': 15669, 'attribute error': 1361, 'resolving': 13168, 'certification': 2269, 'unable find': 16117, 'unittest': 16229, 'exception using': 5396, 'using generics': 16616, 'items': 8067, 'removing items': 13034, 'accuracy': 452, 'msi': 10040, 'installer': 7822, 'editing': 4864, 'storyboards': 14864, 'looping': 9362, 'makefile': 9476, 'php scripts': 11658, 'submitting': 15118, 'previous page': 12040, 'submitting form': 15119, 'form php': 6188, 'ipython': 8029, 'multiple parameters': 10122, 'panels': 11228, 'dollar': 4602, 'amount': 772, 'confusion': 3063, 'redirect_uri': 12838, 'oauth 20': 10701, 'reading xml': 12746, 'file iphone': 5786, 'dropbox': 4704, 'apply css': 1050, 'css javascript': 3581, 'threw': 15614, 'javax': 8432, 'servletcontext': 14072, 'threw exception': 15615, 'nested exception': 10386, 'javalangnoclassdeffounderror javax': 8290, 'shortcut': 14216, 'model classes': 9907, 'directory structure': 4376, 'gd': 6474, 'gd library': 6475, 'library php': 8952, 'keypress': 8754, 'clear textbox': 2639, 'keypress event': 8755, 'stdstring': 14805, 'memory allocated': 9677, 'get method': 6626, 'comparing': 2941, 'arraylists': 1206, 'comparing two': 2944, 'two arraylists': 15909, 'rotate': 13386, 'repeated': 13052, 'extended': 5536, 'protobuf': 12248, 'python lists': 12383, 'image python': 7448, 'containing': 3172, 'faster way': 5660, 'shown': 14246, 'dynamically javascript': 4801, 'two files': 15928, 'toolkit': 15742, 'chart control': 2391, 'precision': 11975, 'getting json': 6745, 'format data': 6218, 'data external': 3761, 'external website': 5564, 'training': 15776, '16bit': 168, 'return json': 13279, 'json ruby': 8651, 'android socket': 817, 'socket connection': 14431, 'connection failed': 3091, 'jtable': 8690, 'border': 1755, 'appear': 995, 'doesnt appear': 4580, 'nested functions': 10388, 'urls': 16406, 'html document': 7194, 'wait': 17297, 'typing': 16033, 'textbox control': 15552, 'wait till': 17299, 'power': 11961, 'getdata': 6716, 'mandatory': 9495, 'interface java': 7912, 'number columns': 10643, 'onclientclick': 10876, 'preventing': 12031, 'validation working': 16863, 'safe': 13576, 'thread safe': 15600, 'maven': 9605, 'get source': 6677, 'maven repository': 9613, 'class another': 2544, 'another directory': 874, 'git': 6772, 'push': 12294, 'heroku': 7062, 'related': 12940, 'php header': 11600, 'header location': 7028, 'signalr': 14264, 'hub': 7287, 'net code': 10411, 'negative': 10370, 'work python': 17747, 'active': 479, 'navigation': 10345, 'dispose': 4464, 'streamreader': 14883, 'streamwriter': 14885, 'backgroundimage': 1490, 'depending': 4167, 'month year': 9981, 'possible declare': 11912, 'timestamp': 15693, 'photo': 11534, 'puzzle': 12309, 'nullpointerexception': 10635, 'managing': 9494, 'primefaces': 12051, 'advantage': 635, 'jquery add': 8502, 'add file': 534, 'file type': 5845, 'conform': 3060, '1d': 175, 'figure': 5717, 'represent': 13090, '1d array': 176, 'repeater': 13054, 'client java': 2679, 'java web': 8268, 'show message': 14236, 'page login': 11179, 'jpa2': 8491, 'persisting': 11516, 'onetoone': 10945, 'bidirectional': 1635, 'shadow': 14182, 'lock': 9279, 'taking': 15398, 'taking much': 15400, 'cpu usage': 3443, 'codeblocks': 2764, 'ide': 7319, 'headers': 7032, 'lowercase': 9377, 'python make': 12387, 'dataframe column': 3886, 'column headers': 2843, 'form application': 6162, 'change form': 2298, 'signal': 14261, 'unlock': 16251, 'change image': 2304, 'java mail': 8198, 'mail api': 9417, '# convert': 22, 'mvc pattern': 10206, 'key event': 8733, 'gems': 6483, 'jsoup': 8677, 'using jsoup': 16658, 'without submit': 17692, 'button name': 1884, 'jquery load': 8549, 'django template': 4539, 'emacs': 4958, '15': 165, 'xxx': 17974, '2015': 212, 'date string': 3962, 'custom event': 3665, '45': 291, 'registry': 12928, 'net framework': 10416, 'notnull': 10586, 'transient': 15790, 'compress': 2998, 'killed': 8770, 'bundle install': 1853, 'sharepoint': 14194, 'modal dialog': 9893, 'dialog popup': 4267, 'save xml': 13608, 'cancel': 2117, '302': 245, 'downloads': 4665, 'class swift': 2601, 'primary': 12045, 'primary key': 12046, 'current value': 3642, 'value textarea': 16959, 'multimodule': 10064, 'setup': 14173, 'swt': 15243, 'java swt': 8253, 'image resize': 7449, 'jsp javascript': 8683, 'javascript onclick': 8387, '# static': 81, 'release': 12953, 'draggable': 4670, 'calling javascript': 2098, 'values selected': 17016, 'selected checkbox': 13848, 'restcontroller': 13214, 'itext': 8090, 'using itext': 16643, 'pdf document': 11457, 'document using': 4570, 'bounce': 1764, 'two text': 15950, 'builtin': 1846, 'nested json': 10390, 'fixed size': 6060, 'pass json': 11353, 'function php': 6399, 'pool': 11860, 'throwing': 15621, 'sqlexception': 14668, 'connection pool': 3094, 'throwing instance': 15624, 'ienumerable': 7354, 'make class': 9448, 'db': 4001, 'c error': 1926, 'set focus': 14119, 'focus textbox': 6104, 'mvvm': 10219, 'linqtosql': 9073, 'silverlight': 14275, 'modifying': 9943, 'datasource': 3916, 'new row': 10464, 'silverlight datagrid': 14276, 'apis': 967, 'front': 6318, 'rest apis': 13205, 'front end': 6319, 'vs php': 17283, 'picture': 11724, 'trim': 15838, 'spaces': 14504, 'data base': 3742, 'data using': 3834, 'write function': 17838, 'words string': 17730, 'display mysql': 4434, 'type php': 16000, 'members': 9669, 'colon': 2808, 'simplexml': 14301, 'coffeescript': 2787, 'youre': 17995, 'developing': 4246, '53': 311, 'eg': 4883, 'customer': 3702, 'laravel 53': 8812, 'using multiple': 16682, 'constants': 3135, 'annotations': 858, 'use string': 16476, 'schedule': 13648, 'specific time': 14560, 'ms': 10032, 'ms access': 10033, 'access table': 420, 'table c': 15328, 'uirouter': 16076, 'states': 14756, 'angularjs uirouter': 848, 'workbook': 17751, 'excel workbook': 5373, 'maximum number': 9627, 'number integer': 10651, 'array c++': 1106, 'jquery find': 8534, 'find size': 5979, 'size array': 14352, 'array objects': 1163, 'ignores': 7373, 'time date': 15648, 'validating': 16847, 'boolean value': 1729, 'rspec rails': 13466, 'date field': 3943, 'field using': 5702, 'button jquery': 1882, 'postfix': 11948, 'increment': 7575, 'cell selection': 2242, 'paths': 11434, 'file paths': 5814, 'xy': 17976, 'variable c++': 17041, 'args': 1070, 'fields value': 5715, 'value view': 16969, 'view template': 17211, 'capture': 2171, 'local function': 9245, 'htmlactionlink': 7242, 'within aspnet': 17630, 'toolbar': 15740, 'incoming': 7561, 'aspx': 1292, 'behind': 1607, 'aspx page': 1293, 'code behind': 2736, 'whether': 17512, 'test whether': 15483, 'function called': 6358, 'inside another': 7767, 'macros': 9408, 'createfile': 3510, 'across': 458, 'know': 8781, 'successful': 15156, 'bytes': 1918, 'converting int': 3335, 'python 3': 12332, 'refactoring': 12852, 'test java': 15478, 'chunked': 2526, 'memorystream': 9692, 'capitalize': 2167, 'efficiently': 4882, 'letter string': 8928, 'bigo': 1643, 'clarification': 2540, 'freezes': 6306, 'couple': 3433, 'minutes': 9848, 'java program': 8216, 'treat': 15808, 'wchar_t': 17394, 'interop': 7929, 'div elements': 4489, 'underscorejs': 16176, 'isnt': 8032, 'escaping': 5276, 'way check': 17332, 'check integer': 2417, 'convert decimal': 3276, 'decimal number': 4036, '1204': 158, 'ubuntu 1204': 16038, 'guava': 6941, 'block': 1705, 'multiple different': 10087, 'different types': 4332, 'exception handling': 5384, 'catch block': 2211, 'sending sms': 13946, 'windows app': 17584, 'htmlagilitypack': 7243, 'extracting': 5580, 'xpath query': 17967, 'unable access': 16109, 'promise': 12195, 'input javascript': 7702, 'javascript css': 8339, 'sorted': 14480, 'indexed': 7599, 'java data': 8158, 'data structure': 3823, 'change css': 2287, 'callback functions': 2082, 'ios swift': 8004, 'div height': 4491, 'view model': 17204, 'named': 10312, 'capturing': 2175, 'supports': 15195, 'platforms': 11772, 'install error': 7811, 'using list': 16666, '# dynamically': 37, 'dynamically add': 4787, 'add event': 530, 'table without': 15359, 'without creating': 17659, 'c++ equivalent': 1964, 'scatterplot': 13642, 'unfortunately': 16194, 'stopped': 14827, 'emulator': 5002, 'stopped working': 14828, 'working android': 17759, 'android emulator': 801, 'possible use': 11920, 'transparent': 15799, 'transparent background': 15800, 'finally': 5935, 'websphere': 17473, 'error adding': 5135, 'evaluate': 5286, 'specific attribute': 14523, 'batch file': 1574, 'haml': 6966, 'link_to': 9035, 'helper': 7058, 'get related': 6658, '__dopostback': 344, 'work chrome': 17736, 'equality': 5107, 'design': 4199, 'two objects': 15941, 'viewmodel': 17223, 'first letter': 6036, 'strings array': 15016, 'javascript access': 8312, 'parent object': 11282, 'opposed': 11032, 'convert c': 3268, 'activerecord': 488, 'clients': 2688, 'fork': 6155, 'server multiple': 14025, 'multiple clients': 10080, 'free memory': 6302, 'two data': 15916, 'dropdown list': 4707, 'list box': 9089, 'refer': 12853, 'creating multiple': 3527, 'multiple objects': 10119, 'objects class': 10803, 'option': 11040, 'app without': 990, 'value null': 16932, 'null parameter': 10626, 'parameter name': 11249, 'advantages disadvantages': 638, 'everything': 5341, 'cucumber': 3606, 'steps': 14811, 'scenario': 13643, 'openssl': 11010, 'private key': 12088, 'set default': 14111, 'button html': 1876, 'html elements': 7199, 'elements jquery': 4939, 'jquery plugin': 8562, 'mysql query': 10251, 'within another': 17628, 'loop php': 9358, 'change variable': 2328, 'variable type': 17074, 'type c': 15971, 'print contents': 12059, 'contents html': 3201, 'object tag': 10772, 'tag javascript': 15376, 'mongo': 9961, 'building': 1842, 'mongo db': 9962, 'php 53': 11540, 'python check': 12344, 'footer': 6135, 'format string': 6230, 'xml element': 17926, 'element attribute': 4902, 'content using': 3193, 'using jaxb': 16649, 'class loading': 2579, 'junk': 8701, 'xml parsing': 17941, 'parsing error': 11309, 'underneath': 16174, 'udp': 16040, 'buffer size': 1829, 'beautifulsoup': 1591, 'findall': 5995, 'python beautifulsoup': 12339, 'different results': 4325, 'ui autocomplete': 16046, 'trying use': 15877, 'add row': 559, 'row table': 13434, 'generating': 6501, 'wmi': 17700, 'base class': 1524, 'class c': 2549, 'shift': 14207, 'ctrl': 3604, 'alt': 750, 'mouse event': 9993, 'rows data': 13444, 'paper': 11230, 'paper size': 11231, 'set correctly': 14104, 'posted': 11947, 'package': 11149, 'couldnt': 3414, 'expand': 5466, 'c++ library': 1979, 'library xcode': 8957, 'synchronization': 15259, 'java thread': 8257, 'thread synchronization': 15602, 'web app': 17398, 'jekyll': 8449, 'serve': 14002, 'implicit': 7511, 'implicit conversion': 7512, 'checkmark': 2478, 'select one': 13826, 'pause': 11442, 'equal': 5106, 'save list': 13600, 'binary file': 1649, 'return data': 13272, 'data controller': 3750, 'controller method': 3238, 'folder structure': 6116, 'arbitrary': 1059, 'matches': 9580, 'every x': 5340, 'file download': 5761, 'android sqlite': 818, 'django view': 4544, 'eager': 4815, 'lib': 8939, 'eager loading': 4817, 'serial port': 13982, 'net c': 10410, 'following': 6123, 'draw line': 4675, 'communicate': 2922, 'linq queries': 9066, 'sql server': 14654, 's3': 13572, 'folders': 6118, 'bucket': 1826, 'aws s3': 1452, 'hot': 7151, 'converting xml': 3342, 'server table': 14035, '# method': 59, 'python gui': 12372, 'extends': 5539, 'runtimeexception': 13564, 'user defined': 16503, 'defined class': 4100, 'class extends': 2561, 'create wpf': 3504, 'wpf controls': 17809, 'background thread': 1487, 'creating simple': 3530, 'static library': 14775, 'library project': 8953, 'dll project': 4552, 'parsing string': 11314, 'write text': 17849, 'text text': 15532, 'two lists': 15938, 'php redirect': 11649, 'working using': 17787, 'form action': 6158, 'look': 9340, 'crystal': 3561, 'reports': 13085, 'crystal reports': 3563, 'calling external': 2094, 'login form': 9306, 'unicodedecodeerror': 16208, 'ascii': 1234, 'ordinal': 11068, '128': 160, 'ascii codec': 1238, 'ordinal range': 11069, 'range 128': 12649, 'encodeuricomponent': 5017, 'encode': 5011, 'single quotes': 14331, 'age': 650, '24': 218, 'str': 14865, 'simplest': 14299, 'simplest way': 14300, 'way add': 17329, 'credentials': 3533, '220': 216, 'twitter api': 15900, 'access resource': 416, 'error code': 5153, 'access variable': 426, 'inside function': 7781, 'function javascript': 6386, 'mouseenter': 9999, 'scanner': 13636, 'line using': 9007, 'using scanner': 16746, 'mq': 10031, 'websphere mq': 17475, 'warning message': 17318, 'much memory': 10046, 'multiple php': 10123, 'months': 9983, 'creates': 3511, 'foreign': 6149, 'foreign key': 6150, 'key constraint': 8729, 'integer values': 7875, 'condition': 3027, 'general': 6485, 'select first': 13815, 'first row': 6042, 'utility': 16820, 'maximum value': 9630, 'php nested': 11630, 'access element': 399, 'gzip': 6956, 'folder files': 6110, 'wpf binding': 17805, 'event handling': 5310, 'spring data': 14610, 'data jpa': 3778, 'wpf textbox': 17818, 'systemtimerstimer': 15311, 'need get': 10363, 'get back': 6543, 'main thread': 9434, 'subscription': 15134, 'management': 9490, 'split list': 14588, 'list lists': 9120, 'elastic': 4891, 'beanstalk': 1587, 'elastic beanstalk': 4892, 'use new': 16457, 'version python': 17142, 'category': 2222, 'rails 4': 12574, 'images folder': 7479, 'one one': 10915, 'one using': 10935, 'sqlquery': 14677, 'string object': 14972, 'nhibernate mapping': 10510, 'session factory': 14080, 'effect': 4873, 'executing php': 5434, 'button android': 1862, 'android app': 792, 'multithreaded': 10171, 'construction': 3145, 'trees': 15818, 'im using': 7392, 'browsing': 1823, 'transform': 15787, 'already': 740, 'deck': 4047, 'cards': 2178, 'deck cards': 4048, 'errno': 5122, 'permission': 11506, 'errno 13': 5123, '13 permission': 162, 'permission denied': 11507, '192': 173, 'snow': 14412, 'leopard': 8921, 'install ruby': 7816, 'ruby 192': 13479, 'snow leopard': 14413, 'including': 7559, 'one query': 10920, 'display output': 4439, 'affected': 645, 'get id': 6597, 'resharper': 13150, 'sublist': 15105, 'returns array': 13327, 'require': 13131, 'loaderror': 9223, 'load file': 9199, 'drawrect': 4686, 'cropping': 3547, 'uiscrollview': 16077, 'suitable': 15166, 'jpanels': 8493, 'exit': 5459, 'receive': 12766, 'smtp error': 14403, 'passing data': 11388, 'data user': 3833, 'user controls': 16501, 'attempting': 1352, 'memcache': 9672, 'somehow': 14454, 'setcookie': 14154, 'asp': 1250, '# custom': 26, 'click handler': 2653, 'prepend': 12002, 'backslash': 1494, 'uri': 16373, 'heroku rails': 7064, 'getting file': 6739, 'admin user': 623, 'user login': 16512, 'login php': 9308, 'property file': 12216, 'type object': 15998, 'vbnet c': 17115, 'return correct': 13270, 'ajax call': 660, 'variable javascript': 17055, 'getting value': 6761, 'dynamically jquery': 4802, 'listeners': 9148, 'radio buttons': 12563, 'file get': 5778, 'get path': 6643, 'json value': 8660, 'using jsonnet': 16657, 'focused': 6106, 'exactly': 5348, 'script tag': 13701, 'httpresponse': 7277, 'webkit': 17446, 'pdf format': 11460, 'hiding': 7106, 'insecure': 7727, 'dimensional': 4349, 'create table': 3494, 'using two': 16780, 'two dimensional': 15925, 'dimensional array': 4350, 'total': 15757, 'get real': 6656, 'length char': 8916, 'char char': 2354, '# show': 79, 'distinct value': 4473, 'value combobox': 16888, 'place': 11757, 'php framework': 11592, 'crash': 3445, 'onchange': 10865, 'section': 13772, 'openmp': 11006, 'game': 6452, 'text based': 15496, 'string comma': 14910, 'getbytes': 6715, 'implemented': 7506, 'company': 2930, 'wide': 17528, 'pom': 11858, 'get server': 6672, 'server ip': 14022, 'paging': 11209, 'javascript add': 8313, 'add custom': 522, 'custom http': 3680, 'http header': 7254, 'trigger file': 15832, 'fragments': 6274, 'java way': 8267, 'completed': 2977, 'async method': 1330, 'access database': 395, 'database windows': 3877, 'setup file': 14174, 'selectors': 13881, '6': 316, 'css selectors': 3587, 'segment': 13792, 'java android': 8124, 'focus working': 6105, 'working chrome': 17763, 'bootstrap dropdown': 1749, 'statement javascript': 14750, 'javascript use': 8419, 'raw': 12667, 'backgroundworker': 1492, 'need help': 10364, 'use jquery': 16449, 'table columns': 15333, 'settings': 14172, 'inherited': 7634, 'inherited class': 7635, 'autofac': 1412, '# net': 63, 'process id': 12116, 'vector c++': 17125, 'c++ dll': 1963, 'truncated': 15849, '2 decimal': 185, 'decimal places': 4039, '2008': 203, 'scheduled task': 13650, 'server 2008': 14007, 'two submit': 15948, 'submit buttons': 15110, 'form redirect': 6191, 'redirect different': 12825, 'different page': 4323, 'recursion': 12810, 'substrings': 15143, 'using recursion': 16732, 'given string': 6783, 'exists': 5455, 'checking url': 2476, 'url exists': 16380, 'logging module': 9298, 'module python': 9951, 'graphics': 6885, 'directx': 4379, '2d vector': 232, 'game using': 6456, 'correct way': 3382, 'find resource': 5977, 'create html': 3473, 'html image': 7207, 'image data': 7409, 'soap': 14414, 'providing': 12262, 'login check': 9304, 'check page': 2429, 'page redirect': 11187, 'file visual': 5859, 'function check': 6361, 'posts': 11956, 'per page': 11481, 'page working': 11201, 'ngclick': 10497, 'change scope': 2317, 'scope variable': 13663, 'multithread': 10170, 'manage': 9486, 'java server': 8237, 'manage multiple': 9487, 'multiple queries': 10127, 'reactive': 12692, 'instant': 7839, 'wpf mvvm': 17817, 'necessary': 10359, 'listbox': 9139, 'coordinate': 3347, 'triangle': 15821, 'hostname': 7150, 'parsed': 11301, 'invalid uri': 7966, 'sencha': 13899, 'trigger function': 15833, 'sencha touch': 13900, 'benefits': 1617, 'oo': 10955, 'databases': 3879, 'second element': 13766, 'element class': 4904, 'binary data': 1648, 'sql c': 14635, 'check mysql': 2424, 'contains certain': 3174, 'certain number': 2263, 'number mysql': 10657, 'xmlhttprequest': 17955, 'allowed': 723, 'preflight': 11989, 'role': 13373, 'purpose': 12292, 'contextloaderlistener': 3208, 'translating': 15795, 'java stream': 8249, 'sort list': 14473, 'actions': 472, 'net mvc': 10417, 'multiple actions': 10070, 'something similar': 14460, 'years': 17984, 'month day': 9979, 'illegal': 7382, 'illegal character': 7383, 'directly': 4364, 'inconsistent': 7568, 'wpf listbox': 17816, 'enable disable': 5005, 'unserialize': 16278, 'visual basic': 17256, 'javaiofilenotfoundexception': 8281, 'sdcard': 13735, 'element jquery': 4913, 'anonymous': 859, 'anonymous type': 863, 'understanding': 16179, 'daemon': 3722, 'make button': 9447, 'add property': 556, 'objects array': 10798, 'boost': 1733, 'boost c++': 1735, 'c++ libraries': 1978, 'razor syntax': 12672, 'mvc 5': 10192, 'colors': 2824, 'individual': 7616, 'different colors': 4309, 'array elements': 1122, 'curl command': 3611, 'javascript file': 8352, 'trying get': 15868, 'get property': 6650, 'property nonobject': 12226, 'cmake': 2721, 'way initialize': 17358, 'net application': 10408, 'config': 3038, 'relative path': 12951, 'path python': 11426, 'python logging': 12384, 'config file': 3039, 'homestead': 7137, 'tree structure': 15814, 'discrete': 4405, 'variadic': 17103, 'wrapper': 17826, 'jsonresult': 8674, 'json parsing': 8643, 'javascript check': 8329, 'check whether': 2449, 'element contains': 4906, 'layer': 8870, 'webapp': 17423, 'service layer': 14053, 'python flask': 12365, 'javalangclassnotfoundexception': 8285, 'rsa': 13462, 'decryption': 4073, 'rsa encryption': 13463, 'encryption decryption': 5033, 'breaks': 1797, 'line breaks': 8988, 'single string': 14334, 'ldap': 8879, 'authenticated': 1386, 'ldap authentication': 8880, 'differences': 4303, 'collect': 2792, 'fetching': 5680, 'environment': 5099, 'environment variable': 5100, 'head': 7021, 'mediawiki': 9659, 'string double': 14927, 'installing ruby': 7827, 'raw data': 12668, 'access global': 403, 'removing elements': 13032, 'elements array': 4931, 'array ruby': 1171, 'primitive': 12053, 'arraycontains': 1199, 'another array': 867, 'mvc razor': 10208, 'partial views': 11330, 'html inside': 7209, 'inside controller': 7774, 'rearrange': 12760, 'uploaded': 16354, 'file without': 5862, 'without saving': 17689, 'passed': 11371, 'python function': 12366, 'duplicate entry': 4738, '0 key': 123, 'key primary': 8741, 'closures': 2714, 'methods using': 9807, 'application using': 1038, 'python run': 12419, 'run time': 13531, 'specific row': 14555, 'row selected': 13432, 'achieve': 455, 'points': 11842, 'polygon': 11851, 'conditional': 3030, 'conditional statement': 3032, 'l': 8788, 'bash': 1562, 'run bash': 13508, 'counting': 3429, 'appears': 998, 'counting number': 3430, 'number times': 10668, 'mpi': 10028, 'execution': 5437, 'systemin': 15299, 'segue': 13796, 'identical': 7322, 'check two': 2440, 'two string': 15946, 'constant array': 3130, 'array string': 1178, 'label text': 8792, 'text dynamically': 15507, 'dynamically java': 4800, 'closure': 2713, 'lpwstr': 9382, 'convert char': 3269, 'simple html': 14287, 'html dom': 7195, 'defaultdict': 4090, 'original': 11077, 'get original': 6637, 'mapbox': 9529, 'javascript issue': 8368, 'issue using': 8044, 'downloaded': 4658, 'entire': 5070, 'parts': 11338, 'assets': 1305, 'libs': 8958, 'manifest': 9496, 'project android': 12181, 'rid': 13360, 'loops': 9363, 'getting rid': 6753, 'nested foreach': 10387, 'foreach loops': 6146, 'marker': 9552, 'notifications': 10583, '3rd': 264, 'party': 11339, 'push notifications': 12297, 'ios using': 8005, 'using phonegap': 16713, '3rd party': 265, 'concatenation': 3016, 'string concatenation': 14912, 'variable values': 17078, 'jni': 8465, 'jquery create': 8519, 'based selection': 1552, 'change column': 2285, 'column width': 2858, 'datagridview c': 3899, 'opencart': 10984, 'product': 12133, 'column name': 2847, 'handle exception': 6971, 'exception thrown': 5393, 'wcf service': 17392, 'returning empty': 13309, '# getting': 49, 'getting html': 6742, 'vector vs': 17128, 'vs arraylist': 17277, 'ensure': 5062, 'continuing': 3214, 'preparedstatement': 12000, 'disallowed': 4397, 'headertemplate': 7035, 'occurred': 10835, 'error occurred': 5210, 'potential': 11957, 'wrapping': 17827, 'writer': 17852, 'html attribute': 7181, 'attribute value': 1367, 'script php': 13696, 'reason': 12761, 'unique constraint': 16217, 'completely': 2978, 'remove html': 13003, 'fastest': 5661, 'fastest way': 5662, 'way compare': 17335, 'compare objects': 2937, 'objects c': 10801, 'percentages': 11487, 'store json': 14841, 'command found': 2900, 'base64': 1530, 'adobe': 628, 'air': 657, 'base64 encoded': 1531, 'adobe air': 629, 'multiselect': 10169, 'restricting': 13227, 'django admin': 4514, 'access user': 423, 'cells': 2247, 'ambiguous': 770, 'match found': 9572, 'tooltip': 15745, 'offset': 10855, 'jquery tooltip': 8580, 'calling php': 2103, 'string javascript': 14954, 'javascript code': 8333, 'filling': 5922, 'dataset': 3914, 'php get': 11597, 'get last': 6614, 'array key': 1151, 'exporting': 5510, 'cookies': 3346, 'parsing xml': 11317, 'view based': 17193, 'iphone application': 8020, 'http status': 7266, 'status 404': 14790, 'resource available': 13170, 'truncate': 15848, 'truncating': 15850, 'text without': 15541, 'full': 6328, 'full calendar': 6329, 'reinitialize': 12935, 'opens': 11007, 'sending mail': 13941, 'mail using': 9422, 'iis 7': 7376, 'causing': 2228, 'causing error': 2229, 'error swift': 5237, 'pythonrequests': 12451, 'sending data': 13933, 'api using': 962, 'str_replace': 14867, 'sufficient': 15161, 'attacks': 1348, 'prevent sql': 12028, 'sql injection': 14646, 'jersey': 8451, 'context': 3206, 'annotation': 857, 'texture': 15571, 'incrementing': 7581, 'preprocessor': 12003, 'blob': 1699, 'blob image': 1702, 'constructors': 3155, 'stock': 14821, 'market': 9556, 'max': 9615, 'erase': 5119, 'piping': 11747, 'implementation c': 7503, 'php upload': 11683, 'upload image': 16344, 'resolve': 13160, 'running web': 13555, 'getting following': 6741, 'following error': 6125, 'error resolve': 5224, 'clipboard': 2693, 'copy string': 3365, 'using grid': 16625, 'grid layout': 6901, 'table cell': 15329, 'deploying': 4173, 'shiny': 14209, 'error deploying': 5164, 'shiny app': 14210, 'excel cell': 5362, 'standalone': 14716, 'included': 7556, 'unix': 16238, 'alphabetically': 736, 'sort xml': 14478, 'amazon': 766, 'https': 7278, 'image android': 7395, 'amazon s3': 769, 'https url': 7280, 'multiple file': 10092, 'upload using': 16351, 'logistic': 9314, 'anchors': 789, 'find replace': 5976, 'example': 5351, 'throws': 15626, '# mysql': 61, 'throws exception': 15628, 'unable import': 16119, 'import module': 7525, 'cell value': 2244, 'value hidden': 16914, 'clicking button': 2668, 'check radio': 2432, 'remove empty': 12998, 'empty space': 4996, 'google+': 6856, 'api oauth': 952, 'access token': 421, 'current url': 3640, 'line chart': 8992, 'customise': 3704, 'error page': 5214, 'page php': 11185, 'liferay': 8962, 'programmatically create': 12163, 'form ajax': 6159, 'dont work': 4625, 'html table': 7224, 'table aspnet': 15327, 'simulate': 14307, 'simulate click': 14308, 'click div': 2648, 'div javascript': 4494, 'determined': 4238, 'way create': 17340, 'create instance': 3476, 'scrapy': 13673, 'scrape': 13670, 'websites': 17466, 'dynamic content': 4758, 'efficient way': 4881, 'way insert': 17359, 'sorted array': 14481, 'useful': 16488, 'get django': 6572, 'explode': 5499, 'validate date': 16838, 'date function': 3947, 'using explode': 16604, 'jquery datatable': 8522, 'cell row': 2240, 'row click': 13411, 'number text': 10666, 'text box': 15497, 'counter': 3428, 'uisearchbar': 16080, 'clear button': 2637, 'compile run': 2959, 'casperjs': 2196, 'way pass': 17367, 'protect': 12244, 'direct access': 4355, 'gaussian': 6465, 'send request': 13923, 'request javascript': 13106, 'nsmutablearray': 10598, 'also': 749, 'struct type': 15043, 'adding row': 595, 'log4j': 9289, 'get distinct': 6570, 'unhandled': 16195, 'unhandled user': 16199, 'user code': 16499, 'compare two': 2938, 'numpy arrays': 10692, 'arrays different': 1211, 'different size': 4327, 'return index': 13278, 'index column': 7589, 'schema': 13653, 'overload': 11127, 'return type': 13294, 'type java': 15988, 'class library': 2578, 'move': 10007, 'retaining': 13246, 'listing': 9150, 'select box': 13799, 'password field': 11408, 'trying access': 15860, 'access using': 424, 'interpreted': 7932, 'float object': 6088, 'object interpreted': 10737, 'interpreted integer': 7933, 'get function': 6590, 'overridden': 11133, 'get set': 6674, '# classes': 18, 'outside': 11115, 'get null': 6633, 'subscript': 15132, 'requires': 13139, 'world': 17794, 'soap api': 14415, 'resolve error': 13161, 'autofill': 1413, 'expects': 5485, 'expects parameter': 5486, 'long string': 9329, 'string given': 14942, 'repeat': 13051, 'center': 2250, 'read binary': 12697, 'using xmlhttprequest': 16801, 'collectionview': 2804, 'simply': 14306, 'using web': 16792, 'webapplication': 17424, 'deployed': 4172, 'tornado': 15754, 'passing custom': 11387, 'file text': 5842, 'text php': 15525, 'array images': 1135, 'uitableviewcell': 16089, 'add action': 507, 'custom uitableviewcell': 3696, 'uppercase': 16370, 'inapp': 7545, 'purchase': 12287, 'restkit': 13221, 'nsmanagedobject': 10597, 'instances': 7837, 'returns different': 13329, 'spring application': 14602, 'webpack': 17450, 'get unique': 6696, 'value array': 16872, 'file read': 5823, 'subset': 15136, 'python numpy': 12398, 'get index': 6600, 'ajax pagination': 674, 'java process': 8215, 'pixels': 11753, 'set input': 14127, 'stays': 14795, 'jquerymobile': 8590, 'hover effect': 7157, 'round': 13391, 'keyboard shortcut': 8748, 'empty lines': 4989, '# code': 20, 'code file': 2746, 'field another': 5687, 'another field': 878, 'field changed': 5689, 'tools': 15743, 'itunes': 8093, 'collapsible': 2790, 'navigation bar': 10346, 'says': 13624, 'specification': 14566, 'behavior': 1605, 'beginners': 1599, 'php function': 11594, 'ram': 12631, 'web page': 17410, 'page javascript': 11173, 'mysql date': 10234, 'date format': 3944, 'string format': 14939, 'format php': 6227, 'error writing': 5261, 'writing csv': 17855, 'updating database': 16332, 'geocode': 6525, 'ipaddress': 8017, 'jumping': 8695, 'solving': 14453, 'quadratic': 12474, 'processing': 12124, 'camera': 2114, 'es': 5266, 'opengl es': 10997, 'es 20': 5267, 'ajax javascript': 669, 'javascript c': 8322, 'largest': 8835, '12': 157, '000': 125, 'find largest': 5957, 'using loop': 16669, 'work properly': 17746, 'retrieve values': 13257, 'row gridview': 13421, 'frequency': 6309, 'engine': 5053, '27': 225, 'google app': 6834, 'app engine': 980, 'engine python': 5056, 'python 27': 12331, 'nokogiri': 10534, 'curl request': 3616, 'coredata': 3374, 'doctrine': 4563, 'doctrine 2': 4564, 'missing value': 9860, 'emit': 4981, 'callback function': 2081, 'function nodejs': 6392, 'nsmutabledictionary': 10599, 'remove array': 12984, 'array dictionary': 1118, 'write xml': 17850, 'deprecated': 4175, 'treeview': 15820, 'vbnet get': 17116, 'convert value': 3320, 'distance': 4468, 'continuous': 3215, 'twodimensional': 15960, 'lambda expression': 8797, 'mvc view': 10211, 'using vbnet': 16790, 'xna': 17961, 'problems': 12104, 'scatter': 13640, 'scatter plot': 13641, 'elegant': 4896, 'elegant way': 4897, 'numeric': 10686, 'sort string': 14475, 'error accessing': 5134, 'first second': 6043, 'javascript object': 8385, 'object jquery': 10741, 'convert xml': 3323, 'xml data': 17923, 'preference': 11983, 'callback called': 2080, 'insert statement': 7749, 'statement c++': 14747, 'inside html': 7784, 'parse xml': 11299, 'zip file': 18016, 'pane': 11226, 'centered': 2251, 'set size': 14143, 'force': 6139, 'ocr': 10844, 'invariant': 7971, 'alert': 693, 'alert dialog': 695, 'subplot': 15120, 'get mysql': 6628, 'foreign keys': 6151, 'raises': 12622, 'using format': 16611, 'subclass': 15093, 'superclass': 15184, 'week': 17481, 'requestmapping': 13127, 'secured': 13777, 'large': 8821, 'large files': 8829, 'directives': 4363, 'custom directive': 3663, 'mismatch': 9850, 'bean property': 1582, 'argument type': 1079, 'type mismatch': 15993, 'java c++': 8138, 'shape': 14184, 'add onclick': 554, 'drupal 7': 4726, 'vs2013': 17290, 'never': 10440, 'tree c++': 15811, 'redis': 12844, 'date object': 3956, 'showdialog': 14241, 'sounds': 14491, 'cocoa': 2726, 'game programming': 6453, 'javascript scope': 8403, 'swift ios': 15227, 'ios xcode': 8006, 'leaving': 8902, 'reloading page': 12966, 'page using': 11196, 'parser': 11303, 'getelementsbytagname': 6720, 'xml parser': 17940, 'alternate': 752, 'tr': 15768, 'embedding': 4977, 'symfony 2': 15251, 'onclick event': 10870, 'event using': 5320, 'business': 1857, 'layers': 8871, 'unreachable': 16266, 'mvc form': 10201, 'encrypting': 5030, 'decrypting': 4072, 'encrypting decrypting': 5031, 'interfaces': 7916, 'differs': 4339, 'aspnet textbox': 1280, 'img': 7490, 'onclick button': 10868, 'ie 9': 7342, 'assign javascript': 1308, 'variable php': 17066, 'php ajax': 11547, 'theme': 15578, 'header footer': 7026, 'generation': 6506, 'contain': 3165, 'contain definition': 3167, 'cron': 3541, 'query update': 12513, 'spring 3': 14599, 'integers': 7877, 'array integers': 1143, 'int array': 7852, 'ordering': 11066, 'sections': 13774, 'loaded': 9219, 'capybara': 2176, 'instance variable': 7834, 'rspec capybara': 13465, 'howto': 7161, 'like c': 8969, 'avoiding': 1445, 'objectoriented': 10794, 'use global': 16440, 'devexpress': 4250, 'data ms': 3788, 'ms sql': 10035, 'datetimepicker': 3990, 'time format': 15658, 'java classes': 8143, 'choice': 2506, 'hide show': 7102, 'show form': 14228, 'form fields': 6175, 'based dropdown': 1544, 'java files': 8173, 'files folder': 5891, 'wildcards': 17539, 'routes': 13401, 'routes rails': 13402, 'get raw': 6655, 'xml java': 17933, 'service call': 14048, 'home': 7133, 'known': 8784, 'queues': 12526, 'appended': 1005, 'since': 14315, 'scenarios': 13644, 'extremely': 5583, 'flow': 6094, 'panning': 11229, 'raphaeljs': 12658, 'images using': 7487, 'cyclic': 3714, 'freezing': 6307, 'javascript settimeout': 8409, 'multiply': 10165, 'backup': 1497, 'registry key': 12929, 'key c': 8728, 'domains': 4615, 'subdomains': 15099, 'php sessions': 11665, 'across multiple': 460, 'richtextbox': 13359, 'one line': 10907, 'line text': 9005, 'add two': 569, 'two time': 15952, 'strings php': 15021, 'appearing': 997, 'body tag': 1718, 'formatter': 6239, 'using boost': 16564, 'spark dataframe': 14513, 'keyvalue': 8763, 'python get': 12368, 'next previous': 10493, 'key dictionary': 8730, 'select element': 13811, 'element value': 4924, 'java selenium': 8235, 'pass input': 11351, 'running windows': 13556, 'ssh': 14688, 'server c': 14012, '_request': 356, '_get': 351, 'string two': 14995, 'local file': 9243, 'select date': 13807, 'box using': 1779, 'wxwidgets': 17875, 'etc': 5282, 'html5 canvas': 7236, 'virtual functions': 17239, 'functions c': 6434, 'differentiate': 4337, 'copies': 3352, 'pycharm': 12315, 'module named': 9949, 'cakephp 20': 2026, 'getting class': 6732, 'found error': 6265, 'video streaming': 17185, 'template type': 15448, 'swap': 15213, 'stdset': 14804, 'work using': 17748, 'using aspnet': 16558, 'property list': 12222, 'list another': 9084, 'another property': 894, 'using lambda': 16663, 'discover': 4404, 'occurs': 10843, 'registered': 12925, 'swipe': 15235, 'edit button': 4857, 'save array': 13591, '# reflection': 73, 'good way': 6830, 'documentation': 4571, 'studio c++': 15073, 'intermittent': 7918, 'windows service': 17604, 'assigning': 1312, 'get key': 6612, 'key value': 8743, 'value django': 16897, 'google charts': 6839, 'multiple properties': 10126, 'embedded': 4975, 'code block': 2737, 'export csv': 5504, 'csv data': 3597, 'odd numbers': 10850, 'breaking': 1794, 'link clicked': 9020, 'javascript button': 8321, 'button onclick': 1885, 'onclick working': 10874, 'jasmine': 8110, 'function calls': 6360, 'fgets': 5684, 'downloading large': 4664, 'create static': 3492, 'instances class': 7838, 'class inside': 2571, 'class python': 2597, 'pydev': 12316, 'jython': 8707, 'startup': 14741, 'running script': 13551, 'optimize': 11037, 'webxml': 17480, 'xpath find': 17965, 'plain text': 11767, 'longest': 9336, 'find longest': 5962, 'least': 8897, 'least one': 8899, 'one field': 10893, 'asynchronous': 1334, 'synchronous': 15265, 'post facebook': 11929, 'facebook using': 5606, 'straight': 14868, 'array different': 1119, 'different data': 4311, 'data types': 3830, 'listbox item': 9141, 'kendo grid': 8719, 'sharing': 14198, 'core data': 3372, 'data store': 3820, 'iphone apps': 8021, 'rows jquery': 13450, 'fast': 5657, 'flexible': 6078, 'iterator': 8088, 'glow': 6805, 'usable': 16411, 'querying': 12516, 'php convert': 11564, 'session variables': 14094, 'girl': 6770, 'association': 1320, 'factory girl': 5616, 'key name': 8736, 'asp net': 1253, 'mvc model': 10205, 'model class': 9906, 'restore': 13222, 'data file': 3762, 'format c': 6217, 'bold': 1720, 'bold text': 1721, 'text textarea': 15533, 'corners': 3376, 'album': 692, 'facebook graph': 5595, 'graph api': 6880, 'mark': 9549, 'windows c': 17588, 'system call': 15281, 'parameter 1': 11240, 'indices': 7610, 'indices must': 7611, 'must integers': 10181, 'integers str': 7879, 'mysql table': 10260, 'indigo': 7612, 'eclipse indigo': 4843, 'unit test': 16226, 'close child': 2703, 'browser window': 1819, 'webdriver using': 17437, 'invocation': 7974, 'flash': 6066, 'ex': 5345, 'emails': 4973, 'sharepoint 2010': 14195, 'send emails': 13907, 'sleeping': 14372, 'recover': 12803, 'tomcat eclipse': 15735, 'key error': 8732, 'subclasses': 15094, 'extra': 5570, 'get relative': 6659, 'action method': 465, 'designed': 4202, 'vs 2012': 17274, 'wont run': 17705, 'run windows': 13532, 'windows 7': 17580, 'repeats': 13057, 'check first': 2412, 'first character': 6028, 'send string': 13927, 'array jquery': 1149, 'del': 4111, 'backspace': 1496, 'overflow': 11121, 'classpath': 2625, 'properties file': 12208, 'file tomcat': 5843, 'beans': 1586, 'select columns': 13804, 'despite': 4209, 'unable execute': 16116, 'auth': 1383, 'swagger': 15212, 'crud': 3557, 'using spring': 16757, 'spring hibernate': 14614, 'tool': 15739, 'recognised': 12777, 'include_path': 7555, 'mdb': 9637, 'connect ms': 3070, 'using ip': 16641, 'vbnet application': 17114, 'made': 9409, 'concrete': 3021, 'generic methods': 6517, 'driven': 4690, 'formal': 6214, 'matched': 9579, 'occasionally': 10829, 'stretch': 14888, 'menuitem': 9698, 'context menu': 3207, '2000': 198, 'images server': 7486, 'server using': 14037, 'bower': 1773, 'restful': 13215, 'restful api': 13216, 'basic authentication': 1566, 'access properties': 413, 'failed load': 5635, 'twisted': 15897, 'yields': 17990, 'python twisted': 12435, 'event textbox': 5316, 'listt': 9160, 'get return': 6664, 'sorted list': 14482, 'overlapping': 11124, 'segments': 13795, 'factorygirl': 5617, 'could initialize': 3405, 'initialize class': 7650, 'preload': 11992, 'uiviewcontroller': 16098, 'clicks': 2672, 'user clicks': 16498, 'outside form': 11119, 'difference two': 4301, 'two datatables': 15919, 'index range': 7595, 'star': 14724, 'gps': 6863, '422': 289, 'infix': 7625, 'calculator': 2043, 'reading input': 12737, 'class java': 2574, 'c++ header': 1972, 'register': 12924, 'nsdata': 10589, 'conflicts': 3059, 'module name': 9948, 'unresolved': 16272, 'typeerror concatenate': 16018, 'concatenate str': 3011, 'list objects': 9123, 'random string': 12642, 'string php': 14980, 'php using': 11686, 'multiple selection': 10134, 'scroll bar': 13711, 'partialview': 11332, 'anonymous functions': 861, 'hashtable': 7016, 'remember': 12970, 'scroll position': 13718, 'using visual': 16791, 'db connection': 4002, 'object one': 10754, 'one class': 10885, 'b': 1466, 'x function': 17880, 'b c': 1467, 'keywords': 8767, 'volatile': 17268, 'explicit': 5497, 'route matches': 13397, 'establish': 5278, 'secure': 13775, 'error java': 5190, 'secure connection': 13776, 'event aspnet': 5296, 'refactor': 12851, 'imports': 7537, 'overhead': 11122, 'youtube': 17996, 'channel': 2347, 'check user': 2444, 'user already': 16494, 'dimension': 4348, 'find length': 5959, 'itextsharp': 8092, 'using itextsharp': 16644, 'data existing': 3760, 'reverse': 13343, 'bigdecimal': 1638, 'scala': 13626, 'ejb': 4885, 'glassfish': 6791, 'example code': 5352, 'export html': 5508, 'wise': 17626, 'coordinates': 3348, 'assignment': 1314, 'java generics': 8181, 'compiler error': 2964, 'error variable': 5256, 'variable assignment': 17039, 'birthday': 1676, 'saving image': 13618, 'image file': 7415, 'file_get_contents': 5868, 'cases': 2195, 'unicode string': 16207, 'cs': 3564, 'cs file': 3565, 'cython': 3717, 'clexe': 2644, '# class': 17, 'checkbox value': 2458, 'image text': 7461, 'facebook wall': 5607, 'using open': 16704, 'javalanginteger': 8288, 'messagebox': 9718, 'numeric value': 10688, 'though': 15587, 'contentsize': 3204, 'even though': 5293, 'starts': 14740, 'late': 8858, 'invoking': 7980, 'method without': 9798, 'edge': 4854, 'python convert': 12347, 'mysql order': 10247, 'pdo mysql': 11470, 'jquery change': 8514, 'value ajax': 16870, 'select item': 13819, 'select using': 13840, 'server android': 14009, 'functional': 6430, 'generic method': 6516, 'django get': 4523, 'get objects': 6636, 'objects one': 10811, 'another table': 899, 'flask app': 6071, 'serialization deserialization': 13986, 'beginner': 1598, 'logical': 9300, 'na': 10285, 'normalizing': 10566, 'pixel': 11751, 'pixel values': 11752, 'deleting': 4140, 'explicitly': 5498, 'raise': 12619, 'jsonstring': 8675, 'custom java': 3682, 'java arraylist': 8133, 'book': 1722, 'ruby windows': 13498, 'pager': 11203, 'adding data': 581, 'pthread': 12270, 'hosted': 7148, 'text python': 15527, 'php mvc': 11626, 'mvc framework': 10202, 'iframe src': 7365, 'form input': 6178, 'phpexcel': 11703, 'sheet': 14199, 'phpexcel read': 11704, 'read excel': 12701, 'excel sheet': 5370, 'international': 7924, 'fuzzy': 6443, 'acceptable': 382, 'match string': 9575, 'console application': 3114, 'application c': 1021, 'padding': 11157, 'multiple values': 10156, 'values python': 17015, 'replace space': 13067, 'new line': 10455, 'line python': 9003, 'change html': 2303, 'extension url': 5544, 'url using': 16396, 'vaadin': 16828, 'propagation': 12201, 'exception type': 5395, 'validation errors': 16851, 'oncreate': 10877, 'javascript event': 8350, 'edit mode': 4860, 'wordpress theme': 17727, 'docker': 4560, 'c++ class': 1952, 'class instance': 2572, 'array initialization': 1138, 'positive': 11903, 'positive negative': 11904, 'negative numbers': 10372, 'numbers java': 10678, 'modifier': 9939, 'button control': 1870, 'reference type': 12867, 'escape': 5270, 'sql using': 14660, 'vc++': 17122, 'jsonp': 8671, 'ajax request': 679, 'javascript ajax': 8315, 'passing parameters': 11397, 'rand': 12633, 'file assembly': 5732, 'dispatch': 4411, 'descending': 4183, 'cant install': 2139, 'instantly': 7845, '# app': 8, 'marshalling': 9561, 'fortran': 6258, 'file python': 5820, 'chain': 2276, 'pair': 11212, 'codility': 2782, 'oledb': 10862, 'connection string': 3098, 'object parameter': 10756, '# application': 9, 'tip': 15700, 'button click': 1868, 'fails error': 5643, 'sprintf': 14628, 'websockets': 17472, 'wait element': 17298, 'display loading': 4431, 'page loaded': 11176, 'opacity': 10957, 'different length': 4318, 'simplexmlelement': 14304, 'helpers': 7061, 'environments': 5102, 'use url': 16482, 'none': 10543, 'using objective': 16699, 'applications': 1046, 'net winforms': 10422, 'multiple columns': 10082, 'columns values': 2868, 'values datatable': 16989, 'master': 9567, 'content page': 3188, 'variable loop': 17057, 'loop inside': 9353, 'get parent': 6641, 'change background': 2280, 'background image': 1483, 'image width': 7471, 'css code': 3576, 'exclude': 5403, 'maven plugin': 9610, 'pyramid': 12323, 'letters': 8930, 'program python': 12151, 'attaching': 1344, 'polymorphic': 11855, 'jquery defined': 8526, 'smoothly': 14398, 'animate': 850, 'pretty': 12018, 'polynomial': 11857, 'remove event': 12999, 'create dynamic': 3463, 'specific text': 14559, 'keyword': 8765, 'arc': 1060, 'object references': 10763, 'enums': 5096, 'mkmapview': 9866, 'templated': 15450, 'foundation': 6270, 'parameter type': 11252, 'new tab': 10467, 'tab window': 15320, 'full text': 6334, 'text search': 15528, 'search using': 13758, 'boxes': 1783, 'has_many': 6997, 'check boxes': 2403, 'has_many relationship': 6999, 'access denied': 397, 'working server': 17785, 'resets': 13148, 'jobject': 8467, 'error reading': 5222, 'item object': 8061, 'create popup': 3488, 'button swift': 1895, 'ios 8': 7994, 'autolayout': 1417, 'disabled': 4393, 'uitextfield': 16093, 'responder': 13184, 'parse string': 11297, 'alter': 751, 'optimal': 11034, 'locations': 9278, 'codes': 2781, 'combinations': 2874, 'toggle': 15721, 'jquery toggle': 8579, 'python sort': 12428, 'list containing': 9094, 'integer string': 7873, 'string integers': 14952, 'streams': 14884, 'input output': 7707, 'formats': 6235, 'mp3': 10023, 'audio files': 1379, 'delete specific': 4136, 'command button': 2898, 'button gridview': 1874, 'derived classes': 4181, 'invalid token': 7965, 'class struct': 2600, 'interface member': 7913, 'file form': 5773, 'public key': 12277, 'sorting list': 14489, 'subview': 15150, 'disappears': 4400, 'sure': 15199, 'idisposable': 7335, 'integrate': 7883, 'make sure': 9470, 'continuous integration': 3216, 'specifying': 14572, 'function argument': 6348, 'question': 12520, '# array': 10, 'data returned': 3807, 'language': 8805, 'change language': 2309, 'event working': 5322, 'doesnt find': 4586, '_files': 350, 'ignored': 7372, 'php codeigniter': 11560, 'backwards': 1499, 'way iterate': 17360, 'java error': 8169, 'constructor found': 3150, 'java string': 8250, 'value change': 16880, 'change function': 2299, 'bufferedreader': 1831, 'create array': 3455, 'array inside': 1140, 'uploads': 16367, 'larger': 8834, 'mb': 9633, 'file uploads': 5851, 'data binding': 3744, 'instructions': 7850, 'parse html': 11295, 'array pointer': 1167, 'table cells': 15330, 'single row': 14333, 'webmethod': 17449, 'pass string': 11364, 'array via': 1194, 'vbscript': 17121, '# dll': 34, 'table row': 15350, 'answer': 909, 'using eval': 16602, 'entityframework': 5081, 'discriminator': 4406, 'code first': 2747, 'redux': 12849, 'reactrouter': 12695, 'refreshes': 12893, 'php check': 11556, 'check email': 2409, 'email already': 4962, 'already exists': 743, 'mongoclient': 9963, 'anything': 918, 'jsonarray': 8667, 'jsonobject': 8670, 'java google': 8184, 'fileexists': 5872, 'rename file': 13037, 'jquery rails': 8564, 'serving': 14065, 'permissions': 11508, 'static content': 14764, 'rails validate': 12615, 'llvm': 9180, 'clang': 2539, 'compiling c++': 2971, 'smtp email': 14402, 'email gmail': 4966, 'takes long': 15397, 'long time': 9332, 'retrive': 13261, 'ampersand': 778, 'animated': 851, 'apple': 1011, '8 app': 330, 'app using': 987, 'java api': 8127, 'clipping': 2694, 'dialog box': 4266, 'multilevel': 10062, 'typo3': 16034, 'php create': 11566, 'studio project': 15078, 'php open': 11634, 'read csv': 12699, 'file url': 5852, 'whats wrong': 17508, 'h2': 6959, 'h2 database': 6960, 'getaddrinfo': 6712, 'nsthread': 10606, 'nstimer': 10607, 'translate': 15793, 'matrices': 9595, 'validator': 16865, 'select option': 13827, 'way detect': 17343, 'merged': 9706, 'one column': 10887, 'column gridview': 2841, 'opengl c++': 10996, 'install windows': 7817, 'automated': 1423, 'using junit': 16661, 'json serialization': 8652, 'updates': 16330, 'depth': 4176, 'gem install': 6479, 'remove multiple': 13011, 'multiple spaces': 10137, 'characters php': 2376, 'caption': 2170, 'stream file': 14879, 'file contents': 5747, 'xml document': 17925, 'show alert': 14223, 'alert message': 696, 'swift 20': 15220, 'ror': 13385, 'activation': 478, 'clicking link': 2669, 'get html': 6595, 'current user': 3641, 'set list': 14130, 'list images': 9109, 'tricky': 15825, 'getting started': 6756, 'ajax without': 686, 'page codeigniter': 11165, 'convention': 3251, 'java add': 8123, 'add method': 550, 'lucene': 9386, 'concurrentmodificationexception': 3026, 'still working': 14814, 'mimetype': 9834, 'description': 4186, 'enabled': 5006, 'output java': 11106, 'java source': 8244, 'syntax highlighting': 15270, 'spinner': 14580, 'outer': 11089, 'accessing variable': 441, 'values using': 17026, 'using query': 16729, 'query array': 12486, 'flask python': 6073, 'select query': 13829, 'design pattern': 4200, 'client api': 2676, 'certain time': 2265, 'time java': 15660, 'error importing': 5185, 'referenceerror': 12874, 'html js': 7213, 'function defined': 6369, 'short': 14215, 'get windows': 6706, 'file name': 5802, 'discount': 4403, 'price': 12043, 'display content': 4416, 'pandas data': 11219, 'data frame': 3765, 'arguments using': 1088, 'using thread': 16776, 'copy directory': 3359, 'mysql update': 10263, 'update single': 16316, 'via javascript': 17166, 'key exists': 8734, 'prevent double': 12024, 'listview': 9161, 'details': 4219, 'cell values': 2245, 'values inside': 17001, 'inside listview': 7791, 'opera': 11012, 'display none': 4436, 'normal': 10564, 'histogram': 7123, 'best fit': 1621, 'histogram r': 7124, 'websocket': 17467, 'initiate': 7661, 'without converting': 17658, 'declared scope': 4058, 'validate email': 16839, 'function name': 6391, 'two different': 15923, 'different actions': 4305, 'one submit': 10928, 'upload video': 16352, 'sending post': 13944, 'post php': 11938, 'dev': 4240, 'knockout': 8778, 'log4net': 9291, 'listview android': 9162, 'causing memory': 2230, 'memory exception': 9681, 'null pointer': 10627, 'pointer exception': 11831, 'lpcstr': 9380, 'convert unsigned': 3316, 'unsigned char': 16281, 'put array': 12304, 'inside array': 7768, 'outofmemoryexception': 11097, 'remove characters': 12988, 'webview android': 17479, 'obtain': 10826, 'linear': 9008, 'model r': 9921, 'multidimensional': 10058, 'multidimensional array': 10059, 'metadata': 9727, 'error unable': 5246, 'unable retrieve': 16128, 'jpa query': 8489, 'query find': 12491, 'record exists': 12793, 'enum c': 5089, 'tags': 15381, '# regular': 75, 'tags html': 15382, 'populating': 11877, 'sql data': 14639, 'validations': 16864, 'cant use': 2153, 'nested list': 10391, 'server php': 14026, '42': 288, 'multiple select': 10132, 'select checkbox': 13801, 'checkbox checked': 2452, 'using mvc': 16684, 'abstract classes': 375, 'fill': 5918, 'fill pdf': 5920, 'input fields': 7694, 'forms authentication': 6249, 'whitespace': 17520, 'p': 11145, 'p invoke': 11146, 'aes': 641, 'securely': 13778, 'android device': 799, 'tabcontrol': 15323, 'select list': 13822, 'connections': 3102, 'dropped': 4722, 'java app': 8128, 'overwrite': 11140, 'number rows': 10664, 'container using': 3170, 'unmarshalling': 16256, 'default namespace': 4083, 'namespace declaration': 10319, 'native c++': 10333, 'within foreach': 17635, 'partial view': 11329, 'fields form': 5710, 'typed': 16014, 'render html': 13040, 'complexity': 2987, 'pow': 11960, 'time complexity': 15647, 'large csv': 8825, 'form new': 6186, 'file multiple': 5800, 'destructor': 4214, 'nsdateformatter': 10591, 'post requests': 11940, 'line arguments': 8986, 'wpf c': 17806, 'unable connect': 16113, 'connect smtp': 3076, 'smtp server': 14405, 'paypal': 11450, 'paypal sandbox': 11453, 'could load': 3407, 'make ajax': 9444, 'ajax get': 668, 'superview': 15185, 'bounds': 1771, 'wpf grid': 17814, 'subprocess': 15122, 'subprocess module': 15124, 'writing xml': 17861, 'piped': 11744, 'input python': 7708, 'simulation': 14310, 'card': 2177, 'systemoutofmemoryexception': 15306, 'pinch': 11739, 'get event': 6580, 'event change': 5300, 'enum value': 5092, 'double array': 4632, 'unity': 16231, 'unity c': 16233, 'reorder': 13048, 'tabbar': 15321, 'set image': 14125, 'ios 6': 7992, 'upper': 16369, 'program uses': 12154, 'prime numbers': 12050, 'xpath expression': 17964, 'expression java': 5520, 'read json': 12708, 'service returning': 14057, 'returning undefined': 13320, 'undefined javascript': 16159, 'techniques': 15431, 'depends': 4169, 'single page': 14328, 'throw': 15616, 'throw error': 15617, 'reflecting': 12883, 'highlight': 7117, 'word string': 17717, 'string contains': 14916, 'number lines': 10655, 'dictionaries': 4273, 'jinja': 8457, 'list dictionaries': 9097, 'embed': 4974, 'ever': 5329, 'except': 5375, 'java virtual': 8266, 'virtual machine': 17241, 'communicating': 2923, 'firebase': 6012, 'chrome extension': 2517, 'sqlstate': 14679, 'tokens': 15728, 'invalid parameter': 7963, 'parameter number': 11250, 'match number': 9573, 'tab bar': 15316, 'bar controller': 1513, 'date time': 3963, 'include_once': 7554, 'configuration files': 3044, 'value jquery': 16922, 'composite': 2993, 'observation': 10823, 'windows gui': 17596, 'python scripts': 12422, 'css file': 3577, 'array strings': 1179, 'strings c': 15017, 'el': 4887, 'jsp el': 8679, 'phpmyadmin': 11708, 'java application': 8130, 'wp': 17800, 'using anonymous': 16549, 'insertion': 7764, 'binary string': 1655, 'string integer': 14951, 'received': 12768, 'function another': 6347, 'seem': 13783, 'seem work': 13784, 'slash': 14369, 'id url': 7316, 'twig': 15894, 'print variable': 12068, 'twig template': 15895, 'c++ constructor': 1960, 'class member': 2580, 'caret': 2179, 'ruby gem': 13487, 'getting data': 6734, 'browser control': 1813, 'scanf': 13635, 'carriage': 2182, 'carriage return': 2183, 'combobox selection': 2887, 'rn': 13370, 'delimited': 4144, 'get integer': 6605, 'multiple lines': 10112, 'webrtc': 17456, 'dlls': 4553, 'enum type': 5090, 'animations': 854, 'pick': 11720, 'directory java': 4371, 'uipickerview': 16075, 'multiple table': 10143, 'login system': 9309, 'codefirst': 2768, 'migration': 9827, 'blade': 1690, 'view laravel': 17203, 'connectivity': 3104, 'video player': 17183, 'asynctask': 1338, 'string arguments': 14894, 'asynctask android': 1339, 'android eclipse': 800, 'collection view': 2801, 'getting next': 6748, 'next row': 10494, 'crystal report': 3562, 'client side': 2684, 'jquery datepicker': 8525, 'displaying image': 4458, 'image based': 7400, 'based value': 1559, 'make image': 9455, 'aspnet button': 1264, 'fast way': 5658, 'way get': 17353, 'get list': 6620, 'active directory': 482, 'directory c': 4367, 'odbc': 10847, 'package r': 11151, 'exist error': 5444, 'adding elements': 582, 'include jquery': 7551, 'project using': 12190, 'come': 2890, 'calculating': 2040, 'globally': 6803, 'convert json': 3289, 'set property': 14139, 'null error': 10621, 'json string': 8653, 'iframe parent': 7364, 'class parameter': 2592, 'occurence': 10833, 'split string': 14589, 'string first': 14937, 'contexts': 3210, 'instantiated': 7842, 'imagemagick': 7475, 'opening new': 11003, 'json post': 8645, 'suspend': 15203, 'expose': 5511, 'flag': 6064, 'archive': 1064, 'continuewith': 3213, 'score': 13668, 'oriented': 11075, 'gallery': 6451, 'unable load': 16123, 'image gallery': 7421, 'system using': 15289, 'limit': 8973, 'backgroundcolor': 1489, 'subclassing': 15095, 'datatype': 3927, 'highest value': 7116, 'consecutive': 3107, 'tcp': 15416, 'tcp ip': 15420, 'source code': 14495, 'code execution': 2745, 'generators': 6508, 'extension methods': 5542, 'data without': 3841, 'without affecting': 17652, 'cant read': 2144, 'imageview': 7488, '__file__': 345, 'h': 6957, 'phone number': 11527, 'number format': 10648, 'uinavigationbar': 16070, 'reference function': 12861, 'material': 9586, 'angular material': 833, 'lodash': 9284, 'sitemap': 14348, 'align': 704, 'zone': 18020, 'compact': 2928, 'time zone': 15677, 'compact framework': 2929, 'class constructor': 2554, 'rmi': 13369, 'running java': 13542, 'java rmi': 8228, 'proguard': 12179, 'processes': 12123, 'communication': 2924, 'objects different': 10805, 'different class': 4307, 'class c++': 2550, 'paperclip': 11232, 'get top': 6692, 'rails paperclip': 12601, 'queryset': 12517, 'django queryset': 4534, 'property value': 12234, 'sending json': 13939, 'json c': 8623, 'tuple python': 15882, 'get process': 6648, 'connector': 3105, 'unresolved external': 16273, 'external symbol': 5562, 'mysql connector': 10231, 'super': 15182, 'lxml': 9390, 'pig': 11735, 'columns rows': 2865, 'multiple versions': 10158, 'required class': 13134, 'arraylist java': 1203, 'implementing': 7507, 'active record': 483, 'play mp3': 11777, 'mp3 files': 10025, 'files c': 5885, 'delegates': 4117, 'weka': 17493, 'date type': 3964, 'thumbnail': 15631, 'specific category': 14524, 'subarrays': 15090, 'split array': 14585, 'add edit': 527, 'illegalstateexception': 7388, 'using arraylist': 16556, 'input type': 7716, 'paragraphs': 11234, 'bindings': 1671, 'equivalent python': 5117, 'python bindings': 12340, 'cut': 3709, 'scientific': 13656, 'replace multiple': 13066, 'lines text': 9016, 'remote server': 12978, 'orm': 11079, 'business logic': 1858, 'model controller': 9908, 'different functions': 4317, 'lost': 9370, 'jquery get': 8539, 'get url': 6697, 'variables javascript': 17089, 'equals': 5108, 'php loop': 11619, 'loop get': 9352, 'values mysql': 17010, 'c using': 1944, 'using jni': 16652, 'test cases': 15471, 'constructor called': 3147, 'runnable': 13533, 'file working': 5863, 'getting invalid': 6744, 'invalid syntax': 7964, 'saving array': 13613, 'variables without': 17102, 'using html': 16632, 'detecting': 4230, 'linq c': 9052, 'get date': 6567, 'time value': 15676, 'initial': 7641, 'detail': 4217, 'jms': 8462, 'copy file': 3360, 'directory file': 4369, 'file exist': 5768, 'methods within': 9808, 'form model': 6183, 'model binding': 9904, 'corner': 3375, 'top left': 15749, 'valgrind': 16831, 'possibly': 11923, 'selectedindex': 13864, 'html dropdown': 7196, 'dropdown using': 4714, 'element one': 4917, 'raising': 12623, 'django models': 4527, 'save method': 13602, 'boost libraries': 1736, 'lowest': 9379, 'java array': 8132, 'underscore': 16175, 'mapper': 9532, 'portrait': 11892, 'landscape': 8802, 'escaping double': 5277, 'double quotes': 4637, 'hibernate mapping': 7082, 'result set': 13233, 'native query': 10338, 'javanetconnectexception': 8306, 'refused': 12896, 'javanetconnectexception connection': 8307, 'connection refused': 3096, 'refused connect': 12897, 'simplexml_load_file': 14302, '1 resource': 139, 'resource boolean': 13171, 'boolean given': 1728, 'authentication failed': 1391, 'closed': 2706, 'right click': 13362, 'expecting': 5484, 'php syntax': 11678, 'unexpected expecting': 16188, 'titles': 15705, 'mobile application': 9872, 'attempt': 1349, 'django model': 4525, 'direction': 4358, 'rotation': 13390, 'returning null': 13316, 'null object': 10624, 'object use': 10774, 'use curl': 16427, 'jobs': 8468, 'twitter oauth': 15902, 'cron jobs': 3543, 'locate': 9268, 'htaccess': 7171, 'comments': 2917, '43': 290, 'c++ standard': 1997, 'standard library': 14720, 'provide': 12258, 'additional': 602, 'save data': 13594, 'failed error': 5629, 'array undefined': 1186, 'hello': 7050, 'hello world': 7051, 'dependencies': 4160, 'artifact': 1227, 'using maven': 16672, 'multiprocessing': 10168, 'python multiprocessing': 12395, 'windows linux': 17597, 'forloop': 6156, 'taken': 15393, 'borland': 1759, 'gcc': 6468, 'compilers': 2966, 'implement file': 7499, 'get work': 6707, 'given date': 6780, 'neo4j': 10376, 'create unique': 3500, 'delete files': 4125, 'reading text': 12744, 'related objects': 12942, 'non static': 10538, 'static variable': 14780, 'prev': 12019, 'slideshow': 14379, 'prev next': 12020, 'next button': 10490, 'simple jquery': 14291, 'descending order': 4184, 'print list': 12061, 'typefile': 16026, 'input typefile': 7717, 'image thumbnail': 7462, 'converted': 3324, 'arrays one': 1219, 'one element': 10892, 'hooks': 7140, 'woocommerce': 17709, 'pyqt4': 12322, 'studio code': 15074, 'icons': 7307, 'ios application': 7998, 'image javascript': 7430, 'javascript image': 8366, 'image object': 7439, 'importerror': 7531, 'importerror import': 7532, 'import name': 7526, 'error messages': 5201, 'attribute name': 1364, 'sqlite3': 14674, 'firing': 6023, 'click event': 2650, 'event firing': 5307, 'ul': 16103, 'pressing': 12014, 'ul li': 16104, 'parameters function': 11263, 'entitymanagerfactory': 5083, 'hashtag': 7017, 'twitter search': 15903, 'row datagridview': 13419, 'datagridview using': 3905, 'structures': 15053, 'c++ array': 1948, 'predicate': 11978, 'min max': 9836, 'today': 15717, 'selenium web': 13889, 'web driver': 17406, 'password using': 11412, 'selenium python': 13888, 'inserting': 7758, 'categories': 2221, 'mysql db': 10236, 'inline javascript': 7670, 'key using': 8742, 'redirect login': 12828, 'flash message': 6067, 'rtf': 13475, 'undeclared': 16151, 'concurrency': 3022, 'simultaneous': 14312, 'mutexes': 10186, 'issue multiple': 8043, 'count elements': 3419, 'window form': 17555, 'form another': 6160, 'another form': 881, 'gae': 6449, 'mechanize': 9651, 'http https': 7256, 'ascx': 1241, 'allow one': 720, 'instance python': 7833, 'alone': 728, 'xml attributes': 17920, 'removal': 12982, 'server error': 14020, 'matlab': 9591, 'indicator': 7609, 'loading indicator': 9231, 'async function': 1329, 'php xml': 11699, 'xml request': 17943, 'integers strings': 7880, 'variable function': 17050, 'function static': 6413, 'forever': 6153, 'name current': 10291, 'closing': 2710, 'modal window': 9898, 'window closing': 17554, 'closing form': 2711, 'form submission': 6195, 'image map': 7436, 'cant call': 2125, 'get output': 6638, 'output console': 11100, '# error': 40, 'write file': 17837, 'unmarshall': 16255, 'xml elements': 17927, 'elements name': 4941, 'name different': 10292, 'attribute values': 1368, 'class members': 2581, 'javascript events': 8351, 'toggle button': 15722, 'button trigger': 1897, 'button form': 1873, 'value html': 16915, 'aspnet code': 1266, 'store string': 14844, 'another view': 903, 'phpstorm': 11712, 'accessed': 433, 'magic': 9415, 'router': 13400, 'uitableviewcells': 16091, 'message body': 9712, 'type class': 15975, 'synchronize': 15261, 'line string': 9004, 'always returns': 763, 'returns false': 13332, 'infowindow': 7631, 'js api': 8596, 'msbuild': 10037, 'jenkins': 8450, 'nsurlconnection': 10609, 'java print': 8213, 'sun': 15180, 'manytoone': 9517, 'manytoone relationship': 9518, 'custom field': 3668, 'add header': 536, 'request java': 13105, 'xss': 17971, 'attack': 1347, 'style attribute': 15081, 'gone': 6822, 'key values': 8744, 'link function': 9022, 'function angularjs': 6346, 'vnext': 17264, 'aspnet 5': 1261, '5 vnext': 300, 'macro': 9407, 'sass': 13589, 'requiring': 13140, 'less css': 8923, 'adding jar': 589, 'ready': 12750, 'file one': 5810, 'one server': 10923, 'sliding': 14381, 'c linux': 1933, 'putting': 12308, 'jqueryui': 8592, 'ajax php': 676, 'php variables': 11689, 'equivalent java': 5115, 'day month': 3993, 'link image': 9024, 'image php': 7444, 'jquery hide': 8541, 'change dropdown': 2293, 'twice': 15893, 'outside bounds': 11116, 'linux using': 9080, 'make spring': 9468, 'mvc project': 10207, 'linux server': 9079, 'way determine': 17344, 'autocompletion': 1411, 'included file': 7557, 'resetting': 13149, 'beginning': 1600, 'mstest': 10042, 'redirecting': 12840, 'found type': 6268, 'practise': 11970, 'directorygetfiles': 4378, 'locked': 9281, 'best practise': 1626, 'stuck': 15063, 'running command': 13539, 'java tomcat': 8260, 'instantiate': 7840, 'save video': 13607, 'video stream': 17184, 'resolves': 13167, 'internal': 7919, 'python print': 12407, 'heroku app': 7063, 'underline': 16171, 'windows azure': 17587, 'service start': 14059, 'getting wrong': 6763, 'files visual': 5908, 'studio 2008': 15067, 'liststring': 9159, 'call jquery': 2059, 'named parameters': 10313, 'auto login': 1403, 'within iframe': 17638, 'input validation': 7721, 'exist current': 5443, 'current context': 3625, 'manifest file': 9497, 'file new': 5805, 'new java': 10453, 'knockoutjs': 8780, 'mousemove': 10000, 'protractor': 12257, 'write error': 17835, 'error log': 5198, 'ini': 7638, 'manipulation': 9500, 'file format': 5774, 'set environment': 14114, 'environment variables': 5101, 'rails javascript': 12595, 'add javascript': 543, 'ball': 1507, 'underscores': 16177, 'page reload': 11189, 'lwjgl': 9389, 'create button': 3456, 'converting json': 3338, 'string objective': 14973, 'value pair': 16938, 'last word': 8855, 'working expected': 17767, 'guess': 6943, 'compatibility': 2948, 'based upon': 1556, 'drivers': 4693, 'fopen': 6136, 'reuse': 13341, 'primary keys': 12047, 'nondefault': 10542, 'use singleton': 16473, 'form value': 6203, 'cant insert': 2138, 'insert data': 7733, 'database android': 3845, 'execute javascript': 5419, 'function python': 6404, 'python selenium': 12423, 'clone': 2698, 'questions': 12523, 'error visual': 5258, 'studio c': 15072, 'rails create': 12586, 'change button': 2282, 'properties one': 12212, 'one object': 10914, 'simple c++': 14283, 'websocket client': 17468, 'ranges': 12654, 'word interop': 17715, 'stringformat': 15011, 'consider': 3108, 'literal': 9172, 'released': 12955, 'practices': 11969, 'best practices': 1625, 'javascript error': 8348, 'c++ exception': 1966, 'around': 1092, 'facebook api': 5590, 'facebook connect': 5593, 'data csv': 3751, 'csv mysql': 3600, 'using cakephp': 16568, 'two columns': 15914, 'nginclude': 10501, 'last element': 8844, 'array swift': 1183, 'bar plot': 1515, 'thing': 15580, 'floating': 6091, 'floating point': 6092, 'remove element': 12996, 'element arraylist': 4901, 'produces': 12131, 'php output': 11635, 'php curl': 11570, 'browser cache': 1809, 'remove spaces': 13017, 'java netbeans': 8204, 'text javascript': 15518, 'products': 12139, 'prestashop': 12017, 'unique key': 16221, 'set string': 14144, 'string data': 14921, 'max_execution_time': 9621, 'bottom page': 1763, 'nameerror': 10314, 'nameerror name': 10316, 'firefox extension': 6019, 'arguments method': 1086, 'method call': 9740, 'switch statement': 15239, 'rss': 13470, 'repeater control': 13055, 'control aspnet': 3222, 'aspnet 20': 1259, 'expensive': 5487, 'facebook php': 5600, 'php sdk': 11659, 'options select': 11050, 'select tag': 13837, 'tag using': 15378, 'hdfs': 7020, 'copying data': 3368, 'smtpclient': 14406, 'mod_wsgi': 9891, 'interaction': 7901, 'virtualenv': 17245, 'comprehension': 2996, 'list comprehension': 9093, 'spring framework': 14613, 'numpy scipy': 10695, 'unbind': 16137, '+ javascript': 111, 'javascript popup': 8393, 'easy': 4828, 'initialize char': 7649, 'char pointer': 2356, 'pointer class': 11830, 'pointer integer': 11833, 'integer java': 7872, 'two array': 15908, 'stringcontains': 15009, 'field property': 5699, 'name found': 10297, 'xamarin': 17890, 'appconfig': 992, 'appconfig file': 993, 'image via': 7468, 'defined type': 4103, 'checking python': 2473, 'python generate': 12367, 'random number': 12638, 'aggregation': 653, 'json array': 8622, 'using underscore': 16782, 'java problem': 8214, 'problem getting': 12100, 'getting errors': 6737, 'initialized': 7653, 'initializer': 7655, 'initializer list': 7656, 'two classes': 15912, 'encodings': 5024, 'get time': 6691, 'time two': 15673, 'two times': 15953, 'pylab': 12318, 'error module': 5204, '# check': 16, 'check type': 2441, 'cast object': 2201, 'way format': 17351, 'javas': 8309, 'concurrenthashmap': 3024, 'rails model': 12599, 'object int': 10735, 'expression replace': 5525, 'webform': 17440, 'send session': 13925, 'aspnet webform': 1287, 'reading writing': 12745, 'sqlite db': 14671, 'attr_accessor': 1355, 'conditionals': 3035, 'binary tree': 1656, 'edges': 4855, 'borders': 1758, 'conversion failed': 3257, 'failed converting': 5627, 'converting date': 3332, 'time character': 15646, 'python open': 12400, 'vertically': 17151, 'get 2': 6533, 'jersey client': 8452, 'using multithreading': 16683, 'jquery animate': 8504, 'printer': 12072, 'preferences': 11984, 'save changes': 13593, 'updatepanel': 16329, 'int32': 7865, 'entities recognize': 5073, 'recognize method': 12780, 'incomplete': 7566, '# like': 54, 'compiled': 2961, 'notepad++': 10573, 'recognizing': 12784, 'messing': 9724, '# read': 71, 'excel files': 5366, 'stackoverflow': 14708, 'recursive loop': 12814, 'loop list': 9356, 'call another': 2047, 'caught': 2223, 'prefix': 11987, 'jqueryajax': 8589, 'fire': 6010, 'success': 15153, 'callbacks': 2084, 'joined': 8481, 'query multiple': 12497, 'tables using': 15364, 'mysql_real_escape_string': 10272, 'established': 5280, 'soap web': 14421, 'service c': 14047, 'interval': 7942, 'pdf c': 11456, 'sql update': 14659, 'update table': 16320, 'table rows': 15351, 'rows one': 13452, 'check file': 2411, 'html entities': 7201, 'error failed': 5175, 'build gem': 1838, 'gem native': 6480, 'native extension': 10335, 'ajax form': 666, 'form submitting': 6198, 'jdbctemplate': 8447, 'hibernate jpa': 7081, 'sessionfactory': 14096, 'restful web': 13219, 'using phpunit': 16717, 'expire': 5490, 'dead': 4019, 'hanging': 6988, 'linux c++': 9076, 'lots': 9372, 'studio 2015': 15071, 'import xml': 7528, 'sort arraylist': 14470, 'arraylist objects': 1204, 'datetime format': 3981, 'javascript syntax': 8415, 'working php': 17782, 'php files': 11588, 'instance variables': 7835, 'openfiledialog': 10994, 'control using': 3227, '# winforms': 97, '50': 301, 'resize iframe': 13154, 'continuously': 3217, 'value input': 16916, 'middleware': 9822, 'arguments c': 1083, 'read string': 12719, 'string file': 14935, 'exchange': 5400, 'file server': 5831, 'server client': 14015, 'remove delete': 12992, 'delete image': 4126, 'windows services': 17605, 'scales': 13632, 'subtype': 15148, 'originally': 11078, 'server database': 14018, 'wpf datagrid': 17812, 'fly': 6100, 'csv files': 3599, 'files inside': 5895, 'pm': 11810, 'variable array': 17038, 'keys values': 8759, 'values dictionary': 16990, 'html input': 7208, 'value function': 16911, 'prepared statement': 11998, 'statement multiple': 14751, 'inputstream': 7725, 'convert double': 3278, 'file mysql': 5801, 'turning': 15887, 'java calling': 8140, 'moving object': 10020, 'screen using': 13682, 'using timer': 16777, 'timer class': 15688, 'concurrent': 3023, 'checkbox click': 2453, 'firing twice': 6024, 'tls': 15711, 'systemnetwebexception': 15303, 'could create': 3398, 'ssl tls': 14696, 'going': 6820, 'list without': 9138, 'capistrano': 2164, '127': 159, '4 +': 268, 'capistrano deploy': 2165, 'exit status': 5461, 'records using': 12802, 'using codeigniter': 16576, 'java object': 8206, 'jquery php': 8561, 'keyup': 8761, 'old value': 10859, 'leaflet': 8888, 'load data': 9192, 'mouse click': 9989, 'sequentially': 13978, 'splitting': 14591, 'parallelforeach': 11237, 'format mysql': 6225, 'end line': 5039, 'character python': 2364, 'array element': 1121, 'angular bootstrap': 829, 'bootstrap tabs': 1753, 'inside functions': 7782, 'returning object': 13317, 'map function': 9522, 'function method': 6389, 'java preparedstatement': 8212, 'iframes': 7367, 'winforms application': 17619, 'sqldatareader': 14666, 'type conversion': 15978, 'minute': 9847, 'check process': 2431, 'receives': 12771, 'checks': 2480, 'ascending': 1231, 'write program': 17845, 'program c++': 12147, 'ascending order': 1233, 'microsoft word': 9820, 'letters string': 8932, 'formatted': 6236, 'api error': 945, 'link url': 9033, 'predefined': 11977, 'density': 4157, 'functions using': 6440, 'using ggplot': 16618, 'ggplot r': 6765, 'make link': 9459, 'another page': 890, 'php mysqli': 11628, 'error converting': 5161, 'query results': 12503, 'metro': 9809, 'metro app': 9810, 'variables c': 17082, 'user profile': 16517, 'use undeclared': 16480, 'grade': 6868, 'average': 1442, 'grades': 6869, 'loop mysql': 9357, 'table php': 15347, 'attachments': 1346, 'scalar': 13628, 'must declare': 10178, 'scalar variable': 13629, 'pass parameters': 11361, 'connection c': 3085, 'string character': 14906, 'conversion c': 3254, 'criteria': 3536, 'executes': 5430, 'hibernate spring': 7086, 'dynamic checkbox': 4755, 'javascript page': 8389, 'proxy server': 12266, 'aspnet core': 1268, 'textbox c': 15551, 'remove duplicate': 12994, 'visit': 17250, 'js function': 8602, 'placeholders': 11760, 'measure': 9647, 'lower': 9375, 'lower case': 9376, 'growing': 6931, 'software': 14443, 'directories': 4365, 'unexpected character': 16184, 'character input': 2361, 'earth': 4821, '46': 292, 'load json': 9206, 'generic object': 6518, 'object json': 10742, 'check variable': 2447, 'type struct': 16005, 'stdvector': 14807, 'opencv mat': 10989, 'act': 461, 'audio stream': 1380, 'node xml': 10524, 'using xpath': 16802, 'jquery mouseover': 8554, 'decimal values': 4045, 'concatenating': 3014, 'files one': 5899, 'denied user': 4156, 'datalist': 3910, 'script command': 13688, 'c++ member': 1983, 'c++ get': 1970, 'window size': 17565, 'width height': 17533, 'choose': 2508, 'get session': 6673, 'two databases': 15917, 'navigator': 10353, 'delete update': 4137, 'expect': 5471, 'backward': 1498, 'python map': 12389, 'python subprocess': 12432, 'get post': 6646, 'file reading': 5824, 'boundaries': 1767, 'rewrite': 13348, 'rules': 13504, 'rewrite rules': 13350, 'checked radio': 2467, 'descriptors': 4189, 'kernel': 8724, 'assistance': 1317, '0 1': 122, '2 3': 180, '3 javascript': 240, 'using pdo': 16711, 'components': 2990, 'epoch': 5104, 'epoch time': 5105, '5 minutes': 297, 'springdatajpa': 14624, 'minified': 9839, 'radiobutton': 12564, 'php socket': 11672, 'cdi': 2233, 'junit test': 8698, 'holding': 7132, 'determine whether': 4237, 'jquery working': 8588, 'rerender': 13141, 'street': 14886, 'api get': 946, 'xsd': 17968, 'gui application': 6947, 'service application': 14046, 'meaning': 9644, 'programming c++': 12172, 'parsing java': 11311, 'determine number': 4235, 'elements inside': 4936, 'object null': 10752, 'two separate': 15944, 'popup windows': 11882, 'concurrently': 3025, 'run multiple': 13523, 'exception trying': 5394, 'trying call': 15862, 'systemargumentexception': 15291, 'nonascii': 10539, 'sound': 14490, 'play sound': 11780, 'xmlelement': 17953, 'bitmapimage': 1680, 'characters text': 2379, 'bitmap image': 1679, 'gulp': 6954, 'utf8 string': 16818, 'bars': 1519, 'working jquery': 17778, 'v2': 16825, 'api v2': 963, 'laravel php': 8819, 'production server': 12138, 'webclient': 17429, 'service using': 14060, 'using httpwebrequest': 16635, 'dots': 4629, 'ios device': 8000, 'restful webservice': 13220, 'dropdownlist': 4716, 'data xml': 3842, 'aspnet application': 1263, 'operand': 11013, 'operand type': 11014, 'type int': 15987, 'changing background': 2338, 'redraw': 12845, 'exc_bad_access': 5355, 'c++ xcode': 2012, 'querystring': 12519, 'need simple': 10366, 'display multiple': 4433, 'payments': 11449, 'following code': 6124, 'clr': 2718, 'executing sql': 5436, 'sql queries': 14650, 'hybrid': 7292, 'event fired': 5305, 'string split': 14989, 'download link': 4652, 'javascript match': 8377, 'camel': 2111, 'apache camel': 925, 'values hashmap': 16999, 'andengine': 790, 'delimiters': 4149, 'string multiple': 14966, 'entity entity': 5077, 'decoding': 4066, 'urllib': 16403, 'python3': 12448, '# equivalent': 39, 'equivalent c': 5114, 'library function': 8947, 'customized': 3707, 'evaluating': 5288, '64 bit': 321, 'c++ windows': 2010, 'returns undefined': 13338, 'php wordpress': 11696, 'extjs 4': 5567, 'row count': 13414, 'expected 1': 5473, 'method invocation': 9759, 'commit': 2918, 'mvc 6': 10193, 'succeeded': 15152, 'auto increment': 1401, 'increment value': 7578, 'input form': 7697, 'filenames': 5878, 'exercise': 5440, 'learn python': 8894, 'margins': 9547, 'gridlayout': 6905, 'chosen': 2511, 'value type': 16963, 'string type': 14996, 'imported': 7530, 'saving file': 13616, 'perfectly': 11489, 'dimensions': 4352, 'stl container': 14816, 'delegation': 4119, 'returns 404': 13326, 'uncaught referenceerror': 16144, 'ws': 17869, 'svg path': 15209, 'path relative': 11427, 'script executing': 13690, 'unique elements': 16218, 'using array': 16555, 'windowsh': 17612, 'cstring': 3595, 'textboxfor': 15564, 'initial value': 7642, 'screenshot': 13685, 'post json': 11933, 'matrix vector': 9603, 'weeks': 17487, 'want get': 17306, 'get number': 6634, 'hbase': 7019, 'scan': 13634, 'arrows': 1224, 'map java': 9523, 'set maximum': 14132, 'cuda': 3607, 'applescript': 1015, 'progressbar': 12178, 'listview row': 9168, 'row column': 13413, 'loop python': 9359, 'flip': 6080, 'httprequest': 7275, 'login website': 9312, 'vbnet 2010': 17113, 'one view': 10938, 'statement working': 14754, 'list c': 9090, 'authenticate': 1384, 'authenticate user': 1385, 'user active': 16493, 'directory using': 4377, 'io': 7982, 'network adapter': 10431, 'establish connection': 5279, 'whose': 17526, 'singleton class': 14339, 'passing parameter': 11396, 'insensitive': 7728, 'framework linq': 6294, 'linq contains': 9054, 'case insensitive': 2191, 'returns empty': 13330, 'google chart': 6838, 'sequences': 13976, 'decorators': 4068, 'want make': 17307, 'visitor': 17252, 'dbmigrate': 4009, 'quantile': 12480, 'normalize': 10565, 'single column': 14322, 'column r': 2851, 'comparisons': 2947, 'items using': 8074, 'store values': 14846, 'values array': 16978, 'rule': 13502, 'rule make': 13503, 'make target': 9471, 'occured': 10832, 'full url': 6335, 'overloading operator': 11132, 'pyside': 12324, 'lightweight': 8966, 'two properties': 15943, 'comparing 2': 2942, 'uitableview swift': 16088, 'vendor': 17131, 'data sets': 3816, 'horizontally': 7145, 'scroll div': 13715, 'robust': 13372, 'text textbox': 15534, 'platform': 11770, 'ios android': 7996, 'cross platform': 3551, 'phrase': 11715, 'finder': 5997, 'screen width': 13683, 'spring batch': 14603, 'php setting': 11667, 'arrow keys': 1223, 'dont show': 4622, 'chartjs': 2393, 'bar chart': 1512, 'countdown': 3426, 'finish': 6006, 'get table': 6686, 'based radio': 1549, 'button using': 1898, 'using prototype': 16724, 'mvc web': 10212, 'unique values': 16223, 'debug': 4026, 'net console': 10412, 'latex': 8861, 'export data': 5505, 'white': 17517, 'white space': 17518, 'expression javascript': 5521, 'hashing': 7011, 'string containing': 14915, 'special characters': 14520, 'grid view': 6904, 'view android': 17190, 'reading numbers': 12742, 'numbers text': 10684, 'tcp socket': 15423, 'javalangnosuchfielderror': 8292, 'trace': 15769, 'database without': 3878, '# programmatically': 69, 'get rid': 6665, 'everytime': 5342, 'execute method': 5420, 'class using': 2605, 'sql command': 14637, 'command c': 2899, 'asmx': 1248, 'property object': 12228, 'object inside': 10733, '18': 170, 'get multiple': 6627, 'multiple items': 10105, 'items one': 8073, 'convert dictionary': 3277, 'com port': 2872, 'many relationship': 9509, 'maven project': 9612, 'project java': 12186, 'java eclipse': 8164, 'add image': 538, 'image background': 7398, 'view swift': 17210, 'lambdas': 8800, 'child processes': 2497, 'compile error': 2955, 'error c': 5143, 'error expected': 5173, 'expected expression': 5477, 'simplexml_load_string': 14303, 'reliably': 12960, 'using youtube': 16804, 'youtube api': 17997, 'api aspnet': 940, 'display div': 4421, 'image database': 7410, 'get contents': 6558, 'using regular': 16737, 'expression find': 5519, 'file based': 5733, 'kml': 8776, 'merging multiple': 9708, 'behaviour': 1606, 'using id': 16636, 'php login': 11618, 'conversion error': 3256, 'error ruby': 5226, 'rails error': 12589, 'return multiple': 13281, 'extjs4': 5569, 'pressed': 12012, 'vs java': 17280, 'desktop application': 4208, 'full screen': 6333, 'site using': 14346, 'greater': 6894, 'less size': 8925, 'redeclare': 12821, 'previously': 12042, 'signature': 14266, 'asterisk': 1325, 'ellipse': 4950, 'get max': 6623, 'using regex': 16735, 'possible set': 11918, 'run selenium': 13529, 'without opening': 17677, 'opening browser': 11001, 'open popup': 10976, 'stack size': 14703, 'list java': 9116, 'eclipse plugin': 4847, 'delete record': 4132, 'two tables': 15949, 'send multiple': 13918, 'listboxitem': 9144, 'devices': 4254, 'set font': 14121, 'ios devices': 8001, 'react native': 12689, 'anyone': 916, 'getjson': 6722, 'returning 404': 13305, '404 found': 281, 'swift 30': 15222, 'binary image': 1650, 'class function': 2566, 'calculate date': 2031, 'customizing': 3708, 'xamarin forms': 17892, 'trying install': 15869, 'fire event': 6011, 'service client': 14050, 'hexadecimal': 7069, 'newline': 10479, 'filesystem': 5914, 'ruby rvm': 13493, 'developer': 4243, 'activities': 496, 'assignments': 1316, 'runtime error': 13561, 'downloading file': 4661, 'compile c': 2953, 'p tags': 11147, 'undefined type': 16169, 'create empty': 3465, 'column names': 2848, 'processstart': 12127, 'animating': 852, 'using html5': 16633, 'indexpath': 7606, 'uitableview cell': 16086, 'jquery code': 8518, 'text c': 15500, 'analytics': 782, 'google analytics': 6832, 'restart': 13212, 'uncaught exception': 16142, 'exception occurs': 5389, 'ce': 2234, 'c++ compiler': 1957, 'windows ce': 17590, 'lose': 9364, 'value page': 16937, 'file ajax': 5721, 'preferably': 11982, 'duplicate entries': 4737, 'condition variables': 3029, 'ruby sinatra': 13495, 'php css': 11569, 'css background': 3573, 'back button': 1470, 'server java': 14023, 'select2': 13843, 'load dynamic': 9195, 'dynamic library': 4767, 'situation': 14350, 'jquery click': 8517, 'click function': 2652, 'function working': 6428, 'linq statement': 9070, 'symfony doctrine': 15252, 'selected item': 13854, 'item array': 8051, 'square': 14681, 'aspect': 1255, 'ratio': 12665, 'keeping aspect': 8716, 'aspect ratio': 1256, 'inside repeater': 7796, 'left join': 8904, 'hook': 7139, 'fluent': 6095, 'fluent nhibernate': 6096, 'parent child': 11273, 'prevent browser': 12022, 'browser caching': 1810, 'img src': 7491, 'add html': 537, 'html css': 7191, 'css js': 3583, 'biggest': 1640, 'sent': 13952, 'modify header': 9942, 'header information': 7027, 'headers already': 7033, 'already sent': 746, 'maven dependency': 9608, 'method return': 9781, 'return string': 13290, 'jquery button': 8510, 'button press': 1888, 'java objects': 8207, 'get height': 6593, 'separated spaces': 13964, 'automatically detect': 1428, 'line 0': 8982, 'mysqli_query': 10278, 'copying one': 3369, 'meteor': 9728, 'meteor js': 9729, 'derive': 4178, 'recv': 12817, 'way using': 17385, 'c++ stl': 1999, 'hosting': 7149, 'shared hosting': 14189, 'linkedin': 9041, 'linkedin api': 9042, 'api without': 965, 'php mail': 11620, 'mail server': 9421, 'output php': 11109, 'gcm': 6473, 'php without': 11695, 'using curl': 16585, 'piece': 11732, 'mysql rows': 10253, 'server time': 14036, 'jsp page': 8684, 'navigating': 10344, 'method working': 9800, 'hour': 7152, 'running c++': 13538, 'c++ console': 1958, '# console': 21, 'console app': 3113, 'crop': 3545, 'facebook like': 5597, 'svg file': 15207, 'boostasio': 1739, 'django python': 4532, 'field values': 5705, 'trying set': 15876, 'set variable': 14151, 'onclick function': 10871, 'weight': 17488, 'joining': 8482, 'property values': 12235, 'remote true': 12979, 'python object': 12399, 'prop': 12200, 'react redux': 12690, 'warning failed': 17317, 'files java': 5896, 'profiling': 12144, 'hadoop': 6963, 'cleanup': 2635, 'var': 17029, 'version number': 17141, 'c++ error': 1965, 'error warning': 5259, 'cgi': 2272, 'python cgi': 12342, 'cgi script': 2273, 'c++11': 2014, 'use enum': 16434, 'error trying': 5241, 'regex match': 12910, 'part string': 11323, 'decorator': 4067, 'print function': 12060, 'output file': 11103, 'dplyr': 4667, 'r package': 12548, 'classcastexception': 2612, 'check php': 2430, 'php version': 11690, 'number using': 10669, '503': 306, 'make php': 9463, 'function aspnet': 6350, 'validate multiple': 16842, 'multiple form': 10094, 'one javascript': 10903, 'line number': 9000, 'certificate': 2267, 'server certificate': 14014, 'nested object': 10396, 'explain': 5495, 'window c': 17550, 'system time': 15288, 'numbers string': 10683, 'dock': 4559, 'php getting': 11598, 'getting values': 6762, 'values form': 16997, 'postgres': 11949, 'positioned': 11900, 'wrapping text': 17828, 'c++ return': 1994, 'const reference': 3128, 'class variable': 2606, 'bringing': 1801, 'loader': 9222, 'user password': 16516, 'password php': 11409, 'yield': 17989, 'case sensitive': 2192, 'get array': 6541, 'word count': 17711, 'data label': 3780, 'cell color': 2237, 'programming c': 12171, 'using inheritance': 16638, 'reversed': 13345, 'ggplot2 plot': 6767, 'branching': 1791, 'files php': 5900, 'accessing variables': 442, 'separated values': 13966, 'values string': 17021, 'string function': 14941, 'function arguments': 6349, 'maybe': 9632, 'image showing': 7453, 'z': 18005, 'friends': 6316, 'japanese': 8104, 'japanese characters': 8105, 'file windows': 5861, 'wcf client': 17389, 'null objects': 10625, 'referenceerror defined': 12875, 'responding': 13185, 'value dictionary': 16896, 'stored variable': 14855, 'variable python': 17067, 'undo': 16180, 'onetomany': 10943, 'delete selected': 4135, 'item listview': 8060, 'allocation': 716, 'memory allocation': 9678, 'allocate': 711, 'pointer array': 11826, 'array without': 1196, 'using new': 16692, 'read data': 12700, 'newlines': 10482, 'next page': 10492, 'excluding': 5404, 'payment': 11447, 'gateway': 6463, 'payment gateway': 11448, 'dataurl': 3929, 'create image': 3474, 'referring': 12881, 'object variable': 10778, 'variable name': 17060, 'name string': 10305, 'open local': 10972, 'window using': 17568, 'increasing': 7574, 'subsequence': 15135, 'get ip': 6606, 'vbnet mysql': 17118, 'nsnumber': 10600, 'div element': 4488, 'type error': 15980, 'argument 1': 1072, 'greek': 6896, 'creating excel': 3520, 'php save': 11656, 'prompt user': 12198, 'user download': 16504, 'hash map': 7002, 'notation': 10570, 'imply': 7516, 'outputting': 11114, 'xhtml': 17911, 'ask': 1244, 'win': 17541, 'textinput': 15570, 'get response': 6661, 'line php': 9002, 'viewmodels': 17224, 'sqlserver': 14678, 'board': 1715, 'cover': 3435, 'markers': 9554, 'implements': 7509, 'c++ string': 2000, 'programming language': 12173, 'orientation': 11074, 'angularjs controller': 841, 'dynamically added': 4788, 'dbcontext': 4007, 'session id': 14081, 'different databases': 4312, 'decrease': 4069, 'static libraries': 14774, 'install python': 7814, 'effects': 4877, 'persistent': 11515, 'list selection': 9128, 'query parameter': 12499, '__nsarraym': 349, 'could cast': 3395, 'cast value': 2203, 'pull': 12283, 'pull data': 12284, 'data one': 3793, 'column another': 2829, 'nested arrays': 10380, 'python using': 12441, 'path using': 11431, 'datagrid row': 3895, 'mixed': 9864, 'search api': 13741, 'invalid characters': 7956, 'characters xml': 2382, 'xml c': 17921, 'viewer': 17221, 'specifically': 14565, 'viewing': 17222, 'reporting': 13083, 'purposes': 12293, 'gets called': 6724, 'jboss': 8438, 'deployment': 4174, 'javalangunsupportedclassversionerror': 8303, 'class file': 2562, 'addition': 601, 'linux kernel': 9078, 'file linux': 5795, 'cocoa touch': 2728, 'mapkit': 9530, 'tfs': 15574, 'ajax upload': 684, 'different objects': 4322, 'java project': 8218, 'http connection': 7251, 'connection timeout': 3100, 'specific characters': 14527, 'cached': 2019, 'windows command': 17591, 'window javascript': 17558, 'display javascript': 4428, 'popup page': 11880, 'minification': 9838, 'cpanel': 3438, 'install django': 7810, 'strip': 15027, 'agility': 654, 'pack': 11148, 'attribute html': 1363, 'html string': 7223, 'string using': 14998, 'html agility': 7180, 'agility pack': 655, 'buffered': 1830, 'memory size': 9687, 'c++ linux': 1981, 'put data': 12305, 'data select': 3809, 'get users': 6699, 'users profile': 16538, 'gravity': 6888, 'current page': 3633, 'mediaplayer': 9658, 'always returning': 762, 'returning false': 13311, 'utc': 16809, 'contact': 3162, 'contact form': 3163, 'encoding issue': 5019, 'class properties': 2595, 'listbox items': 9142, 'get column': 6555, 'name type': 10306, 'cprogram': 3441, 'x86': 17888, 'find part': 5973, 'part path': 11322, 'crashing': 3448, 'returning nil': 13315, 'get string': 6682, 'unique id': 16219, 'failure': 5644, 'python unittest': 12438, 'jlabel': 8459, 'settext': 14162, 'tableviewcell': 15368, 'last inserted': 8845, 'value xml': 16972, '+ mysql': 113, 'restarting': 13213, 'files without': 5911, 'without restarting': 17686, 'angularjs app': 840, 'change file': 2295, 'cities': 2535, 'trying find': 15867, 'circle': 2531, 'timestamps': 15694, 'add element': 528, 'one list': 10908, 'explanation': 5496, 'presses': 12013, 'legal': 8910, 'path name': 11425, 'profiler': 12142, 'universal app': 16236, 'app windows': 989, 'windows 10': 17579, 'evaluation': 5289, 'empty lists': 4991, 'defined error': 4101, 'form page': 6187, '_session': 358, 'main method': 9433, 'method python': 9777, 'string based': 14899, 'xsl': 17969, 'crypto': 3560, 'writes': 17853, 'minimized': 9842, 'upload file': 16341, 'file amazon': 5723, 'get link': 6618, 'fileanother': 5870, 'use variable': 16484, 'variable defined': 17045, 'one php': 10918, 'i++': 7297, 'horizontal scroll': 7142, 'item selected': 8063, 'get length': 6617, 'dimensional arrays': 4351, 'scheduler': 13651, 'set fixed': 14118, 'ruby gems': 13488, 'client certificate': 2677, 'automation': 1433, 'c++ program': 1990, 'using static': 16762, 'stringempty': 15010, 'kb': 8711, 'using retrofit': 16740, 'select form': 13816, 'form mysql': 6185, 'converting html': 3334, 'element string': 4919, 'gauge': 6464, 'value dynamically': 16901, 'empty strings': 4998, 'grails': 6874, 'uploading image': 16363, 'image ios': 7428, 'third': 15584, 'create list': 3480, 'empty object': 4992, 'objectid': 10784, 'selected items': 13855, 'replacing': 13075, 'ignoring': 7374, 'punctuation': 12286, 'cellforrowatindexpath': 2246, 'path denied': 11420, 'denied error': 4155, 'hashcode': 7008, 'generate unique': 6494, 'python regular': 12413, 'pass data': 11344, 'tabbed': 15322, 'viewcontroller': 17216, 'changing text': 2343, 'get rails': 6653, 'function value': 6421, 'g': 6446, 'occurring': 10842, 'could instantiate': 3406, 'mail function': 9419, 'function error': 6374, 'menus': 9699, 'dropdown menus': 4709, 'checkbox jquery': 2454, 'api return': 960, 'return result': 13287, 'two variables': 15955, 'observe': 10824, 'observable': 10819, 'v3': 16826, 'map api': 9520, 'api v3': 964, 'string python': 14981, 'continue': 3211, 'json nested': 8636, 'nested array': 10379, 'array based': 1103, 'based user': 1557, 'packages': 11152, 'blur': 1713, 'using core': 16583, 'contained': 3168, 'convert hexadecimal': 3282, 'cant start': 2151, 'linker errors': 9046, 'line javascript': 8998, 'javascript time': 8416, 'nonui': 10561, 'couchbase': 3392, 'bulk': 1848, 'akka': 689, 'bulk insert': 1849, 'via java': 17165, 'java sdk': 8233, 'successfully': 15158, 'reading data': 12733, 'check function': 2413, 'line 1': 8983, 'undefined function': 16157, 'uwp': 16823, 'nth': 10612, 'dynamically generated': 4799, '403': 277, 'forbidden': 6137, '403 forbidden': 278, 'making ajax': 9481, 'function returns': 6410, 'large amount': 8822, 'hack': 6961, 'check element': 2408, 'set initial': 14126, 'dictionary python': 4281, 'win32 console': 17546, 'fileinput': 5874, 'python writing': 12447, 'writing file': 17857, 'stdin stdout': 14800, 'way remove': 17371, 'lists python': 9156, 'different pages': 4324, 'internal error': 7920, 'function ajax': 6344, 'smarty': 14393, 'multiple pages': 10121, 'map c++': 9521, 'coding': 2783, 'add rows': 560, 'imap': 7489, 'gmail using': 6810, 'data r': 3802, 'chance': 2278, 'c++ switch': 2002, 'remove text': 13021, 'canvas javascript': 2158, 'google calendar': 6837, 'mvc return': 10210, 'simple string': 14294, 'string json': 14956, 'json rest': 8649, 'trouble using': 15843, 'digit': 4342, 'one single': 10924, 'get float': 6586, 'float value': 6090, 'value two': 16962, 'two decimal': 15922, 'c language': 1931, 'cron job': 3542, 'lua c': 9385, 'c api': 1921, 'isnt working': 8033, 'error method': 5202, 'javascript form': 8356, 'value variable': 16967, 'creating dynamic': 3518, 'dynamic dropdown': 4760, 'dropdown selection': 4713, '__init__': 347, 'python module': 12393, 'props': 12241, 'await': 1447, 'ec2': 4830, 'www': 17873, 'amazon ec2': 768, 'recaptcha': 12765, 'preserve': 12009, 'form data': 6167, 'file exists': 5769, 'games': 6457, 'configurable': 3040, 'xml files': 17930, 'fields django': 5708, 'function used': 6419, 'qtcreator': 12473, 'use foreach': 16437, 'get elements': 6576, 'image upload': 7463, 'content script': 3190, 'script file': 13692, 'create object': 3485, 'hash ruby': 7003, 'date c': 3934, 'updating multiple': 16333, 'multiple models': 10117, 'models one': 9932, 'one controller': 10888, 'polymer': 11854, 'binding data': 1664, 'framework update': 6296, 'check object': 2427, 'sort array': 14469, 'date value': 3966, 'convert url': 3317, 'javascript html5': 8364, 'js application': 8597, 'angularjs directive': 842, 'object doesnt': 10724, 'doesnt support': 4598, 'support property': 15191, 'property method': 12223, 'delivery': 4150, 'signals': 14265, 'javascript send': 8406, 'send array': 13903, 'array ints': 1144, 'query based': 12487, 'dynamic html': 4763, 'concerns': 3019, 'unload': 16250, 'properties files': 12209, 'approach': 1053, 'popover': 11866, 'manual': 9502, 'bootstrap popover': 1752, 'visualize': 17261, 'service android': 14045, 'rake dbmigrate': 12628, 'selectmenu': 13878, 'getting selected': 6754, 'selected index': 13853, 'file c++': 5738, 'cs files': 3566, '2d arrays': 228, 'arrays java': 1213, 'nas': 10330, 'either': 4884, 'large dataset': 8827, 'get name': 6629, 'control wpf': 3231, 'wp7': 17801, 'app icon': 983, 'datetimefield': 3988, 'auto populate': 1404, 'working django': 17766, 'django forms': 4522, 'http client': 7250, '_server': 357, 'curve': 3651, 'c++ lambda': 1977, 'convert pandas': 3299, 'value php': 16941, 'find sum': 5985, 'less equal': 8924, 'given number': 6781, 'load javascript': 9204, 'x64': 17887, 'bluetooth': 1712, 'scheme': 13655, 'accept': 381, 'one many': 10910, 'worth': 17795, 'powershell script': 11964, 'script c': 13687, 'webelement': 17439, 'html text': 7228, 'typeerror str': 16023, 'decimal value': 4044, 'database c': 3848, 'arabic': 1058, 'cant write': 2154, 'xaml file': 17896, 'xml content': 17922, 'string regex': 14983, 'error loading': 5197, 'write code': 17831, 'code c++': 2740, 'sum values': 15176, 'values one': 17013, 'another column': 871, 'subcategory': 15092, 'unavailable': 16136, 'wont start': 17707, 'http error': 7252, 'htmlspecialchars': 7245, 'using css': 16584, 'pandas merge': 11222, 'certain columns': 2262, 'winrt': 17623, 'another html': 883, 'iso': 8034, '8601': 337, 'parse date': 11293, 'iso 8601': 8035, 'ideas': 7321, 'python find': 12363, 'find index': 5955, 'index item': 7592, 'item list': 8058, 'gridview aspnet': 6909, 'removed': 13027, 'value label': 16925, 'similarity': 14278, 'search results': 13754, 'search text': 13756, 'mysql connection': 10230, '# list': 56, 'packets': 11154, 'packet': 11153, 'udp packets': 16042, 'someone': 14455, 'tweet': 15891, 'using twitter': 16779, 'api php': 953, 'change label': 2308, 'label color': 8791, 'java switch': 8252, 'aspnet using': 1282, 'using vb': 16789, 'benefit': 1615, 'events dynamically': 5326, 'method ruby': 9784, 'test class': 15472, 'row index': 13425, 'header datagridview': 7023, 'high performance': 7110, 'ref': 12850, 'nunit test': 10698, 'javadoc': 8277, 'document java': 4567, 'java enum': 8166, '75': 328, 'iis 75': 7377, 'cumulative': 3609, 'subquery': 15129, 'query c': 12489, 'disable button': 4383, 'button text': 1896, 'solution using': 14448, 'using msbuild': 16680, 'child element': 2487, 'new thread': 10469, 'send mail': 13916, 'trycatch': 15857, 'coming': 2892, 'de': 4018, 'kit': 8774, 'java runtime': 8229, 'run eclipse': 13515, 'surface': 15200, 'div id': 4492, '# thread': 83, 'hibernate session': 7085, 'session spring': 14087, 'breakpoint': 1795, 'typeof': 16027, 'seperated': 13973, 'conversion string': 3259, 'string numbers': 14971, 'bean class': 1578, 'default constructor': 4080, 'wordpress get': 17720, 'content text': 3191, 'sample': 13584, 'element exists': 4908, 'add remove': 558, 'sorting array': 14486, 'objects php': 10812, 'specific order': 14549, 'datetime column': 3978, 'solve': 14450, 'ljavalangobject': 9179, 'minimize': 9841, 'length string': 8918, 'python user': 12440, 'int string': 7862, 'mvc application': 10196, 'save pdf': 13604, 'method one': 9768, 'monitoring': 9973, 'djangoadmin': 4545, 'build failed': 1837, 'hashes': 7009, 'strong': 15032, 'newly': 10483, 'return view': 13298, 'filtered': 5930, 'extending': 5537, 'model django': 9910, 'functionality': 6431, 'admin interface': 618, 'count number': 3421, 'async await': 1328, 'actionbar': 467, 'help creating': 7054, 'web scraping': 17415, 'dynamic form': 4761, 'form inputs': 6179, 'loses': 9366, 'push_back': 12299, 'c++ vector': 2007, 'net app': 10407, 'scheduling': 13652, 'imagebutton': 7473, 'behind aspnet': 1608, 'sentences': 13955, 'paragraph': 11233, 'positions': 11902, 'element javascript': 4912, 'read specific': 12718, 'response header': 13193, 'way parse': 17366, 'changed event': 2333, 'threadingtimer': 15605, 'read multiple': 12713, 'javascript select': 8405, 'positioning': 11901, 'actively': 485, 'connection could': 3089, 'could made': 3409, 'made target': 9410, 'target machine': 15406, 'machine actively': 9399, 'actively refused': 486, 'getting text': 6757, 'replace characters': 13061, 'characters java': 2371, 'jquery modal': 8553, 'format sql': 6229, 'considered': 3109, 'considered bad': 3110, 'query join': 12495, 'canvastodataurl': 2160, 'ie7 ie8': 7351, 'safe use': 13577, 'deserialize json': 4193, 'generating html': 6502, 'listobject': 9153, 'asp mvc': 1252, 'client server': 2683, 'save file': 13598, 'unknown column': 16242, 'field list': 5695, 'javautildate': 8431, 'columns r': 2864, 'fscanf': 6322, 'multiple column': 10081, 'column values': 2857, 'casting object': 2205, 'deep': 4074, 'deep copy': 4075, 'swift array': 15223, 'array class': 1108, 'pyspark': 12325, 'react +': 12686, 'jquery multiple': 8555, 'empty file': 4987, 'values xml': 17027, 'first page': 6041, 'monitor': 9972, 'excel c': 5361, 'css property': 3585, 'click using': 2662, 'express': 5514, 'edition': 4865, 'foreignkey': 6152, 'low': 9374, 'stable': 14699, 'served': 14003, 'static files': 14770, 'rollback': 13376, 'css class': 3574, 'image codeigniter': 7406, 'codeigniter form': 2773, 'text node': 15523, 'view button': 17194, 'class property': 2596, 'property set': 12229, 'set get': 14122, 'cant load': 2140, 'variables function': 17084, 'encoding python': 5022, 'rubygem': 13499, 'symbols architecture': 15248, 'applicable': 1018, 'applicable arguments': 1019, 'model view': 9926, 'qt c++': 12467, 'c++ development': 1962, 'styling': 15086, '__declspec': 343, 'need use': 10367, 'signal handler': 14262, 'pairs': 11214, 'python data': 12351, 'keyvalue pairs': 8764, 'multipart': 10065, 'javascript new': 8383, 'multiline': 10063, 'path windows': 11432, 'text 2': 15493, 'method php': 9774, 'file included': 5782, 'accepts_nested_attributes_for': 386, 'practical': 11966, 'use rails': 16465, 'locking': 9282, 'mysql blob': 10226, 'php html': 11601, 'jquery text': 8578, 'expired': 5491, 'facebook user': 5604, 'user access': 16491, 'best java': 1622, 'add text': 566, 'selector': 13879, 'undefined reference': 16166, 'attachment': 1345, 'size limit': 14357, 'impact': 7496, 'import statements': 7527, 'cpp file': 3440, 'tree java': 15813, 'value nested': 16930, 'parsing csv': 11306, 'periodically': 11502, 'get new': 6630, 'new value': 10472, 'current date': 3626, 'date android': 3932, 'handshake': 6986, 'data memory': 3785, 'uisplitviewcontroller': 16082, 'uinavigationcontroller': 16071, 'save values': 13606, 'values database': 16987, 'textbox value': 15560, 'php return': 11654, 'return array': 13268, 'get email': 6577, 'using gmail': 16621, 'stls': 14820, 'pieces': 11733, 'ticks': 15638, 'matplotlib plot': 9593, 'fields one': 5713, 'one function': 10898, 'array loop': 1155, 'onchange event': 10866, 'work around': 17735, 'divs': 4507, 'set folder': 14120, 'folder path': 6114, 'app config': 975, 'pipes': 11746, 'eclipse java': 4844, 'google play': 6848, 'play services': 11779, 'image aspnet': 7397, 'suppress': 15197, 'advanced': 634, 'caesar': 2021, 'cipher': 2530, 'caesar cipher': 2022, 'program c': 12146, 'unable install': 16121, 'specifier': 14570, 'note': 10571, 'error 1': 5127, 'missing type': 9858, 'type specifier': 16003, 'adding columns': 579, 'datagridview windows': 3907, 'codeigniter return': 2778, 'xmx': 17960, 'amounts': 775, 'large amounts': 8823, 'post get': 11932, 'web pages': 17411, 'text label': 15519, 'matter': 9604, 'height div': 7046, 'set width': 14152, 'arrays key': 1216, 'user authentication': 16497, 'session cookie': 14077, 'overwriting': 11141, 'legend': 8911, 'guide': 6951, 'nan': 10328, 'tried': 15826, 'parseint': 11302, 'error jquery': 5192, 'zipfile': 18017, 'error string': 5236, 'input string': 7712, 'instagram': 7807, 'instagram api': 7808, 'invalid date': 7959, 'iterable': 8077, 'cells excel': 2248, 'rows columns': 13442, 'using phpexcel': 16715, 'procedure using': 12110, 'php preg_replace': 11643, 'question mark': 12522, 'display textbox': 4451, 'mvvm pattern': 10221, 'dataframes': 3891, 'address php': 608, 'string image': 14945, 'browserify': 1821, 'multiplying': 10166, 'met': 9725, 'view iphone': 17202, 'mvc5': 10217, 'aspnet mvc5': 1276, 'data redirect': 3804, 'transport': 15801, 'display selected': 4444, 'selected option': 13856, 'form rails': 6190, 'escape characters': 5272, 'provided': 12259, 'pem': 11476, 'click menu': 2658, 'stat': 14742, 'button value': 1899, 'rows two': 13457, 'divs content': 4508, 'file jar': 5787, 'find main': 5963, 'error eclipse': 5167, 'value another': 16871, 'located': 9270, 'replace string': 13068, 'detect browser': 4221, 'browser close': 1811, 'htaccess redirect': 7174, 'inside jquery': 7788, 'ajax success': 683, 'combine multiple': 2877, 'multiple images': 10099, 'images one': 7483, 'display icon': 4425, 'frontend': 6320, 'mongoid': 9970, 'reporting services': 13084, 'predict': 11979, 'zipped': 18018, 'one time': 10931, 'wav': 17324, 'allowing': 725, 'prevent direct': 12023, 'gdi+': 6477, 'saving loading': 13619, 'generic error': 6512, 'occurred gdi+': 10836, 'axes': 1456, 'raster': 12661, 'form error': 6173, 'field method': 5696, 'method property': 9776, 'documentready': 4574, 'javascript calling': 8326, 'function one': 6395, 'variable parent': 17065, 'using pure': 16726, 'pure c': 12289, 'google drive': 6842, 'mysql statement': 10258, 'aggregate': 651, 'analysis': 781, 'scores': 13669, '301': 244, 'writable': 17829, 'rows using': 13458, 'buttons text': 1907, 'way convert': 17337, 'convert php': 3302, 'quit': 12532, 'method get': 9756, 'get sum': 6684, 'converted string': 3325, 'string column': 14909, 'random color': 12636, 'select data': 13806, 'data multiple': 3789, 'multiple lists': 10114, 'printf': 12073, 'important': 7529, 'external program': 5561, 'var_dump': 17030, 'die': 4291, 'listen': 9146, 'make java': 9457, 'add jquery': 544, 'access session': 417, 'blinking': 1698, 'remain': 12967, 'unrecognized selector': 16270, 'selector sent': 13880, 'sent instance': 13953, 'webconfig': 17430, '# sql': 80, 'unicode characters': 16205, 'characters mysql': 2374, 'formula': 6256, 'value based': 16877, 'pie': 11729, 'google pie': 6846, 'pie charts': 11731, 'using ant': 16551, 'ant script': 912, 'c++ function': 1968, 'rails generate': 12593, 'say': 13622, 'service reference': 14055, 'wifi': 17535, '# visual': 90, 'shared memory': 14192, 'check internet': 2418, 'internet connection': 7927, 'using script': 16747, '# vbnet': 89, 'connect multiple': 3071, 'sqlite3 database': 14675, 'database python': 3864, 'property within': 12236, 'operators': 11031, '26': 224, 'python version': 12442, 'php print': 11644, 'database file': 3858, 'dataframe using': 3890, 'using sqlalchemy': 16759, 'wiring': 17625, 'symfony2 twig': 15255, 'returning array': 13306, 'large numbers': 8832, 'error event': 5170, 'loading new': 9234, 'web form': 17407, 'event trigger': 5317, 'select rows': 13833, 'pthreads': 12272, 'database selected': 3867, 'unexpectedly': 16193, 'unwrapping': 16297, 'exc_bad_instruction': 5356, 'violation writing': 17234, 'writing location': 17859, 'crop image': 3546, 'dropdown option': 4710, 'post request': 11939, 'linq orderby': 9065, 'class static': 2599, 'structs': 15045, 'camelcase': 2113, 'stripe': 15028, 'java generic': 8180, 'generic class': 6510, 'determine type': 4236, 'membership': 9670, 'membership provider': 9671, 'array structs': 1181, 'objc': 10705, 'marked': 9551, 'intellisense': 7895, 'vs 2010': 17273, 'change width': 2329, 'perl': 11503, 'automatic reference': 1425, 'reference counting': 12857, 'class without': 2610, 'use django': 16432, 'json java': 8631, 'event object': 5315, 'firefox ie': 6020, 'ie chrome': 7343, 'automatically create': 1427, 'effect using': 4874, 'javascript canvas': 8327, 'routesrb': 13403, 'fields mysql': 5712, 'crm': 3539, '2011': 209, 'crm 2011': 3540, 'html pdf': 7219, 'c unix': 1943, 'uitabbar': 16083, 'syntaxerror': 15273, 'syntaxerror missing': 15274, 'timed': 15678, 'twodimensional array': 15961, 'issues using': 8046, 'items listview': 8072, 'defining': 4106, 'jasperreport': 8115, 'directory path': 4373, 'accessible': 435, 'class definition': 2556, 'trying create': 15866, 'missing values': 9861, 'primitive types': 12055, 'alive': 709, 'random order': 12640, 'webinf': 17444, 'webinf lib': 17445, 'mouse coordinates': 9991, 'dont match': 4621, 'labels': 8794, 'x axis': 17878, 'axis labels': 1458, 'think': 15582, '# wpf': 100, 'rest service': 13208, 'anchor link': 786, 'grunt': 6932, 'object method': 10747, 'template class': 15440, 'ashx': 1242, 'nullable': 10632, 'char c++': 2353, 'theres': 15579, 'occurance': 10831, 'find common': 5940, 'element list': 4914, 'val': 16830, 'ajax function': 667, 'python difference': 12356, 'subdirectory': 15097, 'java collections': 8147, 'string number': 14970, 'name using': 10308, 'execute function': 5416, 'load event': 9197, 'jpg': 8496, 'jpg image': 8497, 'image java': 7429, 'page display': 11167, 'display error': 4422, 'ms excel': 10034, 'applicationcontext': 1043, 'setting session': 14170, 'mvc action': 10194, 'remove items': 13008, 'pass multiple': 11356, 'parameters javascript': 11265, 'javascript functions': 8358, 'print results': 12065, 'associations': 1321, 'objects based': 10800, 'jquery submit': 8576, 'link click': 9019, 'values multiple': 17009, 'file input': 5783, 'ef': 4869, 'ef 6': 4870, 'alertdialog': 698, 'oracle jdbc': 11055, 'simplify': 14305, 'inputted': 7726, 'single line': 14327, 'rabbitmq': 12558, 'error connect': 5156, 'mootools': 9984, 'wcf web': 17393, 'mssql': 10041, '33': 256, 'way access': 17328, 'python 33': 12334, 'blocked': 1706, 'iis7': 7379, 'referrer': 12880, 'formatting': 6240, 'mac address': 9395, 'chromes': 2524, 'inspect': 7804, 'html editor': 7197, 'inspect element': 7805, 'glassfish server': 6793, 'mpmovieplayercontroller': 10029, 'playing': 11786, 'kafka': 8709, 'polling': 11850, 'cancel button': 2118, 'django templates': 4540, 'decrypt': 4071, 'encrypt decrypt': 5027, 'using rsa': 16741, 'unmarshal': 16254, 'media type': 9655, 'type text': 16008, 'ie 11': 7339, 'full width': 6336, 'parents': 11289, 'weird error': 17491, 'phonegap android': 11530, 'android error': 802, 'error uncaught': 5247, 'defined file': 4102, 'content php': 3189, 'regex find': 12906, 'find id': 5954, 'way split': 17379, 'split text': 14590, 'spaces javascript': 14505, 'return boolean': 13269, 'controller spring': 3242, 'replaces': 13074, 'add elements': 529, 'elements arraylist': 4932, 'elements java': 4937, 'char int': 2355, 'regex pattern': 12913, 'get youtube': 6710, 'youtube video': 18000, 'video id': 17182, 'insert value': 7754, 'value one': 16936, 'one table': 10929, 'table another': 15326, 'update mysql': 16309, 'mysql php': 10248, 'servers': 14041, 'way run': 17373, 'keyword argument': 8766, 'placement': 11761, 'vars': 17105, 'j2me': 8099, 'loading page': 9235, 'help writing': 7057, 'writing data': 17856, 'runner': 13534, 'activeadmin': 484, 'oracle database': 11053, 'image c': 7403, 'js files': 8601, 'files via': 5907, 'via https': 17164, 'check username': 2445, 'objectreference': 10795, 'objectreference set': 10796, 'statically': 14784, 'member variables': 9668, 'variables java': 17088, 'nspredicate': 10602, 'custom format': 3675, 'jwt': 8706, 'column id': 2844, 'column type': 2854, 'generated html': 6498, 'aspnet gridview': 1269, 'csrf': 3569, 'verification': 17133, 'countdown timer': 3427, 'classic': 2617, 'classic asp': 2618, 'add scroll': 561, 'find current': 5941, 'current directory': 3629, 'rubygems': 13500, 'polyline': 11853, 'create custom': 3460, 'multiple urls': 10152, 'identity column': 7330, 'g++': 6447, 'add click': 517, 'html tags': 7227, 'array null': 1160, 'c program': 1936, 'listview item': 9167, 'multibyte': 10056, 'jcombobox': 8442, 'possible create': 11911, 'custom attribute': 3655, 'another list': 886, 'c++ include': 1973, 'two characters': 15911, 'get text': 6688, 'text value': 15537, 'value object': 16934, 'pie chart': 11730, 'getting input': 6743, 'input date': 7689, 'using functions': 16613, 'query mysql': 12498, 'populated': 11876, 'query using': 12514, 'success function': 15154, 'follow': 6120, 'mapped': 9531, 'databind': 3880, 'crossbrowser': 3552, 'columns data': 2861, 'fake': 5645, 'send sms': 13926, 'select multiple': 13825, 'python array': 12338, 'significant': 14269, 'bar graph': 1514, 'method returns': 9783, 'returns wrong': 13339, 'wrong value': 17868, 'file swift': 5840, 'show google': 14230, 'map using': 9528, 'use php': 16461, 'php variable': 11688, 'variable ajax': 17036, 'modern': 9935, 'methods return': 9805, 'return results': 13288, 'returning wrong': 13322, 'assemblies': 1295, 'create xml': 3505, 'file specific': 5833, 'structure java': 15049, 'function return': 6408, 'fancybox': 5653, 'height width': 7048, 'image click': 7405, 'annotated': 856, 'unable cast': 16111, 'uninstall': 16212, 'lion': 9082, 'php apache': 11548, 'property length': 12221, 'length undefined': 8919, 'scrollbar': 13723, 'jquery custom': 8521, 'doesnt update': 4599, 'aspnet c': 1265, 'form jquery': 6181, 'connection error': 3090, 'programmatic': 12158, 'update data': 16300, 'data listview': 3782, 'server compact': 14016, 'belongs': 1611, 'unhashable': 16200, 'python typeerror': 12436, 'unhashable type': 16201, 'type list': 15991, 'concatenate two': 3013, 'arrays c++': 1210, 'cant push': 2143, 'recognized': 12781, 'handle multiple': 6973, 'multiple inputs': 10102, 'keep getting': 8713, 'getting undefined': 6759, 'elements using': 4944, 'unreadable': 16268, 'add background': 512, 'form get': 6177, 'method allowed': 9733, 'monotouch': 9976, 'robot': 13371, 'good idea': 6827, 'crossdomain': 3553, 'css classes': 3575, 'unity3d': 16234, 'memory management': 9686, 'vbnet linq': 17117, 'check list': 2421, 'list one': 9124, 'calculated': 2038, 'calculated column': 2039, 'hangman': 6989, 'interrupt': 7938, 'raw_input': 12670, 'class aspnet': 2546, 'get content': 6557, 'beautiful': 1589, 'python library': 12380, 'ascii table': 1240, 'visualstudio': 17262, 'android client': 796, 'old version': 10860, 'app store': 986, '41': 285, 'framework 41': 6286, 'database created': 3853, 'null check': 10618, 'update existing': 16303, 'inside div': 7776, '52': 310, 'php 52': 11539, 'importerror module': 7533, 'sources': 14500, 'display time': 4452, 'time different': 15653, 'different time': 4331, 'third party': 15585, 'php excel': 11581, 'debug release': 4030, 'left outer': 8906, 'outer join': 11090, 'join linq': 8475, 'isolate': 8037, 'http headers': 7255, 'method another': 9735, 'another window': 905, 'sql connection': 14638, 'add css': 520, 'gridview excel': 6914, 'anyobject': 915, 'member named': 9666, 'pythons': 12452, '16': 166, 'celery': 2235, 'attribute __getitem__': 1357, 'worker': 17753, 'worker thread': 17754, 'systemcurrenttimemillis': 15292, 'xp': 17962, 'windows xp': 17608, 'using foreach': 16609, '400': 273, 'payload': 11446, '400 bad': 274, 'bad request': 1504, 'wcf rest': 17390, 'builtin function': 1847, '2 tables': 194, 'radius': 12566, 'tomcat using': 15737, 'unexpected error': 16187, 'array hashes': 1132, 'php post': 11641, 'request data': 13098, 'max size': 9618, 'statement inside': 14748, 'jboss 7': 8439, 'universal windows': 16237, 'app c': 974, 'formbased': 6242, 'apache httpclient': 928, 'one way': 10939, 'constraint fails': 3139, 'hash table': 7005, 'generic list': 6515, 'redirect external': 12826, 'external page': 5558, 'array parameter': 1165, 'parameter function': 11245, 'function c++': 6354, 'variables need': 17090, 'jquery show': 8573, 'two column': 15913, 'column table': 2853, 'doxygen': 4666, 'addin': 576, 'parentheses': 11287, 'mono': 9974, 'using statement': 16761, 'window open': 17560, 'fullcalendar': 6337, 'jquery fullcalendar': 8536, 'wont show': 17706, 'second time': 13768, 'already started': 747, 'cors': 3390, 'data validation': 3835, 'innertext': 7680, 'get input': 6602, 'pdf page': 11463, 'blink': 1697, 'dictionary lists': 4280, '500 internal': 304, 'jquery smooth': 8575, 'smooth scrolling': 14396, 'scrolling page': 13727, 'find function': 5952, 'function class': 6362, 'c++ pass': 1987, 'file web': 5860, 'web url': 17420, 'returns nil': 13334, 'php compare': 11562, 'real time': 12753, 'function jquery': 6387, 'rails application': 12581, 'unable deploy': 16115, '0xc0000005': 129, '0xc0000005 access': 130, 'violation reading': 17233, 'reading location': 12740, 'exception details': 5381, 'xwwwformurlencoded': 17972, 'type application': 15967, 'output json': 11107, 'dynamic values': 4781, 'access files': 402, 'surfaceview': 15201, 'show loading': 14235, 'loading screen': 9236, 'touch 2': 15762, 'get twitter': 6694, 'twitter user': 15904, 'professional': 12140, 'enterprise': 5069, 'image source': 7456, 'defaults': 4091, 'formed': 6244, 'secondary': 13769, 'manytomany': 9513, 'adding values': 600, 'data servlet': 3814, 'servlet jsp': 14070, 'jsp using': 8688, 'table sorting': 15352, 'create new': 3484, 'forms c': 6250, 'repaint': 13050, 'numbers array': 10675, 'adding multiple': 590, 'multiple markers': 10115, 'markers google': 9555, 'maps javascript': 9540, 'file image': 5781, 'origin': 11076, 'use struct': 16477, 'stylesheet': 15084, 'welcome': 17494, 'welcome page': 17495, 'odata': 10846, 'search array': 13742, 'array keys': 1152, 'default values': 4089, 'rails gem': 12592, 'angular template': 835, 'java webservice': 8269, 'parameter values': 11257, 'namespace prefix': 10321, 'initialisation': 7643, 'localhost8080': 9260, 'every second': 5338, 'richfaces': 13358, 'lxmlhtml': 9393, 'findby': 5996, 'php regex': 11650, 'regex remove': 12915, 'remove everything': 13000, 'ifdef': 7356, '# ifdef': 50, 'controlling': 3248, 'ff': 5681, 'ie ff': 7344, 'one form': 10897, 'page another': 11160, 'php split': 11673, 'start stop': 14735, 'nearest': 10358, 'ultimate': 16105, 'work well': 17749, 'code error': 2744, 'bindingsource': 1672, 'url parameters': 16387, 'parameters python': 11267, '1000': 145, 'format number': 6226, 'colour': 2825, 'fall': 5646, 'porting': 11890, 'library java': 8948, 'public static': 12279, 'large array': 8824, 'max value': 9619, 'stand': 14714, 'echo variable': 4833, 'variable html': 17052, 'plot multiple': 11796, 'two numbers': 15940, 'numbers list': 10680, 'list numbers': 9121, 'unescape': 16181, 'escape sequences': 5274, 'choices': 2507, 'symfony2 form': 15254, 'creating array': 3513, 'catching exceptions': 2218, 'value reference': 16945, 'ld': 8877, 'usr bin': 16807, 'bin ld': 1646, 'ld find': 8878, 'nodejs express': 10528, 'post parameters': 11937, 'first word': 6047, 'day week': 3994, 'last character': 8841, 'bytearray': 1917, 'javascript loading': 8375, 'callable': 2078, 'str object': 14866, 'object callable': 10715, 'view controller': 17197, 'subscribe': 15130, 'converting string': 3340, 'aspnet mvc3': 1274, 'rest services': 13209, 'python change': 12343, 'data web': 3839, 'simple example': 14285, 'timer c': 15687, 'qt application': 12466, 'application windows': 1040, 'cocoapods': 2729, 'pods': 11816, 'plus': 11807, 'end date': 5036, 'start date': 14731, 'date using': 3965, 'array get': 1129, 'allows': 726, 'first last': 6035, 'last name': 8850, 'geting': 6721, 'creating instance': 3523, 'identifying': 7328, 'displaying images': 4459, '16 bit': 167, '32 bit': 252, 'image opencv': 7441, 'private variable': 12093, 'multiple xml': 10161, 'xml nodes': 17937, 'indexes': 7602, 'analytics api': 783, 'jade': 8103, 'path file': 11422, 'ext': 5532, '# enum': 38, 'values sql': 17020, 'picking': 11722, 'url string': 16395, 'without page': 17678, 'jsp pages': 8685, 'window height': 17557, 'ee': 4868, 'advice': 640, 'java ee': 8165, 'java command': 8148, 'unable set': 16131, 'css properties': 3584, 'read socket': 12717, 'input stream': 7711, 'multithreaded environment': 10173, 'creating class': 3515, 'class based': 2548, 'ansi': 906, 'convert unicode': 3315, 'list type': 9132, 'ifelse statements': 7359, 'php command': 11561, 'client python': 2682, 'label button': 8790, 'class attribute': 2547, 'index page': 7594, 'username using': 16533, 'using session': 16751, 'spring 4': 14600, 'page content': 11166, 'ms word': 10036, 'way override': 17365, 'function onclick': 6394, 'javascript replace': 8400, 'matches regex': 9581, 'last item': 8846, 'appropriate': 1054, 'localization': 9261, 'convert nsstring': 3293, 'access web': 430, 'delete last': 4128, 'later': 8859, 'cin': 2529, 'database tables': 3870, 'number python': 10661, 'getting object': 6751, 'previous value': 12041, 'adding custom': 580, 'dismissing': 4410, 'modal view': 9897, 'freed': 6303, 'aspnet webapi': 1286, 'ndk': 10356, 'android ndk': 810, 'listview column': 9164, 'value inside': 16918, 'configured': 3049, 'converting array': 3329, 'covered': 3437, 'value specific': 16952, 'specific node': 14546, 'ant build': 911, 'httprequestmessage': 7276, 'check given': 2414, 'returning 0': 13304, 'seed': 13781, 'generating random': 6503, 'numbers c': 10676, 'scrolltop': 13730, 'period': 11500, 'extract text': 5579, 'hitting': 7129, 'soap message': 14417, 'tcp connection': 15418, 'sending http': 13937, 'oop': 10956, 'jquery aspnet': 8506, 'initialized error': 7654, 'uninitialized constant': 16211, 'ruby string': 13496, 'jquery object': 8556, 'gmt': 6812, 'mysql timestamp': 10262, 'parameter count': 11244, 'type double': 15979, 'docs': 4562, 'eclipse project': 4848, 'endless': 5046, 'customize': 3706, 'find method': 5966, 'flatten': 6076, 'array arrays': 1101, 'overriding method': 11139, 'synchronization c': 15260, 'add multiple': 551, 'multiple functions': 10096, 'one file': 10895, 'visualization': 17260, 'djangos': 4547, 'filefield': 5873, 'smaller': 14390, 'remove key': 13009, 'maintain': 9437, 'new url': 10470, 'sending multiple': 13943, 'multiple requests': 10130, 'reducing': 12848, 'url web': 16399, 'dynamically creating': 4797, 'resttemplate': 13230, 'java bean': 8135, 'insert item': 7739, 'timing': 15697, 'string instead': 14949, 'file_put_contents': 5869, 'saves': 13611, 'half': 6965, 'items list': 8070, 'error cant': 5149, 'laravel project': 8820, 'project netbeans': 12187, 'library use': 8955, 'iphone using': 8024, 'disable javascript': 4390, 'godaddy': 6818, 'resize image': 13155, 'image fit': 7417, 'json parse': 8641, 'correct format': 3379, 'consuming': 3160, 'alamofire': 690, 'xml json': 17934, 'file array': 5728, 'array one': 1164, 'multiple instances': 10103, 'class override': 2590, 'field names': 5698, 'xlsx': 17916, 'byte stream': 1915, 'facebook share': 5603, 'function data': 6367, 'another file': 879, 'without spaces': 17691, 'tutorial': 15889, 'port communication': 11885, 'delegates c': 4118, 'retain': 13245, 'build json': 1839, 'array collection': 1109, 'parameter url': 11253, 'url php': 16389, 'uploading files': 16362, 'using requests': 16738, 'java reading': 8221, 'linked lists': 9040, 'javascript switch': 8414, 'find value': 5990, 'pil': 11736, '2 lists': 191, 'cameras': 2116, 'machine using': 9401, 'link using': 9034, 'array empty': 1123, 'codeigniter get': 2774, 'typeerror int': 16019, 'int object': 7861, 'object iterable': 10738, 'django 14': 4511, 'template tag': 15447, 'cloning': 2699, 'count rows': 3424, 'select statement': 13835, 'text within': 15540, 'input box': 7683, 'angular ui': 836, 'ui router': 16051, 'using template': 16773, 'j2ee': 8098, 'scratch': 13676, 'python equivalent': 12359, 'define macro': 4097, 'error 404': 5131, 'constructor destructor': 3149, 'java set': 8240, 'mappings': 9536, 'alphabets': 737, 'multiples': 10162, 'using entity': 16600, 'conditions': 3036, 'multiple conditions': 10083, 'lambda function': 8799, 'variable equal': 17048, 'apns': 969, 'providers': 12261, 'dom elements': 4606, 'force download': 6141, 'codeigniter pagination': 2776, 'session_start': 14095, 'like query': 8972, 'framework 4': 6284, 'wrapped': 17825, 'socket c': 14428, 'list entities': 9104, 'sorting algorithm': 14485, 'centos': 2253, '54': 312, 'running php': 13546, 'error class': 5152, 'string class': 14908, 'reverse order': 13344, 'order string': 11062, 'string one': 14975, 'linq lambda': 9063, 'get attribute': 6542, 'dashes': 3729, 'object spring': 10768, 'spring web': 14621, 'cgridview': 2275, 'request using': 13120, 'accepting': 384, 'suddenly': 15159, 'code android': 2735, 'gem rails': 6481, 'uncaught syntaxerror': 16145, 'syntaxerror unexpected': 15275, 'header row': 7031, 'row csv': 13415, 'csv using': 3603, 'query php': 12501, 'throws error': 15627, 'italic': 8048, 'need make': 10365, 'mathematical': 9588, 'load css': 9190, 'maven eclipse': 9609, 'eclipse ide': 4842, 'blob data': 1700, 'file javascript': 5789, 'javascript java': 8369, 'sdl': 13737, 'using opengl': 16706, 'navigation controller': 10347, 'rgb': 13353, 'rgb value': 13354, 'authentication using': 1393, 'webservices': 17461, 'error sending': 5229, 'extracting data': 5581, 'data google': 3767, 'google spreadsheet': 6853, 'sqlconnection': 14665, 'set css': 14105, 'css style': 3588, 'php dom': 11576, 'im trying': 7391, 'selectedvalue': 13868, 'pyc': 12313, 'whilst': 17516, 'possible stop': 11919, 'pyc files': 12314, 'beta': 1630, 'swift xcode': 15230, 'xcode 6': 17903, '6 beta': 317, 'path image': 11423, 'responds': 13186, 'program find': 12149, 'binary search': 1654, 'escape character': 5271, 'pairwise': 11215, 'onetomany relationship': 10944, 'eloquent orm': 4952, 'option select': 11042, 'pid': 11728, 'value dropdownlist': 16900, 'java jar': 8193, 'objects list': 10810, 'markup': 9558, 'lazy loading': 8876, 'redirect another': 12824, 'media player': 9653, 'registering': 12926, 'method c': 9738, 'rownames': 13438, 'convert data': 3272, 'move image': 10011, 'generate xml': 6495, 'xml output': 17939, 'display value': 4453, 'value list': 16926, 'list based': 9088, 'based key': 1546, 'generic type': 6521, 'xlsx file': 17917, 'summing': 15178, 'ppt': 11965, 'setinterval': 14156, 'query database': 12490, 'database mysql': 3862, 'skip first': 14364, 'first line': 6037, 'representation': 13091, 'return false': 13276, 'rails get': 12594, 'php echo': 11577, 'objects using': 10816, 'finding first': 6000, 'laravel 5': 8809, 'using pandas': 16708, 'pandas python': 11223, 'load dll': 9194, 'network drive': 10432, 'using oledb': 16701, 'json jquery': 8633, 'unable open': 16125, 'open database': 10962, 'file django': 5759, 'facebook app': 5591, 'javascript set': 8408, 'set height': 14124, 'php java': 11609, 'jquery validation': 8586, 'validation allow': 16849, 'communications': 2925, 'create java': 3477, 'java servlet': 8238, 'setdata': 14155, 'column chart': 2831, 'add textbox': 567, 'pass array': 11343, 'string url': 14997, 'without reloading': 17684, 'breakpoints': 1796, 'work eclipse': 17738, 'ddd': 4015, 'great': 6893, 'source c': 14494, '# project': 70, 'read line': 12710, 'file ruby': 5828, 'remove default': 12991, 'datetime mysql': 3982, 'background colour': 1482, 'digit number': 4343, 'override method': 11136, 'active admin': 480, 'webapi 2': 17422, 'access request': 415, 'request body': 13096, 'normally': 10567, 'az': 1461, 'way return': 17372, 'x coordinates': 17879, 'reliable': 12958, 'referer': 12879, 'compiler errors': 2965, 'dynamically select': 4807, 'isset': 8040, 'start c': 14730, 'javascript runtime': 8402, 'unable get': 16118, 'undefined null': 16163, 'null reference': 10628, 'uploading multiple': 16366, 'create class': 3458, 'class files': 2563, 'running python': 13549, 'drawer': 4679, 'navigation drawer': 10348, 'window wpf': 17570, 'banner': 1509, 'java_home': 8274, 'referenced': 12870, 'make file': 9453, 'changing color': 2339, 'database query': 3865, 'string variable': 15003, 'javascript get': 8359, 'get screen': 6669, 'mysql_result': 10273, 'insert image': 7738, 'anyone know': 917, 'c++ project': 1991, 'utf': 16811, 'whitespaces': 17521, 'firewall': 6022, 'launched': 8867, 'admin site': 622, 'build error': 1836, 'failed task': 5639, 'child row': 2499, 'timeline': 15679, 'rails tutorial': 12612, 'find table': 5987, 'using mysql': 16686, 'stringstream': 15025, 'c++ const': 1959, 'fontawesome': 6131, 'programmatically get': 12165, 'want use': 17309, 'value child': 16885, 'child page': 2494, 'query two': 12512, 'static constructor': 14763, 'called twice': 2087, 'data object': 3792, 'sql insert': 14647, 'c++ template': 2003, 'picker': 11721, 'routeprovider': 13399, 'disappearing': 4399, 'converting integer': 3336, 'multicolumn': 10057, 'one method': 10911, 'run jar': 13517, 'console input': 3116, 'page scrolling': 11191, 'value empty': 16903, '1054': 148, 'column found': 2840, '1054 unknown': 149, 'name field': 10295, 'color based': 2810, 'rows csv': 13443, 'particular column': 11334, 'new record': 10463, 'nongeneric': 10549, 'ilist': 7380, 'ilistt': 7381, 'typecasting': 16013, 'int double': 7858, 'way escape': 17348, 'forms using': 6254, 'indexof': 7605, 'storage': 14832, 'new lines': 10456, 'spent': 14577, 'text uilabel': 15535, 'concise': 3020, 'httppost': 7274, '# mvc': 60, 'nets': 10428, 'slashes': 14370, 'backslashes': 1495, 'linq left': 9064, 'buttons dynamically': 1905, 'another button': 868, 'crawling': 3451, 'vertical scroll': 17150, 'web based': 17402, 'change values': 2327, 'electron': 4895, 'guessing': 6944, 'game python': 6454, 'use ajax': 16416, 'code php': 2755, 'xslt': 17970, 'link text': 9032, 'error calling': 5148, 'request c': 13097, 'data attribute': 3739, 'single click': 14321, 'operator c++': 11027, 'jsonstringify': 8676, 'json output': 8640, 'linux command': 9077, 'inbox': 7546, 'controller ajax': 3235, 'via code': 17157, 'testsuite': 15491, 'nonstatic': 10558, '256': 223, 'debug assertion': 4027, 'default browser': 4079, 'page jquery': 11174, 'renaming': 13038, 'element visible': 4925, 'image button': 7402, 'update progress': 16311, 'appjs': 1010, 'simple_form': 14298, 'doesnt show': 4596, 'c function': 1929, 'simple calculator': 14284, 'java scanner': 8231, 'elementwise': 4947, 'selected radio': 13857, 'jaxrs': 8435, 'xml namespace': 17935, 'using jersey': 16651, 'java exception': 8171, 'determining': 4239, 'character set': 2365, 'destroyed': 4212, 'value checkbox': 16883, 'checkbox using': 2457, 'default selected': 4086, 'r dataframe': 12541, 'xamarinforms': 17893, 'crossplatform': 3555, 'twoway': 15962, 'binding xml': 1670, 'wpf treeview': 17819, 'delete item': 4127, 'go back': 6815, 'page aspnet': 11161, 'r2': 12557, '2008 r2': 204, 'array array': 1099, 'gdb': 6476, 'create variable': 3502, 'xampp': 17897, 'win7': 17547, 'lists r': 9157, 'string replace': 14984, 'specific directory': 14531, 'static_cast': 14783, 'dynamic_cast': 4784, 'javasqldate': 8429, 'htm': 7177, 'massive': 9566, 'poi api': 11818, 'vs2010': 17288, 'chunks': 2527, 'sending file': 13936, 'extract specific': 5577, 'text lines': 15520, 'trying connect': 15864, 'connect mysql': 3072, 'protected': 12245, 'readonly': 12748, 'pyplot': 12320, 'sitecore': 14347, 'base classes': 1525, 'analog': 780, 'onto': 10954, 'length c': 8915, 'default text': 4087, 'date formatting': 3946, 'javascript working': 8427, 'best method': 1623, 'list items': 9115, 'dataview': 3930, 'data row': 3808, 'row datatable': 13420, 'datatable using': 3924, 'failed initialize': 5633, 'peer': 11475, 'connection reset': 3097, 'reset peer': 13147, 'python os': 12402, 'debug javascript': 4028, 'code inside': 2750, 'inside jsp': 7789, 'class found': 2564, 'sends': 13949, '2 times': 195, 'fx': 6445, 'java fx': 8178, 'data model': 3786, 'hide status': 7103, 'status bar': 14792, 'qimage': 12455, 'relative file': 12949, 'system command': 15283, 'command python': 2906, 'string c++': 14904, 'dynamic type': 4778, 'type casting': 15973, 'using enums': 16601, 'function parameter': 6397, 'php error': 11580, 'object given': 10730, 'rails routing': 12606, 'routing error': 13406, 'data image': 3771, 'file object': 5807, 'opening file': 11002, 'else condition': 4954, 'interceptor': 7905, 'format date': 6219, 'complicated': 2988, 'redirect page': 12832, 'javascript aspnet': 8319, 'frame r': 6278, 'cyrillic': 3716, 'mutable': 10184, 'webbased': 17425, 'concept': 3017, 'maven artifact': 9606, 'image url': 7465, 'i18n': 7298, 'qpushbutton': 12460, 'column dataframe': 2836, 'tab control': 15317, 'cycle': 3713, 'formatted text': 6238, 'json_encode': 8666, '# 40': 4, 'size java': 14356, 'dealloc': 4023, 'getting called': 6731, 'invoked': 7979, 'method getting': 9757, 'seemingly': 13785, 'unrelated': 16271, 'add reference': 557, 'data parent': 3796, 'remove class': 12989, 'row value': 13436, 'mysql insert': 10242, 'integrityerror': 7892, 'output error': 11102, 'error xml': 5263, 'xml text': 17949, 'expression match': 5523, 'list value': 9134, 'unmanaged': 16252, 'unhandled exceptions': 16198, 'unmanaged c++': 16253, '5x': 315, 'file access': 5720, 'connected': 3078, 'plot r': 11797, 'php 54': 11541, 'entitymanager': 5082, 'newtonsoft': 10487, '# problem': 67, 'problem using': 12103, 'c++ functions': 1969, 't_variable': 15314, 'parser error': 11304, 'check session': 2434, 'session cookies': 14078, 'webrequest': 17455, 'java spring': 8246, 'facebook sdk': 5602, 'mysql like': 10245, 'javascript class': 8331, 'execute code': 5414, 'validated': 16846, 'include path': 7552, 'extremely slow': 5584, 'todays': 15718, 'mm': 9867, 'yyyy': 18002, 'java convert': 8154, 'todays date': 15719, 'mm dd': 9868, 'dd yyyy': 4014, 'temporarily': 15454, 'dictionarystring': 4287, 'based criteria': 1541, 'every time': 5339, 'time button': 15644, 'columns based': 2860, 'true false': 15847, 'object graph': 10731, 'dowhile': 4643, 'mysql_num_rows': 10270, 'via python': 17172, 'euler': 5283, 'project euler': 12184, 'visibility': 17246, 'static function': 14771, 'function pointer': 6400, 'prints': 12080, 'scrollto': 13729, 'directive angularjs': 4361, 'dependency property': 4163, 'pending': 11477, 'javascript sending': 8407, 'performseguewithidentifier': 11498, 'authorization': 1394, 'prefixes': 11988, 'javalangstring': 8299, 'validate textbox': 16844, 'systemiofilenotfoundexception': 15302, 'system find': 15284, 'find file': 5950, 'aspnet ajax': 1262, 'css3': 3592, 'position element': 11897, 'javasqlsqlexception': 8430, 'c++ linked': 1980, 'resize images': 13156, '# linq': 55, 'bits': 1681, 'empty element': 4985, 'large image': 8830, 'workaround': 17750, 'intercept': 7903, 'touch events': 15764, 'observer': 10825, 'canvas image': 2157, 'current position': 3634, 'complement': 2975, 'jquery selector': 8570, 'using contains': 16581, 'braces': 1787, 'splitting string': 14592, 'curly braces': 3619, 'transfer': 15783, 'data server': 3812, 'mvc calling': 10198, 'near': 10357, 'incorrect syntax': 7571, 'syntax near': 15271, 'django form': 4521, 'form field': 6174, 'field validation': 5703, 'validation error': 16850, 'posting form': 11954, 'import class': 7518, 'another project': 893, 'current project': 3636, 'time milliseconds': 15663, 'get specific': 6678, 'string index': 14946, 'serialport': 13998, 'php _post': 11543, 'php oop': 11633, 'dir': 4353, 'rails console': 12582, 'tag value': 15379, 'link tag': 9031, 'html canvas': 7186, 'another using': 901, 'length java': 8917, 'count occurrences': 3422, 'list item': 9114, 'iframe using': 7366, 'stringify': 15012, 'string special': 14987, 'json stringify': 8654, 'aws elastic': 1451, 'engines': 5057, 'javascript redirect': 8395, 'property names': 12225, 'source file': 14497, 'springmvc': 14625, 'returning list': 13313, 'objects json': 10809, 'uploaded file': 16355, 'file content': 5746, 'content javascript': 3186, 'way print': 17369, 'external file': 5552, 'presentation': 12007, 'int binary': 7854, 'organize': 11072, 'child objects': 2493, 'property another': 12215, 'operator c': 11026, 'downgrade': 4644, 'spot': 14593, 'database data': 3854, 'jquery select': 8569, 'basis': 1570, 'cc': 2231, 'bean name': 1580, 'systemdrawingimage': 15297, 'entity class': 5075, 'create nested': 3483, 'unix epoch': 16239, 'neural': 10438, 'library python': 8954, 'php fatal': 11585, 'salesforce': 13582, 'object android': 10708, 'list c++': 9091, 'dash': 3726, 'date without': 3968, 'dismiss': 4409, 'within range': 17645, 'reflect': 12882, 'using sql': 16758, 'read input': 12707, 'found using': 6269, 'using scanf': 16745, 'scikitlearn': 13660, 'script within': 13704, 'within web': 17648, 'version control': 17139, 'include php': 7553, 'caller': 2088, 'javascript validation': 8422, 'populate drop': 11870, 'r shiny': 12554, 'button pressed': 1889, 'aborting': 367, 'file uploading': 5850, 'outside class': 11117, 'regex php': 12914, 'show popup': 14238, 'subject': 15102, 'php imap': 11603, 'javafx application': 8280, 'data text': 3826, 'first click': 6030, 'click jquery': 2656, 'options dropdown': 11049, 'ordered': 11065, 'lists one': 9155, 'home page': 7134, '2x': 237, 'inactivity': 7544, 'array structure': 1182, 'class interface': 2573, 'distribution': 4477, 'processor': 12126, 'load page': 9210, 'object xml': 10781, 'session array': 14075, 'variables inside': 17087, 'magento custom': 9412, '23': 217, 'end file': 5037, 'coldfusion': 2788, 'ruby python': 13490, 'open link': 10971, '56': 314, 'mysql python': 10249, 'gridview columns': 6911, 'viewdidload': 17219, 'dom exception': 4607, '5 using': 299, 'chess': 2483, 'array sql': 1177, 'server stored': 14034, 'has_many association': 6998, 'use python': 16464, 'python write': 12446, 'current_user': 3645, 'decimal precision': 4042, 'rails 41': 12575, 'enum types': 5091, 'insert mysql': 7742, 'transition': 15791, 'show div': 14226, 'expiration': 5489, 'jmeter': 8461, 'variables across': 17081, 'modifiers': 9940, '# regex': 74, 'find string': 5983, 'user registration': 16518, 'manner': 9501, 'global exception': 6797, 'exception handler': 5383, 'php handle': 11599, 'image urls': 7466, 'api service': 961, 'service running': 14058, 'iis server': 7378, 'awt': 1454, 'join two': 8480, 'working rails': 17784, 'ifelse statement': 7358, 'webgl': 17442, 'retina': 13247, 'pro': 12094, 'performance issues': 11494, 'execute shell': 5425, 'geocoding': 6526, 'dynamically set': 4808, 'page ajax': 11159, 'check url': 2443, 'url contains': 16378, 'contains string': 3177, 'string jquery': 14955, 'array foreach': 1126, 'br': 1785, 'newline characters': 10481, 'update panel': 16310, 'form without': 6208, 'strings c++': 15018, 'new item': 10452, 'frame based': 6277, 'value pairs': 16939, 'tomcat 6': 15732, 'error undefined': 5248, 'paint': 11210, 'good open': 6828, 'mobile app': 9871, 'element type': 4922, '# java': 52, 'reload page': 12962, 'get textarea': 6689, 'textarea value': 15547, 'save database': 13595, 'eventhandler': 5323, 'event button': 5298, 'retrieval': 13248, 'newline character': 10480, 'character array': 2359, 'array characters': 1107, 'different ways': 4336, 'using ggplot2': 16619, 'text link': 15521, 'integration tests': 7889, 'button selection': 1892, 'using rails': 16731, 'whats efficient': 17504, 'list strings': 9130, 'integers using': 7881, 'using variable': 16787, 'ip addresses': 8014, 'wordpress php': 17723, 'subsets': 15138, 'recursive function': 12813, 'change header': 2301, 'string char': 14905, 'step step': 14810, 'integer c': 7870, 'store images': 14840, 'files django': 5889, 'string list': 14960, 'unicode character': 16204, 'autowired': 1437, 'python loop': 12385, 'index key': 7593, 'replace first': 13062, 'large file': 8828, 'django use': 4543, 'variable href': 17051, 'href tag': 7168, 'extract first': 5575, 'first n': 6038, 'option selected': 11043, 'selected using': 13861, 'webdriver selenium': 17436, 'transitions': 15792, 'dynamic template': 4775, 'prevent duplicate': 12025, 'duplicate key': 4739, 'row selection': 13433, 'get single': 6675, 'single cell': 14320, 'entered': 5066, 'make text': 9472, 'connection using': 3101, 'based current': 1542, 'time python': 15667, 'upload files': 16342, 'upload server': 16350, 'rails ajax': 12579, 'flags': 6065, 'authenticating': 1387, 'vowels': 17271, 'query return': 12504, 'exceeded': 5357, 'event c': 5299, 'annotate': 855, 'summary': 15177, 'statistics': 14785, 'r ggplot2': 12546, 'gpu': 6864, 'using opencv': 16705, 'possible read': 11916, 'read properties': 12715, 'war files': 17314, 'without flash': 17666, 'leading': 8882, 'leading zeros': 8885, 'submenu': 15106, 'right side': 13364, 'confirm': 3051, 'grid using': 6903, 'cant create': 2130, 'new instance': 10451, 'rich': 13356, 'rich text': 13357, 'text editor': 15508, 'value file': 16908, 'mapreduce': 9537, 'hadoop mapreduce': 6964, 'python global': 12370, 'manytomanyfield': 9515, 'global array': 6796, 'placeholder': 11759, 'androidviewinflateexception': 824, 'image mysql': 7437, 'angle': 826, 'openshift': 11008, 'dynamically generate': 4798, 'id javascript': 7311, 'monodevelop': 9975, 'using swift': 16770, 'access value': 425, 'value within': 16970, 'object php': 10758, 'utf8 character': 16813, 'button inside': 1878, 'app heroku': 982, 'view mvc': 17205, 'inherits': 7637, 'screen scraping': 13680, 'directions': 4359, 'inside object': 7793, 'resultset': 13242, 'array csv': 1114, 'string 2': 14891, 'pomxml': 11859, 'maven pomxml': 9611, 'datetime date': 3979, 'log4jxml': 9290, 'border around': 1756, 'specific table': 14558, 'java servlets': 8239, 'data c': 3745, 'getting array': 6730, 'string android': 14892, 'code paths': 2754, 'paths return': 11436, 'problem converting': 12099, 'fixed header': 6056, 'goes': 6819, 'easy way': 4829, 'page new': 11181, 'make method': 9460, 'submitted': 15117, 'form submitted': 6197, 'r datatable': 12542, 'date formats': 3945, 'msg': 10039, 'connect server': 3075, 'django set': 4537, 'form element': 6171, 'aop': 922, 'spring aop': 14601, 'install rails': 7815, 'se': 13739, 'difference java': 4298, 'java se': 8234, 'delimiter': 4148, 'selenium firefox': 13886, 'found element': 6264, 'obtained': 10827, 'box values': 1781, 'consumption': 3161, 'file nodejs': 5806, 'memory consumption': 9679, 'value key': 16924, 'create dictionary': 3462, 'composer': 2991, 'affects': 647, 'uibootstrap': 16057, 'bottleneck': 1761, 'android project': 814, 'partially': 11331, 'trusted': 15852, 'using custom': 16586, 'make background': 9446, 'populate dropdown': 11871, 'using mysqli': 16687, 'number threads': 10667, 'file different': 5756, 'custom fields': 3669, 'twitter account': 15899, 'url jquery': 16385, 'unsorted': 16284, 'way obtain': 17364, 'add object': 553, 'getting first': 6740, 'first two': 6045, 'two words': 15958, 'errors using': 5265, 'utils': 16821, 'checking see': 2474, 'file names': 5803, 'ionic 2': 7988, 'server version': 14038, 'memcached': 9673, 'overlap': 11123, 'one use': 10934, 'flex': 6077, 'part page': 11321, 'httpurlconnection': 7285, 'attempt invoke': 1350, 'invoke virtual': 7978, 'virtual method': 17242, 'string parameters': 14977, 'post back': 11927, 'help understanding': 7056, '51': 308, 'laravel 51': 8810, 'class methods': 2583, '# function': 45, 'read_csv': 12726, 'match value': 9577, 'inserting node': 7762, 'forms application': 6248, 'hibernate query': 7084, 'selecting items': 13872, 'combobox c': 2885, 'chrome firefox': 2519, 'stars': 14726, 'seems working': 13787, 'datatable column': 3922, 'array vbnet': 1193, 'previous month': 12038, 'month name': 9980, 'running process': 13547, 'syncdb': 15258, 'python managepy': 12388, 'get links': 6619, 'python mechanize': 12391, 'ngif': 10500, 'element inside': 4911, 'values object': 17012, 'xamarin android': 17891, 'resources folder': 13180, 'pymongo': 12319, 'compare dates': 2936, 'data stored': 3821, 'python import': 12375, 'killing': 8771, 'load time': 9214, 'name javascript': 10301, 'custom error': 3664, 'ifstream': 7369, 'argument function': 1074, 'compute': 3003, 'please explain': 11789, 'imagefield': 7474, 'throwing error': 15622, 'login using': 9311, 'windows8': 17610, 'date picker': 3959, 'error get': 5180, 'alert box': 694, 'struts': 15056, 'display different': 4420, 'different div': 4313, 'java static': 8247, 'guice': 6949, 'applying': 1052, 'multiple url': 10151, 'custom class': 3660, 'converter': 3326, 'demo': 4153, 'button event': 1872, 'mobile safari': 9879, 'invalid literal': 7962, 'logo': 9316, 'sqlcommand': 14664, 'string date': 14923, 'date date': 3938, 'assignment operator': 1315, 'make html': 9454, 'magento product': 9414, 'product page': 12136, 'property type': 12231, 'xml tags': 17948, 'tags php': 15385, 'skscene': 14368, 'create constant': 3459, 'safety': 13580, 'thread safety': 15601, 'commandline': 2910, 'input console': 7687, 'commandline arguments': 2911, 'private static': 12092, 'static functions': 14772, 'functions javascript': 6436, 'scrollbars': 13724, 'convert float': 3280, 'string representation': 14985, 'rss feed': 13471, 'sunday': 15181, 'find number': 5970, 'div tags': 4499, 'strings without': 15023, 'int float': 7859, 'curl php': 3614, 'change size': 2320, 'size image': 14355, 'lnk2019': 9185, 'error lnk2019': 5196, 'incorrectly': 7572, 'namespaces': 10324, 'invalid xml': 7968, 'xib': 17912, '1 mysqli': 138, 'null given': 10623, 'set properties': 14138, 'returns 0': 13324, 'firefox browser': 6017, 'model using': 9923, 'enabling disabling': 5008, 'value selected': 16950, 'select input': 13818, 'million': 9830, 'removefromsuperview': 13028, 'possible change': 11910, 'change class': 2283, 'class ruby': 2598, 'listitem': 9152, 'generated code': 6497, 'typeerror undefined': 16024, 'values php': 17014, 'effectively': 4876, 'abort': 365, 'assembly code': 1297, 'adding html': 585, 'form via': 6206, 'via curl': 17159, 'char string': 2357, 'vs 2015': 17276, 'enhanced': 5059, 'contents div': 3199, 'unpack': 16262, 'count specific': 3425, 'counts': 3432, 'reset form': 13146, 'value back': 16876, 'homework': 7138, 'rails form': 12591, 'form select': 6193, 'repeatedly': 13053, 'jdbc mysql': 8446, 'mysqli_query expects': 10279, 'ca': 2017, 'hang': 6987, 'return 0': 13266, 'get ajax': 6538, 'become': 1592, 'object save': 10765, 'unparseable': 16263, 'unparseable date': 16264, 'set encoding': 14113, 'varchar': 17033, 'oracle sql': 11056, 'newtonsoftjson': 10488, 'application configuration': 1022, 'autowire': 1436, 'requirements': 13138, '+ rails': 117, 'cascading': 2189, 'within loop': 17641, 'loop c': 9350, 'facebook application': 5592, 'eventtarget': 5328, 'elements id': 4935, 'absolute path': 369, 'unread': 16267, 'custom font': 3672, 'rolling': 13377, 'devise rails': 4257, 'servlet using': 14071, 'using javamail': 16647, 'api getting': 947, 'set date': 14110, 'submit multiple': 15113, 'babel': 1468, 'display images': 4427, 'images html': 7480, 'img tag': 7492, 'decimal points': 4041, 'contour': 3218, 'outline': 11092, 'advance': 633, 'number parameters': 10660, 'insert row': 7747, 'value enum': 16904, 'base64 string': 1534, 'curl get': 3613, 'may': 9631, 'expression tree': 5528, 'string inside': 14948, 'li tag': 8938, 'iphone app': 8019, 'ember': 4978, 'set null': 14134, 'ngshow': 10508, 'angularjs ngshow': 847, 'specific element': 14533, 'using json': 16656, 'tables database': 15361, 'database visual': 3876, 'violates': 17231, 'clearly': 2642, 'type parameter': 15999, 'roles': 13374, 'aspnet identity': 1270, 'collection using': 2800, '401': 275, 'error 401': 5129, 'afnetworking': 648, 'w3c': 17296, 'checkbox values': 2459, 'jasmine test': 8111, 'propertyinfo': 12238, 'iteration': 8085, 'get properties': 6649, 'remove last': 13010, 'gcc g++': 6470, 'last 7': 8839, 'php string': 11676, 'field django': 5691, 'error function': 5179, 'function declaration': 6368, 'cmdexe': 2724, 'google api': 6833, 'hours': 7153, 'getting last': 6746, 'last 24': 8838, '24 hours': 220, 'confused': 3061, 'instantiation': 7844, 'image save': 7451, 'styled': 15082, 'load ajax': 9187, 'ajax data': 664, 'div jquery': 4495, 'programmatically add': 12160, 'py': 12311, 'files directory': 5888, 'check multiple': 2423, 'error package': 5213, 'refresh page': 12890, 'page every': 11169, 'activex': 494, 'play pause': 11778, 'mp3 file': 10024, 'first column': 6031, 'unknown provider': 16245, 'file downloads': 5762, 'jinja2': 8458, 'couchdb': 3393, 'max min': 9617, 'item using': 8065, 'overwritten': 11142, 'bridge': 1799, 'large number': 8831, 'timeseries': 15691, 'column header': 2842, 'variable r': 17068, 'multiple child': 10078, 'using socket': 16755, 'button link': 1883, 'update specific': 16317, 'specific cell': 14525, 'dropdown value': 4715, 'javascript find': 8354, 'find text': 5988, 'x11': 17886, 'interacting': 7900, 'chef': 2482, 'div click': 4484, 'event jquery': 5312, 'code generation': 2748, 'python return': 12418, 'first element': 6033, 'passed function': 11373, 'someone explain': 14456, 'append element': 1002, 'c programming': 1937, 'jquery element': 8530, 'python class': 12345, 'equals method': 5109, 'method java': 9760, 'jquery script': 8567, 'problem reading': 12102, 'file inside': 5784, 'filters': 5932, 'asset': 1303, 'pipeline': 11745, 'asset pipeline': 1304, 'renders': 13046, 'admin page': 620, 'preventdefault': 12030, 'datagridviews': 3909, 'previous button': 12036, 'spring integration': 14615, 'laravel get': 8817, 'efficient method': 4880, 'object different': 10723, 'input java': 7701, 'time day': 15650, 'identity_insert': 7331, 'lengths': 8920, 'popular': 11867, 'json python': 8646, 'reference file': 12860, 'ftp': 6324, 'unable upload': 16133, 'file ftp': 5776, 'ftp php': 6325, '1 0': 132, 'java unicode': 8261, 'fonts': 6132, 'doesnt contain': 4583, 'points google': 11844, 'gb': 6466, 'get total': 6693, 'gridview rows': 6918, 'rounded': 13392, 'java creating': 8157, 'auto fill': 1399, 'auto_now_add': 1407, 'whats equivalent': 17505, 'function element': 6373, 'runtimeerror': 13563, 'convert array': 3263, 'execute sql': 5426, 'sql script': 14652, 'comparing strings': 2943, 'jserb': 8613, 'jquery form': 8535, 'framework use': 6297, 'numbers python': 10682, 'python web': 12443, 'web site': 17419, 'polygons': 11852, 'array android': 1096, 'inside arraylist': 7769, 'htaccess rewrite': 7175, 'condition variable': 3028, 'move mouse': 10012, 'final': 5933, 'php returning': 11655, 'volley': 17269, 'different thread': 4329, 'hardware': 6996, 'apple push': 1013, 'child relationship': 2498, 'reaches': 12683, 'update image': 16305, 'image sql': 7458, 'element id': 4910, 'nsurlrequest': 10610, 'python extract': 12361, 'extract data': 5574, 'width div': 17532, 'urllib2': 16404, 'request python': 13114, 'using another': 16550, 'array indexes': 1137, 'piechart': 11734, 'automating': 1432, 'api post': 954, 'keyerror': 8753, 'hy000': 7291, '2002': 199, 'sqlstate hy000': 14680, 'confirmation': 3054, 'per second': 11483, 'fileupload': 5915, 'upload progress': 16349, 'inside dll': 7777, 'optional parameters': 11047, 'systemaccessviolationexception': 15290, 'test fails': 15475, 'values django': 16991, 'page numbers': 11182, 'cout': 3434, 'session lost': 14082, 'rails link_to': 12597, 'returning multiple': 13314, 'values java': 17002, 'valueerror invalid': 16974, 'literal int': 9173, 'int base': 7853, 'base 10': 1522, '405': 283, 'azure blob': 1464, 'blob storage': 1704, 'init': 7639, 'execution time': 5438, 'install pil': 7813, 'movie': 10017, 'create thumbnail': 3497, 'flash movie': 6068, 'bootstrap tooltip': 1754, 'webcam': 17428, 'jquery live': 8548, 'textures': 15572, 'android opengl': 811, 'objectobject': 10793, 'corruption': 3389, 'soapclient': 14423, 'custom list': 3684, 'objects java': 10807, 'creating object': 3529, 'hours minutes': 7154, 'minutes seconds': 9849, 'date day': 3940, 'api key': 950, 'file objectivec': 5808, 'objectivec cocoa': 10788, 'insert query': 7745, 'mysql2error': 10267, 'value insert': 16917, 'framework 6': 6288, 'multiple image': 10098, 'saving database': 13615, 'database aspnet': 3847, 'merge multiple': 9703, 'objects inside': 10806, 'relative layout': 12950, 'getting null': 6749, 'error javascript': 5191, 'validate form': 16840, 'absolutely': 371, 'file outside': 5812, 'android listview': 808, 'formpanel': 6245, 'request parameters': 13112, 'buffer overflow': 1828, 'tags javascript': 15384, 'scroll bars': 13712, 'assigned': 1311, 'zf2': 18011, 'error console': 5159, 'xmlreader': 17957, 'otherwise': 11088, 'illegal characters': 7384, 'repositories': 13087, 'controllers models': 3247, 'nesting': 10400, 'collapse': 2789, 'throwing exception': 15623, 'webpages': 17453, 'user id': 16506, 'correct syntax': 3380, 'atomic': 1340, 'php display': 11575, 'question java': 12521, 'java enums': 8167, 'merge sort': 9704, 'karma': 8710, 'source files': 14498, 'without closing': 17656, 'java 2d': 8119, 'create generic': 3471, 'error unrecognized': 5252, 'object object': 10753, 'application path': 1031, 'xml get': 17932, 'get element': 6575, 'values two': 17024, 'add div': 525, 'database values': 3873, 'connect remote': 3074, 'remote mysql': 12977, 'mysql server': 10257, 'classnotfoundexception': 2624, 'api java': 948, 'parameter controller': 11243, 'javascript split': 8412, 'geom_line': 6528, 'jquery bind': 8508, 'scene': 13645, 'scene builder': 13646, 'root node': 13383, 'means': 9645, '+ php': 115, 'error opening': 5211, 'friendly': 6314, 'nethttp': 10427, 'paginate': 11206, 'preceded': 11973, 'another string': 898, 'page loads': 11178, 'jquery date': 8524, 'fb': 5667, 'insert record': 7746, 'cforeach': 2271, 'rebuild': 12764, 'using gcc': 16614, 'convert list': 3290, 'composer update': 2992, 'php extension': 11583, 'use session': 16472, 'way implement': 17356, 'array method': 1156, 'syntax check': 15268, 'insert values': 7755, 'set values': 14150, 'multiple checkbox': 10076, 'php json_encode': 11613, 'multiple arrays': 10073, 'noclassdeffounderror': 10519, 'status 500': 14791, 'indentation': 7583, 'remove column': 12990, 'column csv': 2833, 'method found': 9754, 'mvc4 razor': 10216, 'ioerror': 7984, 'ioerror errno': 7985, 'use boost': 16422, 'cxf': 3712, 'using auto': 16560, 'nested loops': 10394, 'tree c': 15810, 'calayer': 2028, 'anchor tag': 787, 'median': 9657, 'convert byte': 3267, 'missing argument': 9855, '# drag': 35, 'multiple selected': 10133, 'object empty': 10725, 'empty value': 4999, 'aspnet vb': 1283, 'adding removing': 594, 'anonymous function': 860, 'ascii characters': 1236, 'systemnullreferenceexception': 15304, 'systemnullreferenceexception objectreference': 15305, 'schema validation': 13654, 'engine datastore': 5054, 'div inside': 4493, 'div without': 4502, '# async': 12, 'float array': 6083, 'post message': 11934, 'message page': 9714, 'array dictionaries': 1117, 'recommend': 12785, 'artisan': 1229, 'number generator': 10649, 'built': 1845, 'script python': 13697, 'delay': 4112, 'serial data': 13980, 'stuff': 15079, 'maximized': 9623, 'array add': 1095, 'framework c': 6289, 'nsinteger': 10593, '2005': 201, 'app crash': 976, 'twitter using': 15905, 'opensource': 11009, 'hasmany': 7018, 'binding source': 1667, 'every hour': 5333, 'output format': 11104, 'outlook': 11093, 'reply': 13077, 'winforms c': 17620, 'net 35': 10403, '# use': 86, 'temporarily disable': 15455, 'disable click': 4384, 'search replace': 13752, 'new user': 10471, 'number string': 10665, 'decimal place': 4038, 'user information': 16507, 'http localhost': 7257, 'script tags': 13702, 'javascript change': 8328, 'zoom level': 18022, 'trying write': 15878, 'lines file': 9014, 'internal server': 7922, 'session timeout': 14088, 'using devise': 16592, 'shortest': 14219, 'check number': 2426, 'number range': 10662, 'spaces string': 14506, 'python datetime': 12352, 'custom object': 3690, 'system calls': 15282, 'get file': 6583, 'written': 17862, 'python server': 12424, 'executed': 5427, 'row mysql': 13428, 'keystore': 8760, 'neural network': 10439, 'jruby': 8594, 'ruby class': 13484, 'stringjoin': 15013, 'subprocess call': 15123, 'call python': 2066, 'must either': 10180, 'abstract method': 376, 'java package': 8209, 'jquery using': 8583, 'bookmark': 1723, 'compared': 2939, 'coded': 2767, 'resume': 13243, 'played': 11783, 'delegate method': 4115, 'wsdl': 17870, 'read xml': 12725, 'dist': 4467, 'getattr': 6713, 'none python': 10544, 'java read': 8220, 'read txt': 12721, 'error use': 5254, 'check image': 2415, 'last row': 8853, '2 digit': 187, 'usb': 16413, 'mass': 9565, 'gradient': 6870, 'layouts': 8873, 'gradient background': 6871, 'unable add': 16110, 'array within': 1195, 'xmlserializer': 17958, 'way load': 17361, 'java regular': 8224, 'restrict access': 13224, '1404': 164, 'ubuntu 1404': 16039, 'text boxes': 15498, 'spring dependency': 14611, 'dynamic value': 4780, 'sortable': 14479, 'call c++': 2051, 'create database': 3461, 'open stream': 10980, 'tensorflow': 15459, 'update query': 16312, 'query returns': 12506, 'returns true': 13337, 'seeing': 13782, 'logged users': 9295, 'every page': 5335, 'add delete': 524, 'smoother': 14397, 'first occurrence': 6040, 'delete mysql': 4130, 'record using': 12796, 'loading images': 9230, 'opengl textures': 10998, 'specific point': 14552, 'bitwise': 1682, 'using bitwise': 16563, 'bitwise operators': 1683, 'function use': 6418, 'toolsjar': 15744, 'unable locate': 16124, 'unsigned long': 16283, 'long long': 9327, 'cakephp 3': 2027, 'im getting': 7390, 'externals': 5565, 'unresolved externals': 16274, 'method within': 9797, 'within class': 17632, 'strange behaviour': 14871, 'stringbuilder': 15008, 'php insert': 11607, 'data form': 3764, 'form user': 6200, 'php call': 11555, 'convert parameter': 3300, 'mixing': 9865, 'nonblocking': 10540, 'open excel': 10965, 'read values': 12722, 'open xml': 10983, 'recommendation': 12786, 'javascript url': 8418, 's3 using': 13574, 'using api': 16553, 'error insert': 5187, 'without loop': 17674, 'loop java': 9354, 'easing': 4827, 'child parent': 2495, 'localize': 9262, 'operating': 11017, 'app running': 985, 'value method': 16927, 'call using': 2073, 'using reflection': 16734, 'location header': 9273, 'objects javascript': 10808, 'leave': 8900, 'colours': 2826, 'converting java': 3337, 'already running': 745, 'computing': 3008, 'convert numbers': 3295, 'helloworld': 7052, 'find object': 5971, 'changes value': 2336, 'uncaught error': 16141, 'specific div': 14532, 'certain class': 2261, 'fancybox iframe': 5654, 'endpoint': 5047, 'tcp connections': 15419, 'angular ngrepeat': 834, 'specific item': 14541, 'bootstrap accordion': 1744, 'vbnet sql': 17119, 'parent page': 11283, 'instance another': 7829, 'asmx web': 1249, 'wamp server': 17303, 'js jquery': 8604, 'cant run': 2145, 'convert datetime': 3275, 'percent': 11485, 'precise': 11974, 'decrement': 4070, 'increment decrement': 7576, 'name file': 10296, 'func': 6342, 'search engine': 13746, 'play audio': 11775, 'audio file': 1378, 'skips': 14366, 'regarding': 12899, 'gmail account': 6808, 'account using': 450, 'division': 4506, 'integer division': 7871, 'http get': 7253, 'get request': 6660, 'resize event': 13153, 'event listeners': 5314, 'like button': 8968, 'uint8_t': 16074, 'select elements': 13812, 'div using': 4500, 'unlimited': 16249, '# way': 91, 'android httpurlconnection': 806, 'notice': 10578, 'cake': 2023, 'undefined property': 16165, 'rows mysql': 13451, 'php jquery': 11611, 'value java': 16920, 'cant change': 2126, 'reconnect': 12790, 'check date': 2407, 'send byte': 13904, 'creating bean': 3514, 'file excel': 5766, 'google oauth': 6845, 'without adding': 17651, 'seo': 13956, 'item dropdown': 8055, 'myclass': 10222, 'using django': 16595, 'void method': 17266, 'personal': 11518, 'use visual': 16485, 'studio express': 15076, 'message box': 9713, 'jersey rest': 8453, 'rest web': 13210, 'methods static': 9806, 'rowwise': 13459, 'columnwise': 2869, 'moving objects': 10021, 'display values': 4454, 'values table': 17022, 'eager load': 4816, 'post ajax': 11925, 'efficiency': 4878, 'stringreplace': 15014, 'c++ reading': 1993, 'add column': 518, 'column data': 2834, 'browser tab': 1816, 'outside function': 11120, 'soup': 14492, 'beautiful soup': 1590, 'conversions': 3261, 'r code': 12539, 't_string': 15313, 'combining': 2880, 'extending class': 5538, 'use aspnet': 16421, 'within javascript': 17640, 'size_t': 14359, 'line character': 8990, 'cell using': 2243, 'using poi': 16719, 'using data': 16588, 'stored database': 14850, 'listed': 9145, 'aspnet user': 1281, 'vuejs': 17293, 'select change': 13800, 'change jquery': 2307, 'current location': 3631, 'ioc': 7983, 'nullreferenceexception': 10636, 'ftp using': 6327, 'safe way': 13578, 'member class': 9662, 'mime': 9832, 'mime type': 9833, 'responses': 13201, 'select table': 13836, 'data post': 3799, 'jsonparse': 8672, 'domelement': 4616, 'post array': 11926, 'error c++': 5144, 'java scala': 8230, 'generate java': 6489, 'clearing': 2641, 'xls file': 17915, 'php date': 11572, 'machines': 9402, 'ruby version': 13497, 'pass javascript': 11352, 'controller using': 3244, 'spider': 14579, 'bar button': 1511, 'button item': 1880, 'mails': 9425, 'size using': 14358, 'displaying table': 4461, 'use try': 16478, 'record mysql': 12794, 'qml': 12458, 'add list': 548, 'factor': 5612, 'java driver': 8163, 'saved database': 13610, 'exported': 5509, 'js script': 8607, 'connection timed': 3099, 'connecting database': 3080, 'database another': 3846, 'another website': 904, 'using prepared': 16722, 'prepared statements': 11999, 'mistake': 9862, 'caseinsensitive': 2194, 'html5 form': 7238, 'select dropdown': 13810, 'clean way': 2631, '17': 169, 'django 17': 4512, 'load resource': 9212, 'using local': 16667, '311': 250, 'r version': 12556, 'rest webservice': 13211, 'created using': 3508, 'calling web': 2107, 'data android': 3733, 'subscribers': 15131, 'evil': 5343, 'actionresult': 471, 'sense': 13950, 'nonnumeric': 10554, 'objectmapper': 10792, 'wpf using': 17821, 'using mvvm': 16685, 'gradle build': 6873, 'lightbox': 8965, 'multiple links': 10113, 'passwords': 11414, 'stack overflow': 14702, 'reading multiple': 12741, 'adjust': 613, 'autoincrement': 1416, 'framework core': 6291, 'remove single': 13016, 'array new': 1159, 'expression split': 5526, 'hibernate criteria': 7077, 'rightclick': 13366, 'arraylist using': 1205, 'kotlin': 8785, 'image css': 7408, 'cordova': 3370, 'phonegap cordova': 11532, 'php passing': 11639, 'posting json': 11955, 'regular expressions': 12934, 'get rows': 6668, 'rails use': 12613, 'array size': 1173, 'variable declared': 17044, 'const int': 3127, 'accomplish': 445, 'classname': 2623, 'get clicked': 6553, 'list python': 9126, 'attributeerror list': 1371, 'convert pdf': 3301, 'php python': 11646, 'union': 16213, 'union two': 16214, 'rights': 13367, 'start process': 14734, 'resizable': 13151, 'get cell': 6548, 'passing variables': 11404, 'row using': 13435, '8 streams': 333, 'using beautifulsoup': 16562, 'doesnt send': 4595, 'sender': 13931, 'data files': 3763, 'color change': 2812, 'ruby check': 13483, 'request_uri': 13122, 'reached': 12682, 'struts 2': 15058, 'append string': 1003, 'hides': 7105, 'image rotation': 7450, 'unhandled error': 16196, 'nest': 10377, 'control inside': 3224, 'working spring': 17786, 'boot application': 1741, 'php form': 11590, 'like google': 8971, 'generating xml': 6505, 'pass one': 11359, 'one row': 10922, 'view aspnet': 17192, 'version ruby': 17143, 'external library': 5557, 'static methods': 14778, 'programmatically c': 12161, 'programmatically generate': 12164, 'background task': 1486, 'keydown': 8751, 'listviews': 9171, 'without error': 17663, 'disable textbox': 4392, 'circles': 2532, 'localtime': 9267, 'get difference': 6569, 'back previous': 1472, 'click working': 2663, 'nsregularexpression': 10603, '# generic': 46, 'update delete': 16302, 'serialize class': 13990, 'html using': 7232, 'open page': 10974, 'chrome javascript': 2521, 'integrated': 7884, 'fill color': 5919, 'color using': 2820, 'validation failed': 16852, 'lan': 8801, 'iso88591': 8036, 'however': 7160, 'userscontroller': 16539, 'show error': 14227, 'white spaces': 17519, 'page without': 11200, 'ruby array': 13482, 'full path': 6332, 'using file': 16606, 'bootstrap datepicker': 1747, 'point numbers': 11823, 'certain value': 2266, 'given array': 6779, 'array type': 1185, 'type runtime': 16002, 'trailing': 15773, 'black background': 1686, 'php gd': 11596, 'output data': 11101, 'invalid input': 7960, 'hresult': 7170, 'exception hresult': 5385, 'identifier found': 7324, 'string decimal': 14925, 'parsing data': 11307, 'selected values': 13863, 'code eclipse': 2743, 'error operator': 5212, 'doesnt create': 4584, 'php _server': 11544, 'open another': 10959, 'distinct values': 4474, 'engine java': 5055, 'stroke': 15031, 'page found': 11171, 'source project': 14499, 'dynamically create': 4795, 'javac': 8276, 'converting list': 3339, 'element tuple': 4921, 'select drop': 13809, 'igniter': 7370, 'code igniter': 2749, 'javalangnullpointerexception': 8294, 'configurations': 3047, 'drawn': 4685, 'class class': 2552, 'jquery image': 8543, '# creating': 25, 'button style': 1894, '__attribute__': 342, 'aligned': 706, 'use android': 16417, 'json parser': 8642, 'nosuchmethodexception': 10569, 'order list': 11060, 'remote file': 12974, 'duplicated': 4744, 'gridview inside': 6916, 'posting data': 11953, 'sample code': 13585, 'searches': 13760, 'corresponding': 3385, 'moved': 10014, 'mercurial': 9700, 'spring beans': 14605, 'tkinter text': 15709, 'text widget': 15539, 'slowly': 14386, 'start end': 14732, 'protection': 12247, 'python image': 12374, 'image library': 7432, 'problem adding': 12098, 'adding items': 588, 'programmer': 12169, 'modification': 9937, 'restrictions': 13229, 'specific folder': 14536, 'existence': 5446, 'svn': 15211, 'file error': 5765, 'convert rgb': 3305, 'hex color': 7066, 'qwidget': 12537, 'qt4': 12469, 'another servlet': 896, 'nested class': 10382, 'ui tabs': 16053, 'many times': 9511, 'dragging': 4671, 'array item': 1145, 'based index': 1545, 'check empty': 2410, 'write excel': 17836, 'java based': 8134, 'http_referer': 7268, 'current process': 3635, 'python opencv': 12401, 'throw exception': 15618, 'android google': 804, 'xdocument': 17908, 'loading xml': 9238, 'using xdocument': 16799, 'appearance': 996, '# xaml': 103, 'c file': 1928, 'parent container': 11275, 'q': 12453, 'illegal string': 7386, 'string offset': 14974, 'jsf page': 8617, 'remove first': 13002, 'comma string': 2896, 'getting number': 6750, 'cshtml': 3568, 'java tcp': 8255, 'display text': 4450, 'interpreting': 7935, 'error invalid': 5189, 'connecting remote': 3082, 'br tag': 1786, 'tag html': 15375, 'reordering': 13049, 'table value': 15356, 'best solution': 1627, 'convert numeric': 3296, 'initializers': 7657, 'framework code': 6290, 'one database': 10889, 'soap response': 14419, 'existing file': 5452, 'values excel': 16995, 'selected dropdown': 13851, 'followed': 6121, 'coerced': 2786, 'fixnum': 6063, 'property javascript': 12220, 'definitions': 4108, 'change google': 2300, 'license': 8959, 'function wordpress': 6426, 'file size': 5832, 'indicate': 7608, 'property id': 12218, 'insert date': 7735, 'file r': 5821, 'solr': 14446, 'unable start': 16132, 'get sql': 6679, 'incrementally': 7580, 'hand': 6967, 'jquery remove': 8565, 'calling java': 2097, 'rdd': 12678, 'join 2': 8474, 'every element': 5332, 'int c': 7856, 'mysql tables': 10261, 'mouse position': 9997, 'troubleshooting': 15845, 'javascript regex': 8396, 'strategies': 14873, 'rails route': 12605, 'using function': 16612, 'clojure': 2697, 'setters': 14161, 'dropdownlist aspnet': 4717, 'expressjs': 5531, 'reserved': 13144, 'python dictionary': 12355, 'color table': 2818, 'parameter java': 11246, 'relations': 12945, 'scoped': 13665, 'form values': 6204, 'model property': 9920, 'relevant': 12957, 'java create': 8156, 'variable doesnt': 17046, 'doesnt exist': 4585, 'anymore': 914, 'within array': 17629, 'php laravel': 11614, 'clicked using': 2666, 'autowiring': 1438, 'filter chain': 5925, 'custom filter': 3671, 'based condition': 1539, 'flasksqlalchemy': 6074, 'reading file': 12735, 'file byte': 5736, 'href attribute': 7165, 'timepicker': 15685, 'project eclipse': 12183, 'class package': 2591, 'checkboxlist': 2461, 'object arraylist': 10711, 'inherit': 7632, 'pdf html': 11461, 'scientific notation': 13657, 'operator overloading': 11030, 'left right': 8907, 'segfault': 13791, 'parse cloud': 11291, 'cloud code': 2716, 'initializecomponent': 7652, 'return new': 13282, 'value code': 16886, 'specific format': 14538, 'api javascript': 949, 'load type': 9215, 'sidebar': 14257, 'intervention': 7944, 'scoping': 13667, 'signs': 14271, 'crawl': 3449, 'java socket': 8241, 'socket read': 14434, 'classification': 2619, 'grey': 6898, 'disable submit': 4391, 'send json': 13914, 'android php': 813, 'using jpa': 16653, 'jpa spring': 8490, 'hhmm': 7070, 'duration': 4748, 'custom style': 3695, 'aes encryption': 642, 'java example': 8170, 'better use': 1632, 'array instead': 1141, 'objectdatasource': 10782, 'data access': 3731, 'c++ using': 2006, 'using nested': 16689, 'template classes': 15441, 'error setting': 5230, 'google protocol': 6850, 'mousewheel': 10006, 'invalidoperationexception': 7970, 'arrays elements': 1212, 'make array': 9445, 'new column': 10447, 'column datagridview': 2837, 'javascript open': 8388, 'phpmysql': 11709, 'infinite scroll': 7623, 'castle': 2206, 'windsor': 17613, 'castle windsor': 2207, 'pass variable': 11369, 'type method': 15992, 'mod': 9888, 'mod rewrite': 9889, 'python django': 12357, 'string html': 14944, 'sql syntax': 14657, 'typeerror object': 16020, 'object #': 10707, '# object': 64, 'method replace': 9779, 'change select': 2318, 'values based': 16980, 'list values': 9135, 'systemstackoverflowexception': 15309, 'unhandled exception': 16197, 'url path': 16388, 'path without': 11433, 'test project': 15480, 'java hashmap': 8187, 'widths': 17534, 'changing values': 2346, 'list inside': 9112, 'gesture': 6531, 'write output': 17843, 'guessing game': 6945, 'assert': 1299, 'netbeans java': 10425, 'file csv': 5750, 'format python': 6228, 'based content': 1540, 'content length': 3187, 'integral': 7882, 'benefits using': 1618, 'javalangillegalargumentexception': 8286, 'traverse': 15805, 'inheriting': 7636, 'class vbnet': 2608, 'get browser': 6545, 'new page': 10460, 'compare date': 2935, 'date objects': 3957, 'objects attribute': 10799, 'got error': 6861, 'sine': 14316, 'wave': 17326, 'convert html': 3283, 'tray': 15807, 'storing array': 14858, 'array database': 1116, 'filter data': 5926, 'php query': 11647, 'publish': 12280, 'jms message': 8463, 'spanish': 14511, 'file vbnet': 5857, 'along': 729, 'based web': 1561, 'parent div': 11276, 'javascript click': 8332, 'use value': 16483, 'variable object': 17063, 'earlier': 4819, 'constructs': 3156, 'easier': 4822, 'net 45': 10406, 'scanner class': 13637, 'passing value': 11401, 'concatenate string': 3012, 'without losing': 17675, 'without getting': 17668, 'although': 757, 'rows column': 13441, 'value datatable': 16894, 'forcing': 6143, 'taskbar': 15412, 'view without': 17214, 'greasemonkey': 6892, 'maps v3': 9543, 'crashed': 3446, 'doctrine2': 4565, 'create tables': 3495, 'javascript convert': 8337, 'regex validate': 12920, 'via url': 17174, 'file local': 5798, 'push notification': 12296, 'email c': 4965, 'html source': 7222, 'move file': 10009, 'one folder': 10896, 'using window': 16796, 'window service': 17564, 'almost': 727, 'form json': 6182, 'javaxmailmessagingexception': 8433, 'could connect': 3396, 'smtp host': 14404, 'cant select': 2148, 'retrieve value': 13256, '# user': 87, 'connection client': 3087, 'data different': 3756, 'different models': 4321, 'locally': 9264, 'addclass': 573, 'removeclass': 13026, '2010 c++': 206, 'barplot': 1518, 'character encoding': 2360, 'targets': 15408, 'fallback': 5647, 'load jquery': 9205, 'api android': 939, 'exits': 5465, 'often': 10856, 'event fire': 5304, 'html5 video': 7241, 'datarow': 3912, 'variables python': 17094, 'find x': 5994, 'transformation': 15788, 'maintaining': 9438, 'destination': 4210, 'part url': 11325, 'java xml': 8272, 'using dom': 16597, 'make custom': 9450, 'test file': 15476, 'validation rules': 16861, 'containers': 3171, 'stl containers': 14817, 'javascripts': 8428, 'wont load': 17703, 'ajax response': 681, 'problem passing': 12101, 'jtable cell': 8691, 'string formatting': 14940, 'accessibility': 434, 'inconsistent accessibility': 7569, 'upgrading': 16337, 'qt 5': 12465, 'permutation': 11510, 'characters using': 2381, 'file string': 5839, 'chrome developer': 2516, 'developer tools': 4244, 'cant see': 2146, 'ifs': 7368, 'slightly': 14382, 'alternative way': 755, 'external jar': 5553, 'data values': 3836, 'hidden input': 7095, 'certificates': 2268, 'delayed': 4113, 'windows using': 17607, 'using eclipse': 16599, 'css hover': 3579, 'respect': 13181, 'guid': 6950, 'taskrun': 15413, 'periodic': 11501, 'coding style': 2785, 'install php': 7812, 'update record': 16313, 'single query': 14329, 'substring string': 15142, 'access object': 409, 'object properties': 10759, 'properties object': 12211, 'asking': 1245, 'user enter': 16505, 'curl ssl': 3617, 'ssl certificate': 14692, 'enough': 5060, 'specific values': 14563, 'redirect loop': 12829, 'date java': 3950, 'java format': 8176, 'scroll view': 13720, 'mailer': 9424, 'expected exception': 5476, 'argumenterror': 1080, 'wrong number': 17866, 'number arguments': 10639, 'primitive type': 12054, 'hold': 7131, 'vice': 17176, 'versa': 17136, 'remote database': 12972, 'vice versa': 17177, 'new object': 10457, 'javascript show': 8410, 'scrollview': 13731, 'framework database': 6292, 'requesting': 13126, 'access array': 391, 'text table': 15531, 'values drop': 16992, 'partial class': 11327, 'differently': 4338, 'color every': 2814, 'vb net': 17109, 'row id': 13424, 'storing data': 14859, 'cloud storage': 2717, '# wrapper': 101, 'get xml': 6709, 'type javalangstring': 15989, 'storing string': 14861, 'variable scope': 17071, 'value number': 16933, 'invalidate': 7969, 'redefinition': 12822, 'typedef': 16015, 'webpage using': 17452, 'api python': 955, 'responseredirect': 13200, 'rmarkdown': 13368, 'change position': 2316, 'set java': 14129, 'javascript alert': 8316, 'another action': 865, 'latin1': 8863, 'regex javascript': 12909, 'undefined jquery': 16160, 'doesnt get': 4588, 'datagridview column': 3902, 'type image': 15985, 'read html': 12705, 'html body': 7183, 'socketio': 14438, 'scrolled': 13725, 'class vs': 2609, 'window resize': 17561, 'solutions': 14449, 'passing list': 11391, 'objects via': 10817, 'mvc controller': 10199, 'tab key': 15319, 'key javascript': 8735, 'jquery datatables': 8523, 'adding extra': 584, 'extra column': 5571, 'http response': 7264, 'installing rails': 7826, 'call c': 2050, 'data member': 3784, 'diff': 4292, 'accounts': 451, 'multiple divs': 10088, 'pooling': 11861, 'java connection': 8152, 'connection pooling': 3095, 'localized': 9263, 'proc': 12107, 'cursor': 3648, 'put javascript': 12307, 'performed': 11496, 'different column': 4310, 'higher': 7114, '+ jquery': 112, 'jquery +': 8500, 'ef6': 4872, 'manytomany relationship': 9514, '1st': 178, 'highchart': 7112, 'binded': 1662, 'signed': 14268, 'literals': 9174, 'reading serial': 12743, 'google search': 6852, 'open window': 10982, 'clauses': 2629, 'find substring': 5984, 'generic types': 6522, 'types java': 16030, 'administrator': 625, 'file transfer': 5844, 'way generate': 17352, 'function convert': 6366, 'object key': 10743, 'hierarchical': 7107, 'float number': 6087, 'whole number': 17524, 'number javascript': 10654, 'permgen': 11504, 'permgen space': 11505, 'medium': 9660, 'using apache': 16552, 'enclosing': 5010, 'python linux': 12381, 'ios6': 8008, 'ios5': 8007, 'compile time': 2960, 'frequently': 6311, 'developers': 4245, 'programs': 12175, 'plugin working': 11805, 'sending string': 13947, 'dynamic allocation': 4753, 'number list': 10656, 'load multiple': 9209, 'execute python': 5423, 'script server': 13700, 'side javascript': 14255, 'leads': 8886, 'javalangnosuchmethoderror': 8293, 'ljava': 9178, 'lang': 8804, 'running program': 13548, 'cant make': 2141, 'object value': 10776, 'xmlgregoriancalendar': 17954, 'preprocessor directive': 12004, 'heap corruption': 7038, 'code c': 2739, 'using mockito': 16675, 'check see': 2433, 'game server': 6455, 'get parameter': 6639, 'click image': 2654, 'childs': 2503, 'overloaded': 11129, 'overloaded function': 11130, 'add data': 523, 'amazon api': 767, 'search box': 13744, 'momentjs': 9958, 'meteorjs': 9730, 'php xpath': 11700, 'node value': 10523, 'struggling': 15055, 'c java': 1930, 'java client': 8144, 'get position': 6645, 'multiple jquery': 10107, 'programmatically change': 12162, 'change border': 2281, 'time interval': 15659, 'spreadsheets': 14596, 'ssis': 14689, 'multiple excel': 10090, 'ssis package': 14690, 'logout facebook': 9319, 'stacktrace': 14710, 'click submit': 2661, 'regex ruby': 12917, 'class implements': 2569, 'implements interface': 7510, 'read files': 12703, 'angularjs +': 839, 'currency': 3620, 'formatting string': 6241, '21': 214, 'ibm': 7301, 'using hibernate': 16629, 'write read': 17846, 'typetext': 16032, 'php validation': 11687, 'input typetext': 7718, 'one specific': 10925, 'specific word': 14564, 'set attributes': 14100, 'javascript checking': 8330, 'multiple fields': 10091, 'fields empty': 5709, 'wpf usercontrol': 17820, 'list indices': 9111, 'tcp sockets': 15424, 'row jquery': 13426, 'userdefined': 16528, 'sort data': 14471, 'parent node': 11281, 'search tree': 13757, 'deletion': 4143, 'refresh datatable': 12888, 'datatable row': 3923, 'optimization': 11035, 'cassandra': 2197, 'multiplication': 10163, 'java double': 8161, 'http 500': 7248, 'interpret': 7931, 'reactnative': 12694, 'android using': 821, 'onblur': 10864, 'canvas element': 2156, 'file extension': 5770, 'googlemap': 6857, 'initialize array': 7648, 'method argument': 9736, 'pointer c++': 11828, 'function code': 6363, 'stanford': 14723, 'function exists': 6377, 'warn': 17315, 'classs': 2626, 'base classs': 1526, 'generic interface': 6514, 'ajax loaded': 673, 'loaded content': 9220, 'usercontrols': 16527, 'form doesnt': 6170, 'doesnt call': 4581, 'library using': 8956, 'master page': 9568, 'behaving': 1604, 'transaction rollback': 15779, 'file found': 5775, 'react component': 12687, 'stand alone': 14715, 'server 2005': 14006, 'urlspy': 16409, 'pound': 11959, 'string match': 14965, 'possible write': 11922, 'web server': 17416, 'image web': 7470, 'outputstream': 11113, 'value datagridview': 16893, 'datagridview cell': 3900, 'premature': 11993, 'premature end': 11994, 'indent': 7582, 'disk space': 4408, 'java windows': 8270, 'display php': 4441, 'processed': 12122, 'connection open': 3092, 'php session': 11664, 'python importerror': 12376, 'undefined symbol': 16167, 'two digits': 15924, 'digits decimal': 4346, 'table excel': 15336, 'adjacent': 612, 'unsorted array': 16285, 'valid json': 16835, 'name java': 10300, 'observablecollection': 10822, 'javascript json': 8371, 'return true': 13291, 'python 26': 12330, 'get controls': 6559, 'selectlist': 13877, 'page title': 11194, 'intent': 7898, 'multiple mysql': 10118, 'nonnull': 10552, 'sqlparameter': 14676, 'published': 12281, 'k': 8708, 'ci': 2528, 'leaflet map': 8889, 'lat': 8856, 'lng': 9182, 'lat lng': 8857, 'screen position': 13678, 'check one': 2428, '# web': 92, 'strongly': 15033, 'lead': 8881, 'xhr': 17910, 'select random': 13830, 'random row': 12641, 'read text': 12720, 'using datatable': 16590, 'tcp port': 15421, 'run batch': 13509, 'file present': 5818, 'remote machine': 12976, 'get filename': 6584, 'filenotfoundexception': 5879, 'selenium c': 13885, 'local directory': 9242, 'test framework': 15477, 'get images': 6599, 'item value': 8066, 'adding string': 597, 'report using': 13081, 'memory issue': 9682, 'ajax json': 671, 'data codeigniter': 3749, 'codeigniter controller': 2771, 'session data': 14079, 'file folder': 5772, 'framework 40': 6285, 'id using': 7317, 'django app': 4515, 'trying remove': 15872, 'java split': 8245, 'input values': 7723, 'option dropdown': 11041, 'wildfly': 17540, 'cocoa app': 2727, 'whats good': 17506, 'use java': 16447, 'copy data': 3358, 'delete row': 4133, 'word file': 17714, 'form database': 6168, 'wordpress loop': 17721, 'object created': 10719, 'focus input': 6103, 'deserialize xml': 4194, 'servlet class': 14068, 'gemfile': 6482, 'string enum': 14931, 'conversion java': 3258, 'loop javascript': 9355, 'remove string': 13020, 'title bar': 15704, 'tweets': 15892, 'module object': 9950, 'rails server': 12609, 'proxy authentication': 12265, 'authentication required': 1392, 'interprocess': 7936, 'interprocess communication': 7937, 'call java': 2057, 'class jsp': 2576, 'nameerror global': 10315, 'global name': 6798, 'memory warning': 9690, 'multiple strings': 10141, 'strings using': 15022, 'linebreaks': 9011, 'retrieve images': 13253, 'server via': 14039, 'uitabbarcontroller': 16084, 'nav': 10341, 'video url': 17186, '# call': 14, 'every 5': 5331, 'net dll': 10414, 'script using': 13703, 'referential': 12878, 'self referential': 13894, 'get row': 6667, 'depend': 4159, 'get absolute': 6534, 'image element': 7413, 'team': 15427, 'team foundation': 15428, 'foundation server': 6271, 'reference object': 12865, 'way delete': 17342, 'add back': 511, 'executables': 5412, 'macos': 9405, 'c compiler': 1924, 'user logged': 16511, 'commaseparated': 2914, 'class inheritance': 2570, 'stringstring': 15026, 'structures c': 15054, 'check input': 2416, 'function definition': 6370, 'refresh div': 12889, 'without reload': 17683, 'variable error': 17049, 'must string': 10183, 'button php': 1887, 'unable send': 16130, 'nested dictionary': 10383, 'https request': 7279, 'request server': 13117, 'validation using': 16862, 'format time': 6232, 'date column': 3935, 'requirement': 13137, 'plaintext': 11768, 'designing': 4204, 'insert array': 7730, 'binary numbers': 1652, 'select clause': 13802, 'clause linq': 2628, 'directory files': 4370, 'binary number': 1651, 'fetch data': 5677, 'data inside': 3774, 'scss': 13733, 'unexpected t_string': 16191, 'set select': 14140, 'adonet entity': 631, 'mysql stored': 10259, 'duplicate values': 4743, 'function pointers': 6401, 'servlet container': 14069, 'mozilla': 10022, 'separating': 13968, 'using yii': 16803, 'data rails': 3803, 'soap service': 14420, 'logon': 9317, 'login failed': 9305, 'failed user': 5640, 'like facebook': 8970, 'model value': 9925, 'child window': 2500, 'drawing line': 4682, 'inside circle': 7772, 'property access': 12214, 'change wpf': 2331, 'path error': 11421, 'kinect': 8773, 'image files': 7416, 'png jpg': 11814, 'header redirect': 7030, 'jscript': 8610, 'selects': 13882, 'using stl': 16763, 'follows': 6126, 'main function': 9430, 'select update': 13839, 'removes': 13029, 'osgi': 11083, 'poi excel': 11819, 'boolean array': 1727, 'learning java': 8896, 'groupbox': 6926, 'web development': 17405, 'development environment': 4248, 'python pil': 12405, 'pil image': 11737, 'convert hex': 3281, 'location services': 9274, 'react js': 12688, 'js get': 8603, 'unable instantiate': 16122, 'shallow': 14183, 'make post': 9464, 'sites': 14349, 'console program': 3118, 'gridview row': 6917, 'loop array': 9349, 'json request': 8647, 'align text': 705, 'selecting multiple': 13873, 'image view': 7469, 'has_one': 7000, 'method create': 9748, 'compareto': 2940, 'update listview': 16306, 'color button': 2811, 'shopify': 14212, '+ c': 107, 'lazy load': 8875, 'cant figure': 2134, 'diagram': 4262, 'use code': 16426, 'new android': 10444, 'minor': 9845, 'grid lines': 6902, 'using matplotlib': 16671, 'display success': 4448, 'success message': 15155, 'calling methods': 2101, 'represented': 13092, 'search string': 13755, 'computers': 3007, 'apart': 936, 'webconfig file': 17431, 'folder php': 6115, 'line characters': 8991, 'coloring': 2823, 'save canvas': 13592, 'display specific': 4446, 'row data': 13416, 'subcategories': 15091, 'read local': 12712, 'string time': 14994, 'retriving': 13262, 'mongodb using': 9969, 'code javascript': 2752, 'javascript equivalent': 8347, 'datatypes': 3928, 'email body': 4964, 'date month': 3954, 'typeerror unsupported': 16025, 'unsupported operand': 16291, 'collection_select': 2802, 'ie 7': 7340, 'objects collection': 10804, 'scrolls': 13728, 'seen': 13788, 'appender': 1006, 'separate files': 13960, 'one jsp': 10904, 'another jsp': 885, 'english': 5058, 'copy paste': 3364, 'handle different': 6969, 'python unicode': 12437, 'encoded utf8': 5016, 'connecting sql': 3083, 'undeclared identifier': 16152, 'value field': 16907, 'json using': 8659, 'debug mode': 4029, 'laravel 54': 8813, 'create user': 3501, 'c++ builder': 1950, 'unable change': 16112, 'row html': 13423, 'spring java': 14616, 'java config': 8150, 'push undefined': 12298, 'json decode': 8625, 'model instance': 9914, 'ftp server': 6326, 'sprites': 14632, 'android apps': 794, 'extra space': 5572, 'forms page': 6253, 'uibuttons': 16059, 'joins': 8483, 'arguments passed': 1087, 'passed method': 11374, 'php arrays': 11553, 'motion': 9986, 'new activity': 10443, 'tcp server': 15422, 'query java': 12494, 'image slider': 7455, 'jquery check': 8515, 'check uncheck': 2442, 'element text': 4920, 'different file': 4314, 'html button': 7184, 'button javascript': 1881, 'assume': 1324, 'android sdk': 815, 'row database': 13417, 'subtracting': 15146, 'could open': 3410, 'java version': 8265, 'function java': 6385, 'smallest': 14391, 'laravel eloquent': 8815, 'string arrays': 14896, 'one string': 10927, 'string ruby': 14986, 'file eclipse': 5763, 'injected': 7663, 'simple http': 14288, 'http server': 7265, 'qualifier': 12475, 'static fields': 14768, 'local network': 9249, 'effective': 4875, 'tips': 15701, 'xcode 4': 17901, 'using smtp': 16754, 'vista': 17254, 'win32 application': 17545, 'using singleton': 16753, 'class functions': 2567, 'php best': 11554, 'best use': 1628, 'turned': 15886, 'change height': 2302, 'moment': 9956, 'div onclick': 4496, 'download pdf': 4653, 'using try': 16778, 'stopping': 14829, 'exception class': 5380, 'mockito mock': 9887, 'new file': 10450, 'attribute class': 1359, 'text files': 15512, 'way store': 17380, 'send values': 13929, 'case statement': 2193, 'java regex': 8223, 'recyclerview': 12819, 'service wont': 14061, 'add class': 516, 'print_r': 12069, 'sending large': 13940, 'alert view': 697, 'create simple': 3490, 'multipart form': 10066, 'javascript callback': 8325, 'get hibernate': 6594, 'hibernate entity': 7078, 'sd': 13734, 'change url': 2325, 'rails 32': 12572, 'python lxml': 12386, 'mechanism': 9650, 'java 7': 8121, 'jquery cant': 8513, 'uploaded images': 16358, 'custom login': 3685, 'unittesting': 16230, 'nodejs server': 10530, 'commons': 2921, 'apache commons': 926, 'unordered_map': 16261, 'column index': 2845, 'catalog': 2209, 'static block': 14759, 'method javascript': 9761, 'objectforkey': 10783, 'error two': 5242, 'ago': 656, '1 hour': 136, 'table column': 15332, 'timezones': 15696, 'work correctly': 17737, 'random access': 12635, 'threads java': 15609, 'duplicate symbol': 4742, 'textfile': 15569, 'memory access': 9675, 'dont know': 4620, 'multiple interfaces': 10104, 'mysql java': 10243, 'base64 image': 1533, 'sftp': 14178, 'image ajax': 7394, 'deallocated': 4024, 'read large': 12709, 'jackson deserialization': 8101, 'dns': 4555, 'mavericks': 9614, '109': 152, 'c++ code': 1955, 'select items': 13820, 'people': 11478, 'sharepoint list': 14197, 'critical': 3537, 'add select': 562, 'event div': 5301, 'delete object': 4131, 'datarows': 3913, 'never called': 10441, 'console window': 3120, 'take input': 15391, 'link javascript': 9026, 'sharepoint 2013': 14196, 'urls using': 16408, 'local xml': 9256, 'hit': 7127, 'comparator': 2932, 'debian': 4025, 'access java': 404, 'characters like': 2373, '# 2': 2, 'serialize deserialize': 13991, 'randomize': 12645, 'arrayliststring': 1207, 'send http': 13911, 'set php': 14135, 'php cron': 11568, 'server 2003': 14005, 'format json': 6224, 'php equivalent': 11579, 'equivalent javascript': 5116, 'data provider': 3800, 'connect local': 3069, 'script error': 13689, 'error chrome': 5151, 'chrome extensions': 2518, 'drawing lines': 4683, 'data local': 3783, 'mobile device': 9875, 'httpcontext': 7270, 'value aspnet': 16873, 'input file': 7695, 'get columns': 6556, 'set text': 14146, 'retry': 13264, 'using adonet': 16544, 'confirmation message': 3055, 'javalangarrayindexoutofboundsexception': 8283, 'java hibernate': 8189, 'window chrome': 17551, 'oauthexception': 10703, 'hovering': 7159, 'msvc': 10043, 'java call': 8139, 'call constructor': 2053, 'convert stdstring': 3307, 'netbeans ide': 10424, 'mediaelement': 9656, 'windowparent': 17576, 'get client': 6554, 'using global': 16620, 'java finding': 8175, 'network interface': 10433, 'inner classes': 7676, 'real world': 12754, 'installing numpy': 7824, '64bit windows': 323, 'extraction': 5582, 'root directory': 13380, 'passing javascript': 11389, 'deal': 4021, 'one character': 10884, 'character time': 2367, 'simple javascript': 14290, 'wcf restful': 17391, '3 app': 239, 'include file': 7548, 'prefer': 11981, 'moving image': 10019, 'page via': 11197, 'lm': 9181, 'polar': 11847, 'facet': 5609, 'way save': 17374, 'via api': 17155, 'api rails': 956, 'attempted': 1351, 'string parameter': 14976, 'inside table': 7798, 'regression': 12930, 'linear regression': 9009, 'series pandas': 14001, 'data two': 3828, 'different tables': 4328, 'database jsp': 3861, 'tree using': 15815, 'asm': 1247, 'calling c++': 2091, 'function reference': 6406, 'rotate image': 13387, 'text property': 15526, '_id': 352, 'list tuples': 9131, 'before_filter': 1594, 'kendo ui': 8720, 'ui grid': 16050, 'grid column': 6900, 'enforcing': 5052, 'item c': 8053, 'fosuserbundle': 6262, 'roll': 13375, 'user management': 16513, 'vba': 17111, 'application development': 1024, 'video file': 17180, 'upload form': 16343, 'form django': 6169, 'pressing enter': 12016, 'deviation': 4252, 'standard deviation': 14718, 'integrity': 7890, 'string convert': 14918, 'django error': 4519, 'quality': 12479, 'string entity': 14930, '365': 261, 'ive': 8096, 'digital': 4344, 'get bootstrap': 6544, 'bootstrap datetimepicker': 1748, 'weak': 17395, 'homebrew': 7135, 'fabricjs': 5587, 'email multiple': 4968, 'multiple users': 10154, 'jquery validate': 8585, 'new one': 10458, 'display result': 4442, 'illegal start': 7385, 'using jstl': 16660, 'rows gridview': 13449, 'image preview': 7446, 'using paperclip': 16709, 'sys': 15277, 'video files': 17181, 'text div': 15505, 'apache mod_wsgi': 929, 'pl': 11756, 'file sql': 5836, 'bracket': 1788, 'functions called': 6435, 'inside list': 7790, 'html div': 7193, 'fieldset': 5716, 'web forms': 17408, 'cell data': 2238, 'activating': 477, 'create input': 3475, 'nested objects': 10397, 'link library': 9027, 'snap': 14409, 'finding common': 5999, 'heatmap': 7042, 'qplot': 12459, 'r script': 12553, 'init method': 7640, 'method calling': 9742, 'searchbar': 13759, 'underlying connection': 16173, 'connection closed': 3088, 'closed connection': 2707, 'restriction': 13228, 'causes error': 2227, 'autoload': 1419, 'eclipse using': 4851, 'another java': 884, 'using struts2': 16768, 'decoded': 4065, 'error json': 5193, 'object could': 10718, 'could decoded': 3400, 'return different': 13273, 'different values': 4334, 'another method': 887, 'method controller': 9747, 'conf': 3037, 'call variable': 2074, 'number validation': 10670, 'validation regex': 16860, 'interface using': 7915, 'rect': 12805, '# server': 78, 'jasperreports': 8116, 'bean method': 1579, 'combining two': 2881, 'line numbers': 9001, 'attribute aspnet': 1358, 'div tag': 4498, 'match regex': 9574, 'stacked bar': 14706, 'generate soap': 6493, 'soap request': 14418, 'restrict user': 13225, 'read first': 12704, 'contextmenu': 3209, 'based string': 1553, 'tries': 15827, 'validation message': 16857, 'error bars': 5142, 'multiple buttons': 10075, 'variables html': 17086, 'hierarchy': 7108, 'deserializing json': 4197, 'redirect_to': 12837, 'make sense': 9466, 'bad practice': 1503, 'pass argument': 11341, 'domain name': 4614, 'error apache': 5138, 'sentence': 13954, 'get error': 6579, 'data c++': 3746, 'technique': 15430, 'arrays mysql': 1217, 'jvms': 8705, 'running multiple': 13545, 'urlaction': 16401, 'duplicates list': 4746, 'file display': 5758, 'display html': 4424, 'textbox javascript': 15556, 'places api': 11763, 'fwrite': 6444, 'variable class': 17042, 'function undefined': 6417, 'hibernate using': 7088, 'hide column': 7097, 'importing excel': 7536, 'json web': 8662, 'remove specific': 13019, 'logistic regression': 9315, 'loading content': 9226, 'javascript remove': 8399, 'wants': 17311, 'native javascript': 10336, 'flipping': 6081, 'unordered': 16259, 'unordered list': 16260, 'items array': 8068, 'variable using': 17076, 'vb6': 17110, '8 metro': 332, 'c++ boost': 1949, 'inside custom': 7775, 'gtk': 6938, 'indexing': 7604, 'write data': 17834, 'type bool': 15970, 'possible get': 11913, 'matrix using': 9602, 'variable one': 17064, 'represents': 13094, 'passing class': 11386, 'object function': 10729, 'respective': 13182, 'array contains': 1111, 'float double': 6085, 'value store': 16954, 'toast': 15716, 'asterisks': 1326, 'process memory': 12118, 'validate user': 16845, 'use static': 16475, 'fatalerrorexception': 5665, 'limit number': 8975, 'undefined index': 16158, 'line 2': 8984, 'codeigniter php': 2777, 'dynamic javascript': 4766, 'suggestion': 15164, 'images mysql': 7482, 'image using': 7467, 'grids': 6907, 'classmethod': 2622, 'swift error': 15225, 'compiles': 2967, 'invalid conversion': 7958, 'indexhtml': 7603, 'django orm': 4530, 'convert query': 3304, 'first argument': 6026, 'delete file': 4124, 'file use': 5853, 'datagrid wpf': 3897, 'formdata': 6243, 'multipart formdata': 10067, 'use different': 16431, 'error sql': 5232, 'check manual': 2422, 'python mysqldb': 12397, 'activerecordrecordnotfound': 493, 'multiple records': 10129, 'make javascript': 9458, 'calculations': 2042, 'expr': 5513, 'values checkbox': 16983, 'directory python': 4375, 'path java': 11424, 'dashed': 3728, 'validation fails': 16853, 'application context': 1023, 'metro apps': 9811, 'reconnecting': 12791, 'ios simulator': 8003, 'server returned': 14030, 'returned error': 13301, 'javalangillegalstateexception': 8287, 'wp8': 17802, 'multiple statements': 10139, 'insert current': 7732, 'adds': 611, 'create javascript': 3478, 'error convert': 5160, 'php facebook': 11584, 'email validation': 4971, 'expiry': 5494, 'phpsessid': 11711, 'recommendations': 12787, 'zip code': 18015, 'handlebarsjs': 6975, 'javascript inside': 8367, 'propertyplaceholderconfigurer': 12239, 'spring configuration': 14607, 'image icon': 7425, 'python dict': 12354, 'popups': 11883, 'open close': 10961, 'time period': 15665, 'mule': 10048, '34': 257, 'cross browser': 3549, 'file data': 5752, 'cascade': 2188, 'jpa hibernate': 8488, 'code working': 2762, 'test data': 15473, 'open url': 10981, 'socket client': 14429, 'quote': 12535, 'request method': 13109, 'combine 2': 2876, 'unmatched': 16257, 'merge 2': 9702, 'ie 8': 7341, 'practice java': 11968, 'hint': 7122, 'multiple javascript': 10106, 'intint': 7947, 'c extension': 1927, 'python scrapy': 12420, 'update sql': 16318, 'database via': 3875, 'div width': 4501, 'session management': 14083, 'add line': 546, 'line file': 8995, 'make div': 9451, 'remove button': 12987, 'click element': 2649, 'find closest': 5939, 'specific string': 14557, 'string pattern': 14979, 'pushed': 12300, 'cursor position': 3649, 'begin': 1596, 'invoke method': 7977, 'using angular': 16547, 'unable run': 16129, 'request url': 13119, 'time range': 15668, 'string utf8': 14999, 'c source': 1939, 'lowercase uppercase': 9378, 'property null': 12227, 'alphabet': 732, 'tablet': 15365, 'nested loop': 10393, 'loop working': 9361, 'sort multidimensional': 14474, 'one fields': 10894, 'dynamically loaded': 4804, '00': 124, 'convert ascii': 3264, 'position jquery': 11898, 'jquery dialog': 8527, 'linux c': 9075, 'tkinter python': 15708, 'list integers': 9113, 'globals': 6804, 'difference static': 4300, 'inserting data': 7759, 'run android': 13506, 'subfolder': 15100, '404 page': 282, 'button within': 1900, 'controller model': 3239, 'giving error': 6790, 'color picker': 2817, 'name url': 10307, 'markdown': 9550, 'css using': 3591, 'r markdown': 12547, 'column row': 2852, 'ansible': 908, 'jar files': 8108, 'result using': 13236, 'parameter javascript': 11247, 'add item': 540, 'dynamic array': 4754, 'ansi c': 907, 'db using': 4005, 'textarea input': 15545, 'side using': 14256, 'display string': 4447, 'completion block': 2981, 'working directory': 17765, 'return statement': 13289, 'string field': 14934, 'import excel': 7522, 'match words': 9578, 'end string': 5040, 'adding additional': 578, 'ist': 8047, 'expression string': 5527, 'object ruby': 10764, 'profiles': 12143, 'limiting': 8978, 'formset': 6255, 'incompatible type': 7564, 'array pointers': 1168, 'get tag': 6687, 'xml node': 17936, 'helper method': 7060, 'way extract': 17349, 'chaining': 2277, 'filestream': 5913, 'getting list': 6747, 'eclipselink': 4852, 'scanner input': 13638, 'clear text': 2638, 'sending emails': 13935, 'randomly generated': 12647, 'printing pdf': 12077, 'abc': 360, 'htaccess file': 7172, 'url browser': 16376, 'find duplicate': 5946, 'string sql': 14990, 'type column': 15976, 'aspnet vbnet': 1284, 'c string': 1940, 'updating ui': 16335, 'grabbing': 6866, 'ngclass': 10496, 'compare 2': 2934, '2 dates': 184, 'doesnt seem': 4594, 'limitations': 8976, 'accessing parent': 439, 'studio error': 15075, 'resolve symbol': 13163, 'form file': 6176, 'array mysql': 1158, 'uiimagepickercontroller': 16065, 'project visual': 12191, 'file storing': 5838, 'pass php': 11362, 'dictionary using': 4284, 'aggregate function': 652, 'one page': 10916, 'function find': 6379, 'restful service': 13218, 'cocos2d': 2730, 'identifiers': 7326, 'leading trailing': 8883, 'socketerror': 14436, 'datetimes': 3991, 'data nested': 3791, 'scenes': 13647, 'nested else': 10385, 'shows wrong': 14249, 'error pages': 5215, 'element found': 4909, 'found exception': 6266, 'stamp': 14713, 'time stamp': 15671, 'php write': 11698, 'current year': 3644, 'wizard': 17699, 'ability': 361, 'insert text': 7752, 'way populate': 17368, 'method requires': 9780, 'without changing': 17655, 'address bar': 606, 'take screenshot': 15392, 'before_save': 1595, 'php web': 11692, 'running javascript': 13543, 'compile errors': 2956, 'customising': 3705, 'python sqlite': 12430, 'external dll': 5551, 'pros': 12242, 'cons': 3106, 'pros cons': 12243, 'adt': 632, 'cdata': 2232, 'xml response': 17944, 'response text': 13197, 'php cli': 11558, 'local storage': 9252, 'pass form': 11346, 'values jquery': 17004, 'input textbox': 7715, 'framework java': 6293, 'mouse button': 9988, 'css styling': 3589, 'mdi': 9638, 'child form': 2489, 'form c': 6163, 'chat using': 2399, 'store variable': 14847, 'plugin eclipse': 11802, 'github': 6775, 'confirm dialog': 3053, 'find smallest': 5980, 'newly created': 10484, 'httpget': 7271, 'localhost using': 9259, 'using password': 16710, 'thread access': 15592, 'custom function': 3676, 'trying send': 15875, 'locals': 9265, 'already defined': 741, 'bins': 1674, 'windowlocation': 17571, 'failed connect': 5626, 'type array': 15969, 'html jquery': 7212, 'intervals': 7943, 'allocate memory': 712, 'make textbox': 9473, 'getelementsbyclassname': 6719, 'horizontal scrolling': 7144, 'passing arguments': 11383, 'object controller': 10717, 'generate list': 6490, 'mbstring': 9634, 'one parameter': 10917, 'metro style': 9812, 'row jtable': 13427, 'last cell': 8840, 'update multiple': 16308, 'table sql': 15353, 'yesterday': 17987, 'syspath': 15279, 'method unit': 9793, 'cant send': 2149, 'way concatenate': 17336, 'g++ error': 6448, '# include': 51, 'getelementbyid': 6718, 'autolayout constraints': 1418, 'executenonquery': 5428, 'returns 1': 13325, 'update records': 16314, 'nib': 10511, 'skipping': 14365, 'pdo prepared': 11472, 'plist file': 11792, 'dynamically using': 4810, 'hits': 7128, 'ssrs': 14697, 'float int': 6086, 'tpl': 15767, 'collected': 2793, 'row values': 13437, 'cvmat': 3711, 'ndarray': 10355, 'anonymous method': 862, 'remove attributes': 12985, 'jsf primefaces': 8618, 'primefaces datatable': 12052, 'handles': 6981, 'set session': 14142, '1 minute': 137, 'write method': 17842, 'removing item': 13033, '55': 313, 'setting background': 14167, 'color div': 2813, 'javascript regular': 8398, 'numberformatexception': 10672, 'struct c': 15040, 'httpservletrequest': 7282, 'weighted': 17489, 'ajax aspnet': 659, 'receive data': 12767, 'abstract base': 373, 'value stored': 16955, 'simple array': 14281, 'array multiple': 1157, 'fixed position': 6059, 'drools': 4695, 'post form': 11931, 'within function': 17636, 'primaryexpression': 12048, 'expected primaryexpression': 5479, 'using http': 16634, 'host name': 7147, 'name value': 10309, 'password protected': 11410, 'ios app': 7997, 'inside updatepanel': 7803, 'toarray': 15715, 'presented': 12008, 'column based': 2830, 'based another': 1536, 'mysql column': 10229, 'function print': 6403, 'selected date': 13850, '09': 127, 'format javascript': 6223, 'get google': 6591, 'silent': 14273, 'mode using': 9901, 'data inserted': 3773, 'number days': 10644, 'type swift': 16006, 'post using': 11941, 'viewcontrollers': 17217, 'method c++': 9739, 'local time': 9253, 'date last': 3953, 'without context': 17657, 'parent element': 11277, 'inside template': 7799, 'template file': 15443, 'insert database': 7734, 'jsp form': 8682, 'nltk': 10518, 'list dictionary': 9098, 'dictionary c': 4275, 'error line': 5194, 'protocols': 12252, 'sdl2': 13738, 'index data': 7590, 'setting array': 14166, 'c++ object': 1985, 'access private': 412, 'private member': 12089, 'label using': 8793, 'working ajax': 17758, 'use existing': 16435, 'run command': 13512, 'unbound': 16138, 'php object': 11632, 'one number': 10913, 'response body': 13190, 'performance issue': 11493, 'buttons java': 1906, 'multi level': 10051, 'sub folder': 15088, 'callout': 2109, 'disable input': 4389, 'multiple constructors': 10084, 'terminating': 15464, 'android webview': 823, 'thousands': 15590, 'multiple submit': 10142, 'external css': 5550, 'reflection get': 12885, 'method method': 9762, 'shipping': 14211, 'written c': 17863, 'deeply': 4076, 'deeply nested': 4077, 'script working': 13706, 'working google': 17769, 'checking whether': 2477, 'textbox empty': 15553, 'app_code': 991, 'maximum recursion': 9628, 'recursion depth': 12811, 'grayscale': 6890, 'grayscale image': 6891, 'separators': 13971, 'beginning end': 1601, 'properly use': 12206, 'dropdownlists': 4719, 'selectedindexchanged': 13865, 'selectedindexchanged event': 13866, 'specific position': 14553, 'found http': 6267, 'last value': 8854, 'data based': 3743, 'omit': 10863, 'applets': 1017, 'check text': 2438, 'connect sql': 3077, 'server db': 14019, 'jquery set': 8572, 'googles': 6859, 'backbone view': 1476, 'dynamic id': 4764, 'response code': 13191, 'button based': 1864, 'checked checkboxes': 2465, 'pdfptable': 11465, 'itext pdf': 8091, 'opencv c++': 10987, 'best approach': 1620, 'model validation': 9924, 'index error': 7591, 'error php': 5218, 'php image': 11602, 'quick way': 12528, 'way getting': 17354, 'unsafe': 16276, 'css animation': 3572, 'curl error': 3612, 'transfer data': 15784, 'one html': 10899, 'dynamic table': 4774, 'particular row': 11336, 'find class': 5938, 'get exact': 6581, 'specific range': 14554, 'image hover': 7423, 'given user': 6786, 'pagination using': 11208, 'using doctrine': 16596, 'mobile browsers': 9874, 'qlineedit': 12457, 'configuration error': 3042, '411': 286, 'url http': 16382, 'reloaddata': 12964, 'limits': 8979, 'r plots': 12550, 'static member': 14776, 'visitors': 17253, 'geolocation': 6527, 'files use': 5905, 'consolewriteline': 3124, 'use ruby': 16470, '# working': 99, 'unexpected results': 16190, 'static data': 14766, 'datetime value': 3986, 'redirect form': 12827, 'python windows': 12444, 'windows 81': 17582, 'dates using': 3975, 'use another': 16419, 'another process': 892, 'copy one': 3363, 'file types': 5846, 'python set': 12425, 'type c++': 15972, 'rack': 12559, 'java properties': 8219, 'numbers decimal': 10677, 'bat': 1571, 'bat file': 1572, 'php namespaces': 11629, 'values textbox': 17023, 'java equivalent': 8168, 'command windows': 2908, 'iterate array': 8079, 'combine two': 2878, 'post file': 11930, 'access data': 394, 'empty line': 4988, 'indexer': 7600, 'replicate': 13076, 'model without': 9927, 'using android': 16546, 'figures': 5718, 'arguments function': 1084, 'routine': 13404, 'link href': 9023, 'calling functions': 2096, 'mobile web': 9880, 'drop box': 4697, 'file browser': 5735, 'different classes': 4308, 'java timer': 8259, 'blank page': 1692, 'anaconda': 779, 'textbox values': 15561, 'sum two': 15174, 'ensuring': 5063, 'error request': 5223, 'request member': 13108, 'using microsoft': 16674, 'java without': 8271, 'rake task': 12630, 'listview c': 9163, 'image canvas': 7404, 'canvas using': 2159, 'inflating': 7626, 'error inflating': 5186, 'inflating class': 7627, 'windows7': 17609, 'solved': 14452, 'main window': 9435, 'php update': 11682, 'capture output': 2173, 'trigger button': 15829, 'chinese': 2504, 'end url': 5042, 'plugin work': 11804, 'poi java': 11820, 'navigationbar': 10351, 'httpservletresponse': 7283, 'array input': 1139, 'lines python': 9015, 'javascript create': 8338, 'system property': 15286, 'sha256': 14180, 'create random': 3489, 'avfoundation': 1443, 'date get': 3948, 'uniqueness': 16224, 'jquery slider': 8574, 'candidate': 2120, 'rewriting': 13352, 'failed create': 5628, 'pan': 11217, 'hyphen': 7295, 'mysql +': 10224, 'daily': 3723, 'array sorting': 1175, 'mouseover mouseout': 10004, 'implement custom': 7498, 'two way': 15957, 'way binding': 17330, 'value column': 16887, 'column using': 2855, 'tags inside': 15383, 'update row': 16315, 'method type': 9792, 'uploading images': 16364, 'templatefield': 15451, 'row color': 13412, 'pulling': 12285, 'viewed': 17220, 'facets': 5610, 'parentchild': 11286, 'saving data': 13614, 'dll files': 4551, 'files windows': 5909, 'dynamic memory': 4770, 'cant import': 2137, 'save load': 13601, 'return values': 13297, 'output parameters': 11108, 'dom javascript': 4608, 'fcm': 5668, 'horizontal scrollbar': 7143, 'microsoft jscript': 9818, 'jscript runtime': 8611, 'get button': 6546, 'set data': 14109, 'json net': 8637, 'elastic search': 4893, 'printf format': 12074, 'time string': 15672, 'inserts': 7765, 'rails migration': 12598, 'consistently': 3111, 'zindex': 18012, 'datatemplate': 3926, 'binding wpf': 1669, 'cleaning': 2633, 'python remove': 12414, 'dictionary list': 4279, 'second column': 13765, 'column pandas': 2850, 'throws nullpointerexception': 15629, 'weblogic': 17447, 'using log4j': 16668, 'family': 5650, 'strlen': 15030, '# 30': 3, '1024': 147, 'px': 12310, 'dataannotations': 3843, 'application net': 1030, 'emulate': 5001, 'sysargv': 15278, 'php pass': 11638, '19': 172, 'getdate': 6717, 'remove image': 13005, 'image folder': 7418, 'filled': 5921, 'would like': 17797, 'xcode project': 17906, 'turns': 15888, 'php5': 11701, 'concepts': 3018, 'xcode swift': 17907, 'event work': 5321, 'delete button': 4121, 'prices': 12044, 'table python': 15348, 'combined': 2879, 'uploaded files': 16356, 'c++ classes': 1953, 'way copy': 17338, 'load xml': 9218, 'php url': 11684, 'dictionary values': 4286, 'calendar api': 2045, 'client library': 2680, 'vs list': 17282, 'using xml': 16800, 'contract': 3220, 'model field': 9911, 'data java': 3776, 'apples': 1014, 'values function': 16998, 'run app': 13507, 'real device': 12752, 'check checkbox': 2404, 'super class': 15183, 'method subclass': 9789, 'response headers': 13194, 'telerik': 15433, 'acces': 387, 'click javascript': 2655, 'tap event': 15403, 'letters numbers': 8931, 'enforce': 5051, 'values combobox': 16985, 'try use': 15856, 'buffering': 1832, 'streamed': 14881, 'idiom': 7333, 'unset': 16279, 'variables passed': 17092, 'passed reference': 11376, 'value integer': 16919, 'year month': 17983, 'month date': 9978, 'columns pandas': 2863, 'stream java': 14880, '# string': 82, 'files server': 5902, 'recreate': 12804, 'element sequence': 4918, 'setting focus': 14169, 'input element': 7690, 'two xml': 15959, 'php select': 11661, 'select menu': 13824, 'send receive': 13922, 'preferred': 11985, 'preferred way': 11986, 'remove non': 13012, 'send file': 13908, 'directed': 4357, 'correct use': 3381, 'find dom': 5944, 'dom node': 4609, 'node using': 10522, 'run code': 13511, 'r using': 12555, 'collecting': 2794, 'expanding': 5470, 'collapsing': 2791, 'widgets': 17530, 'anything like': 919, 'bigint': 1641, 'converting data': 3331, 'unable parse': 16126, 'string error': 14932, 'pthread_create': 12271, 'dumping': 4735, 'custom objects': 3691, 'objects property': 10813, 'table two': 15354, 'static field': 14767, 'constructor function': 3151, 'string new': 14969, 'rounded corners': 13394, 'model object': 9918, '48': 293, 'pass reference': 11363, 'foreach statement': 6147, 'convert datatable': 3273, 'generic dictionary': 6511, 'dictionary type': 4283, 'type key': 15990, 'type value': 16011, 'c++ cli': 1954, 'asio': 1243, 'boost asio': 1734, 'crud operations': 3558, 'descriptor': 4188, 'file descriptor': 5754, '2 numbers': 192, 'return number': 13285, 'rotated': 13388, 'text image': 15514, 'windows path': 17600, 'new element': 10449, 'statement php': 14752, 'previews': 12034, 'bad idea': 1502, 'tcp client': 15417, 'handle error': 6970, 'navigationcontroller': 10352, 'querysets': 12518, 'interact': 7899, 'hyperlinks': 7294, 'using objectivec': 16700, 'value returned': 16947, 'function takes': 6414, 'network using': 10436, 'data array': 3737, 'compressed': 2999, 'without primary': 17680, 'pandas series': 11225, 'trouble installing': 15842, 'implementation using': 7504, 'apachepoi': 935, 'excel using': 5372, 'request response': 13115, 'css3 animation': 3593, '# calling': 15, 'calling c': 2090, 'columns using': 2867, 'inside form': 7779, 'tracking': 15771, 'without visual': 17696, 'intact': 7867, 'user data': 16502, 'pause resume': 11443, 'console using': 3119, 'using mouse': 16679, 'ascii code': 1237, 'iterate json': 8080, 'list element': 9102, 'script run': 13698, 'browser using': 1818, 'parametrized': 11270, 'list data': 9096, 'deleting rows': 4142, 'set global': 14123, 'error handler': 5181, 'statement c': 14746, 'height change': 7045, 'ui thread': 16054, 'newer': 10477, 'migrations': 9828, 'changing value': 2345, 'stl map': 14818, 'php simple': 11669, 'win32 api': 17544, 'x position': 17882, 'php email': 11578, 'select row': 13832, 'displaying data': 4457, 'api working': 966, 'rails activerecord': 12578, 'ui dialog': 16049, 'c++ source': 1996, 'dll file': 4550, 'file created': 5748, 'spawn': 14516, 'boost thread': 1738, 'function type': 6416, 'repo': 13078, 'php format': 11591, 'browser back': 1808, 'route working': 13398, 'difference c': 4295, '110': 154, 'input array': 7682, 'heap size': 7040, 'values aspnet': 16979, 'glsl': 6806, 'writeobject': 17851, 'headless': 7036, 'application run': 1032, 'calling controller': 2093, 'scopes': 13666, 'rewrite rule': 13349, 'onetoonefield': 10946, 'headers sent': 7034, 'string different': 14926, 'different format': 4316, 'get query': 6652, 'string values': 15002, 'operation valid': 11021, 'current state': 3637, 'custom header': 3678, 'without modifying': 17676, 'crudrepository': 3559, 'android development': 798, 'library c++': 8946, 'talk': 15401, 'javascript nested': 8382, 'flat': 6075, 'sizeof': 14361, 'group using': 6925, 'find average': 5937, 'color image': 2815, 'within one': 17643, 'return types': 13295, 'selfclosing': 13895, 'crossorigin': 3554, 'select max': 13823, 'occurences': 10834, 'text multiple': 15522, 'get nodes': 6632, 'menu item': 9695, 'item another': 8050, 'parsing html': 11310, 'status code': 14793, 'existing database': 5450, 'string except': 14933, 'using image': 16637, 'image processing': 7447, 'using header': 16628, 'header php': 7029, 'starting new': 14739, 'type arguments': 15968, 'type template': 16007, 'images opencv': 7484, 'opencv java': 10988, 'event doesnt': 5302, 'doesnt fire': 4587, 'print string': 12067, 'rxjava': 13570, 'column list': 2846, 'way close': 17333, 'matrix python': 9599, 'dialogbox': 4268, 'complains': 2974, 'elapsed': 4889, 'time elapsed': 15655, 'two javascript': 15935, 'error null': 5207, 'lnk2001': 9183, 'error lnk2001': 5195, 'lnk2001 unresolved': 9184, 'django 18': 4513, 'day year': 3995, 'passing object': 11394, 'contains substring': 3178, 'clob': 2695, 'checkboxs': 2462, 'xaml c': 17895, 'selenium 2': 13884, 'upload photo': 16347, 'string letters': 14959, 'java detect': 8160, 'detect whether': 4227, 'json tree': 8657, 'link php': 9030, 'compile java': 2957, 'ossystem': 11084, 'substitute': 15140, 'importing csv': 7535, 'itemtemplate': 8076, 'send message': 13917, 'border color': 1757, 'select values': 13842, 'design patterns': 4201, 'using cmake': 16573, 'function within': 6424, 'future': 6442, 'feedback': 5673, 'wpf control': 17808, 'add current': 521, 'downloaded file': 4659, 'android use': 820, 'ajax rails': 678, 'recipient': 12775, 'json result': 8650, 'table r': 15349, 'list array': 9085, 'remove div': 12993, 'htaccess url': 7176, 'url rewrite': 16392, 'system function': 15285, 'callback method': 2083, 'stack trace': 14704, 'audio video': 1381, 'adjust height': 614, 'away': 1448, 'alias': 702, 'nuget': 10614, 'rc': 12675, 'method work': 9799, 'remove extra': 13001, 'array another': 1097, 'asp button': 1251, 'protocol buffer': 12250, 'python package': 12403, 'proxies': 12263, 'gruntjs': 6933, 'getting 404': 6729, 'error connection': 5158, 'string correct': 14920, 'sum value': 15175, 'value multiple': 16928, 'multiple input': 10101, 'execute multiple': 5421, 'access control': 393, 'intended': 7896, 'multiple user': 10153, 'login user': 9310, 'cant encode': 2133, 'encode character': 5012, 'attributeerror module': 1372, 'single file': 14324, 'xcode 5': 17902, 'custom collection': 3661, 'reading excel': 12734, 'excel 2007': 5360, 'x lion': 17881, 'twilio': 15896, 'access file': 401, 'one type': 10933, 'simple form': 14286, 'writing files': 17858, 'web applications': 17400, 'keras': 8723, 'across different': 459, 'input jquery': 7703, 'serialized': 13994, 'check data': 2406, 'http web': 7267, 'api calls': 943, 'request google': 13103, 'colored': 2822, 'give error': 6777, 'inside gridview': 7783, 'add one': 555, 'java use': 8262, 'inner html': 7677, 'adding image': 586, '3 razor': 241, 'offline': 10854, 'gmap': 6811, 'fileupload control': 5916, 'placing': 11764, 'process c': 12114, 'installing python': 7825, 'python 32': 12333, 'calling python': 2104, 'ef code': 4871, 'data json': 3779, 'tab delimited': 15318, 'delimited text': 4147, 'committed': 2919, 'vue': 17292, 'didselectrowatindexpath': 4290, 'use regex': 16467, 'xxxx': 17975, 'processing request': 12125, 'r function': 12544, 'pip install': 11742, 'store app': 14834, 'version using': 17144, 'getting current': 6733, 'rating': 12664, 'star rating': 14725, 'array ids': 1133, 'check specific': 2435, 'specific character': 14526, 'passing variable': 11403, 'variable module': 17059, 'redirected': 12839, 'virtual host': 17240, 'android set': 816, 'control value': 3228, 'php ubuntu': 11681, 'api response': 958, 'response data': 13192, 'jsp file': 8680, 'jquery error': 8531, 'maximum call': 9625, 'call stack': 2069, 'size exceeded': 14354, 'use instead': 16444, 'sets java': 14159, 'factors': 5614, 'values column': 16984, 'error checking': 5150, 'get count': 6562, 'mysql jdbc': 10244, 'db2': 4006, 'example working': 5353, 'c++ file': 1967, 'eclipse create': 4839, 'file missing': 5799, 'clicks button': 2673, 'button ios': 1879, 'file net': 5804, 'subplots': 15121, 'via c': 17156, 'object expected': 10727, 'finalize': 5934, 'collector': 2805, 'garbage collector': 6462, 'reusing': 13342, 'name c': 10289, 'exchange web': 5402, 'browse': 1805, 'type file': 15983, 'ajax control': 663, 'replace html': 13064, 'leaves': 8901, 'unity 3d': 16232, 'copy image': 3362, 'access elements': 400, 'map marker': 9524, 'using struts': 16767, 'typeerror set': 16022, 'view source': 17209, 'contenttype': 3205, 'json get': 8629, 'php working': 11697, 'collection objects': 2798, 'oserror': 11082, 'blog': 1709, 'assertionerror': 1302, 'structured': 15052, 'dollar sign': 4603, 'django request': 4535, 'utf8 encoded': 16815, 'octal': 10845, 'decimal numbers': 4037, 'facebook post': 5601, 'gain': 6450, 'manipulating': 9499, 'good practice': 6829, 'pressing button': 12015, 'javascript validate': 8421, 'many rows': 9510, 'value javascript': 16921, 'newbie': 10476, 'black white': 1688, 'error expression': 5174, 'expression must': 5524, 'iostream': 8011, 'visual c++': 17258, 'cant open': 2142, 'open include': 10970, 'task list': 15410, 'miss': 9853, 'guava cache': 6942, 'checkout': 2479, 'unable insert': 16120, 'undefined class': 16155, 'class constant': 2553, 'outofmemoryerror': 11096, 'maven build': 9607, 'spring controller': 14609, 'help needed': 7055, 'add images': 539, 'conflict': 3056, 'static classes': 14761, 'wsgirequest': 17872, 'ajax pass': 675, 'error x': 5262, 'variables set': 17097, 'xmpp': 17959, 'need call': 10361, 'datacontext': 3883, 'web project': 17412, 'entered user': 5067, 'outputs': 11112, 'string xml': 15007, 'via http': 17163, 'http put': 7261, 'download files': 4649, 'server python': 14028, 'refuses': 12898, 'select field': 13813, 'connect 2': 3065, 'want show': 17308, 'dropdown box': 4706, 'qstring': 12463, 'drop using': 4702, 'mvc 2': 10189, 'python read': 12410, 'column excel': 2839, 'constructor class': 3148, 'value vbnet': 16968, 'stub': 15061, 'contents using': 3203, 'using rspec': 16742, 'slots': 14383, 'findviewbyid': 6003, 'external json': 5556, 'json javascript': 8632, 'settimeout function': 14164, 'method overriding': 9770, 'exiting': 5464, 'change name': 2312, 'name key': 10302, 'array google': 1130, 'specific key': 14542, 'key array': 8727, 'methods class': 9803, 'c macro': 1934, 'thread finish': 15595, 'regex validation': 12921, 'multiple textboxes': 10147, 'query builder': 12488, 'eventlistener': 5324, 'python converting': 12348, 'access via': 428, 'via reflection': 17173, 'youtube iframe': 17999, 'working mobile': 17780, 'mobile devices': 9876, 'number pages': 10659, 'webforms': 17441, 'aspnet webforms': 1288, 'backcolor': 1478, 'undefined local': 16161, 'variable method': 17058, 'reduce memory': 12847, 'undefined offset': 16164, 'unicode object': 16206, 'hql query': 7163, 'order java': 11059, 'bean named': 1581, 'bindparam': 1673, 'xml schema': 17945, 'googlemaps': 6858, 'insert sql': 7748, 'naming convention': 10326, 'first name': 6039, 'javascript compare': 8334, 'scope variables': 13664, 'request php': 13113, 'throwable': 15620, 'error exception': 5171, 'two vectors': 15956, 'without repeating': 17685, 'self class': 13893, 'list elements': 9103, 'spa': 14501, 'execute command': 5415, 'command linux': 2903, 'output array': 11099, 'dao': 3725, 'macho': 9403, 'apple macho': 1012, 'macho linker': 9404, 'unauthorized': 16135, 'acl': 456, 'multidimensional arrays': 10060, 'cube': 3605, 'availability': 1439, 'apache php': 930, 'java input': 8191, 'xmlns': 17956, 'attribute using': 1366, 'appdelegate': 994, 'date datetime': 3939, 'get active': 6536, 'int char': 7857, 'based application': 1537, 'notice undefined': 10580, 'rgb values': 13355, 'doesnt match': 4591, 'function works': 6429, 'expression check': 5518, 'std': 14796, 'jndi': 8464, 'drop option': 4701, 'image html': 7424, 'use external': 16436, 'python removing': 12415, 'shuffle': 14251, 'elements list': 4940, 'battleship': 1576, 'timely': 15680, 'fashion': 5656, 'service respond': 14056, 'timely fashion': 15681, 'javascript google': 8362, 'javascript api': 8317, 'bean validation': 1585, 'data api': 3736, 'linking error': 9048, 'calling jquery': 2099, 'jquery js': 8545, 'custom authentication': 3657, 'radiobuttonlist': 12565, 'django +': 4510, 'model item': 9915, 'item passed': 8062, 'passed dictionary': 11372, 'books': 1724, 'tapped': 15404, 'url routing': 16394, 'fresh': 6312, 'exception java': 5386, 'vertices': 17152, 'vertex': 17148, 'persistence': 11514, 'form return': 6192, 'input focus': 7696, 'form vbnet': 6205, 'data django': 3757, 'knockout js': 8779, 'passing null': 11393, 'stubbing': 15062, 'expected identifier': 5478, 'identifier string': 7325, 'recurring': 12809, 'buildxml': 1844, 'winapi': 17548, 'two sets': 15945, 'pad': 11156, 'swap two': 15214, 'input error': 7692, 'feel': 5675, 'look feel': 9341, 'subprocesscheck_output': 15126, 'missing error': 9856, 'mainobject': 9436, 'presence': 12005, 'perspective': 11519, 'autoscroll': 1435, 'max length': 9616, 'yahoo': 17978, 'url parameter': 16386, '# define': 31, 'treemap': 15817, 'serialization java': 13987, 'crlf': 3538, 'link page': 9029, 'publishing': 12282, 'public private': 12278, 'plan': 11769, 'could resolved': 3413, 'way display': 17345, 'display single': 4445, 'serial number': 13981, 'use mysql': 16455, 'supplied': 15186, 'function expects': 6378, 'date sql': 3961, 'tricks': 15824, 'commysqljdbcdriver': 2927, 'parsing date': 11308, 'class array': 2545, 'us': 16410, 'number java': 10653, 'creating file': 3521, 'xml doc': 17924, 'jetty': 8454, 'classes using': 2615, 'laravel 52': 8811, 'json key': 8634, 'without javascript': 17670, 'awteventqueue0': 1455, 'trying add': 15861, 'separation': 13969, 'integration testing': 7888, 'ordering django': 11067, 'strongly typed': 15034, 'dynamic linq': 4769, 'cleanly': 2634, 'open html': 10969, 'function always': 6345, 'little': 9175, 'endian': 5044, 'little endian': 9176, 'value date': 16895, 'forced': 6142, 'error application': 5139, 'update_attributes': 16327, 'json without': 8663, 'dropping': 4723, 'files folders': 5892, 'insert javascript': 7740, 'datagridview winform': 3908, 'array single': 1172, 'rails4': 12618, 'invalid argument': 7951, 'picklist': 11723, 'web method': 17409, 'multiple arguments': 10072, 'css selector': 3586, 'highlight text': 7119, 'run shell': 13530, 'build path': 1840, 'large string': 8833, 'uploaded image': 16357, 'another server': 895, 'dates php': 3974, 'retrieved': 13258, 'data retrieved': 3806, 'semicolon': 13898, 'make static': 9469, 'nonstatic method': 10560, 'code using': 2758, 'angularjs ngclick': 845, 'dynamically loading': 4805, 'script java': 13694, 'file rails': 5822, 'sized': 14360, 'dreamweaver': 4687, 'create form': 3469, 'change input': 2305, 'compile c++': 2954, 'program running': 12153, 'using udp': 16781, 'udp socket': 16044, 'rails rspec': 12607, 'fstream': 6323, 'use get': 16439, 'requestquerystring': 13129, 'singletons': 14341, 'image jquery': 7431, 'submit post': 15114, 'variables one': 17091, 'url rewriting': 16393, 'aspnet 40': 1260, 'run c': 13510, 'multiple text': 10146, 'c1083': 2015, 'opencv2': 10991, 'error c1083': 5145, 'c1083 open': 2016, 'formulas': 6257, 'file android': 5724, 'create text': 3496, 'child node': 2490, 'mouseup': 10005, '504': 307, 'miles': 9829, 'cant seem': 2147, 'shrink': 14250, 'section header': 13773, 'java return': 8227, 'chars string': 2387, 'src attribute': 14686, 'tag string': 15377, 'aspnet website': 1290, 'phtml': 11717, 'couldnt find': 3416, 'dynamically load': 4803, 'load class': 9188, 'send large': 13915, 'data aspnet': 3738, 'aspnet webservice': 1289, 'webservice using': 17460, 'distance two': 4470, 'hibernate transaction': 7087, 'custom google': 3677, 'get_or_create': 6711, 'advantages using': 639, 'remove white': 13024, 'apply function': 1051, 'page url': 11195, 'execute java': 5418, 'calculate distance': 2033, 'find version': 5992, 'option value': 11044, 'click method': 2659, 'somewhere': 14463, 'tail': 15389, 'f': 5585, 'display message': 4432, 'exists database': 5456, 'mapping json': 9535, 'raspberry': 12659, 'pi': 11719, 'raspberry pi': 12660, 'operator new': 11029, 'send server': 13924, 'redirect using': 12835, 'dictionary keys': 4278, 'sum columns': 15171, 'nonlinear': 10550, 'uniqid': 16215, 'django module': 4528, 'weekends': 17485, 'days two': 4000, 'dates java': 3973, 'vector pointers': 17126, 'event javascript': 5311, 'bundling': 1856, 'png image': 11813, 'vs class': 17278, 'nuget package': 10615, 'function get': 6382, 'd3 javascript': 3720, 'expiring': 5493, 'soon': 14465, 'user session': 16522, 'hibernate 4': 7075, 'existing data': 5449, 'entity type': 5080, 'find user': 5989, 'show content': 14224, 'methods c': 9802, 'inside class': 7773, 'url python': 16390, 'window tab': 17566, 'position 0': 11896, 'cant convert': 2129, 'djangorestframework': 4546, 'choosing': 2510, '# webbrowser': 93, 'lifetime': 8963, 'aspnet session': 1279, 'nsinvalidargumentexception': 10594, 'nsinvalidargumentexception reason': 10595, 'google places': 6847, 'pass html': 11349, 'value url': 16965, 'attribute names': 1365, 'java 6': 8120, 'passenger': 11377, 'c++0x': 2013, 'span tag': 14510, 'wheres': 17511, 'member variable': 9667, 'variable declaration': 17043, 'drop event': 4698, 'google plus': 6849, 'fadein': 5620, 'drawbacks': 4678, 'jasper': 8112, 'jasper reports': 8114, 'update using': 16324, 'plot histogram': 11794, 'matplotlib python': 9594, '+ devise': 108, 'nested resources': 10398, 'know user': 8782, 'strange error': 14872, 'redirect url': 12833, 'format datetime': 6220, 'idle': 7336, 'resource files': 13173, 'mod_rewrite': 9890, 'memory location': 9685, 'ngdisabled': 10498, 'finger': 6005, 'guaranteed': 6940, 'password validation': 11413, 'nginx +': 10503, '+ passenger': 114, 'translation': 15796, 'large data': 8826, 'jquery val': 8584, 'x using': 17884, 'kivy': 8775, 'uisegmentedcontrol': 16081, 'box php': 1777, 'add array': 509, 'delegate type': 4116, 'data via': 3837, 'via post': 17171, 'using flask': 16608, 'regex check': 12904, 'php add': 11546, 'edit form': 4859, 'without time': 17693, 'uiview animation': 16097, 'start new': 14733, 'another domain': 876, 'database schema': 3866, 'datagridview row': 3904, 'html5 audio': 7235, 'custom html': 3679, 'get custom': 6564, 'simulating': 14309, 'create file': 3467, 'already exist': 742, 'reversing': 13346, 'array arraylist': 1100, 'detailed': 4218, 'sever': 14176, 'mapping found': 9534, 'request uri': 13118, 'java send': 8236, 'negative number': 10371, 'flush': 6098, 'enumerate': 5094, 'create function': 3470, '61': 319, 'websphere 61': 17474, 'text string': 15530, 'admin panel': 621, 'another application': 866, 'forms multiple': 6251, 'bind_param': 1661, 'number occurrences': 10658, 'absolute url': 370, 'empty list': 4990, 'locks': 9283, 'swipe gesture': 15236, 'static property': 14779, 'image uploading': 7464, 'forbidden error': 6138, 'request django': 13099, 'using webdriver': 16793, 'log messages': 9288, 'svg elements': 15206, 'get full': 6589, 'page pdf': 11184, 'database field': 3857, 'prism': 12084, 'log files': 9287, 'file certain': 5739, 'uiscrollview scrolling': 16079, 'viewbag': 17215, 'long java': 9326, 'date database': 3937, 'input change': 7686, 'legacy': 8909, 'hibernate annotations': 7076, 'website url': 17464, 'jquery onclick': 8557, 'unknown command': 16243, 'javascript dynamically': 8346, 'integration test': 7887, 'string text': 14993, 'textboxes using': 15563, 'variable another': 17037, 'code 0': 2733, 'captured': 2174, 'button image': 1877, 'name parameter': 10304, 'one better': 10881, 'duration video': 4749, 'django filter': 4520, 'form sending': 6194, 'passes': 11379, 'gracefully': 6867, 'android get': 803, 'php data': 11571, 'populating dropdown': 11878, '360': 260, 'degrees': 4110, 'locating': 9271, 'resource temporarily': 13178, 'temporarily unavailable': 15456, 'modelspy': 9934, 'datagrid binding': 3894, 'binding list': 1665, 'dynamically allocate': 4790, 'rails find': 12590, 'elements class': 4934, 'rewriterule': 13351, 'subarray': 15089, 'using mongodb': 16677, 'database use': 3871, 'slices': 14374, 'get coordinates': 6561, 'reusable': 13340, 'eclipse android': 4836, 'link new': 9028, 'clears': 2643, 'cant compile': 2127, 'user authenticated': 16496, 'net assembly': 10409, 'javaee': 8278, 'rows r': 13454, 'run javascript': 13519, 'rubys': 13501, 'automatically import': 1430, 'models django': 9931, 'synchronously': 15266, 'read lines': 12711, 'nonnullable': 10553, '# generics': 47, 'mfc application': 9814, 'javascript based': 8320, 'dbseed': 4011, 'rake dbseed': 12629, 'rails 30': 12570, 'facebook javascript': 5596, 'show text': 14240, 'get whole': 6705, 'image pdf': 7443, 'sql table': 14658, 'file save': 5830, 'url variable': 16398, 'join multiple': 8477, 'dynamic web': 4783, 'values jsp': 17006, 'else statement': 4955, 'doubles': 4640, 'teamcity': 15429, 'laravel error': 8816, 'credit': 3534, 'scanning': 13639, 'credit card': 3535, 'collection c': 2796, 'visual c': 17257, 'gridview using': 6919, 'ngoptions': 10505, 'view pdf': 17208, 'hidden div': 7091, 'return key': 13280, 'longer works': 9335, 'dice': 4270, 'convert one': 3298, 'format another': 6216, 'copied': 3351, 'vs 2013': 17275, 'value gridview': 16912, 'biginteger': 1642, 'performance java': 11495, 'type char': 15974, 'fedora': 5671, 'dictionary value': 4285, 'string parsing': 14978, 'html tag': 7226, 'rangeerror': 12653, 'basic 2010': 1565, 'form controls': 6166, 'setrequestheader': 14157, 'accessing session': 440, 'ui bootstrap': 16047, 'remove object': 13013, 'red': 12820, 'ssl error': 14695, '1gb': 177, 'blob field': 1701, 'pre': 11972, 'aes256': 643, 'java c': 8137, 'toggling': 15724, 'python create': 12349, 'sending receiving': 13945, 'uidatepicker': 16063, 'value data': 16891, 'mail php': 9420, 'scrollable': 13722, 'class element': 2559, 'single item': 14325, 'history': 7126, 'exited': 5462, 'process exited': 12115, 'last n': 8849, 'backbone marionette': 1474, 'data string': 3822, 'unknown number': 16244, 'parameters using': 11269, 'java getting': 8183, 'mocked': 9884, 'field set': 5701, 'set true': 14148, 'adb': 505, '+ python': 116, 'python +': 12327, 'x86_64': 17889, 'file encoded': 5764, 'get random': 6654, 'random values': 12644, 'symmetric': 15256, 'current datetime': 3627, 'display list': 4430, '2 different': 186, 'pdo connection': 11468, 'pdo query': 11473, 'two divs': 15926, 'increment number': 7577, 'java method': 8200, 'regex c': 12903, 'set aspnet': 14099, 'feeds': 5674, 'requestparam': 13128, 'reportviewer': 13086, 'get textbox': 6690, 'add border': 513, 'python memory': 12392, 'string characters': 14907, 'conversion const': 3255, 'jsfiddle': 8619, 'recompile': 12789, 'php set': 11666, '71': 327, 'mysql array': 10225, 'array length': 1153, 'using iterator': 16642, 'file client': 5743, 'cancellation': 2119, 'input button': 7684, 'square root': 14683, 'c++ initialize': 1975, 'another c': 869, 'portable': 11888, 'portable class': 11889, 'exist namespace': 5445, 'values foreach': 16996, 'base64 encoding': 1532, 'descriptions': 4187, 'ibm mq': 7302, 'clustering': 2720, 'matrix multiplication': 9598, 'parent process': 11284, 'thymeleaf': 15634, 'generic parameter': 6519, 'spring jpa': 14617, 'pass arguments': 11342, 'use pointer': 16462, 'resolved type': 13166, 'string literal': 14961, 'wget': 17499, '2 parameters': 193, 'trying compile': 15863, 'utf8 characters': 16814, 'values specific': 17019, 'specific column': 14529, 'executorservice': 5439, 'server 2012': 14008, 'distinct records': 4472, 'based column': 1538, 'call aspnet': 2048, 'way draw': 17346, 'checking string': 2475, 'value exists': 16906, 'entry point': 5087, 'dynamic link': 4768, 'eof': 5103, 'attach file': 1342, 'systemtype': 15312, 'coordinates using': 3350, 'xyz': 17977, 'nsobject': 10601, 'last line': 8847, 'net 20': 10402, 'time delay': 15651, 'xmldocument': 17952, 'charset': 2388, 'downloadable': 4657, 'file asp': 5730, 'filecopy': 5871, 'idiomatic': 7334, 'eclipse debugger': 4840, 'system python': 15287, 'generating unique': 6504, 'unique random': 16222, 'using js': 16655, 'php include': 11604, 'google visualization': 6855, 'send post': 13920, 'defines': 4105, 'method generic': 9755, 'remainder': 12968, 'messaging': 9722, 'inside c++': 7771, 'value parameter': 16940, 'prototypes': 12256, 'recipients': 12776, 'multiple recipients': 10128, 'selected checkboxes': 13849, 'directory error': 4368, 'datetimenow': 3989, 'dirty': 4380, 'squares': 14684, 'operator +': 11024, 'random value': 12643, 'call class': 2052, 'improve': 7539, 'angularjs ngrepeat': 846, 'ended': 5043, 'apache2': 934, 'working java': 17777, 'readfile': 12730, 'corrupt': 3387, 'catching exception': 2217, 'export gridview': 5507, 'update text': 16321, 'spritekit': 14631, 'childnodes': 2501, 'stripping': 15029, 'shared library': 14191, 'impossible': 7538, 'javascript calculate': 8323, 'javascript confirm': 8335, 'convert local': 3291, 'evenly': 5294, 'divisible': 4505, 'numbers 1': 10674, 'array variable': 1192, 'adding object': 592, 'php ftp': 11593, 'via js': 17168, 'sending message': 13942, 'message server': 9717, 'multiplayer': 10068, 'viable': 17175, 'java using': 8263, 'using tcp': 16772, 'want display': 17305, 'measure time': 9648, 'time c': 15645, 'data python': 3801, 'bootstrap navbar': 1751, 'policy': 11848, 'bound datagridview': 1766, 'datagridview control': 3903, 'word text': 17718, 'estimation': 5281, 'term': 15460, 'loading data': 9227, 'top n': 15751, 'n elements': 10283, 'list linq': 9118, 'javalangunsatisfiedlinkerror': 8302, 'classloader': 2621, 'native library': 10337, 'already loaded': 744, 'mscorlibdll': 10038, 'occurred mscorlibdll': 10837, 'button background': 1863, 'inside fragment': 7780, 'looks': 9345, 'looks like': 9346, 'fixed length': 6058, 'bounds exception': 1772, 'aspnet control': 1267, 'load view': 9217, 'httphandler': 7272, 'sums': 15179, 'icloud': 7303, 'number given': 10650, 'varying': 17106, 'pass null': 11357, 'sprite kit': 14630, 'loading time': 9237, 'detect touch': 4225, 'javascript getting': 8360, 'file jquery': 5790, 'php switch': 11677, 'php static': 11675, 'root element': 13381, 'variable referenced': 17070, 'referenced assignment': 12872, 'rxjs': 13571, 'clientid': 2687, 'mysql delete': 10237, 'tile': 15640, 'scaffolding': 13625, 'snake': 14407, 'snake game': 14408, 'upload images': 16345, 'vs2012': 17289, 'use method': 16453, 'ascending descending': 1232, 'project folder': 12185, 'reading json': 12738, 'make use': 9475, 'draw circle': 4673, 'mpmovieplayerviewcontroller': 10030, 'frame size': 6279, 'template parameters': 15446, 'delphi': 4151, 'page post': 11186, 'model attribute': 9903, 'stray': 14875, 'browser console': 1812, 'connect facebook': 3067, 'allocated malloc': 714, 'convert binary': 3266, 'using text': 16774, 'way combine': 17334, 'use net': 16456, 'given paths': 6782, 'paths format': 11435, 'format supported': 6231, 'button selected': 1891, 'always null': 760, 'session attribute': 14076, 'search file': 13747, 'drive api': 4689, 'way search': 17375, 'msword': 10044, 'order php': 11061, 'user using': 16525, 'find max': 5964, 'event user': 5319, 'framework 20': 6283, 'java console': 8153, 'interface method': 7914, 'documents folder': 4576, 'using database': 16589, 'qtablewidget': 12472, 'api mvc': 951, 'javalangstring cast': 8300, 'black screen': 1687, 'html url': 7231, 'file class': 5741, 'file onclick': 5809, 'checked items': 2466, 'representing': 13093, 'symbol found': 15246, 'adapt': 503, 'default parameter': 4085, 'module could': 9946, 'tomcat 8': 15734, 'allowed memory': 724, 'c structs': 1942, 'single record': 14332, 'ssl connection': 14694, 'user roles': 16519, 'php creating': 11567, 'float c++': 6084, 'response using': 13198, 'subversion': 15149, 'string recognized': 14982, 'recognized valid': 12783, 'valid date': 16833, 'time error': 15656, 'graphing': 6886, 'windows c++': 17589, 'application startup': 1037, 'mismatch convert': 9851, 'type name': 15994, 'shutdown': 14252, 'highlight color': 7118, 'one variable': 10937, 'copy contents': 3357, 'contents one': 3202, 'shortcuts': 14217, 'int64': 7866, 'services c': 14063, 'click events': 2651, 'pure javascript': 12290, 'script running': 13699, 'color text': 2819, 'empty python': 4993, 'using loops': 16670, 'edittext': 4867, 'failed execute': 5630, 'jquery css': 8520, '90': 339, '90 degrees': 340, 'rank': 12655, 'function calculate': 6355, 'java loop': 8197, 'takes 2': 15395, 'search bar': 13743, 'error simple': 5231, 'portion': 11891, 'constructor using': 3154, 'jquery loading': 8550, 'inference': 7619, 'type inference': 15986, 'find source': 5981, 'values dataframe': 16988, 'quantity': 12481, 'make simple': 9467, 'item listbox': 8059, 'test two': 15482, 'mysql_connect': 10268, 'byte string': 1916, 'clientserver': 2689, 'use select': 16471, 'possible add': 11908, 'done button': 4618, 'find variable': 5991, 'view inside': 17201, 'check version': 2448, 'installed application': 7821, 'running time': 13552, 'authentication error': 1390, 'class different': 2557, 'dont want': 4624, 'files multiple': 5898, 'types c': 16029, 'des': 4182, 'swf file': 15217, 'reference member': 12864, 'private constructor': 12086, 'service calls': 14049, 'return 2': 13267, 'ports': 11893, 'convert number': 3294, 'dicts': 4288, 'geo': 6524, 'degree': 4109, 'doesnt change': 4582, 'hhmmss': 7071, 'strcpy': 14877, 'copy array': 3354, 'invoice': 7975, 'pinvoke': 11740, 'comes': 2891, 'confusing': 3062, 'return two': 13293, 'two values': 15954, 'error ie': 5183, 'textbox input': 15555, 'object id': 10732, 'add user': 570, 'using different': 16593, 'different user': 4333, 'versioning': 17145, 'class javascript': 2575, 'early': 4820, 'hive': 7130, 'dumped': 4734, 'error stack': 5234, 'core dumped': 3373, 'command java': 2901, 'nonempty': 10545, 'scroll event': 13717, 'android mobile': 809, 'lt': 9383, 'parameter value': 11256, 'disposed': 4465, '# create': 24, 'webstorm': 17477, 'html5 javascript': 7239, 'request jquery': 13107, 'table names': 15346, 'test case': 15470, 'checkbox selection': 2456, 'wsdl file': 17871, 'multiple classes': 10079, 'string vs': 15004, 'vs string': 17286, 'reponse': 13079, 'lvalue': 9388, 'left operand': 8905, 'menubar': 9697, 'using checkbox': 16571, 'watermark': 17323, 'spring rest': 14619, 'general error': 6486, 'null exception': 10622, 'exception error': 5382, 'singleton pattern': 14340, 'second click': 13764, 'array form': 1127, 'specialization': 14521, 'get application': 6540, 'xx': 17973, 'method aspnet': 9737, 'service method': 14054, 'class android': 2543, 'ioexception': 7986, 'input integer': 7700, 'junit testing': 8699, 'server running': 14031, 'subscriptable': 15133, 'object subscriptable': 10770, 'python 2': 12328, 'asynchronous call': 1335, 'changes database': 2335, 'replace character': 13060, 'index string': 7596, 'working aspnet': 17762, 'compressing': 3000, 'data sent': 3811, 'validation plugin': 16859, 'text document': 15506, 'value button': 16878, 'parent function': 11279, 'file specified': 5834, 'working internet': 17775, 'video duration': 17179, 'saving files': 13617, 'application error': 1025, 'databound': 3882, 'aspnet repeater': 1278, 'passing string': 11400, 'sklearn': 14367, 'string binary': 14900, 'specific data': 14530, 'prevent form': 12026, 'array image': 1134, 'ie11': 7348, 'current active': 3624, 'id number': 7315, 'look like': 9342, 'supply': 15187, '# possible': 65, 'foreground': 6148, 'many open': 9508, 'open files': 10968, 'flickering': 6079, 'javascript ie': 8365, 'works firefox': 17791, 'response php': 13196, 'automate': 1422, 'run program': 13526, 'computed property': 3005, 'prior': 12081, 'request sent': 13116, 'set field': 14116, 'change div': 2292, 'string database': 14922, 'flash object': 6069, 'websocket server': 17471, 'server without': 14040, 'without running': 17688, 'start activity': 14728, 'conditional statements': 3033, 'input number': 7706, 'gender': 6484, 'consume web': 3158, 'abbreviations': 359, 'save multiple': 13603, 'using openmp': 16707, 'r rstudio': 12552, 'using url': 16783, 'userid': 16529, 'transactionscope': 15782, 'database error': 3856, 'reach': 12681, 'struct union': 15044, 'fetched': 5679, 'index array': 7588, 'array django': 1120, 'viewpager': 17225, 'androidviewinflateexception binary': 825, 'binary xml': 1657, 'line #': 8981, 'set locale': 14131, 'users location': 16537, 'hibernate error': 7079, 'parameters java': 11264, 'css html': 3580, 'programming using': 12174, 'javanetsocketexception': 8308, 'uiimages': 16066, 'structure javascript': 15050, 'functions return': 6439, 'network programming': 10434, 'datefromstring': 3969, 'showing properly': 14244, 'broken pipe': 1804, 'chat application': 2397, 'linearlayout': 9010, '# 1': 1, 'content type': 3192, 'pdoexception': 11474, 'find driver': 5945, 'thread running': 15599, 'total number': 15758, 'maps markers': 9542, 'executing command': 5433, 'double quote': 4636, 'object oriented': 10755, 'advantage using': 636, 'connect database': 3066, 'show progress': 14239, 'targeting': 15407, 'aka': 688, 'rangebased': 12652, 'administration': 624, 'complex object': 2984, 'nosuchmethoderror': 10568, 'manytomanyfields': 9516, 'name attribute': 10288, 'join method': 8476, 'expected token': 5482, 'php simplexml': 11670, 'button element': 1871, 'dispatch_async': 4412, '2gb': 235, 'macosx': 9406, 'unix timestamp': 16240, 'improving': 7540, 'stdlist': 14801, 'unknown size': 16246, 'uilabel text': 16069, 'number decimal': 10645, 'php multidimensional': 11624, 'associate': 1318, 'switch statements': 15240, 'find position': 5975, 'shorthand': 14220, 'documentwrite': 4577, 'reference error': 12858, 'type number': 15997, 'add string': 564, 'last record': 8852, 'dont understand': 4623, 'element without': 4927, 'converters': 3327, 'using value': 16786, 'javascript eval': 8349, 'python reading': 12411, 'search result': 13753, 'using rest': 16739, 'prompt using': 12199, 'returned ajax': 13300, 'php file_get_contents': 11587, 'readline': 12747, 'belongs_to': 1612, 'php detect': 11574, 'string float': 14938, 'exec command': 5409, 'handlebars': 6974, 'webdriver java': 17434, 'query strings': 12511, 'regex matching': 12911, 'facebook page': 5599, 'user select': 16521, 'branch': 1790, 'attribute element': 1360, 'android volley': 822, 'subqueries': 15128, 'buttonclick': 1903, 'python modules': 12394, 'leading zero': 8884, 'php multiple': 11625, 'twitterbootstrap': 15906, 'sscanf': 14687, 'functions php': 6437, 'reference java': 12862, 'samples': 13586, 'comment box': 2916, 'database column': 3850, 'blank spaces': 1695, 'systemoutprintln': 15307, 'access db': 396, 'nanoseconds': 10329, 'int java': 7860, 'escaped': 5275, 'single quote': 14330, 'mysql error': 10239, 'select value': 13841, 'inside folder': 7778, 'variables values': 17100, 'thirdparty': 15586, 'nonconst': 10541, 'using char': 16570, 'struct c++': 15041, 'friend': 6313, 'mvvm light': 10220, 'page page': 11183, 'unexpected identifier': 16189, '193': 174, 'ruby 193': 13480, 'regex extract': 12905, 'extract string': 5578, 'php table': 11679, 'top right': 15753, 'encountered': 5025, 'error encountered': 5168, 'certain characters': 2260, 'cast int': 2200, 'two integers': 15933, 'daylight': 3996, 'savings': 13621, 'daylight savings': 3997, 'line 7': 8985, 'unzip': 16298, 'wix': 17698, '2 form': 190, 'django login': 4524, 'stackoverflowerror': 14709, 'finite': 6009, 'logcat': 9292, 'update statement': 16319, 'method string': 9788, 'string name': 14967, 'get previous': 6647, 'reject': 12937, 'timespan': 15692, 'two functions': 15930, 'magento get': 9413, 'german': 6530, 'java replace': 8225, 'using pointers': 16720, 'namespaced': 10323, 'ear': 4818, 'custom action': 3654, 'dynamic text': 4776, 'invalid json': 7961, 'uitableviewcell height': 16090, 'frequent': 6310, 'sheets': 14201, 'properties javascript': 12210, 'transforming': 15789, 'sparse matrix': 14515, 'ran': 12632, 'external process': 5560, 'div background': 4481, 'user type': 16523, 'type field': 15982, 'row height': 13422, 'aspbutton': 1254, 'hidden fields': 7093, 'javascript string': 8413, 'select_tag': 13844, 'bulk update': 1850, 'vs javascript': 17281, 'python 34': 12335, 'custom message': 3686, 'html textbox': 7230, 'autocomplete textbox': 1410, 'c++ application': 1947, 'get keys': 6613, 'error aspnet': 5140, 'glassfish 4': 6792, 'hide input': 7101, 'full name': 6330, 'stylesheets': 15085, 'call controller': 2054, 'controller scope': 3241, 'using get': 16617, 'post variables': 11945, 'get local': 6621, 'data view': 3838, 'passing json': 11390, 'ngroute': 10507, 'support multiple': 15190, 'pass model': 11355, 'string find': 14936, 'working page': 17781, 'right left': 13363, 'submits': 15116, 'group name': 6924, 'thumbnail images': 15632, 'storing retrieving': 14860, 'null empty': 10620, 'precompiled': 11976, 'aligning': 707, 'button group': 1875, 'allocating': 715, '# adding': 7, 'parameters c': 11262, 'tabs using': 15371, 'class key': 2577, 'jodatime': 8472, 'dataframes pandas': 3892, 'uploader': 16359, 'jquery file': 8533, 'file uploader': 5849, 'value radio': 16944, 'server gone': 14021, 'gone away': 6823, 'combobox value': 2889, 'update ui': 16322, 'error token': 5239, 'subfolders': 15101, 'function c': 6353, 'regex search': 12918, 'php mongodb': 11623, '# excel': 42, 'depending value': 4168, 'interview': 7945, 'interview question': 7946, 'translated': 15794, 'qapplication': 12454, 'rows pandas': 13453, 'mvc dropdownlist': 10200, 'using model': 16676, 'array containing': 1110, 'using gridview': 16626, 'gridview c': 6910, 'birth': 1675, 'array controller': 1113, 'string manipulation': 14964, 'running tomcat': 13553, 'create pdf': 3487, 'variable accessible': 17035, 'find last': 5958, 'void pointer': 17267, 'nio': 10517, 'things': 15581, 'java store': 8248, 'deselect': 4190, 'sql select': 14653, 'strength': 14887, 'springsecurity': 14627, 'languages': 8806, 'blob javascript': 1703, 'combobox items': 2886, 'edited': 4863, 'add dynamic': 526, 'pattern match': 11439, 'control c': 3223, 'c++ socket': 1995, 'saying': 13623, 'cv': 3710, 'check value': 2446, 'exists mysql': 5457, 'box c': 1775, 'capital': 2166, 'mp4': 10026, 'mp4 video': 10027, 'ajax load': 672, 'load php': 9211, 'move_uploaded_file': 10013, 'php regular': 11651, 'ruby 200': 13481, 'possible call': 11909, 'data caching': 3747, 'meant': 9646, 'php accessing': 11545, 'data grid': 3768, 'hidden iframe': 7094, 'intermediate': 7917, 'initialising': 7645, 'file resource': 5826, 'architecture x86_64': 1063, 'compiler cant': 2963, 'find header': 5953, 'data points': 3798, 'way define': 17341, 'strings java': 15019, 'thumb': 15630, 'java check': 8141, 'facebook users': 5605, 'rails active': 12577, 'pushviewcontroller': 12302, 'basic example': 1567, 'automatically generate': 1429, 'browser url': 1817, 'use unresolved': 16481, 'unresolved identifier': 16275, 'mvc2': 10213, 'running jar': 13541, 'set position': 14136, 'stdclass': 14797, 'could converted': 3397, 'javascript regexp': 8397, 'work ie': 17742, 'backgroundposition': 1491, 'poor': 11862, '_': 341, 'path string': 11429, 'html java': 7210, 'filereader': 5882, 'temperature': 15437, 'ending': 5045, 'list files': 9105, 'directory php': 4374, 'text button': 15499, 'constructor java': 3152, 'show hidden': 14231, 'carry': 2185, 'array python': 1169, 'restricted': 13226, 'com object': 2871, 'filter method': 5928, 'single array': 14318, 'function result': 6407, 'scripting': 13707, 'jquery append': 8505, 'fetchall': 5678, 'c++ qt': 1992, 'box value': 1780, 'run cron': 13513, 'returning error': 13310, 'external url': 5563, 'tags using': 15387, 'menu items': 9696, 'way import': 17357, 'fancy': 5652, 'python property': 12409, 'max values': 9620, 'data ios': 3775, 'socket server': 14435, 'change javascript': 2306, 'solid': 14445, 'money': 9960, 'sqlite table': 14673, 'packing': 11155, 'window scroll': 17563, 'parameter c': 11242, 'datetime sql': 3984, 'forwarding': 6261, 'dropdowns': 4720, 'set dynamic': 14112, 'sheet using': 14200, 'copy files': 3361, 'tags string': 15386, 'corresponds': 3386, 'inline function': 7669, 'javascript windowopen': 8425, 'homepage': 7136, 'next line': 10491, 'inside uiscrollview': 7801, 'based login': 1547, 'javalangruntimeexception': 8298, 'base type': 1528, 'thinks': 15583, 'username email': 16531, 'variable value': 17077, 'titanium': 15702, 'consolereadline': 3123, 'face': 5588, 'draw rectangle': 4676, 'one listbox': 10909, 'listbox another': 9140, 'entity object': 5079, 'hashmaps': 7014, 'values keys': 17007, '502': 305, 'ember data': 4979, 'value return': 16946, 'update model': 16307, 'model objects': 9919, 'catch exceptions': 2215, 'display name': 4435, 'plus button': 11808, 'developed': 4242, 'running application': 13536, 'data error': 3758, 'window closed': 17553, 'char arrays': 2351, 'nested hash': 10389, 'object list': 10745, 'intensive': 7897, '# program': 68, 'kepler': 8722, 'luna': 9387, 'eclipse kepler': 4846, 'get system': 6685, 'per day': 11480, 'htmlelement': 7244, 'getattribute': 6714, 'sorting gridview': 14488, 'one value': 10936, 'java system': 8254, 'java8': 8273, 'session value': 14092, 'youtube videos': 18001, 'using ngrepeat': 16693, 'netty': 10429, 'operation couldnt': 11020, 'couldnt completed': 3415, 'model rails': 9922, 'azure storage': 1465, 'rails view': 12616, 'trust': 15851, 'error callback': 5147, 'using proxy': 16725, 'email addresses': 4961, 'person': 11517, 'dynamic height': 4762, 'base url': 1529, 'database hibernate': 3859, 'file database': 5753, 'function specific': 6412, 'specific object': 14548, 'object parent': 10757, 'button programmatically': 1890, 'winform application': 17615, 'swift class': 15224, 'soft keyboard': 14442, 'dim': 4347, 'list r': 9127, 'docker container': 4561, 'able connect': 363, 'change title': 2324, 'prototypejs': 12255, 'guarantee': 6939, 'using null': 16696, 'virtual methods': 17243, 'flask application': 6072, 'requestbody': 13123, 'html5 localstorage': 7240, 'hashset': 7015, 'expression type': 5529, 'string key': 14957, 'exclusive': 5405, 'pointer types': 11837, 'check textbox': 2439, 'php sql': 11674, 'toggle div': 15723, 'compiling error': 2972, 'stateless': 14744, 'stores': 14856, 'quartz scheduler': 12483, 'html attributes': 7182, 'misplaced': 9852, 'permutations': 11511, 'disable enable': 4386, 'form elements': 6172, 'mysql search': 10255, 'member functions': 9664, 'one property': 10919, 'list contains': 9095, 'println': 12079, 'input elements': 7691, '05': 126, 'method update': 9794, 'hash values': 7007, 'deploy war': 4171, 'inside loop': 7792, 'set cursor': 14107, 'field form': 5693, 'jquery html': 8542, 'redirect user': 12834, '# make': 58, 'password reset': 11411, 'csv python': 3601, 'printed': 12071, 'use group': 16442, 'always use': 764, 'variables within': 17101, 'serializing object': 13997, 'method definition': 9749, 'different methods': 4320, 'images database': 7478, 'escape sequence': 5273, 'midnight': 9823, 'message queue': 9715, 'without default': 17661, 'gridlines': 6906, 'locate element': 9269, 'image without': 7472, 'javascript mvc': 8381, 'current month': 3632, 'https using': 7281, 'row pandas': 13431, 'new view': 10474, 'promises': 12196, 'integers array': 7878, 'public folder': 12275, 'display pdf': 4440, 'resolve method': 13162, 'seleniumwebdriver': 13891, 'transparency': 15798, 'undefined error': 16156, 'without database': 17660, 'process using': 12120, 'setting value': 14171, 'probably': 12096, 'run jquery': 13520, 'set style': 14145, 'duplicate rows': 4741, 'order using': 11063, 'intersection two': 7941, 'arrays javascript': 1214, '__init__py': 348, 'dynamic data': 4759, 'records database': 12799, 'pattern matching': 11440, 'element missing': 4915, 'character php': 2363, 'send parameter': 13919, 'error saving': 5228, 'java mysql': 8203, 'returns nan': 13333, 'vectorstring': 17130, 'forin': 6154, 'onclick javascript': 10872, 'count many': 3420, 'moment js': 9957, 'last day': 8843, 'pojo': 11845, 'actionlink': 468, 'fits': 6050, 'two points': 15942, 'points given': 11843, 'collection type': 2799, 'synchronized': 15262, 'synchronized method': 15264, 'update user': 16323, 'amp': 777, 'xml php': 17942, 'working windows': 17788, 'php delete': 11573, 'multiple checkboxes': 10077, 'cant add': 2124, 'add items': 541, 'idictionary': 7332, 'pop window': 11864, 'element name': 4916, 'use operator': 16460, 'request get': 13102, 'previous next': 12039, 'tostring method': 15756, 'download images': 4651, 'lxml python': 9391, 'python 35': 12336, 'pass id': 11350, 'linq join': 9062, '405 method': 284, 'bearer': 1588, 'barcode': 1517, 'html forms': 7205, 'application mac': 1029, 'keychain': 8749, 'troubles': 15844, 'http 11': 7247, 'array javascript': 1148, 'data set': 3815, 'unusual': 16295, 'struts 1': 15057, 'assetsprecompile': 1306, 'rails rake': 12603, 'rake assetsprecompile': 12626, 'regex parse': 12912, 'parse url': 11298, '+ spring': 118, 'spring +': 14598, '+ hibernate': 109, 'javascript +': 8311, 'error 500': 5132, 'using graph': 16623, 'write csv': 17833, 'custom module': 3689, 'reliable way': 12959, 'webdriver c': 17433, 'custom fonts': 3673, 'memoryerror': 9691, 'ews': 5344, 'specific file': 14535, 'occur': 10830, 'sort table': 14476, 'table laravel': 15343, 'wont find': 17702, 'viewdata': 17218, 'item type': 8064, 'another div': 875, 'php make': 11622, 'ruby hash': 13489, 'convert timestamp': 3313, 'field required': 5700, 'instead null': 7847, 'extjs grid': 5568, 'value json': 16923, 'nth occurrence': 10613, 'edit text': 4861, 'file used': 5854, 'used another': 16487, 'write php': 17844, 'image new': 7438, 'one item': 10902, 'encoded string': 5015, 'sqlalchemy orm': 14662, 'wordpress page': 17722, 'type allowed': 15966, 'hide divs': 7099, 'window without': 17569, 'longrunning': 9339, 'fields java': 5711, 'php app': 11550, 'possible load': 11914, 'channels': 2348, 'dictionary key': 4277, 'way read': 17370, 'table via': 15357, 'csv reader': 3602, 'url validation': 16397, 'regex java': 12908, 'make thread': 9474, 'subsetting': 15139, 'removing duplicates': 13031, 'unique identifier': 16220, 'error attempting': 5141, 'without file': 17664, 'net web': 10419, 'auto refresh': 1405, 'community': 2926, 'row button': 13410, 'send ajax': 13902, '+ ajax': 105, 'sec': 13762, 'one array': 10880, 'cleared': 2640, 'way set': 17378, 'zurb': 18024, 'zurb foundation': 18025, 'resulting': 13237, 'make django': 9452, 'array unknown': 1188, 'override default': 11135, 'program crash': 12148, 'trying make': 15870, 'module found': 9947, 'shorter': 14218, 'document ready': 4569, 'custom method': 3687, 'upload data': 16339, 'visible using': 17249, 'benchmark': 1614, 'gldrawelements': 6794, 'simple web': 14296, 'hover event': 7158, 'find elements': 5949, 'form controller': 6165, 'individually': 7617, 'accents': 380, 'standards': 14722, 'arrayjavascript': 1200, 'arrayjavascript array': 1201, 'explorer 8': 5501, 'via email': 17160, 'open directory': 10963, '80': 334, 'error starting': 5235, 'javascript uncaught': 8417, 'devexpress gridview': 4251, 'alphanumeric characters': 739, 'characters python': 2377, 'sql datetime': 14641, 'pattern c': 11438, 'jsf +': 8615, 'using qt': 16728, 'phonegap app': 11531, 'object interface': 10736, '401 unauthorized': 276, 'accessory': 444, 'error read': 5221, 'inserting values': 7763, 'static html': 14773, 'based users': 1558, 'users input': 16536, 'varbinary': 17031, '# write': 102, 'encode decode': 5013, 'populate html': 11873, 'keyboard events': 8746, 'systemdatetime': 15295, 'convert mysql': 3292, 'controller actions': 3234, 'mysqli prepared': 10276, 'springs': 14626, 'div class': 4483, 'formatted string': 6237, 'json files': 8627, 'column 1': 2828, 'hacking': 6962, 'server localhost': 14024, 'screens': 13684, 'microsoft sql': 9819, 'fileoutputstream': 5880, 'list available': 9087, 'file xml': 5867, 'deleting row': 4141, 'arm': 1091, 'taking long': 15399, 'long double': 9324, 'running junit': 13544, 'junit tests': 8700, 'page java': 11172, 'selected file': 13852, 'ios8': 8010, 'admin form': 617, 'text cell': 15501, 'jquery functions': 8538, 'location using': 9275, 'grep': 6897, 'number elements': 10647, 'dynamically update': 4809, 'update form': 16304, 'based selected': 1551, 'tooltips': 15746, 'server connection': 14017, 'property initialized': 12219, 'cookie value': 3345, 'file binary': 5734, 'multiple processes': 10124, 'mysql c': 10227, 'file project': 5819, 'query get': 12492, 'get results': 6663, 'map object': 9526, 'multiple value': 10155, 'handling php': 6985, 'template using': 15449, 'convert utf8': 3319, 'catch blocks': 2212, 'fileinputstream': 5875, 'enemy': 5050, 'movement': 10015, 'exceptions thrown': 5399, 'multiple key': 10109, 'recvfrom': 12818, 'checked checkbox': 2464, 'php search': 11660, 'nodejs socketio': 10531, 'threadpool': 15607, 'mean python': 9642, 'contains value': 3180, 'main form': 9429, 'workflow': 17756, 'use data': 16429, 'api controller': 944, 'pointers c': 11839, 'iframe content': 7361, 'db php': 4003, 'ascii string': 1239, 'websocket connection': 17469, 'subprocesspopen': 15127, 'isolated': 8038, 'accepted': 383, 'native code': 10334, 'browse button': 1806, 'button c': 1865, 'folder java': 6111, 'trying run': 15873, 'object data': 10721, 'list index': 9110, 'printing array': 12076, 'function django': 6371, 'child div': 2486, 'instantiate class': 7841, 'python finding': 12364, 'gap': 6458, 'machine learning': 9400, '# webclient': 94, 'data insert': 3772, 'table database': 15335, 'uiscrollview scroll': 16078, 'winxp': 17624, 'based text': 1554, 'functions python': 6438, 'stop working': 14826, 'insert command': 7731, 'main javalangnullpointerexception': 9432, 'phone 7': 11524, 'way tell': 17381, 'windowlocationhref': 17572, 'ngchange': 10495, 'asynchronous function': 1336, 'value property': 16942, 'null undefined': 10629, 'using code': 16575, 'list gridview': 9107, 'elapsed time': 4890, 'grand': 6876, 'central': 2254, 'grand central': 6877, 'central dispatch': 2255, 'serialize json': 13992, 'missing required': 9857, 'double string': 4638, 'dto': 4727, 'benefit using': 1616, 'long int': 9325, 'unexpected eof': 16186, 'uint8': 16073, 'new string': 10466, 'function calling': 6359, 'add field': 533, 'binding working': 1668, 'parameter method': 11248, 'variable empty': 17047, 'distance matrix': 4469, 'files uploaded': 5904, 'inserting multiple': 7761, 'records one': 12800, 'd3 bar': 3719, 'char c': 2352, 'difference using': 4302, 'per row': 11482, '1110': 156, 'ubuntu 1110': 16037, 'nghide': 10499, 'tensor': 15458, 'java draw': 8162, 'image onclick': 7440, 'dynamic class': 4756, 'last comma': 8842, 'encryption java': 5034, 'function execute': 6376, 'id name': 7314, 'jquery pass': 8559, 'form class': 6164, 'placed': 11758, 'application web': 1039, 'using column': 16577, 'reads': 12749, 'two fields': 15927, 'snippet': 14410, '+ angularjs': 106, 'contenteditable': 3195, 'contenteditable div': 3196, 'jquery tabs': 8577, 'data annotations': 3734, 'uicollectionviewcell': 16061, 'get select': 6670, 'using select': 16748, 'request error': 13100, 'error 400': 5128, 'control parent': 3226, 'tables mysql': 15362, 'search filter': 13748, 'different folder': 4315, 'downloading files': 4662, 'use default': 16430, 'html mysql': 7215, 'returns blank': 13328, 'display contents': 4417, 'field without': 5706, 'rails jquery': 12596, 'array file': 1124, 'anyway': 920, 'declare array': 4053, 'given type': 6785, 'change selected': 2319, 'separated comma': 13962, 'producer': 12129, 'producer consumer': 12130, 'suitable driver': 15167, 'driver found': 4692, 'element within': 4926, 'proceed': 12112, 'fibonacci': 5685, 'phase': 11522, 'indirectly': 7614, 'insert table': 7751, 'program java': 12150, 'row 2d': 13409, 'sequelize': 13974, 'reading files': 12736, 'inserted id': 7757, 'current windows': 3643, 'windows machine': 17598, 'scripting language': 13708, 'code doesnt': 2742, 'create multidimensional': 3481, 'message queues': 9716, 'controls using': 3250, 'python java': 12377, 'controller class': 3236, 'code windows': 2760, 'leaked': 8891, 'php remove': 11652, 'xml feed': 17928, '# library': 53, 'php mailer': 11621, 'require_once': 13132, 'dotted': 4630, 'get facebook': 6582, 'number array': 10640, 'get called': 6547, 'priority queue': 12083, 'working iis': 17773, 'juno': 8702, 'eclipse juno': 4845, 'command working': 2909, 'c++ visual': 2008, 'javalibrarypath': 8304, 'multiple projects': 10125, 'user root': 16520, 'root localhost': 13382, 'sailsjs': 13581, 'java threads': 8258, 'value undefined': 16964, 'solve error': 14451, 'virtual environment': 17237, 'show full': 14229, 'textbox jquery': 15557, 'java path': 8210, 'measuring': 9649, 'django url': 4542, 'specific page': 14550, 'tiff': 15639, 'constant error': 3131, 'write javascript': 17840, 'product collection': 12134, 'csrf token': 3570, 'pod': 11815, 'get location': 6622, 'oneliner': 10941, 'variables php': 17093, 'date variable': 3967, 'r data': 12540, 'error typeerror': 5244, 'part text': 11324, 'weblogic server': 17448, 'multi select': 10053, 'using date': 16591, 'exists using': 5458, 'bigger': 1639, 'textboxs': 15565, 'unable use': 16134, 'calling stored': 2106, 'timeout error': 15683, 'inspector': 7806, 'quiz': 12533, 'javascript dojo': 8343, 'failed find': 5632, 'digest': 4341, 'script path': 13695, 'belong': 1609, 'textbox gridview': 15554, 'value table': 16957, 'another variable': 902, 'load external': 9198, 'transferred': 15785, 'resource interpreted': 13177, 'transferred mime': 15786, 'get reference': 6657, 'column count': 2832, 'count doesnt': 3418, 'value count': 16890, 'count row': 3423, 'find difference': 5943, 'populate array': 11869, 'file instead': 5785, 'instead opening': 7848, 'capitan': 2168, 'el capitan': 4888, 'url htaccess': 16381, 'overload operator': 11128, 'balance': 1506, 'date javascript': 3951, 'autocomplete php': 1409, 'mysql ruby': 10254, 'chooser': 2509, 'remove border': 12986, '1 given': 135, 'dialect': 4263, 'jsonparse unexpected': 8673, 'form javascript': 6180, 'finishes': 6008, 'f #': 5586, 'multiple views': 10159, 'javascript sort': 8411, 'recognized internal': 12782, 'internal external': 7921, 'external command': 5549, 'php load': 11617, 'calculate sum': 2036, 'show data': 14225, 'move div': 10008, 'div scroll': 4497, 'plugin jquery': 11803, 'post value': 11942, 'mock object': 9883, 'python google': 12371, 'send javascript': 13913, 'class variables': 2607, 'use class': 16425, 'datetime string': 3985, 'wordpress site': 17726, 'filter using': 5929, 'change php': 2315, 'weird issue': 17492, 'related entity': 12941, 'datatable c': 3921, '# add': 6, 'dd mm': 4013, 'mm yyyy': 9869, 'display json': 4429, 'new variable': 10473, 'list class': 9092, 'find specific': 5982, 'inlines': 7672, 'stop javascript': 14823, 'pass url': 11366, 'files c++': 5886, 'invalid value': 7967, 'invalid arguments': 7952, 'one two': 10932, 'click outside': 2660, 'get database': 6566, 'oracle stored': 11057, 'terminating app': 15465, 'app due': 979, 'due uncaught': 4731, 'exception nsinvalidargumentexception': 5388, 'dividing': 4504, 'operator java': 11028, 'find item': 5956, 'returned value': 13302, 'arrange': 1093, 'php problem': 11645, 'argument error': 1073, 'error r': 5220, 'listview using': 9169, 'onfocus': 10947, 'chromedriver': 2523, 'gcc compiler': 6469, 'data service': 3813, 'adding item': 587, '2 array': 182, 'retrieve database': 13251, 'contentlength': 3197, 'entering': 5068, 'class div': 2558, 'tdd': 15426, 'function found': 6380, '# find': 43, 'response array': 13189, 'basic net': 1568, 'multilanguage': 10061, 'hover click': 7156, 'pointer member': 11834, 'class template': 2602, 'error occured': 5209, 'files eclipse': 5890, 'scroll working': 13721, 'js object': 8605, 'control windows': 3230, 'closes': 2708, 'bigquery': 1644, 'python without': 12445, 'folder eclipse': 6108, '# copy': 23, 'write console': 17832, 'bizarre': 1684, 'listint': 9151, 'days date': 3999, 'datetimedate': 3987, 'string buffer': 14901, 'string input': 14947, 'input storing': 7710, 'websql': 17476, 'numerical': 10689, 'mean javascript': 9641, 'make object': 9461, 'heap memory': 7039, 'vagrant': 16829, 'new keyword': 10454, 'field javascript': 5694, 'action using': 466, '1064': 151, 'manual corresponds': 9503, 'simple xml': 14297, 'application java': 1026, 'post meta': 11935, 'display search': 4443, 'table javascript': 15341, 'doesnt load': 4590, 'load html': 9202, 'without refresh': 17681, 'link inside': 9025, 'div clicked': 4485, 'marker google': 9553, 'gui library': 6948, 'using subprocess': 16769, 'jsp servlet': 8686, '2010 express': 207, 'exited code': 5463, 'textfields': 15568, 'parameterless': 11259, 'parameterless constructor': 11260, 'nvarchar': 10699, 'development server': 4249, 'strpos': 15035, 'c reading': 1938, 'way write': 17386, 'input c': 7685, 'map reduce': 9527, 'ruby 19': 13478, 'variable reference': 17069, 'link button': 9018, 'key pressed': 8739, 'release mode': 12954, 'make copy': 9449, 'r plot': 12549, 'get cookie': 6560, 'java programming': 8217, 'complex objects': 2985, 'custom model': 3688, 'model method': 9916, 'excel csv': 5363, 'file uploaded': 5848, 'control visual': 3229, 'strptime': 15036, 'string long': 14963, 'sorting 2d': 14484, 'serializer': 13995, 'excel spreadsheet': 5371, 'disconnect': 4401, '# form': 44, 'access class': 392, 'marshal': 9559, 'value assigned': 16874, 'file post': 5817, '_post values': 355, 'to_json': 15714, 'procedure c': 12109, 'text selected': 15529, 'work ajax': 17734, 'dword': 4750, 'passing pointer': 11398, 'calling object': 2102, 'value textbox': 16960, 'customer group': 3703, 'list function': 9106, 'time page': 15664, 'authorized': 1396, 'search multiple': 13751, 'alpha channel': 731, 'window resizing': 17562, 'modes': 9936, 'custom sorting': 3694, 'vanilla': 17028, 'attributes c': 1375, 'mysql result': 10252, 'div form': 4490, 'responsebody': 13199, 'tomcat server': 15736, 'public constructor': 12274, 'keycode': 8750, 'returning data': 13308, 'fully': 6341, 'files upload': 5903, 'files aspnet': 5884, 'string another': 14893, 'looking good': 9344, 'contains specific': 3176, 'create folder': 3468, 'negative value': 10373, 'sphere': 14578, 'textbox aspnet': 15550, 'xelement': 17909, 'pos': 11894, 'tagging': 15380, 'validation java': 16855, 'method inside': 9758, 'method android': 9734, 'wrong result': 17867, 'without actually': 17650, 'arrays using': 1221, 'yyyy format': 18003, 'form1': 6210, 'report viewer': 13082, 'particular value': 11337, 'two html': 15931, 'specific type': 14561, 'cf': 2270, 'address client': 607, 'client socket': 2685, 'facing': 5611, 'checkbox change': 2451, 'search database': 13745, 'currency format': 3621, 'local files': 9244, 'activerecord query': 492, 'php warning': 11691, 'apk': 968, 'authentication aspnet': 1389, 'logins': 9313, 'get web': 6704, 'convert time': 3312, 'service java': 14052, 'variable session': 17072, 'involving': 7981, 'expression allow': 5517, 'enough space': 5061, 'observable collection': 10821, 'svm': 15210, 'charconst': 2384, 'static const': 14762, 'charconst char': 2385, 'uibarbuttonitem': 16056, 'uitoolbar': 16095, 'code multiple': 2753, 'happening': 6992, 'java game': 8179, 'using single': 16752, 'single button': 14319, 'exceeds': 5358, 'sonar': 14464, 'complaining': 2973, 'useless': 16489, 'database java': 3860, 'bundles': 1855, 'frame another': 6276, 'string ends': 14929, 'open save': 10977, 'file dialog': 5755, 'work ie8': 17743, 'failed exit': 5631, 'exit code': 5460, 'code 1': 2734, 'file creating': 5749, 'week month': 17483, 'wpf data': 17810, 'paired': 11213, 'java apache': 8126, 'model name': 9917, 'expected response': 5480, 'webdriverjs': 17438, 'systemdrawing': 15296, 'actionscript': 473, 'webservice client': 17459, 'client php': 2681, 'gnu': 6813, 'makefiles': 9477, 'one dependencies': 10890, 'logstash': 9321, 'list different': 9099, 'pdo php': 11471, 'get form': 6588, 'paused': 11444, 'microsoft exchange': 9817, 'exchange server': 5401, 'raw sql': 12669, 'id class': 7310, 'output variable': 11111, 'subtraction': 15147, 'product list': 12135, 'injection attack': 7666, 'text java': 15517, 'composite primary': 2994, 'boolean values': 1730, 'method returning': 9782, 'php soap': 11671, 'basics': 1569, 'using much': 16681, 'uploading large': 16365, 'external php': 5559, 'aspectj': 1257, '510': 309, 'dos': 4626, 'bypassing': 1910, '# access': 5, 'list directories': 9100, 'uid': 16062, 'contours': 3219, 'get checkbox': 6549, 'jquery page': 8558, 'loaded page': 9221, 'set combobox': 14102, 'box select': 1778, 'studio 2005': 15066, 'get root': 6666, 'php website': 11693, 'websocket handshake': 17470, 'application settings': 1035, 'getting exception': 6738, 'form2': 6211, 'yaml': 17979, 'yaml file': 17980, 'rounding': 13395, 'get http': 6596, 'page view': 11198, 'selectable': 13845, 'activerecord find': 490, 'trans': 15777, 'get size': 6676, 'offer': 10851, 'error file': 5177, 'debugging visual': 4033, 'validation javascript': 16856, 'within java': 17639, 'trailing slash': 15774, '111': 155, 'using webservice': 16794, 'ajax using': 685, 'without popup': 17679, 'simple java': 14289, '36': 259, 'converting byte': 3330, 'linkage': 9036, 'existing array': 5448, 'arrays php': 1220, 'rootscope': 13384, 'ext js': 5533, 'usb device': 16414, 'simple ajax': 14280, 'auto generated': 1400, 'preexisting': 11980, 'within div': 17634, 'test suite': 15481, 'activity android': 498, 'remove whitespace': 13025, 'propertys': 12240, 'javascript jsp': 8372, 'workers': 17755, 'line graph': 8996, 'inline style': 7671, 'attributes using': 1376, '307': 247, 'database sql': 3868, 'vbnet using': 17120, 'utf8 format': 16817, 'kv': 8786, 'python kivy': 12379, 'framework 5': 6287, 'remote url': 12980, 'vb 2010': 17108, 'error websocket': 5260, 'threadlocal': 15606, 'custom events': 3666, 'trap': 15803, 'reference variable': 12869, 'sorting data': 14487, 'accesing': 388, 'two threads': 15951, 'one button': 10883, 'folder name': 6112, 'returning json': 13312, 'alamofire swift': 691, 'swift get': 15226, 'property using': 12233, 'disable form': 4387, 'nonnegative': 10551, 'use int': 16445, 'phrases': 11716, 'managed bean': 9489, 'dynamically changing': 4794, 'remove part': 13014, 'get access': 6535, 'shifting': 14208, 'use bootstrap': 16423, 'jquery variable': 8587, 'go next': 6816, 'change cursor': 2288, 'store multiple': 14842, 'speeding': 14576, 'jaxrs jersey': 8436, 'reader read': 12729, 'mysql datetime': 10235, 'new data': 10448, 'code style': 2757, 'multi threaded': 10054, 'factories': 5613, 'format java': 6222, 'booleans': 1732, 'pointer char': 11829, 'application running': 1033, 'snippets': 14411, 'error multiple': 5205, 'using apply': 16554, 'takes exactly': 15396, 'java +': 8118, 'objects type': 10815, 'selections': 13876, 'runtimegetruntime': 13565, 'multiprocess': 10167, 'run django': 13514, 'child object': 2492, 'official': 10853, 'json strings': 8655, 'unknown type': 16247, 'id attribute': 7309, 'model fields': 9912, 'qtableview': 12471, 'cost': 3391, 'specific keys': 14543, 'excel range': 5369, 'range using': 12650, 'files google': 5894, 'converting datetime': 3333, 'viewstate': 17228, 'form tag': 6199, 'method ajax': 9732, 'iterate two': 8082, 'displaying multiple': 4460, 'values c++': 16982, 'objects python': 10814, 'add attribute': 510, 'part image': 11320, '5 canvas': 296, 'using xaml': 16798, 'belongs_to association': 1613, 'jquery getjson': 8540, 'nbsp': 10354, 'javascript pass': 8390, 'winforms listview': 17622, 'external api': 5548, 'memory error': 9680, 'messagesource': 9721, 'mvc c': 10197, 'testing framework': 15485, 'playback': 11782, 'return none': 13283, 'interface implementation': 7911, 'select file': 13814, 'method rails': 9778, 'adding event': 583, 'regression line': 12931, 'plots r': 11799, 'data datagridview': 3754, 'error dont': 5166, 'double float': 4634, 'height based': 7044, 'smooth scroll': 14395, 'gt': 6937, 'db table': 4004, 'set file': 14117, 'listview control': 9165, 'qualifying': 12477, 'qualifying bean': 12478, 'bean type': 1584, 'sql java': 14648, 'convert const': 3271, 'loop display': 9351, 'catch error': 2213, 'update values': 16326, 'json mysql': 8635, 'memory using': 9689, 'handled user': 6977, 'sql php': 14649, 'diagnostic': 4259, 'custom form': 3674, 'javascript link': 8374, 'add value': 571, 'behaves': 1603, 'without waiting': 17697, 'console error': 3115, 'uncaught reference': 16143, 'mysql display': 10238, 'remote host': 12975, 'erb': 5120, 'executereader': 5429, 'weekly': 17486, 'webserver': 17457, 'send image': 13912, 'dynamodb': 4813, 'jsp files': 8681, 'longitude latitude': 9338, 'float string': 6089, 'user aspnet': 16495, 'object serialization': 10766, 'webpart': 17454, 'number digits': 10646, 'separated list': 13963, 'find occurrences': 5972, 'long text': 9331, 'spring xml': 14622, 'numbers javascript': 10679, 'form app': 6161, 'print console': 12058, 'charchar': 2383, 'ejb3': 4886, 'cleaner': 2632, 'synthesize': 15276, 'add library': 545, 'type python': 16001, 'via get': 17162, 'line code': 8993, 'custom exception': 3667, 'dynamical': 4785, 'qlabel': 12456, 'resource file': 13172, 'using existing': 16603, 'existing xml': 5454, 'generate html': 6488, 'execute query': 5424, 'greater less': 6895, 'android phone': 812, 'file change': 5740, 'landscape orientation': 8803, '5 seconds': 298, 'completion handler': 2982, 'specific location': 14545, 'records sql': 12801, 'form_for': 6212, 'cgrect': 2274, 'compile python': 2958, 'camera android': 2115, 'dialog based': 4265, 'multithreaded application': 10172, 'output html': 11105, 'text values': 15538, 'trick': 15823, 'sip': 14344, 'create google': 3472, 'file exe': 5767, 'finding maximum': 6001, 'date input': 3949, 'another dropdown': 877, 'classifier': 2620, 'loss': 9369, 'wpf databinding': 17811, 'method parameter': 9771, 'pass generic': 11348, 'student': 15064, 'input html': 7699, 'datetime c': 3977, 'query working': 12515, 'empty data': 4984, 'format yyyymmdd': 6234, 'using storyboard': 16765, 'string constant': 14913, 'getting date': 6735, 'email attachment': 4963, 'gpa': 6862, 'sapui5': 13588, 'select html': 13817, 'jquery make': 8551, 'invalid column': 7957, 'dashboard': 3727, 'creating database': 3517, 'kwargs': 8787, 'multiple keys': 10110, 'infer': 7618, 'select array': 13798, 'running background': 13537, 'retrieve image': 13252, 'parameters passed': 11266, 'dictionary swift': 4282, 'load content': 9189, 'uuid': 16822, 'script without': 13705, 'using firebase': 16607, 'reload refresh': 12963, 'templating': 15453, 'window title': 17567, 'number items': 10652, 'admob': 626, 'thread exception': 15594, 'file write': 5864, 'java j2ee': 8192, 'cake php': 2024, 'exposing': 5512, 'login authentication': 9302, '70': 326, 'junit 4': 8697, 'video using': 17187, 'latin': 8862, 'windowonbeforeunload': 17573, 'use html': 16443, 'string contain': 14914, 'array unique': 1187, 'base table': 1527, 'view found': 17200, 'based object': 1548, 'telling': 15435, 'rbind': 12674, 'ipn': 8025, 'paypal ipn': 11452, 'column datatable': 2838, 'globalasax': 6802, 'dynamic textbox': 4777, 'mvc hibernate': 10204, 'good c': 6826, 'calculate difference': 2032, 'check connection': 2405, 'indexerror': 7601, 'method doesnt': 9751, 'disable horizontal': 4388, 'empty result': 4994, 'checkedlistbox': 2469, 'send html': 13910, 'object literal': 10746, 'background images': 1484, 'custom image': 3681, 'close browser': 2701, 'way test': 17382, 'menu bar': 9694, 'playlist': 11787, 'key presses': 8740, 'check table': 2437, 'within string': 17647, 'convert strings': 3309, 'disable browser': 4382, 'value without': 16971, 'php contact': 11563, 'checksum': 2481, 'boxplot': 1784, 'items listbox': 8071, 'rails nested': 12600, 'select column': 13803, '2 dimensional': 188, 'sorry': 14466, 'went': 17497, 'sorry something': 14467, 'something went': 14461, 'went wrong': 17498, 'avaudioplayer': 1441, 'easily': 4826, 'full page': 6331, 'sum column': 15170, 'argument supplied': 1078, 'position mouse': 11899, 'mouse hover': 9995, 'value controller': 16889, 'rows sql': 13455, 'uiviewcontrollers': 16099, 'keydown event': 8752, 'users facebook': 16535, 'javascript global': 8361, 'input tag': 7713, 'htaccess mod_rewrite': 7173, 'handle exceptions': 6972, 'amount time': 774, 'set custom': 14108, 'slug': 14388, 'return tuple': 13292, 'keyup event': 8762, 'play video': 11781, 'codeigniter multiple': 2775, 'value hashmap': 16913, 'libgdx project': 8941, 'string aspnet': 14897, '322': 253, 'file xcode': 5866, 'load using': 9216, 'behave': 1602, 'folder names': 6113, 'structure c': 15048, 'doesnt start': 4597, 'jquery call': 8511, 'runtime c': 13560, '1 valid': 141, 'given time': 6784, 'functions working': 6441, 'arg': 1069, 'determine current': 4234, 'two dataframes': 15918, 'years months': 17985, 'import java': 7523, 'java text': 8256, 'time duration': 15654, 'reference value': 12868, '# client': 19, 'nodejs +': 10526, 'matching string': 9585, 'angularjs error': 843, 'except one': 5376, '# date': 29, 'jquery passing': 8560, 'variables using': 17098, 'aliases': 703, 'files ftp': 5893, 'set selected': 14141, 'error vbnet': 5257, 'jquery serialize': 8571, 'contain constructor': 3166, 'constructor takes': 3153, '2 arguments': 181, 'array find': 1125, 'append data': 1000, 'google appengine': 6835, 'implementing serializable': 7508, 'laravel check': 8814, 'bank': 1508, 'outgoing': 11091, 'jsondumps': 8668, 'filesize': 5912, 'modal open': 9895, 'property undefined': 12232, 'xaxis labels': 17899, 'images javascript': 7481, 'locationhref': 9276, 'could locate': 3408, 'create two': 3499, 'div based': 4482, 'whether object': 17514, 'detect right': 4224, 'javascript nodejs': 8384, '303': 246, 'phone numbers': 11528, 'exactly one': 5350, 'windows authentication': 17586, 'embedded tomcat': 4976, 'thread pool': 15598, 'ssl certificates': 14693, 'one window': 10940, 'casts': 2208, 'input radio': 7709, 'comparable': 2931, 'compiletime': 2968, 'color value': 2821, 'quickest': 12529, 'quickest way': 12530, 'eclipse tomcat': 4850, 'project directory': 12182, 'store mysql': 14843, 'mysql cant': 10228, 'using recursive': 16733, 'first child': 6029, 'constructed': 3143, 'sendkeys': 13948, 'upload download': 16340, 'swift project': 15228, 'sending image': 13938, 'task manager': 15411, 'assigning value': 1313, 'function variable': 6422, 'square brackets': 14682, 'reasons': 12762, 'disconnected': 4402, 'loading external': 9228, 'define class': 4095, 'sequential': 13977, 'creating html': 3522, 'trouble getting': 15841, 'error fatal': 5176, 'name line': 10303, 'realloc': 12755, 'swift3': 15231, 'controller name': 3240, 'upload working': 16353, 'highlighted': 7120, 'apache tomcat': 933, 'using htaccess': 16631, 'add table': 565, 'gis': 6771, 'print statement': 12066, 'networking': 10437, 'dynamic url': 4779, 'java php': 8211, 'anchor tags': 788, 'use remote': 16469, 'matrix c': 9597, 'using netbeans': 16691, 'raise exception': 12620, 'nonstandard': 10557, 'minimal': 9840, 'put delete': 12306, 'switchcase': 15241, 'date difference': 3942, 'user location': 16510, 'text xml': 15542, 'eliminate': 4949, 'js variable': 8609, 'access url': 422, 'elements 2d': 4930, '2d list': 229, 'winform datagridview': 17616, 'dynamically assign': 4792, 'copy clipboard': 3355, 'soapui': 14425, 'use twitter': 16479, 'name class': 10290, 'request failed': 13101, 'parallel processing': 11236, 'show page': 14237, 'rows based': 13440, 'vector r': 17127, 'releasing': 12956, 'select count': 13805, 'rejected': 12938, 'perfect': 11488, 'values html': 17000, 'return error': 13275, 'php show': 11668, 'name error': 10294, 'blank space': 1694, 'function vbnet': 6423, 'eclipse console': 4838, 'exception spring': 5390, 'new session': 10465, 'could created': 3399, 'session one': 14085, 'element click': 4905, 'within method': 17642, 'object specific': 10767, 'array sort': 1174, 'using named': 16688, 'use interface': 16446, 'linq groupby': 9061, 'upload multiple': 16346, 'implicit declaration': 7513, 'closing tags': 2712, 'c++ compile': 1956, 'button show': 1893, 'codeigniter error': 2772, 'error 403': 5130, 'wasnt': 17320, 'filter list': 5927, 'gcd': 6472, 'illegalargumentexception': 7387, 'shell commands': 14204, 'display table': 4449, 'smart': 14392, 'gstreamer': 6935, 'as3': 1230, 'v3 api': 16827, 'crossthread': 3556, 'get items': 6607, 'view data': 17199, 'local mysql': 9248, 'server socket': 14033, 'parameter 2': 11241, 'method parent': 9773, 'jquery bootstrap': 8509, 'json ajax': 8621, 'dataframe pandas': 3887, 'one key': 10905, 'values csv': 16986, 'admin login': 619, 'calculate average': 2030, 'remove item': 13007, 'per user': 11484, 'windows console': 17592, 'mongodb php': 9967, '5 application': 295, 'within certain': 17631, 'image stored': 7460, 'arguments java': 1085, '2dimensional array': 234, 'h1': 6958, 'find whether': 5993, 'whether given': 17513, 'stack level': 14701, 'level deep': 8934, 'winforms app': 17618, 'pages using': 11205, 'async methods': 1331, 'scalable': 13627, 'subdirectories': 15096, 'js css': 8599, '10 seconds': 143, 'spy': 14633, 'key django': 8731, 'dual': 4729, 'two date': 15920, 'doc file': 4558, 'bean spring': 1583, 'doesnt return': 4593, 'varbinary max': 17032, 'class error': 2560, 'dynamically resize': 4806, 'force browser': 6140, 'blueprint': 1711, 'changing font': 2342, 'access variables': 427, 'django static': 4538, 'multiple tabs': 10145, 'pg': 11520, 'capture mouse': 2172, 'mouse clicks': 9990, 'singly': 14342, 'systeminvalidoperationexception': 15301, 'data textbox': 3827, 'row 1': 13408, 'php use': 11685, 'convert utc': 3318, 'trigger javascript': 15834, 'dataframe python': 3888, 'afterwards': 649, 'change string': 2321, 'monday': 9959, 'tuesday': 15880, 'find node': 5969, 'content html': 3184, 'statement using': 14753, 'infinity': 7624, 'fadeout': 5621, 'css3 transition': 3594, 'deny': 4158, 'variables functions': 17085, 'gccs': 6471, 'pragma': 11971, '# pragma': 66, 'download working': 4656, 'among': 771, 'constrained': 3137, 'using printf': 16723, 'scrollviewer': 13732, 'initially': 7660, 'comma delimited': 2894, 'delimited string': 4146, 'parent method': 11280, 'javascript method': 8379, 'utc time': 16810, 'listboxes': 9143, 'principal': 12056, 'range values': 12651, 'load custom': 9191, 'handling null': 6984, 'file open': 5811, 'java output': 8208, 'user account': 16492, 'characters c': 2370, 'referenced static': 12873, 'static context': 14765, 'data db': 3755, 'systemint32': 15300, 'r python': 12551, 'data changes': 3748, 'array argument': 1098, 'actionviewtemplateerror': 475, 'javascript return': 8401, 'held': 7049, 'check key': 2420, 'tags xml': 15388, 'corpus': 3377, 'words using': 17732, 'tag beautifulsoup': 15374, 'read image': 12706, 'hi': 7072, 'tag attribute': 15373, 'attribute xml': 1369, 'error column': 5154, 'function every': 6375, 'circular dependency': 2534, 'lxml xpath': 9392, 'view page': 17206, 'sql ce': 14636, 'dropdownlist value': 4718, '2d matrix': 230, 'locationpath': 9277, 'result null': 13232, 'writing program': 17860, 'least 2': 8898, 'single element': 14323, 'libraries c++': 8943, 'hibernate mysql': 7083, 'php7': 11702, 'session user': 14090, 'view codeigniter': 17196, 'blanks': 1696, 'flushing': 6099, 'newest': 10478, 'systemexit': 15298, 'files like': 5897, 'doubly': 4641, 'doubly linked': 4642, 'hibernatecfgxml': 7089, 'could parse': 3411, 'value element': 16902, 'treeset': 15819, 'tiles': 15641, 'postgresql database': 11951, 'submit working': 15115, 'elements attributes': 4933, 'point number': 11822, 'trycatch block': 15858, 'setattribute': 14153, 'ie6': 7349, 'via json': 17169, 'phones': 11533, 'implementations': 7505, 'boolean variable': 1731, 'http authentication': 7249, 'driving': 4694, 'aspxgridview': 1294, 'launcher': 8868, 'events javascript': 5327, 'script execution': 13691, 'two forms': 15929, 'alternating': 753, 'testing web': 15487, 'constantly': 3134, 'interpolation': 7930, 'object values': 10777, 'find next': 5968, 'evaluated': 5287, 'bind datatable': 1660, 'add buttons': 515, 'notebook': 10572, 'completes': 2979, 'handling multiple': 6983, 'dtype': 4728, 'pandas read_csv': 11224, 'angularui': 849, 'scaled': 13631, 'testing using': 15486, 'file command': 5745, 'passing objects': 11395, 'bullets': 1851, 'body class': 1717, 'linq cast': 9053, 'using dynamic': 16598, 'calculate percentage': 2035, 'appendchild': 1004, '1 type': 140, 'type node': 15996, 'insert null': 7744, 'call windows': 2076, 'secret': 13771, 'application linux': 1028, 'connection php': 3093, 'java sort': 8243, 'work java': 17744, 'parameter passing': 11251, 'virtualbox': 17244, 'add additional': 508, 'library linux': 8949, 'unspecified': 16286, 'unspecified error': 16287, 'byte java': 1914, 'php functions': 11595, 'int bool': 7855, 'line java': 8997, 'words text': 17731, 'javascript doesnt': 8342, 'array number': 1161, 'object without': 10780, 'two list': 15937, 'ie firefox': 7345, 'project properties': 12188, 'multiple words': 10160, 'pixels image': 11754, 'swift using': 15229, 'desktop app': 4207, 'rails test': 12611, 'zipping': 18019, 'file codeigniter': 5744, 'c++ struct': 2001, 'error mean': 5199, 'values dynamic': 16993, '202': 213, 'udp client': 16041, 'php list': 11616, 'clip': 2692, 'input name': 7705, 'name id': 10299, 'save dialog': 13596, 'field data': 5690, 'pst': 12269, 'key php': 8737, 'jlabels': 8460, 'file laravel': 5793, 'disable default': 4385, 'vulnerability': 17294, 'columns table': 2866, 'vc11': 17123, 'using laravel': 16664, 'comprehensions': 2997, 'python replace': 12416, 'rdata': 12677, 'cursors': 3650, 'index 1': 7587, 'java converting': 8155, 'objectivec protocol': 10791, 'badge': 1505, 'accordingly': 447, 'link error': 9021, 'returning string': 13318, 'image server': 7452, 'based two': 1555, 'elements javascript': 4938, 'dependent libraries': 4166, 'paypal express': 11451, 'express checkout': 5515, 'images php': 7485, 'inside aspnet': 7770, 'process windows': 12121, 'last 10': 8837, 'js code': 8598, 'method takes': 9791, 'geometry': 6529, 'error import': 5184, 'name django': 10293, 'notice array': 10579, 'without id': 17669, 'validators': 16866, 'value every': 16905, 'traversing': 15806, 'verifying': 17135, 'regex split': 12919, 'method names': 9765, 'attempts': 1353, 'creating java': 3524, 'add link': 547, 'multiple matches': 10116, 'initializing array': 7659, 'item id': 8056, 'values unpack': 17025, 'element another': 4899, 'linq expressions': 9058, 'selfsigned': 13896, 'file classpath': 5742, 'loading animation': 9225, 'array hash': 1131, 'write large': 17841, 'creating list': 3526, 'value textfield': 16961, 'platform independent': 11771, '7 days': 325, 'method different': 9750, 'way count': 17339, 'adding rows': 596, 'reaching': 12684, 'going back': 6821, 'virtual directory': 17236, 'categorical variables': 2220, 'java function': 8177, 'ipv4': 8027, 'ipv6': 8028, 'rails convert': 12584, 'collection modified': 2797, 'different servers': 4326, 'url address': 16375, 'object linq': 10744, 'rectangular': 12808, 'get src': 6680, 'inserting database': 7760, 'form visual': 6207, 'valid win32': 16836, 'open error': 10964, 'nonobject error': 10556, 'define global': 4096, 'indirectly referenced': 7615, 'kill process': 8769, 'table exists': 15337, 'trying read': 15871, 'query parameters': 12500, 'spring context': 14608, 'rss feeds': 13472, 'access memory': 407, 'memory address': 9676, 'name already': 10287, 'already use': 748, 'php read': 11648, 'could resolve': 3412, 'scrapy python': 13674, 'curl post': 3615, 'windows program': 17602, 'please help': 11790, 'difficulty': 4340, 'download using': 4655, 'would one': 17798, 'iphone ipad': 8022, 'encoding problems': 5021, 'date jquery': 3952, 'use reflection': 16466, 'loading modules': 9233, 'get folder': 6587, 'file list': 5796, 'helper functions': 7059, 'rt': 13474, 'text column': 15503, 'fread': 6300, 'class declaration': 2555, 'bootstrap css': 1746, 'viewwillappear': 17229, 'change mouse': 2311, 'mouse cursor': 9992, 'socket closed': 14430, 'c++ map': 1982, 'intranet': 7948, 'modelchoicefield': 9928, 'image base64': 7399, 'single table': 14335, 'table inheritance': 15339, 'lefthand': 8908, 'string converted': 14919, 'javascript memory': 8378, 'value python': 16943, 'xml attribute': 17919, 'textbox text': 15558, 'getting specific': 6755, 'template argument': 15439, 'c++ inheritance': 1974, 'close window': 2705, 'queue c': 12525, 'fixed height': 6057, 'characters javascript': 2372, 'whether string': 17515, 'contains digits': 3175, 'technology': 15432, 'cartesian': 2187, 'plot matplotlib': 11795, 'strange behavior': 14870, 'lexical': 8936, 'vs static': 17285, 'dependencyproperty': 4164, 'subset columns': 15137, 'diagonal': 4260, 'sum elements': 15173, 'touches': 15765, 'jbuttons': 8441, 'triple': 15839, 'int variable': 7864, 'access dom': 398, 'signup': 14272, 'array bytes': 1104, 'add form': 535, 'xib file': 17913, 'reference c++': 12856, 'within php': 17644, 'default controller': 4081, 'uncheck checkbox': 16148, 'connect oracle': 3073, 'redirect new': 12830, 'dot notation': 4628, 'nested models': 10395, 'value changed': 16881, 'prevent user': 12029, 'util': 16819, 'noob': 10563, 'push array': 12295, 'try block': 15854, 'using onclick': 16702, 'dropdown selected': 4712, '# threading': 84, 'display number': 4437, 'specific id': 14539, 'class abstract': 2542, 'mousedown': 9998, 'database connections': 3852, 'dynamic add': 4752, 'jquery post': 8563, 'without loading': 17673, 'parameter valid': 11255, 'c++ gui': 1971, 'number value': 10671, 'data rest': 3805, 'changing default': 2341, 'upstream': 16371, 'slows': 14387, 'c++ pointer': 1989, 'angularjs form': 844, 'time limit': 15662, 'runworkercompleted': 13566, 'using cookies': 16582, 'date conversion': 3936, 'html pages': 7217, 'elements type': 4943, 'values json': 17005, 'easier way': 4823, 'serialize c': 13989, 'dictionary contains': 4276, 'osx lion': 11086, 'working ie': 17770, 'bind data': 1659, 'disallow': 4396, 'characters textbox': 2380, 'populate form': 11872, 'values session': 17017, 'constant value': 3133, 'dataframe based': 3885, 'received memory': 12769, 'shell_exec': 14206, 'file arraylist': 5729, 'document library': 4568, 'visited': 17251, 'different browsers': 4306, 'use pointers': 16463, 'html comments': 7189, 'using nokogiri': 16695, 'json html': 8630, 'values nested': 17011, 'cert': 2256, 'find path': 5974, 'php json': 11612, 'native android': 10332, 'axis matplotlib': 1459, 'dbcreate': 4008, 'rake dbcreate': 12627, 'rake aborted': 12625, 'web request': 17414, 'freeing': 6304, 'doesnt java': 4589, 'ajax file': 665, 'codeigniter active': 2770, 'incomplete type': 7567, 'browser windows': 1820, 'add marker': 549, 'image png': 7445, 'variable undefined': 17075, 'get gridview': 6592, 'query sql': 12509, 'using object': 16698, 'object within': 10779, 'poll': 11849, 'showing wrong': 14245, 'variables r': 17095, 'extend abstract': 5535, 'remove http': 13004, 'lotus': 9373, 'notes': 10574, 'net 4': 10404, 'refresh token': 12892, 'define static': 4098, 'java annotation': 8125, 'store html': 14838, 'object based': 10713, 'pageload': 11202, 'mysterious': 10281, 'list django': 9101, 'relate': 12939, 'typeahead': 16012, 'ruby script': 13494, 'incremental': 7579, 'parsing php': 11313, 'week date': 17482, 'element div': 4907, 'cell selected': 2241, 'disposing': 4466, 'groovy script': 6921, 'icon image': 7306, 'cpus': 3444, 'python json': 12378, 'expand collapse': 5467, 'display array': 4415, 'whats use': 17507, 'data selected': 3810, 'page spring': 11193, 'qt5': 12470, 'nodejs get': 10529, 'spreadsheet using': 14595, 'local html': 9246, 'soap xml': 14422, 'aspnet membership': 1272, 'website php': 17463, 'pointers c++': 11840, 'successful login': 15157, 'win 7': 17542, 'rails using': 12614, 'query returning': 12505, 'limit exceeded': 8974, 'phpunit test': 11714, 'test failing': 15474, 'yosemite': 17994, 'datagridview cells': 3901, 'create string': 3493, 'concatenating two': 3015, 'html parsing': 7218, 'html c': 7185, 'datasources': 3917, 'command php': 2904, 'time utc': 15675, 'net webbrowser': 10420, 'unsatisfiedlinkerror': 16277, 'library path': 8951, 'path resource': 11428, 'natural': 10339, 'inside thread': 7800, 'play 20': 11774, 'different versions': 4335, 'request working': 13121, 'via command': 17158, 'difference int': 4297, 'failed start': 5638, 'find maximum': 5965, 'id jquery': 7312, 'goal': 6817, 'execute goal': 5417, 'prepare statement': 11996, 'color java': 2816, 'items collection': 8069, 'entry key': 5086, 'lose focus': 9365, 'oauth2': 10702, 'using servlet': 16750, 'verbose': 17132, 'type type': 16009, 'get dynamic': 6574, 'pointer struct': 11835, 'number c': 10641, 'dlopen': 4554, 'rails database': 12587, 'two mysql': 15939, 'another site': 897, 'toolbox': 15741, 'uk': 16102, 'mobile phone': 9878, 'brew': 1798, 'urls django': 16407, '# sending': 77, 'select distinct': 13808, 'within html': 17637, 'set private': 14137, 'py file': 12312, 'image div': 7411, 'expanded': 5469, 'check javascript': 2419, 'open chrome': 10960, 'generated javascript': 6499, 'way update': 17383, 'text pdf': 15524, 'console windows': 3121, 'sticky': 14812, 'algorithms': 701, 'bad file': 1501, 'whenever': 17510, 'process linux': 12117, 'bash script': 1563, 'servicestack': 14064, 'compiling c': 2970, 'maximum length': 9626, 'signal strength': 14263, 'recursive method': 12815, 'http proxy': 7260, 'letter word': 8929, 'windows explorer': 17593, 'series data': 14000, 'fluentnhibernate': 6097, 'getting user': 6760, 'react router': 12691, 'page scroll': 11190, 'buttons using': 1908, 'unexpected behavior': 16183, 'current thread': 3638, 'way merge': 17363, 'c++ ubuntu': 2005, 'issue ie': 8042, 'specific image': 14540, 'google apps': 6836, 'apps script': 1056, 'capabilities': 2162, 'browser save': 1815, 'forms one': 6252, 'string back': 14898, 'qr': 12461, 'qr code': 12462, 'scroll content': 13714, 'run method': 13522, 'coordinates image': 3349, 'modalpopupextender': 9899, 'regardless': 12900, 'triangles': 15822, 'date dd': 3941, 'setuptools': 14175, 'using cocoa': 16574, 'errno 2': 5124, 'server response': 14029, 'class_name': 2611, 'must defined': 10179, 'show list': 14234, 'remove trailing': 13022, 'match text': 9576, 'method superclass': 9790, 'word sentence': 17716, 'selecting item': 13871, 'draw image': 4674, 'render partial': 13042, 'div clicking': 4486, 'call parent': 2064, 'expression language': 5522, 'restful routes': 13217, 'address already': 605, 'function callback': 6357, 'method signature': 9786, 'error android': 5137, 'detection using': 4232, 'netbeans project': 10426, 'deletes': 4139, 'multivariate': 10175, 'without downloading': 17662, 'sqlce': 14663, 'multiple source': 10136, 'function function': 6381, 'error ajax': 5136, 'sort value': 14477, 'swing application': 15233, 'image loaded': 7434, 'inferred': 7620, 'falls': 5648, 'tolowercase': 15730, 'multiple occurrences': 10120, 'occurrences substring': 10841, 'dereferencing': 4177, 'longer exists': 9334, 'close current': 2704, 'write specific': 17848, 'fontsize': 6133, 'removing multiple': 13035, 'response object': 13195, 'method check': 9744, 'top level': 15750, 'remove special': 13018, 'textboxtext': 15566, 'cell editing': 2239, 'add java': 542, 'js sdk': 8608, 'scroll end': 13716, 'java linux': 8196, 'inside panel': 7794, 'client android': 2675, 'handler function': 6979, 'stored array': 14849, 'echoing': 4834, 'pointer function': 11832, 'downloading images': 4663, 'number 1': 10638, 'move files': 10010, 'lists using': 9158, 'array_search': 1197, 'row numbers': 13430, 'run loop': 13521, 'back end': 1471, 'jpa 20': 8487, 'working angular': 17760, 'nonstatic field': 10559, 'get jquery': 6610, 'background worker': 1488, 'active class': 481, 'arguments 1': 1082, 'url query': 16391, 'using intellij': 16639, 'xpath get': 17966, 'multiple attributes': 10074, 'url django': 16379, 'independently': 7585, 'navigation property': 10350, 'daterange': 3971, 'zeroes': 18009, 'one letter': 10906, 'vs python': 17284, 'create web': 3503, 'href value': 7169, 'resource folder': 13174, 'input user': 7719, 'lines csv': 9013, 'split date': 14586, 'plus minus': 11809, 'get app': 6539, 'majorminor': 9441, 'unsupported majorminor': 16290, 'majorminor version': 9442, 'version 510': 17138, 'jupyter': 8703, '# events': 41, 'multiple sql': 10138, 'model data': 9909, 'value onclick': 16935, 'negative values': 10374, 'graphical': 6884, 'webgrid': 17443, 'sql error': 14643, 'wav file': 17325, 'wont open': 17704, 'custom uiview': 3697, '4 digits': 270, 'load resources': 9213, 'observable array': 10820, 'space characters': 14503, 'password change': 11407, 'email via': 4972, 'drawing rectangle': 4684, 'error uninitialized': 5250, 'convert video': 3321, 'unqualifiedid': 16265, 'expected unqualifiedid': 5483, 'unbuffered': 16139, 'image exists': 7414, 'method find': 9753, 'masking': 9564, 'using canvas': 16569, 'dom parser': 4611, 'numbers php': 10681, 'navigation menu': 10349, 'create edit': 3464, 'implement java': 7501, 'makes pointer': 9479, 'integer without': 7876, 'without cast': 17654, 'html textarea': 7229, 'javascript dynamic': 8345, 'antipattern': 913, 'validate input': 16841, 'set cookie': 14103, 'tinymce editor': 15699, 'delta': 4152, 'array random': 1170, 'replace values': 13070, 'compound': 2995, 'autogenerated': 1414, 'amount data': 773, 'natural language': 10340, 'media queries': 9654, 'coding standards': 2784, 'field based': 5688, 'based select': 1550, 'standard time': 14721, 'getters': 6727, 'serving static': 14066, 'print output': 12062, 'palindrome': 11216, 'data structures': 3824, 'operating system': 11018, 'notification system': 10582, 'add extra': 532, 'python getting': 12369, 'page c': 11163, 'function body': 6351, 'include javascript': 7550, 'relative paths': 12952, 'statement java': 14749, 'using autofac': 16561, 'files different': 5887, 'visible interface': 17248, 'declares selector': 4060, 'orgjsonjsonexception': 11073, 'javalangstring converted': 8301, 'actionperformed': 470, 'php timestamp': 11680, 'pass dynamic': 11345, 'package name': 11150, 'django multiple': 4529, 'data mongodb': 3787, 'syntax use': 15272, 'solaris': 14444, 'mvc app': 10195, 'upload php': 16348, 'convert text': 3311, 'call static': 2070, 'mouse pointer': 9996, 'method post': 9775, 'array int': 1142, 'select text': 13838, 'ts': 15879, 'working angularjs': 17761, 'data page': 3794, 'using pip': 16718, 'salt': 13583, 'display form': 4423, 'namespace std': 10322, 'python decorator': 12353, 'drop working': 4703, 'fs': 6321, 'difference javascript': 4299, 'value checked': 16884, 'custom button': 3658, 'value 0': 16868, 'exception message': 5387, 'browser download': 1814, 'application json': 1027, 'controller swift': 3243, 'javascript multiple': 8380, 'argument must': 1076, 'item click': 8054, 'deserialized': 4195, 'hash value': 7006, 'bubbling': 1825, 'event bubbling': 5297, 'every request': 5336, 'new operator': 10459, 'invalid byte': 7954, 'systemdatasqlclientsqlexception': 15294, 'excel interop': 5367, 'c++ 2010': 1946, 'wrong code': 17865, 'singly linked': 14343, 'elements vector': 4945, 'current file': 3630, 'using variables': 16788, 'confirm box': 3052, 'pass function': 11347, 'returning const': 13307, 'id like': 7313, 'post variable': 11944, 'sha1': 14179, 'program windows': 12156, 'python html': 12373, 'access property': 414, 'time datetime': 15649, 'tmp': 15712, 'devise +': 4256, 'reference exception': 12859, 'file api': 5727, 'download php': 4654, 'th': 15575, 'able create': 364, 'specific form': 14537, 'php 55': 11542, 'using socketio': 16756, 'socketio nodejs': 14439, 'send push': 13921, 'news feed': 10486, 'class model': 2584, 'creating empty': 3519, 'class names': 2586, 'nodejs using': 10532, 'function html': 6383, 'binding set': 1666, 'convert void': 3322, 'in_array': 7542, 'soap client': 14416, 'r error': 12543, 'strcmp': 14876, 'default page': 4084, 'allow numbers': 719, 'unterminated': 16292, 'projection': 12193, 'moduleexports': 9952, 'elif': 4948, 'window handle': 17556, 'revert': 13347, 'git pull': 6773, 'accented': 378, 'accented characters': 379, 'conditional formatting': 3031, 'get java': 6608, 'begin end': 1597, 'svg image': 15208, 'apache 24': 924, 'path uploaded': 11430, 'unhide': 16202, 'hide unhide': 7104, 'camel case': 2112, 'converting time': 3341, 'null date': 10619, 'mapstring': 9544, 'mapstring string': 9545, 'list aspnet': 9086, 'maps marker': 9541, 'static file': 14769, 'decimal point': 4040, 'resource id': 13176, 'n number': 10284, 'batches': 1575, 'png files': 11812, 'rails could': 12585, 'barchart': 1516, 'slides': 14378, 'using #': 16542, 'empty rows': 4995, 'android browser': 795, 'jasper report': 8113, 'post values': 11943, 'required field': 13135, 'xml format': 17931, 'combobox using': 2888, 'calculate number': 2034, 'decode json': 4064, 'break loop': 1793, 'custom sort': 3693, 'fft': 5683, 'structure union': 15051, 'model form': 9913, 'mongodb query': 9968, 'passing char': 11385, 'code visual': 2759, 'character java': 2362, 'make input': 9456, 'javalangnumberformatexception': 8295, 'spam': 14508, 'using async': 16559, 'mongodb java': 9966, 'hex value': 7068, 'nothing happens': 10577, 'specified cast': 14568, 'cast valid': 2202, 'differ': 4293, 'pdo error': 11469, 'error sqlstate': 5233, 'array specific': 1176, 'perform action': 11491, 'using conditional': 16580, 'repetition': 13058, 'without root': 17687, 'custom javascript': 3683, 'information available': 7630, 'elements xml': 4946, 'work fine': 17740, 'expected declaration': 5474, 'remove indexphp': 13006, 'json values': 8661, 'image loading': 7435, 'graphic': 6883, 'failed instantiate': 5634, 'url c': 16377, 'iframe javascript': 7363, 'view within': 17213, 'ssrs report': 14698, 'django development': 4518, 'image google': 7422, 'swt table': 15244, 'data attributes': 3740, 'wpf get': 17813, 'refresh data': 12887, 'delete duplicate': 4123, 'sql file': 14644, 'lon': 9322, 'window close': 17552, 'anywhere': 921, 'stale': 14712, 'date mysql': 3955, 'totally': 15759, 'object net': 10751, 'graph r': 6881, 'threadsleep': 15611, 'wild': 17537, 'object database': 10722, 'photo gallery': 11535, '415': 287, 'overlaps': 11125, 'class fragment': 2565, 'multiple services': 10135, 'mysql odbc': 10246, 'google using': 6854, 'ivars': 8095, '310': 249, 'sql developer': 14642, 'app delegate': 978, 'theano': 15577, 'image found': 7420, 'list ids': 9108, 'content another': 3182, 'throw exceptions': 15619, 'silently': 14274, 'string valid': 15000, 'button_to': 1902, 'httpmodule': 7273, 'x amount': 17877, 'byte arrays': 1913, 'way call': 17331, 'autoplay': 1434, 'equations': 5112, 'hibernate exception': 7080, 'apache spark': 932, 'button checked': 1867, 'constrain': 3136, 'protected attributes': 12246, 'fulltext': 6339, 'ascii char': 1235, 'stored proc': 14852, 'method must': 9763, 'property working': 12237, 'nstextfield': 10605, 'facebook friends': 5594, 'stop page': 14824, 'token illegal': 15727, 'file already': 5722, 'function button': 6352, 'exactly 2': 5349, 'ibaction': 7300, 'button change': 1866, 'object support': 10771, 'support item': 15189, 'item assignment': 8052, 'numpy python': 10694, 'bars ggplot2': 1520, 'file full': 5777, 'value changes': 16882, 'change data': 2289, 'particular div': 11335, 'property files': 12217, 'numpys': 10696, 'parent form': 11278, 'return empty': 13274, 'invalid character': 7955, 'kendoui': 8721, 'use local': 16451, 'stacking': 14707, 'second page': 13767, 'could execute': 3401, 'dom object': 4610, 'dynamic image': 4765, 'array struct': 1180, 'using win32': 16795, 'javascript passing': 8391, 'linq get': 9059, 'convert base64': 3265, 'continues': 3212, 'apache cxf': 927, 'struct pointer': 15042, 'mvc rest': 10209, 'default date': 4082, 'map markers': 9525, 'characters nsstring': 2375, 'type function': 15984, 'drawimage': 4680, 'messageboxshow': 9719, 'custom post': 3692, 'data back': 3741, 'rails 5': 12576, 'member initialization': 9665, 'quotation': 12534, 'inside string': 7797, 'sort function': 14472, 'error try': 5240, 'currency symbol': 3622, 'custom attributes': 3656, 'delete cookies': 4122, 'via ftp': 17161, 'folders files': 6119, 'thread c': 15593, 'read contents': 12698, 'java methods': 8201, 'aspnet javascript': 1271, 'describe': 4185, 'html webpage': 7233, 'distributions': 4478, 'project structure': 12189, 'use regular': 16468, 'passing reference': 11399, 'r get': 12545, 'column database': 2835, 'sides': 14258, 'share one': 14187, 'image specific': 7457, 'request object': 13110, 'control javascript': 3225, 'weekend': 17484, 'python 25': 12329, 'c preprocessor': 1935, 'use opengl': 16459, 'aws sdk': 1453, 'rounded corner': 13393, 'service controller': 14051, 'load local': 9207, 'local resource': 9250, 'making custom': 9482, 'backbone model': 1475, 'numeric column': 10687, 'oracle connection': 11052, 'server program': 14027, 'structs c': 15046, 'x z': 17885, 'ui slider': 16052, 'rails submit': 12610, 'split function': 14587, 'input function': 7698, 'sql statements': 14656, 'passenger nginx': 11378, 'persian': 11512, 'modulus': 9955, 'exponent': 5502, 'multiple string': 10140, 'mean java': 9640, 'value 1': 16869, 'static array': 14758, 'file store': 5837, 'custom cell': 3659, 'using d3js': 16587, 'synchronized block': 15263, '2 file': 189, 'terms': 15466, 'certain amount': 2258, 'opposite': 11033, 'displaynone': 4462, 'android http': 805, 'inside java': 7786, 'get child': 6551, 'query set': 12508, 'tmp mysqlsock': 15713, 'mobile browser': 9873, 'rational': 12666, 'classforname': 2616, 'multiple types': 10150, 'encrypt password': 5028, 'isolation': 8039, 'mongodb c': 9965, 'amounts data': 776, 'stats': 14787, 'keys array': 8757, 'french': 6308, 'areas': 1067, 'reinstall': 12936, 'convert excel': 3279, 'picture box': 11725, 'download data': 4647, 'variable jquery': 17056, 'send get': 13909, 'fading': 5622, 'send value': 13928, 'parenthesis': 11288, 'onreadystatechange': 10952, 'linq entity': 9056, 'attribute form': 1362, 'private data': 12087, 'j': 8097, 'add trailing': 568, 'tableviews': 15369, 'java nio': 8205, 'appsettings': 1057, 'hashes ruby': 7010, 'call rails': 2067, 'rspec tests': 13469, 'activerecord association': 489, 'performselector': 11499, 'random float': 12637, 'seg': 13789, 'seg fault': 13790, 'event fires': 5306, 'table jquery': 15342, 'use angular': 16418, 'file resources': 5827, 'local database': 9241, 'expandablelistview': 5468, 'async sockets': 1332, 'copy text': 3366, 'empty field': 4986, 'java http': 8190, 'socketexception': 14437, 'outside controller': 11118, 'cant display': 2132, 'assign variable': 1310, 'js regex': 8606, 'window load': 17559, 'function controller': 6365, 'python pip': 12406, 'adding objects': 593, 'rx': 13569, 'chartjs line': 2394, 'font file': 6129, 'convert swift': 3310, 'arrays json': 1215, 'deferred': 4093, 'date birth': 3933, 'c++ without': 2011, 'youtube data': 17998, 'duplicate keys': 4740, 'finding number': 6002, 'forward slash': 6260, 'dynamics': 4811, 'dynamics crm': 4812, 'top bottom': 15748, 'untrusted': 16293, 'using greasemonkey': 16624, 'winforms control': 17621, 'decimal binary': 4035, 'exhausted': 5441, 'validate string': 16843, 'javabean': 8275, 'rails render': 12604, 'render json': 13041, 'event dynamically': 5303, 'calloc': 2108, 'textarea jquery': 15546, 'data list': 3781, 'error unknown': 5251, 'results php': 13240, 'git repository': 6774, 'jquery scroll': 8568, 'serial ports': 13983, 'scrapy spider': 13675, 'called multiple': 2086, 'detect window': 4228, 'java applications': 8131, 'using stored': 16764, 'tree implementation': 15812, 'qualifiers': 12476, 'chat server': 2398, 'wanted': 17310, 'classes implement': 2614, 'work firefox': 17741, 'app error': 981, 'separate class': 13959, 'element xml': 4928, 'css jquery': 3582, 'linux windows': 9081, 'ios 10': 7990, 'c++ passing': 1988, 'get x': 6708, 'multiplication table': 10164, 'box javascript': 1776, 'eclipses': 4853, 'mobile page': 9877, 'printable': 12070, 'proper use': 12203, 'display current': 4418, 'server ce': 14013, 'calling static': 2105, 'elsewhere': 4957, 'populate listview': 11875, 'jquery checkbox': 8516, 'template parameter': 15445, 'shared libraries': 14190, 'intercepting': 7904, 'destructors': 4215, 'getting python': 6752, 'selected cells': 13847, 'html email': 7200, 'background process': 1485, 'c++ static': 1998, 'udp server': 16043, 'using key': 16662, 'get part': 6642, 'call specific': 2068, 'stored mysql': 14851, 'injector': 7667, 'group multiple': 6923, 'train': 15775, 'static vs': 14782, 'mulitple': 10049, 'ivar': 8094, 'unsubscribe': 16288, 'uncheck checkboxes': 16149, 'rpc': 13460, 'shaders': 14181, 'supported error': 15193, 'point using': 11824, 'doesnt recognize': 4592, 'blue': 1710, 'new table': 10468, 'changing url': 2344, 'notified': 10584, 'port using': 11887, 'len': 8913, 'method calls': 9743, 'systemdatadatarowview': 15293, 'mysqli_connect': 10277, 'hyphens': 7296, 'leaf': 8887, 'status 1': 14789, 'find list': 5960, 'applicationcontextxml': 1044, 'string literals': 14962, 'python csv': 12350, 'without form': 17667, 'getting time': 6758, 'data gridview': 3769, 'python doesnt': 12358, 'occurrence string': 10839, 'reserve': 13143, 'passed parameter': 11375, 'fixed width': 6061, '# loop': 57, 'string within': 15005, 'android custom': 797, 'totals': 15760, 'joda time': 8471, 'friends list': 6317, 'new browser': 10446, 'jquery callback': 8512, 'modulo': 9954, 'java memory': 8199, 'ajax content': 662, 'mysql queries': 10250, 'javascript firefox': 8355, 'defined using': 4104, 'generic function': 6513, 'authorizeattribute': 1395, 'php notice': 11631, 'inside update': 7802, 'using using': 16785, 'belonging': 1610, 'code string': 2756, 'touch event': 15763, 'data data': 3752, 'argument python': 1077, 'selecteditem': 13867, 'index value': 7597, 'row dataframe': 13418, 'exception c': 5378, 'referenced assembly': 12871, 'set error': 14115, 'unnecessary': 16258, 'form working': 6209, 'httpsurlconnection': 7284, 'undefined behavior': 16154, 'checker': 2470, 'call button': 2049, 'open failed': 10966, 'convert python': 3303, 'print pdf': 12063, 'server application': 14011, '# reading': 72, 'http method': 7258, 'string net': 14968, 'without first': 17665, 'two csv': 15915, 'objectivec iphone': 10789, 'iframe height': 7362, 'text_field': 15543, 'chart api': 2390, 'potentially': 11958, 'dangerous': 3724, 'get instance': 6604, 'bounding': 1769, 'array items': 1146, 'webdriver python': 17435, 'form_tag': 6213, 'drupal 6': 4725, 'uiviews': 16100, 'create 2d': 3454, 'scraping using': 13672, 'seo friendly': 13957, 'friendly urls': 6315, 'contains text': 3179, 'valid datetime': 16834, 'chinese characters': 2505, 'articles': 1226, 'session object': 14084, 'boost library': 1737, 'loading message': 9232, 'many connections': 9506, 'many values': 9512, 'codeigniters': 2780, 'php input': 11606, 'wikipedia': 17536, 'size collection': 14353, 'different lengths': 4319, 'change date': 2290, 'javascript console': 8336, 'actionscript 3': 474, 'email laravel': 4967, 'number characters': 10642, 'make part': 9462, 'library loaded': 8950, 'path database': 11419, 'mathround': 9590, 'line end': 8994, 'django query': 4533, 'experience': 5488, 'good bad': 6825, 'replace method': 13065, 'ancestor': 784, 'response ajax': 13188, 'image blob': 7401, 'capacity': 2163, 'csharp': 3567, 'file spring': 5835, 'artifacts': 1228, 'high resolution': 7111, 'within specific': 17646, 'values 2': 16976, 'tests run': 15490, 'use array': 16420, 'java rest': 8226, 'activerecord model': 491, 'problems getting': 12105, 'stealing': 14808, 'result type': 13235, 'using rvm': 16744, 'every row': 5337, 'app name': 984, 'specific fields': 14534, 'executing code': 5432, 'rest client': 13206, 'get default': 6568, 'first call': 6027, 'exception caught': 5379, 'reference c': 12855, 'stdfunction': 14798, 'sqlite query': 14672, '24 hour': 219, 'height dynamically': 7047, 'retrieve user': 13255, 'page session': 11192, '2010 project': 208, '4 bytes': 269, 'certain text': 2264, 'problems using': 12106, 'mysql html': 10241, 'hash string': 7004, 'dom tree': 4612, 'activity indicator': 499, 'get div': 6571, 'delimited file': 4145, 'jquery like': 8547, 'without use': 17694, 'get installed': 6603, 'else statements': 4956, 'view parent': 17207, 'mvn': 10218, 'create objects': 3486, 'list vs': 9137, '0 0': 121, '# c++': 13, 'urlencoded': 16402, 'returning true': 13319, 'initialize static': 7651, 'javascript rails': 8394, '# type': 85, 'connection class': 3086, 'tick labels': 15636, 'trying save': 15874, 'cmd command': 2723, 'strtotime': 15037, 'error executing': 5172, 'converts': 3343, 'using interface': 16640, 'soapfault': 14424, 'filejava': 5876, 'guis': 6953, 'enclosed': 5009, 'refresh php': 12891, 'body using': 1719, 'exception throw': 5392, 'simple python': 14293, 'item key': 8057, 'find duplicates': 5947, 'gridview edit': 6913, 'far': 5655, 'fulltext search': 6340, 'value attribute': 16875, 'client connection': 2678, 'numpy matrix': 10693, 'nullpointer': 10633, 'nullpointer exception': 10634, 'pass text': 11365, 'populate list': 11874, 'autoimplemented': 1415, 'expires': 5492, 'key already': 8726, 'jtoken': 8693, 'results error': 13239, 'type expression': 15981, 'signatures': 14267, 'using sqlite': 16760, 'failed opening': 5637, 'opening required': 11004, 'mailto': 9426, 'search form': 13749, 'popen': 11865, '2 arrays': 183, 'session transaction': 14089, 'chrome console': 2514, 'jquery disable': 8528, 'laravel model': 8818, 'existing excel': 5451, 'ipython notebook': 8030, 'renderer': 13044, 'addon': 603, 'api retrieve': 959, 'source destination': 14496, 'type const': 15977, 'touchstart': 15766, 'objectivec method': 10790, 'integrity constraint': 7891, 'constraint violation': 3140, 'runtime exception': 13562, 'ajax return': 682, 'existing table': 5453, 'content web': 3194, 'alloc': 710, 'prepareforsegue': 12001, 'invalid block': 7953, 'django tutorial': 4541, 'filepath': 5881, 'comparison c': 2946, 'method nilnilclass': 9766, 'page chrome': 11164, 'jquery drag': 8529, 'updating mysql': 16334, 'gridview header': 6915, 'save excel': 13597, 'files within': 5910, 'create sql': 3491, 'bmp': 1714, 'array aspnet': 1102, 'join table': 8479, 'zip archive': 18014, 'bounding box': 1770, 'cells using': 2249, 'legends': 8912, '+ java': 110, 'firstordefault': 6048, 'format error': 6221, 'find default': 5942, 'html generated': 7206, 'listview header': 9166, 'rows database': 13445, 'file custom': 5751, 'possibility': 11906, 'extract image': 5576, 'configuration section': 3045, 'insert delete': 7736, 'cap': 2161, 'equals operator': 5110, 'two java': 15934, 'property setter': 12230, 'ruby code': 13485, 'selecting data': 13870, 'declare global': 4054, 'envelope': 5098, 'api read': 957, 'css transition': 3590, 'inclusion': 7560, 'within custom': 17633, 'write simple': 17847, 'user types': 16524, 'end time': 5041, 'current day': 3628, 'alfresco': 699, 'working localhost': 17779, 'nested attribute': 10381, 'local server': 9251, 'swing gui': 15234, 'lock screen': 9280, 'ios apps': 7999, 'replaceall': 13071, 'must return': 10182, 'character using': 2368, 'iterating list': 8084, 'column number': 2849, 'ado': 627, 'start time': 14736, 'sideside': 14259, 'activex control': 495, 'one thread': 10930, 'access static': 419, 'file angularjs': 5725, 'sql function': 14645, 'droppable': 4721, 'aspnetmvc': 1291, 's3 bucket': 13573, 'configuration settings': 3046, 'box vbnet': 1782, 'resx': 13244}\n"
          ],
          "name": "stdout"
        }
      ]
    },
    {
      "cell_type": "code",
      "metadata": {
        "id": "c9QN1cemYiV7"
      },
      "source": [
        "from sklearn.preprocessing import MultiLabelBinarizer"
      ],
      "execution_count": 34,
      "outputs": []
    },
    {
      "cell_type": "code",
      "metadata": {
        "id": "5xcxR0D0YiZQ"
      },
      "source": [
        "mlb = MultiLabelBinarizer(classes=sorted(tags_counts.keys()))\n",
        "y_train = mlb.fit_transform(y_train) # it chnage the y_train in feature form like alll clases with 0,1 value\n",
        "y_val = mlb.fit_transform(y_val)"
      ],
      "execution_count": 35,
      "outputs": []
    },
    {
      "cell_type": "code",
      "metadata": {
        "id": "pydteyE6YidR"
      },
      "source": [
        "from sklearn.multiclass import OneVsRestClassifier\n",
        "from sklearn.linear_model import LogisticRegression, RidgeClassifier"
      ],
      "execution_count": 36,
      "outputs": []
    },
    {
      "cell_type": "code",
      "metadata": {
        "colab": {
          "base_uri": "https://localhost:8080/"
        },
        "id": "jDiniIdBYihA",
        "outputId": "9586a3a0-a3cf-4a32-88e9-a3e24f23713b"
      },
      "source": [
        "def train_classifier(X_train, y_train):\n",
        "    \"\"\"\n",
        "      X_train, y_train — training data\n",
        "      \n",
        "      return: trained classifier\n",
        "    \"\"\"\n",
        "    \n",
        "    # Create and fit LogisticRegression wraped into OneVsRestClassifier.\n",
        "    model=OneVsRestClassifier(LogisticRegression()).fit(X_train,y_train)\n",
        "    \n",
        "    return model\n",
        "\n",
        "    ######################################\n",
        "    ######### YOUR CODE HERE #############\n",
        "    ######################################   \n",
        "    \n",
        "print('X_test_tfidf ', X_test_tfidf.shape) \n",
        "print('X_val_tfidf ',X_val_tfidf.shape)"
      ],
      "execution_count": 37,
      "outputs": [
        {
          "output_type": "stream",
          "text": [
            "X_test_tfidf  (20000, 18026)\n",
            "X_val_tfidf  (30000, 18026)\n"
          ],
          "name": "stdout"
        }
      ]
    },
    {
      "cell_type": "code",
      "metadata": {
        "id": "nCbt6VagYiow"
      },
      "source": [
        "y_val_predicted_labels_mybag = classifier_mybag.predict(X_val_mybag) #y_val_predicted_labels_mybag is in the same format of y_train\n",
        "y_val_predicted_scores_mybag = classifier_mybag.decision_function(X_val_mybag)\n",
        "\n",
        "y_val_predicted_labels_tfidf = classifier_tfidf.predict(X_val_tfidf)\n",
        "y_val_predicted_scores_tfidf = classifier_tfidf.decision_function(X_val_tfidf)"
      ],
      "execution_count": 42,
      "outputs": []
    },
    {
      "cell_type": "code",
      "metadata": {
        "colab": {
          "base_uri": "https://localhost:8080/"
        },
        "id": "dPlyji62anXk",
        "outputId": "aba3d74f-096c-44f1-c183-082372313edb"
      },
      "source": [
        "y_val_pred_inversed = mlb.inverse_transform(y_val_predicted_labels_tfidf) # just opposite of tranform means it will give the name of classes rather than 0,1 in classes\n",
        "y_val_inversed = mlb.inverse_transform(y_val)\n",
        "for i in range(10):\n",
        "    print('Title:\\t{}\\nTrue labels:\\t{}\\nPredicted labels:\\t{}\\n\\n'.format(\n",
        "        X_val[i],\n",
        "        ','.join(y_val_inversed[i]),\n",
        "        ','.join(y_val_pred_inversed[i])\n",
        "    ))\n"
      ],
      "execution_count": 43,
      "outputs": [
        {
          "output_type": "stream",
          "text": [
            "Title:\todbc_exec always fail\n",
            "True labels:\tphp,sql\n",
            "Predicted labels:\t\n",
            "\n",
            "\n",
            "Title:\taccess base classes variable within child class\n",
            "True labels:\tjavascript\n",
            "Predicted labels:\t\n",
            "\n",
            "\n",
            "Title:\tcontenttype application json required rails\n",
            "True labels:\truby,ruby-on-rails\n",
            "Predicted labels:\tjson,ruby-on-rails\n",
            "\n",
            "\n",
            "Title:\tsessions sinatra used pass variable\n",
            "True labels:\truby,session\n",
            "Predicted labels:\t\n",
            "\n",
            "\n",
            "Title:\tgetting error type json exist postgresql rake db migrate\n",
            "True labels:\tjson,ruby,ruby-on-rails\n",
            "Predicted labels:\truby-on-rails\n",
            "\n",
            "\n",
            "Title:\tlibrary found\n",
            "True labels:\tc++,ios,iphone,xcode\n",
            "Predicted labels:\t\n",
            "\n",
            "\n",
            "Title:\tcsproj file programmatic adding deleting files\n",
            "True labels:\tc#\n",
            "Predicted labels:\t\n",
            "\n",
            "\n",
            "Title:\ttypeerror makedirs got unexpected keyword argument exists_ok\n",
            "True labels:\tdjango,python\n",
            "Predicted labels:\tpython\n",
            "\n",
            "\n",
            "Title:\tpan div using jquery\n",
            "True labels:\thtml,javascript,jquery\n",
            "Predicted labels:\tjavascript,jquery\n",
            "\n",
            "\n",
            "Title:\thibernate intermediate advanced tutorials\n",
            "True labels:\thibernate,java\n",
            "Predicted labels:\thibernate,java\n",
            "\n",
            "\n"
          ],
          "name": "stdout"
        }
      ]
    },
    {
      "cell_type": "code",
      "metadata": {
        "id": "iS8lvmuPanjt"
      },
      "source": [
        "from sklearn.metrics import accuracy_score\n",
        "from sklearn.metrics import f1_score\n",
        "from sklearn.metrics import roc_auc_score \n",
        "from sklearn.metrics import average_precision_score\n",
        "from sklearn.metrics import recall_score"
      ],
      "execution_count": 44,
      "outputs": []
    },
    {
      "cell_type": "code",
      "metadata": {
        "id": "Kcs_6RS1anpf"
      },
      "source": [
        "def print_evaluation_scores(y_val, predicted):\n",
        "    accuracy=accuracy_score(y_val, predicted)\n",
        "    f1_score_macro=f1_score(y_val, predicted, average='macro')\n",
        "    f1_score_micro=f1_score(y_val, predicted, average='micro')\n",
        "    f1_score_weighted=f1_score(y_val, predicted, average='weighted')\n",
        "    precision_macro=average_precision_score(y_val, predicted, average='macro')\n",
        "    precision_micro=average_precision_score(y_val, predicted, average='micro')\n",
        "    precision_weighted=average_precision_score(y_val, predicted, average='weighted')\n",
        "    print(accuracy,f1_score_macro,f1_score_micro,f1_score_weighted,precision_macro,precision_micro,precision_weighted)"
      ],
      "execution_count": 45,
      "outputs": []
    },
    {
      "cell_type": "code",
      "metadata": {
        "colab": {
          "base_uri": "https://localhost:8080/"
        },
        "id": "bFdiEKtdanvw",
        "outputId": "eb5c6d0a-6f15-47de-c99e-5f2720751b56"
      },
      "source": [
        "print('Bag-of-words')\n",
        "print_evaluation_scores(y_val, y_val_predicted_labels_mybag)\n",
        "print('Tfidf')\n",
        "print_evaluation_scores(y_val, y_val_predicted_labels_tfidf)"
      ],
      "execution_count": 46,
      "outputs": [
        {
          "output_type": "stream",
          "text": [
            "Bag-of-words\n",
            "0.34213333333333334 0.4996273252819668 0.6573433877133249 0.6341119124480885 0.3391707374450361 0.4635543548111985 0.49415662982269815\n",
            "Tfidf\n",
            "0.3336 0.44407978273018506 0.6403523186643442 0.6128324936071488 0.3006076175169872 0.4552318521948679 0.4835712637541087\n"
          ],
          "name": "stdout"
        }
      ]
    },
    {
      "cell_type": "code",
      "metadata": {
        "id": "nxJG0Nlran1M"
      },
      "source": [
        "from metrics import roc_auc\n",
        "%matplotlib inline"
      ],
      "execution_count": 47,
      "outputs": []
    },
    {
      "cell_type": "code",
      "metadata": {
        "colab": {
          "base_uri": "https://localhost:8080/",
          "height": 295
        },
        "id": "PMRvrZjyan4t",
        "outputId": "70ca2b74-f586-4041-983d-d66b038df657"
      },
      "source": [
        "n_classes = len(tags_counts)\n",
        "roc_auc(y_val, y_val_predicted_scores_mybag, n_classes)"
      ],
      "execution_count": 48,
      "outputs": [
        {
          "output_type": "display_data",
          "data": {
            "image/png": "[encoded data removed]",
            "text/plain": [
              "<Figure size 432x288 with 1 Axes>"
            ]
          },
          "metadata": {
            "tags": [],
            "needs_background": "light"
          }
        }
      ]
    },
    {
      "cell_type": "code",
      "metadata": {
        "colab": {
          "base_uri": "https://localhost:8080/",
          "height": 295
        },
        "id": "22-pVJWaan_D",
        "outputId": "0b186b04-5927-477e-dd3a-c4c8ebc9c1d6"
      },
      "source": [
        "n_classes = len(tags_counts)\n",
        "roc_auc(y_val, y_val_predicted_scores_tfidf, n_classes)"
      ],
      "execution_count": 49,
      "outputs": [
        {
          "output_type": "display_data",
          "data": {
            "image/png": "[encoded data removed]",
            "text/plain": [
              "<Figure size 432x288 with 1 Axes>"
            ]
          },
          "metadata": {
            "tags": [],
            "needs_background": "light"
          }
        }
      ]
    },
    {
      "cell_type": "code",
      "metadata": {
        "colab": {
          "base_uri": "https://localhost:8080/"
        },
        "id": "Zzi9j-YbaoIm",
        "outputId": "6ed4d7db-e397-4268-d035-b5763c1b336f"
      },
      "source": [
        "from sklearn.pipeline import make_pipeline\n",
        "print(\"done\") \n",
        "def train_classifier(X_train, y_train):\n",
        "    \"\"\"\n",
        "      X_train, y_train — training data\n",
        "      \n",
        "      return: trained classifier\n",
        "    \"\"\"\n",
        "    \n",
        "    # Create and fit LogisticRegression wraped into OneVsRestClassifier.\n",
        "   # pipe = make_pipeline( LogisticRegression(penalty=\"l1\"),OneVsRestClassifier(LogisticRegression(penalty=\"l2\")))\n",
        "    #model=pipe.fit(X_train, y_train)     \n",
        "    model=OneVsRestClassifier(LogisticRegression(penalty='l1',C=1,solver='liblinear')).fit(X_train,y_train)\n",
        "    \n",
        "    return model\n",
        "\n",
        "print(\"done1\")    \n",
        "\n",
        "classifier_mybag = train_classifier(X_train_mybag, y_train)\n",
        "#classifier_tfidf = train_classifier(X_train_tfidf, y_train)\n",
        "print(\"done2\")\n",
        "y_val_predicted_labels_mybag = classifier_mybag.predict(X_val_mybag)\n",
        "#y_val_predicted_scores_mybag = classifier_mybag.decision_function(X_val_mybag)\n",
        "print(\"done3\")\n",
        "#y_val_predicted_labels_tfidf = classifier_tfidf.predict(X_val_tfidf)\n",
        "#y_val_predicted_scores_tfidf = classifier_tfidf.decision_function(X_val_tfidf)\n",
        "\n",
        "from sklearn.metrics import accuracy_score\n",
        "from sklearn.metrics import f1_score\n",
        "from sklearn.metrics import roc_auc_score \n",
        "from sklearn.metrics import average_precision_score\n",
        "from sklearn.metrics import recall_score\n",
        "\n",
        "def print_evaluation_scores(y_val, predicted):\n",
        "    accuracy=accuracy_score(y_val, predicted)\n",
        "    f1_score_macro=f1_score(y_val, predicted, average='macro')\n",
        "    f1_score_micro=f1_score(y_val, predicted, average='micro')\n",
        "    f1_score_weighted=f1_score(y_val, predicted, average='weighted')\n",
        "    precision_macro=average_precision_score(y_val, predicted, average='macro')\n",
        "    precision_micro=average_precision_score(y_val, predicted, average='micro')\n",
        "    precision_weighted=average_precision_score(y_val, predicted, average='weighted')\n",
        "    print(accuracy,f1_score_macro,f1_score_micro,f1_score_weighted,precision_macro,precision_micro,precision_weighted)\n",
        "\n",
        "print(\"done4\")    \n",
        "print('Bag-of-words')\n",
        "print_evaluation_scores(y_val, y_val_predicted_labels_mybag)\n",
        "#print('Tfidf')\n",
        "#print_evaluation_scores(y_val, y_val_predicted_labels_tfidf)"
      ],
      "execution_count": 59,
      "outputs": [
        {
          "output_type": "stream",
          "text": [
            "done\n",
            "done1\n",
            "done2\n",
            "done3\n",
            "done4\n",
            "Bag-of-words\n",
            "0.3476 0.5110341521584254 0.6637483183276415 0.6408058847285402 0.34885043459014015 0.4699059405589153 0.5007572858055691\n"
          ],
          "name": "stdout"
        }
      ]
    },
    {
      "cell_type": "code",
      "metadata": {
        "colab": {
          "base_uri": "https://localhost:8080/"
        },
        "id": "B1LEngZ7aoNR",
        "outputId": "3b222cf7-e598-48c5-fb66-1798598d0a1f"
      },
      "source": [
        "test_predictions = classifier_mybag.predict(X_test_mybag)\n",
        "test_pred_inversed = mlb.inverse_transform(test_predictions)\n",
        "\n",
        "test_predictions_for_submission = '\\n'.join('%i\\t%s' % (i, ','.join(row)) for i, row in enumerate(test_pred_inversed))\n",
        "grader.submit_tag('MultilabelClassification', test_predictions_for_submission)"
      ],
      "execution_count": 60,
      "outputs": [
        {
          "output_type": "stream",
          "text": [
            "Current answer for task MultilabelClassification is:\n",
            " 0\tmysql,php\n",
            "1\tjavascript\n",
            "2\t\n",
            "3\tjavascript,jquery\n",
            "4\tandroid,java\n",
            "5\tphp,xml\n",
            "6\tjson,web-services\n",
            "7\tjava,...\n"
          ],
          "name": "stdout"
        }
      ]
    },
    {
      "cell_type": "code",
      "metadata": {
        "id": "Wb1MZNlhaoQk"
      },
      "source": [
        "def print_words_for_tag(classifier, tag, tags_classes, index_to_words, all_words):\n",
        "    \"\"\"\n",
        "        classifier: trained classifier\n",
        "        tag: particular tag\n",
        "        tags_classes: a list of classes names from MultiLabelBinarizer\n",
        "        index_to_words: index_to_words transformation\n",
        "        all_words: all words in the dictionary\n",
        "        \n",
        "        return nothing, just print top 5 positive and top 5 negative words for current tag\n",
        "    \"\"\"\n",
        "    print('Tag:\\t{}'.format(tag))\n",
        "    \n",
        "    # Extract an estimator from the classifier for the given tag.\n",
        "    # Extract feature coefficients from the estimator. \n",
        "    \n",
        "    ######################################\n",
        "    ######### YOUR CODE HERE #############\n",
        "    ######################################\n",
        "    est = classifier.estimators_[tags_classes.index(tag)]\n",
        "    top_positive_words = [index_to_words[index] for index in est.coef_.argsort().tolist()[0][-5:]]  # top-5 words sorted by the coefficiens.\n",
        "    top_negative_words = [index_to_words[index] for index in est.coef_.argsort().tolist()[0][:5]] # bottom-5 words  sorted by the coefficients.\n",
        "    \n",
        "    print('Top positive words:\\t{}'.format(', '.join(top_positive_words)))\n",
        "    print('Top negative words:\\t{}\\n'.format(', '.join(top_negative_words)))"
      ],
      "execution_count": 75,
      "outputs": []
    },
    {
      "cell_type": "code",
      "metadata": {
        "colab": {
          "base_uri": "https://localhost:8080/"
        },
        "id": "R3NkF8NOaoUp",
        "outputId": "af9d837a-55cd-4bd7-97bc-d4890e50d782"
      },
      "source": [
        "print_words_for_tag(classifier_tfidf, 'c', mlb.classes, tfidf_reversed_vocab, ALL_WORDS)\n",
        "print_words_for_tag(classifier_tfidf, 'c++', mlb.classes, tfidf_reversed_vocab, ALL_WORDS)\n",
        "print_words_for_tag(classifier_tfidf, 'linux', mlb.classes, tfidf_reversed_vocab, ALL_WORDS)\n"
      ],
      "execution_count": 76,
      "outputs": [
        {
          "output_type": "stream",
          "text": [
            "Tag:\tc\n",
            "Top positive words:\tprintf, fscanf, malloc, scanf, c\n",
            "Top negative words:\tc #, php, javascript, java, python\n",
            "\n",
            "Tag:\tc++\n",
            "Top positive words:\tstl, mfc, qt, boost, c++\n",
            "Top negative words:\tphp, java, javascript, python, jquery\n",
            "\n",
            "Tag:\tlinux\n",
            "Top positive words:\taddress, system call, ubuntu, signal, linux\n",
            "Top negative words:\t#, javascript, jquery, aspnet, array\n",
            "\n"
          ],
          "name": "stdout"
        }
      ]
    },
    {
      "cell_type": "code",
      "metadata": {
        "colab": {
          "base_uri": "https://localhost:8080/"
        },
        "id": "t5sIm4yeaoYo",
        "outputId": "cc5941e2-025d-4956-8a4d-b2f488d59397"
      },
      "source": [
        "grader.status()"
      ],
      "execution_count": 77,
      "outputs": [
        {
          "output_type": "stream",
          "text": [
            "You want to submit these parts:\n",
            "Task TextPrepare:\n",
            " sqlite php readonly\n",
            "creating multiple textboxes dynamically\n",
            "self one prefer javascript\n",
            "save php date...\n",
            "Task WordsTagsCount:\n",
            " javascript,c#,java\n",
            "using,c,php...\n",
            "Task BagOfWords:\n",
            " 6...\n",
            "Task MultilabelClassification:\n",
            " 0\tmysql,php\n",
            "1\tjavascript\n",
            "2\t\n",
            "3\tjavascript,jquery\n",
            "4\tandroid,java\n",
            "5\tphp,xml\n",
            "6\tjson,web-services\n",
            "7\tjava,...\n"
          ],
          "name": "stdout"
        }
      ]
    },
    {
      "cell_type": "code",
      "metadata": {
        "colab": {
          "base_uri": "https://localhost:8080/"
        },
        "id": "wkPcTHjWaofZ",
        "outputId": "6ec120e0-a847-4474-ce44-8b8401dc820f"
      },
      "source": [
        "STUDENT_EMAIL = \"truelykush@gmail.com\" \n",
        "STUDENT_TOKEN = \"IuRLbFbXKvAvLKi2\"\n",
        "grader.status()"
      ],
      "execution_count": 79,
      "outputs": [
        {
          "output_type": "stream",
          "text": [
            "You want to submit these parts:\n",
            "Task TextPrepare:\n",
            " sqlite php readonly\n",
            "creating multiple textboxes dynamically\n",
            "self one prefer javascript\n",
            "save php date...\n",
            "Task WordsTagsCount:\n",
            " javascript,c#,java\n",
            "using,c,php...\n",
            "Task BagOfWords:\n",
            " 6...\n",
            "Task MultilabelClassification:\n",
            " 0\tmysql,php\n",
            "1\tjavascript\n",
            "2\t\n",
            "3\tjavascript,jquery\n",
            "4\tandroid,java\n",
            "5\tphp,xml\n",
            "6\tjson,web-services\n",
            "7\tjava,...\n"
          ],
          "name": "stdout"
        }
      ]
    },
    {
      "cell_type": "code",
      "metadata": {
        "colab": {
          "base_uri": "https://localhost:8080/"
        },
        "id": "jQ2jRrC8aomW",
        "outputId": "5a8ae9cd-6745-4a47-b4d7-d6918db5cf2d"
      },
      "source": [
        "grader.submit(STUDENT_EMAIL, STUDENT_TOKEN)"
      ],
      "execution_count": 80,
      "outputs": [
        {
          "output_type": "stream",
          "text": [
            "Submitted to Coursera platform. See results on assignment page!\n"
          ],
          "name": "stdout"
        }
      ]
    },
    {
      "cell_type": "code",
      "metadata": {
        "id": "ceMNvqbraoq_"
      },
      "source": [
        ""
      ],
      "execution_count": null,
      "outputs": []
    },
    {
      "cell_type": "code",
      "metadata": {
        "id": "3-8KwuOTaoje"
      },
      "source": [
        ""
      ],
      "execution_count": null,
      "outputs": []
    },
    {
      "cell_type": "code",
      "metadata": {
        "id": "6_t5asVSaodB"
      },
      "source": [
        ""
      ],
      "execution_count": null,
      "outputs": []
    },
    {
      "cell_type": "code",
      "metadata": {
        "id": "UEow2_YraoGE"
      },
      "source": [
        ""
      ],
      "execution_count": null,
      "outputs": []
    },
    {
      "cell_type": "code",
      "metadata": {
        "id": "_edGJS1caoD0"
      },
      "source": [
        ""
      ],
      "execution_count": null,
      "outputs": []
    },
    {
      "cell_type": "code",
      "metadata": {
        "id": "iAjx0fdAan9q"
      },
      "source": [
        ""
      ],
      "execution_count": null,
      "outputs": []
    },
    {
      "cell_type": "code",
      "metadata": {
        "id": "NY-n2gBmanza"
      },
      "source": [
        ""
      ],
      "execution_count": null,
      "outputs": []
    },
    {
      "cell_type": "code",
      "metadata": {
        "id": "wu8L-e04antj"
      },
      "source": [
        ""
      ],
      "execution_count": null,
      "outputs": []
    },
    {
      "cell_type": "code",
      "metadata": {
        "id": "C0WGAsVWannQ"
      },
      "source": [
        ""
      ],
      "execution_count": null,
      "outputs": []
    },
    {
      "cell_type": "code",
      "metadata": {
        "id": "6WUlvgMVangp"
      },
      "source": [
        ""
      ],
      "execution_count": null,
      "outputs": []
    },
    {
      "cell_type": "code",
      "metadata": {
        "id": "hutiOWy1anfH"
      },
      "source": [
        ""
      ],
      "execution_count": null,
      "outputs": []
    }
  ]
}